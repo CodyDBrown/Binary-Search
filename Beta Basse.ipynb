{
 "cells": [
  {
   "cell_type": "markdown",
   "metadata": {},
   "source": [
    "# Beta Basian Stuff\n",
    "This notebook is going to try to modify Binary_Fraction Mainly the detection process to do a Bassian aprouch to things"
   ]
  },
  {
   "cell_type": "code",
   "execution_count": 1,
   "metadata": {},
   "outputs": [],
   "source": [
    "import numpy as np\n",
    "import matplotlib.pyplot as plt"
   ]
  },
  {
   "cell_type": "code",
   "execution_count": 2,
   "metadata": {},
   "outputs": [],
   "source": [
    "%run BinaryDataClean3.py\n",
    "Tables = BinaryDataClean3('/home/cody/Binary Search/2nd_Data_Set/mc_rgb_nocuts.fits','/home/cody/Binary Search/2nd_Data_Set/allVisit-t9-l31c-58247.mc.fits',\n",
    "                          '/home/cody/Binary Search/parsec_decamsdss_all.fits.gz')"
   ]
  },
  {
   "cell_type": "code",
   "execution_count": 3,
   "metadata": {},
   "outputs": [],
   "source": [
    "AllAvg, AllVis, ISO = Tables.get_data()\n",
    "AllVis = Tables.cuts(AllVis)\n",
    "AllAvg = Tables.nvisits_cut(AllAvg,5)\n",
    "AAS_RG = Tables.rg_cut(AllAvg)"
   ]
  },
  {
   "cell_type": "code",
   "execution_count": 4,
   "metadata": {},
   "outputs": [],
   "source": [
    "AAS_RG_T = Tables.troup_fits(AAS_RG)\n",
    "AAS_RG_T = Tables.troup_errors(AAS_RG_T)"
   ]
  },
  {
   "cell_type": "code",
   "execution_count": 5,
   "metadata": {
    "scrolled": true
   },
   "outputs": [
    {
     "name": "stdout",
     "output_type": "stream",
     "text": [
      "Done with 0.000000\n",
      "No good fits in 3 sigma of erros. Star 2M05140287-7214484, row 16\n",
      "No good fits in 3 sigma of erros. Star 2M05205391-7259483, row 87\n",
      "No good fits in 3 sigma of erros. Star 2M05214222-7227340, row 98\n",
      "Done with 100.000000\n",
      "No good fits in 3 sigma of erros. Star 2M05215411-7316058, row 103\n",
      "No good fits in 3 sigma of erros. Star 2M05235220-7216056, row 124\n",
      "Done with 200.000000\n",
      "No good fits in 3 sigma of erros. Star 2M04570693-7129288, row 250\n",
      "No good fits in 3 sigma of erros. Star 2M05010386-7102238, row 300\n",
      "No good fits in 3 sigma of erros. Star 2M06261934-7011104, row 370\n",
      "No good fits in 3 sigma of erros. Star 2M06281846-7008537, row 400\n",
      "No good fits in 3 sigma of erros. Star 2M06320563-7050235, row 451\n",
      "No good fits in 3 sigma of erros. Star 2M06354972-6957575, row 488\n",
      "No good fits in 3 sigma of erros. Star 2M06390106-7040477, row 500\n",
      "No good fits in 3 sigma of erros. Star 2M05185026-7556305, row 510\n",
      "No good fits in 3 sigma of erros. Star 2M05221955-7617219, row 529\n",
      "No good fits in 3 sigma of erros. Star 2M05223075-7538082, row 531\n",
      "No good fits in 3 sigma of erros. Star 2M05290128-7626012, row 578\n",
      "No good fits in 3 sigma of erros. Star 2M05302486-7619439, row 590\n",
      "Done with 600.000000\n",
      "No good fits in 3 sigma of erros. Star 2M05325447-7638554, row 605\n",
      "No good fits in 3 sigma of erros. Star 2M05351215-7542041, row 628\n",
      "No good fits in 3 sigma of erros. Star 2M05425766-7548587, row 673\n",
      "Done with 700.000000\n",
      "No good fits in 3 sigma of erros. Star 2M04471281-7531381, row 752\n",
      "No good fits in 3 sigma of erros. Star 2M04482501-7515109, row 758\n",
      "No good fits in 3 sigma of erros. Star 2M04511596-7533588, row 799\n",
      "Done with 800.000000\n",
      "No good fits in 3 sigma of erros. Star 2M04513306-7525339, row 801\n",
      "No good fits in 3 sigma of erros. Star 2M04513476-7455508, row 802\n",
      "No good fits in 3 sigma of erros. Star 2M04540308-7446120, row 830\n",
      "No good fits in 3 sigma of erros. Star 2M04582716-7511576, row 864\n",
      "No good fits in 3 sigma of erros. Star 2M04070214-6847281, row 871\n",
      "No good fits in 3 sigma of erros. Star 2M06202348-7540035, row 892\n",
      "Done with 900.000000\n",
      "No good fits in 3 sigma of erros. Star 2M06250854-7448348, row 923\n",
      "No good fits in 3 sigma of erros. Star 2M06251310-7446036, row 924\n",
      "No good fits in 3 sigma of erros. Star 2M06303051-7425247, row 962\n",
      "Done with 1000.000000\n",
      "No good fits in 3 sigma of erros. Star 2M06402727-7514598, row 1004\n",
      "No good fits in 3 sigma of erros. Star 2M01030701-7544225, row 1096\n",
      "Done with 1100.000000\n",
      "No good fits in 3 sigma of erros. Star 2M01083227-7527325, row 1154\n",
      "No good fits in 3 sigma of erros. Star 2M01091806-7448017, row 1160\n",
      "No good fits in 3 sigma of erros. Star 2M01110957-7602006, row 1182\n",
      "No good fits in 3 sigma of erros. Star 2M01130390-7547450, row 1195\n",
      "Done with 1200.000000\n",
      "No good fits in 3 sigma of erros. Star 2M01141611-7512310, row 1204\n",
      "No good fits in 3 sigma of erros. Star 2M02095230-7314050, row 1268\n",
      "No good fits in 3 sigma of erros. Star 2M02112881-7257213, row 1271\n"
     ]
    }
   ],
   "source": [
    "AAS_RG_IT = Tables.iso_fit(AAS_RG_T,ISO)"
   ]
  },
  {
   "cell_type": "code",
   "execution_count": 6,
   "metadata": {},
   "outputs": [],
   "source": [
    "AAS_RV_IT = Tables.rv_table_add(AAS_RG_IT, AllVis)"
   ]
  },
  {
   "cell_type": "code",
   "execution_count": 7,
   "metadata": {},
   "outputs": [],
   "source": [
    "AllAvg_LMC_IT = Tables.mc_cut(AAS_RV_IT, 'L')\n",
    "AllAvg_SMC_IT = Tables.mc_cut(AAS_RV_IT, 'S')"
   ]
  },
  {
   "cell_type": "code",
   "execution_count": 8,
   "metadata": {},
   "outputs": [],
   "source": [
    "AllAvg_SMC=Tables.Table_Convert(AllAvg_SMC_IT)\n",
    "AllAvg_LMC=Tables.Table_Convert(AllAvg_LMC_IT)"
   ]
  },
  {
   "cell_type": "code",
   "execution_count": 9,
   "metadata": {},
   "outputs": [],
   "source": [
    "%run BinaryFraction2.py\n"
   ]
  },
  {
   "cell_type": "code",
   "execution_count": 10,
   "metadata": {},
   "outputs": [],
   "source": [
    "thing_LMC2 = BinaryFraction2(AllAvg_LMC)\n",
    "thing_SMC2 = BinaryFraction2(AllAvg_SMC)"
   ]
  },
  {
   "cell_type": "code",
   "execution_count": 11,
   "metadata": {},
   "outputs": [
    {
     "name": "stderr",
     "output_type": "stream",
     "text": [
      "WARNING: ErfaWarning: ERFA function \"utctai\" yielded 5 of \"dubious year (Note 3)\" [astropy._erfa.core]\n",
      "WARNING: ErfaWarning: ERFA function \"taiutc\" yielded 5 of \"dubious year (Note 4)\" [astropy._erfa.core]\n",
      "WARNING: ErfaWarning: ERFA function \"utctai\" yielded 1 of \"dubious year (Note 3)\" [astropy._erfa.core]\n",
      "WARNING: ErfaWarning: ERFA function \"taiutc\" yielded 1 of \"dubious year (Note 4)\" [astropy._erfa.core]\n",
      "WARNING: ErfaWarning: ERFA function \"utctai\" yielded 9 of \"dubious year (Note 3)\" [astropy._erfa.core]\n",
      "WARNING: ErfaWarning: ERFA function \"taiutc\" yielded 9 of \"dubious year (Note 4)\" [astropy._erfa.core]\n",
      "WARNING: ErfaWarning: ERFA function \"utctai\" yielded 8 of \"dubious year (Note 3)\" [astropy._erfa.core]\n",
      "WARNING: ErfaWarning: ERFA function \"taiutc\" yielded 8 of \"dubious year (Note 4)\" [astropy._erfa.core]\n",
      "WARNING: ErfaWarning: ERFA function \"utctai\" yielded 4 of \"dubious year (Note 3)\" [astropy._erfa.core]\n",
      "WARNING: ErfaWarning: ERFA function \"taiutc\" yielded 4 of \"dubious year (Note 4)\" [astropy._erfa.core]\n",
      "WARNING: ErfaWarning: ERFA function \"utctai\" yielded 6 of \"dubious year (Note 3)\" [astropy._erfa.core]\n",
      "WARNING: ErfaWarning: ERFA function \"taiutc\" yielded 6 of \"dubious year (Note 4)\" [astropy._erfa.core]\n",
      "WARNING: ErfaWarning: ERFA function \"utctai\" yielded 7 of \"dubious year (Note 3)\" [astropy._erfa.core]\n",
      "WARNING: ErfaWarning: ERFA function \"taiutc\" yielded 7 of \"dubious year (Note 4)\" [astropy._erfa.core]\n",
      "WARNING: ErfaWarning: ERFA function \"utctai\" yielded 10 of \"dubious year (Note 3)\" [astropy._erfa.core]\n",
      "WARNING: ErfaWarning: ERFA function \"taiutc\" yielded 10 of \"dubious year (Note 4)\" [astropy._erfa.core]\n",
      "WARNING: ErfaWarning: ERFA function \"utctai\" yielded 3 of \"dubious year (Note 3)\" [astropy._erfa.core]\n",
      "WARNING: ErfaWarning: ERFA function \"taiutc\" yielded 3 of \"dubious year (Note 4)\" [astropy._erfa.core]\n",
      "WARNING: ErfaWarning: ERFA function \"utctai\" yielded 2 of \"dubious year (Note 3)\" [astropy._erfa.core]\n",
      "WARNING: ErfaWarning: ERFA function \"taiutc\" yielded 2 of \"dubious year (Note 4)\" [astropy._erfa.core]\n"
     ]
    }
   ],
   "source": [
    "#synthetic_rates = [p_value_result_LMC, binary_result_LMC,  detection_rate_LMC, errors_LMC]\n",
    "synthetic_rates_LMC2 = thing_LMC2.synthetic_detection_rate(200,['L',3,2.5],False,[0,1],20)\n",
    "#synthetic_rates_LMC = thing_LMC.synthetic_detection_rate(200,'L',True,False, [0,1],2)\n",
    "synthetic_rates_SMC2 = thing_SMC2.synthetic_detection_rate(200,['L',3,2.5],False,[0,1],20)"
   ]
  },
  {
   "cell_type": "code",
   "execution_count": 12,
   "metadata": {},
   "outputs": [],
   "source": [
    "#real_data = [real_data_detection_LMC_5, binary_bool_LMC_5, LMC_binary_detection_5, rd_err_LMC]\n",
    "real_data_LMC2 = thing_LMC2.Real_Data_Fraction()\n",
    "real_data_SMC2 = thing_SMC2.Real_Data_Fraction()"
   ]
  },
  {
   "cell_type": "code",
   "execution_count": 20,
   "metadata": {
    "scrolled": true
   },
   "outputs": [
    {
     "data": {
      "text/plain": [
       "[[0.05575382416237569, 0.05244455640442593],\n",
       " [0.3530376565227101, 0.34463440825461783]]"
      ]
     },
     "execution_count": 20,
     "metadata": {},
     "output_type": "execute_result"
    }
   ],
   "source": [
    "synthetic_rates_LMC2[3]"
   ]
  },
  {
   "cell_type": "code",
   "execution_count": 21,
   "metadata": {},
   "outputs": [
    {
     "data": {
      "image/png": "[encoded data removed]",
      "text/plain": [
       "<Figure size 720x720 with 1 Axes>"
      ]
     },
     "metadata": {
      "needs_background": "light"
     },
     "output_type": "display_data"
    }
   ],
   "source": [
    "plt.figure(figsize = (10,10))\n",
    "b_frac = [0,1]\n",
    "plt.plot(b_frac, synthetic_rates_LMC2[2],'.-', color = 'C0', label = 'LMC')\n",
    "plt.hlines(real_data_LMC2[2], 0 ,1, color = 'C0', linestyles='dashed', label = 'LMC Data')\n",
    "plt.fill_between([0,1],\n",
    "                 [synthetic_rates_LMC2[3][0][1], synthetic_rates_LMC2[3][1][1]],\n",
    "                 [synthetic_rates_LMC2[3][0][0], synthetic_rates_LMC2[3][1][0]],\n",
    "                 alpha = 0.3, color = 'C0')\n",
    "plt.fill_between([0,1], real_data_LMC2[3][0][0], real_data_LMC2[3][0][1], alpha = 0.3, color = 'C0')\n",
    "\n",
    "#plt.plot(b_frac, detection_rate_SMC, '.-', color = 'C1', label = 'SMC')\n",
    "#plt.hlines(SMC_binary_detection_5, 0 ,1, color = 'C1', linestyles='dashed', label = 'SMC Data')\n",
    "#plt.fill_between([0,1], [errors_SMC[0][1],errors_SMC[1][1]], [errors_SMC[0][0], errors_SMC[1][0]], alpha = 0.3, color = 'C1')\n",
    "#plt.fill_between([0,1], rd_err_SMC[0][0], rd_err_SMC[0][1], alpha = 0.3, color = 'C1')\n",
    "plt.plot(b_frac, synthetic_rates_SMC2[2],'.-', color = 'C1', label = 'SMC')\n",
    "plt.hlines(real_data_SMC2[2], 0 ,1, color = 'C1', linestyles='dashed', label = 'SMC Data')\n",
    "plt.fill_between([0,1],\n",
    "                 [synthetic_rates_SMC2[3][0][1], synthetic_rates_SMC2[3][1][1]],\n",
    "                 [synthetic_rates_SMC2[3][0][0], synthetic_rates_SMC2[3][1][0]],\n",
    "                 alpha = 0.3, color = 'C1')\n",
    "plt.fill_between([0,1], real_data_SMC2[3][0][0], real_data_SMC2[3][0][1], alpha = 0.3, color = 'C1')\n",
    "\n",
    "plt.plot([0,1],[0,1],'--', color = 'black',label = 'Perfect Detection')\n",
    "plt.xlabel('Binary Fraction', size = 18)\n",
    "plt.ylabel('Detection Rate', size = 18)\n",
    "plt.title('$m_{min} = 200$, R_min = 1.1 Stellar Radii', size = 18)\n",
    "plt.legend(prop = {'size': 20})\n",
    "plt.show()"
   ]
  },
  {
   "cell_type": "markdown",
   "metadata": {},
   "source": [
    "# Baysian Stuff\n",
    "Trying out the basian method in the Specer papter. "
   ]
  },
  {
   "cell_type": "code",
   "execution_count": 35,
   "metadata": {},
   "outputs": [],
   "source": [
    "%run BinaryFraction2.py\n",
    "thing_LMC2 = BinaryFraction2(AllAvg_LMC)\n",
    "thing_SMC2 = BinaryFraction2(AllAvg_SMC)"
   ]
  },
  {
   "cell_type": "code",
   "execution_count": null,
   "metadata": {},
   "outputs": [],
   "source": [
    "binary_fraction = [1,]\n",
    "bins = np.arange(0,5,0.5)\n",
    "beta_dict1 = {x:[] for x in bins} # Adds one too many entries but don't feel like dealing wtih it\n",
    "loop = 0\n",
    "while loop < 100:\n",
    "    for bf in binary_fraction:\n",
    "        beta = thing_LMC2.BetaMaster(100, ['L', 3.8, 2.23], True, bf, 1)\n",
    "        beta = [b if b < 5 else 4.5 for b in beta] # Anything too large lump it into the largest bin\n",
    "        beta_hist = np.histogram(beta, bins = bins)\n",
    "        for n in range(9):\n",
    "            beta_dict1[beta_hist[1][n]].append(beta_hist[0][n])\n",
    "    loop += 1\n",
    "    \n",
    "binary_fraction = [0,]\n",
    "bins = np.arange(0,5,0.5)\n",
    "beta_dict0 = {x:[] for x in bins} # Adds one too many entries but don't feel like dealing wtih it\n",
    "loop = 0\n",
    "while loop < 100:\n",
    "    for bf in binary_fraction:\n",
    "        beta = thing_LMC2.BetaMaster(100, ['L', 3.8, 2.23], True, bf, 1)\n",
    "        beta = [b if b < 5 else 4.5 for b in beta] # Anything too large lump it into the largest bin\n",
    "        beta_hist = np.histogram(beta, bins = bins)\n",
    "        for n in range(9):\n",
    "            beta_dict0[beta_hist[1][n]].append(beta_hist[0][n])\n",
    "    loop += 1"
   ]
  },
  {
   "cell_type": "code",
   "execution_count": 38,
   "metadata": {},
   "outputs": [],
   "source": [
    "binary_fraction = [1,]\n",
    "bins = np.arange(0,5,0.5)\n",
    "beta_dict2 = {x:[] for x in bins} # Adds one too many entries but don't feel like dealing wtih it\n",
    "loop = 0\n",
    "while loop < 200:\n",
    "    for bf in binary_fraction:\n",
    "        beta = thing_LMC2.BetaMaster(300, ['L', 4.8, 3.23], True, bf, 1)\n",
    "        beta = [b if b < 5 else 4.5 for b in beta] # Anything too large lump it into the largest bin\n",
    "        beta_hist = np.histogram(beta, bins = bins)\n",
    "        for n in range(9):\n",
    "            beta_dict2[beta_hist[1][n]].append(beta_hist[0][n])\n",
    "    loop += 1"
   ]
  },
  {
   "cell_type": "code",
   "execution_count": 40,
   "metadata": {},
   "outputs": [
    {
     "data": {
      "image/png": "[encoded data removed]",
      "text/plain": [
       "<Figure size 432x288 with 1 Axes>"
      ]
     },
     "metadata": {
      "needs_background": "light"
     },
     "output_type": "display_data"
    },
    {
     "data": {
      "image/png": "[encoded data removed]",
      "text/plain": [
       "<Figure size 432x288 with 1 Axes>"
      ]
     },
     "metadata": {
      "needs_background": "light"
     },
     "output_type": "display_data"
    },
    {
     "data": {
      "text/plain": [
       "(array([ 9., 22., 35., 42., 42., 39.,  9.,  1.,  0.,  1.]),\n",
       " array([103. , 116.8, 130.6, 144.4, 158.2, 172. , 185.8, 199.6, 213.4,\n",
       "        227.2, 241. ]),\n",
       " <a list of 10 Patch objects>)"
      ]
     },
     "execution_count": 40,
     "metadata": {},
     "output_type": "execute_result"
    },
    {
     "data": {
      "image/png": "[encoded data removed]",
      "text/plain": [
       "<Figure size 432x288 with 1 Axes>"
      ]
     },
     "metadata": {
      "needs_background": "light"
     },
     "output_type": "display_data"
    }
   ],
   "source": [
    "# These Plots where made using the observed error for the std when adding the extra noise in \n",
    "# step 4 of the Spencer paper\n",
    "plt.hist(beta_dict0[0],)\n",
    "plt.hist(beta_dict1[0])\n",
    "plt.hist(beta_dict2[0])\n",
    "plt.show()\n",
    "plt.hist(beta_dict0[1],)\n",
    "plt.hist(beta_dict1[1])\n",
    "plt.hist(beta_dict2[1])\n",
    "plt.show()\n",
    "plt.hist(beta_dict0[2],)\n",
    "plt.hist(beta_dict1[2])\n",
    "plt.hist(beta_dict2[2])\n",
    "plt.show()"
   ]
  },
  {
   "cell_type": "code",
   "execution_count": 49,
   "metadata": {},
   "outputs": [],
   "source": [
    "%run BinaryFraction2.py\n",
    "thing_LMC2 = BinaryFraction2(AllAvg_LMC)\n",
    "thing_SMC2 = BinaryFraction2(AllAvg_SMC)"
   ]
  },
  {
   "cell_type": "code",
   "execution_count": null,
   "metadata": {
    "scrolled": false
   },
   "outputs": [],
   "source": [
    "binary_fraction = [1,]\n",
    "bins = np.arange(0,5,0.25)\n",
    "beta_dict1 = {x:[] for x in bins} # Adds one too many entries but don't feel like dealing wtih it\n",
    "loop = 0\n",
    "while loop < 10:\n",
    "    for bf in binary_fraction:\n",
    "        beta = thing_LMC2.BetaMaster(100, ['L', 3.8, 2.23], True, bf, 1)\n",
    "        beta = [b if b < 5 else 4.5 for b in beta] # Anything too large lump it into the largest bin\n",
    "        beta_hist = np.histogram(beta, bins = bins)\n",
    "        for n in range(9):\n",
    "            beta_dict1[beta_hist[1][n]].append(beta_hist[0][n])\n",
    "    loop += 1\n",
    "    \n",
    "binary_fraction = [0,]\n",
    "\n",
    "beta_dict0 = {x:[] for x in bins} # Adds one too many entries but don't feel like dealing wtih it\n",
    "loop = 0\n",
    "while loop < 10:\n",
    "    for bf in binary_fraction:\n",
    "        beta = thing_LMC2.BetaMaster(100, ['L', 3.8, 2.23], True, bf, 1)\n",
    "        beta = [b if b < 5 else 4.5 for b in beta] # Anything too large lump it into the largest bin\n",
    "        beta_hist = np.histogram(beta, bins = bins)\n",
    "        for n in range(9):\n",
    "            beta_dict0[beta_hist[1][n]].append(beta_hist[0][n])\n",
    "    loop += 1\n",
    "    \n",
    "binary_fraction = [1,]\n",
    "\n",
    "beta_dict2 = {x:[] for x in bins} # Adds one too many entries but don't feel like dealing wtih it\n",
    "loop = 0\n",
    "while loop < 20:\n",
    "    for bf in binary_fraction:\n",
    "        beta = thing_LMC2.BetaMaster(300, ['L', 3.8, 2.23], True, bf, 1)\n",
    "        beta = [b if b < 5 else 4.5 for b in beta] # Anything too large lump it into the largest bin\n",
    "        beta_hist = np.histogram(beta, bins = bins)\n",
    "        for n in range(9):\n",
    "            beta_dict2[beta_hist[1][n]].append(beta_hist[0][n])\n",
    "    loop += 1"
   ]
  },
  {
   "cell_type": "code",
   "execution_count": null,
   "metadata": {},
   "outputs": [],
   "source": [
    "# These Plots where made using the total error (observed and jitter) for the std when\n",
    "# adding the extra noise in step 4 of the Spencer paper\n",
    "plt.hist(beta_dict0[0],)\n",
    "plt.hist(beta_dict1[0])\n",
    "plt.hist(beta_dict2[0])\n",
    "plt.show()\n",
    "plt.hist(beta_dict0[1],)\n",
    "plt.hist(beta_dict1[1])\n",
    "plt.hist(beta_dict2[1])\n",
    "plt.show()\n",
    "plt.hist(beta_dict0[2],)\n",
    "plt.hist(beta_dict1[2])\n",
    "plt.hist(beta_dict2[2])\n",
    "plt.show()"
   ]
  },
  {
   "cell_type": "code",
   "execution_count": null,
   "metadata": {},
   "outputs": [],
   "source": []
  },
  {
   "cell_type": "code",
   "execution_count": null,
   "metadata": {},
   "outputs": [],
   "source": [
    "lmc_beta = thing_LMC2.Real_Data_Beta()\n",
    "smc_beta = thing_SMC2.Real_Data_Beta()"
   ]
  },
  {
   "cell_type": "code",
   "execution_count": null,
   "metadata": {},
   "outputs": [],
   "source": [
    "lmc_beta = [b if b < 5 else 4.5 for b in lmc_beta]\n",
    "smc_beta = [b if b < 5 else 4.5 for b in smc_beta]\n",
    "plt.hist([lmc_beta, smc_beta], bins = bins)"
   ]
  },
  {
   "cell_type": "code",
   "execution_count": 38,
   "metadata": {},
   "outputs": [
    {
     "data": {
      "text/plain": [
       "(array([1., 4., 0., 0., 0., 0., 0., 0., 0., 0., 0., 0., 0., 0., 0., 0., 0.,\n",
       "        0., 1.]),\n",
       " array([0. , 0.5, 1. , 1.5, 2. , 2.5, 3. , 3.5, 4. , 4.5, 5. , 5.5, 6. ,\n",
       "        6.5, 7. , 7.5, 8. , 8.5, 9. , 9.5]),\n",
       " <a list of 19 Patch objects>)"
      ]
     },
     "execution_count": 38,
     "metadata": {},
     "output_type": "execute_result"
    },
    {
     "data": {
      "image/png": "[encoded data removed]",
      "text/plain": [
       "<Figure size 432x288 with 1 Axes>"
      ]
     },
     "metadata": {
      "needs_background": "light"
     },
     "output_type": "display_data"
    }
   ],
   "source": [
    "foo = [0.5,0.5,0.5,0.6,0.4,9.5]\n",
    "plt.hist(foo, bins = bins)"
   ]
  },
  {
   "cell_type": "code",
   "execution_count": null,
   "metadata": {},
   "outputs": [],
   "source": []
  }
 ],
 "metadata": {
  "kernelspec": {
   "display_name": "Python 3",
   "language": "python",
   "name": "python3"
  },
  "language_info": {
   "codemirror_mode": {
    "name": "ipython",
    "version": 3
   },
   "file_extension": ".py",
   "mimetype": "text/x-python",
   "name": "python",
   "nbconvert_exporter": "python",
   "pygments_lexer": "ipython3",
   "version": "3.6.6"
  }
 },
 "nbformat": 4,
 "nbformat_minor": 2
}
