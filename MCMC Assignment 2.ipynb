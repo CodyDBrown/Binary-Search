{
 "cells": [
  {
   "cell_type": "code",
   "execution_count": 1,
   "metadata": {},
   "outputs": [],
   "source": [
    "#MCMC Assignment 2 for Gaussians."
   ]
  },
  {
   "cell_type": "code",
   "execution_count": 9,
   "metadata": {},
   "outputs": [],
   "source": [
    "import numpy as np\n",
    "import scipy as sp\n",
    "import matplotlib.pyplot as plt\n",
    "import matplotlib.mlab as mlab\n",
    "import math as m"
   ]
  },
  {
   "cell_type": "code",
   "execution_count": 10,
   "metadata": {},
   "outputs": [],
   "source": [
    "def p(x,mu,sigma): \n",
    "    return (1/(np.sqrt(2*np.pi)*sigma)*m.exp(-(x - 1)**2/(2*1**2))\n",
    "\n",
    "#Now i want to have the data, the x values fixed and varry mu and sigma\n",
    "def MCMC2(N):\n",
    "    x = np.zeros((4,N+1))\n",
    "    for j in range(4):\n",
    "        i = 0\n",
    "        alpha_2 = 10**(j-2)  #Loop through the different alpha values\n",
    "        acpt_count = 0\n",
    "        x[j,0] = 3 # My compleatly uneducated guess. \n",
    "\n",
    "\n",
    "        while i < N:\n",
    "            y = x[j,i] + np.random.uniform(-m.sqrt(alpha_2),m.sqrt(alpha_2))\n",
    "            H = p(y)/p(x[j,i]) # Hastings ratio\n",
    "            #Now see if we move or not\n",
    "            foo = np.random.uniform(0,1)\n",
    "            if H >= foo:\n",
    "                x[j,i+1] = y\n",
    "                acpt_count += 1\n",
    "            else:\n",
    "                x[j,i+1] = x[j,i]    \n",
    "            i += 1"
   ]
  },
  {
   "cell_type": "code",
   "execution_count": 11,
   "metadata": {},
   "outputs": [],
   "source": [
    "d = np.random.normal(1,1,10000);"
   ]
  },
  {
   "cell_type": "code",
   "execution_count": null,
   "metadata": {},
   "outputs": [],
   "source": [
    "def likelihood(d,mu,sigma):\n",
    "    for i in range(len(d)):\n",
    "        L *= p(d[i],mu,sigmad)"
   ]
  }
 ],
 "metadata": {
  "kernelspec": {
   "display_name": "Python 3",
   "language": "python",
   "name": "python3"
  },
  "language_info": {
   "codemirror_mode": {
    "name": "ipython",
    "version": 3
   },
   "file_extension": ".py",
   "mimetype": "text/x-python",
   "name": "python",
   "nbconvert_exporter": "python",
   "pygments_lexer": "ipython3",
   "version": "3.6.4"
  }
 },
 "nbformat": 4,
 "nbformat_minor": 2
}
