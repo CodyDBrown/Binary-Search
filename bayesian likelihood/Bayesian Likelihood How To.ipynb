{
 "cells": [
  {
   "cell_type": "markdown",
   "metadata": {},
   "source": [
    "# Bayesian Likelihood How to Notebook\n",
    "This notebook will hopefully guide you how to use the programs in bayesian likelihood. At some point I will make this a moduel, but that's a future Cody problem. "
   ]
  },
  {
   "cell_type": "code",
   "execution_count": 1,
   "metadata": {},
   "outputs": [],
   "source": [
    "import pickle\n",
    "stars = pickle.load(open(\"/home/cody/Binary Search/all_average_rv_example.pck\", \"rb\" ) )"
   ]
  },
  {
   "cell_type": "markdown",
   "metadata": {},
   "source": [
    "\"stars\" is an astropy table object that has the simplified table that was made at the end of the DataSimp notebook. \n",
    "\n",
    "We can find the natural log likelihood for a set of model paramiters given the data in stars.\n",
    "\n",
    "#### 1. Add Jitter\n",
    "Jitter is a catch all noise term added to the observational noise. We have two parameters that try and account for this. We assume a strate line in log space as a function of surface gravity LOGG. The two parameters are the slope (b) and y intersept (a). For this notebook we just picked a = 0.3, and b = 0.6, but these can be values that you let varry"
   ]
  },
  {
   "cell_type": "code",
   "execution_count": 2,
   "metadata": {},
   "outputs": [],
   "source": [
    "%run error_with_jitter.py\n",
    "err_j = error_with_jitter(stars[\"RADIAL_ERR\"],\n",
    "                         a = 0.3,\n",
    "                         b = 0.6,\n",
    "                         logg = stars[\"LOGG\"])"
   ]
  },
  {
   "cell_type": "markdown",
   "metadata": {},
   "source": [
    "#### 2. Detection Rate\n",
    "Next we find the detection rate of the data using a chi2, P-value."
   ]
  },
  {
   "cell_type": "code",
   "execution_count": 3,
   "metadata": {},
   "outputs": [
    {
     "name": "stdout",
     "output_type": "stream",
     "text": [
      "0.41968911917098445\n"
     ]
    }
   ],
   "source": [
    "%run binary_fraction.py\n",
    "detection_rate_data = binary_fraction(stars['RADIALV'], err_j)\n",
    "print(detection_rate_data)"
   ]
  },
  {
   "cell_type": "markdown",
   "metadata": {},
   "source": [
    "#### 3. ln(likelihood)\n",
    "For this set of stars about 42% of the observed stars have large enough deviations from their mean value to confidently say they are not solo stars (i.e. binaries). \n",
    "Now we need to make synthetic galaxies to then compare the model to the data to then find the likelihood. \n",
    "\n",
    "It's important that the same jitter paramiters are used for the detection rate as well as the lnlikelihood\n",
    "\n",
    "Side note: The inputs to lnlikelihood are coded as possitional arguments, I'm making them keyword arguments for now so you know what they are"
   ]
  },
  {
   "cell_type": "code",
   "execution_count": 4,
   "metadata": {},
   "outputs": [],
   "source": [
    "%run lnlikelihood.py\n",
    "import astropy.units as u"
   ]
  },
  {
   "cell_type": "code",
   "execution_count": 5,
   "metadata": {
    "scrolled": true
   },
   "outputs": [],
   "source": [
    "LNL = lnlikelihood(detection_rate_data,\n",
    "                  num_of_galaxies = 50,\n",
    "                  cloud = stars,\n",
    "                  bf = 0.8,\n",
    "                  m_min = 100*u.jupiterMass,\n",
    "                  mu = 2.5,\n",
    "                  sigma = 2., \n",
    "                  a = 0.3,\n",
    "                  b = 0.6)"
   ]
  },
  {
   "cell_type": "code",
   "execution_count": 6,
   "metadata": {},
   "outputs": [
    {
     "data": {
      "text/plain": [
       "-5.00080811001625"
      ]
     },
     "execution_count": 6,
     "metadata": {},
     "output_type": "execute_result"
    }
   ],
   "source": [
    "LNL"
   ]
  },
  {
   "cell_type": "markdown",
   "metadata": {},
   "source": [
    "Not a lot is learned from looking at one likelihood for one model. We want to look at a range of model's and see what fits the best. Here's a simple loop that will check different binary fractions and return all of the log likelihoods for the different fractions"
   ]
  },
  {
   "cell_type": "code",
   "execution_count": 7,
   "metadata": {},
   "outputs": [
    {
     "name": "stdout",
     "output_type": "stream",
     "text": [
      "Done with, 0\n",
      "Done with, 1\n",
      "Done with, 2\n",
      "Done with, 3\n",
      "Done with, 4\n",
      "Done with, 5\n",
      "Done with, 6\n",
      "Done with, 7\n",
      "Done with, 8\n",
      "Done with, 9\n"
     ]
    }
   ],
   "source": [
    "a = 0.3\n",
    "b = 0.6\n",
    "mu = 2.5\n",
    "sigma = 2\n",
    "fractions = np.linspace(0, 1, 10)\n",
    "err_j = error_with_jitter(stars['RADIAL_ERR'], a, b, stars['LOGG'])\n",
    "\n",
    "detection_rate = binary_fraction(stars['RADIALV'], err_j)\n",
    "lnl = []\n",
    "for n in range(len(fractions)):\n",
    "    lnl.append(lnlikelihood(detection_rate,\n",
    "                            50,\n",
    "                            stars,\n",
    "                            fractions[n],\n",
    "                            100 * u.jupiterMass,\n",
    "                            mu,\n",
    "                            sigma,\n",
    "                            a,\n",
    "                            b)\n",
    "               )\n",
    "    print(\"Done with,\", n) # I like to add print statments so I know how much longer I need to wait. "
   ]
  },
  {
   "cell_type": "code",
   "execution_count": 10,
   "metadata": {},
   "outputs": [
    {
     "data": {
      "image/png": "[encoded data removed]",
      "text/plain": [
       "<Figure size 432x288 with 1 Axes>"
      ]
     },
     "metadata": {
      "needs_background": "light"
     },
     "output_type": "display_data"
    }
   ],
   "source": [
    "import matplotlib.pyplot as plt\n",
    "plt.plot(fractions, np.exp(lnl), 'x--')\n",
    "plt.ylabel(\"Likelihood\")\n",
    "plt.xlabel(\"Binary Fraction\")\n",
    "plt.show()"
   ]
  },
  {
   "cell_type": "code",
   "execution_count": null,
   "metadata": {},
   "outputs": [],
   "source": []
  }
 ],
 "metadata": {
  "kernelspec": {
   "display_name": "Python 3",
   "language": "python",
   "name": "python3"
  },
  "language_info": {
   "codemirror_mode": {
    "name": "ipython",
    "version": 3
   },
   "file_extension": ".py",
   "mimetype": "text/x-python",
   "name": "python",
   "nbconvert_exporter": "python",
   "pygments_lexer": "ipython3",
   "version": "3.6.6"
  }
 },
 "nbformat": 4,
 "nbformat_minor": 2
}
