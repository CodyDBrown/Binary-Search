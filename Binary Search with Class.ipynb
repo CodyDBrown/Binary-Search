{
 "cells": [
  {
   "cell_type": "markdown",
   "metadata": {},
   "source": [
    "I want to turn the Binary Search Notebook into a real .py class that I could run just from the terminal. This will probably make it run faster and be a lot easier to share with others and hopefully solve some of the problems I've been having with turning it into a bunch of indivisual .py files. See the \"Second data set\" notebook for the problems. "
   ]
  },
  {
   "cell_type": "code",
   "execution_count": 33,
   "metadata": {},
   "outputs": [
    {
     "data": {
      "text/plain": [
       "'/home/cody/Binary Search'"
      ]
     },
     "execution_count": 33,
     "metadata": {},
     "output_type": "execute_result"
    }
   ],
   "source": [
    "pwd"
   ]
  },
  {
   "cell_type": "code",
   "execution_count": 2,
   "metadata": {},
   "outputs": [
    {
     "name": "stdout",
     "output_type": "stream",
     "text": [
      "Overwriting Binary_Data_Clean.py\n"
     ]
    }
   ],
   "source": [
    "%%writefile Binary_Data_Clean.py\n",
    "from astropy.table import Table, Column\n",
    "from astropy.io import fits\n",
    "import numpy as np\n",
    "import astropy.units as u\n",
    "from astropy.constants import G, sigma_sb, c\n",
    "class Binary_Data_Clean:\n",
    "    \"\"\"\n",
    "    Goal of this class is it have all of the data simplifying stuff\n",
    "    in one place. The process should go as follows,\n",
    "    1.  Import the fits files and make them an astropy Tables. There should be an all visit table, and an \n",
    "        all averaged tables.\n",
    "    \n",
    "    2.  Make a cut so that we only have stars with at least 5 observations. This should eliminate rows in\n",
    "        both the all visit and all average tables\n",
    "    \n",
    "    3.  Add the RV measurments, RV errors, and the dates observed as a column of arrays to the all average\n",
    "        table. This way I don't need to have both tables around anymore I can just use the averaged table.\n",
    "        \n",
    "    4.  Make a cut so that I only have stars that fall into the red giant branch.\n",
    "    \n",
    "    5.  Use Isochrone tables to find the mass and luminocity of the stars based off the effective surface \n",
    "        tempurature, surface gravity and iron ratios\n",
    "    \"\"\"\n",
    "    \n",
    "    #Initialize, with two paths to the files I want to read in\n",
    "    def __init__(self, all_average_path, all_visit_path, iso_path):\n",
    "        self.all_average_path = all_average_path\n",
    "        self.all_visit_path = all_visit_path\n",
    "        self.iso_path = iso_path\n",
    "    #Reads in the tables \n",
    "    def load_tables(self):\n",
    "        ALL_AVERAGE = Table(fits.getdata(self.all_average_path,1))\n",
    "        ALL_VISIT = Table(fits.getdata(self.all_visit_path, 1))\n",
    "        ISO = Table(fits.getdata(self.iso_path,1))\n",
    "\n",
    "        return ALL_AVERAGE, ALL_VISIT, ISO\n",
    "    \n",
    "    #There are some points that have unphysical velocities, so lets get rid of them\n",
    "    def too_fast(self,ALL_VISIT):\n",
    "        ALL_VISIT = ALL_VISIT[np.isfinite(ALL_VISIT['VHELIO'])]\n",
    "        return ALL_VISIT[ALL_VISIT['VHELIO'] < 10**4]\n",
    "        \n",
    "    #Makes the cuts for number of visits must be greater than 5\n",
    "    def nvisits_cut(self,ALL_AVERAGE,ALL_VISIT):\n",
    "        #I want to make copies of the table so that when I make changes to them it doesn't affect the original tables\n",
    "        ALL_AVERAGE_SIMPLIFIED = Table(ALL_AVERAGE, copy = True)\n",
    "        ALL_VISIT_SIMPLIFIED = Table(ALL_VISIT, copy = True)\n",
    "        rows_remove = []\n",
    "        for n in range(len(ALL_AVERAGE_SIMPLIFIED)):\n",
    "            if ALL_AVERAGE_SIMPLIFIED['NVISITS'][n] < 5:\n",
    "                rows_remove.append(n)\n",
    "        ALL_AVERAGE_SIMPLIFIED.remove_rows(rows_remove)\n",
    "        \n",
    "        holder = []\n",
    "        \n",
    "        #TO DO: Figure out how to get rid of this nested for loop. This is THE bottle neck for the whole process\n",
    "        for n in range(len(ALL_VISIT_SIMPLIFIED)):\n",
    "            for m in ALL_AVERAGE_SIMPLIFIED['APOGEE_ID']:\n",
    "                if ALL_VISIT_SIMPLIFIED[\"APOGEE_ID\"][n] == m:\n",
    "                    holder.append(n)\n",
    "                    break\n",
    "        #Holder is a list of all the rows I want to keep. So I need to get rid of all the other ones\n",
    "        remove_allvis = []\n",
    "        dumby_allvis = list(range(0,len(ALL_VISIT_SIMPLIFIED)))\n",
    "        for x in dumby_allvis:\n",
    "            if x not in holder:\n",
    "                remove_allvis.append(dumby_allvis[x])\n",
    "                \n",
    "        ALL_VISIT_SIMPLIFIED.remove_rows(remove_allvis)\n",
    "        return ALL_AVERAGE_SIMPLIFIED, ALL_VISIT_SIMPLIFIED\n",
    "    \n",
    "    #Make a separate red giant table.\n",
    "    def rg_cut(self,AllAvg):\n",
    "        AllAvgSimp_foo = Table(AllAvg, copy = True)\n",
    "        #Get rid of bad tempurature and log(g) values. \n",
    "        AllAvgSimp_foo['TEFF'][AllAvgSimp_foo['TEFF'] < 0 ] = np.nan #replaces bad values with nan\n",
    "        AllAvgSimp_foo['LOGG'][AllAvgSimp_foo['LOGG'] < 0 ] = np.nan\n",
    "        AllAvgSimp_foo['FE_H'][AllAvgSimp_foo['FE_H'] < -100] = np.nan\n",
    "\n",
    "\n",
    "        AllAvgSimp_foo = AllAvgSimp_foo[np.isfinite(AllAvgSimp_foo['TEFF'])] #gets rid of nan's\n",
    "        AllAvgSimp_foo = AllAvgSimp_foo[np.isfinite(AllAvgSimp_foo['LOGG'])]\n",
    "        AllAvgSimp_foo = AllAvgSimp_foo[np.isfinite(AllAvgSimp_foo['FE_H'])]\n",
    "        # I only want to look at the Red Giant group right now so I'm going to ignore\n",
    "        AAS_RG = Table(AllAvgSimp_foo, copy = True)\n",
    "        AAS_RG['TEFF'][AAS_RG['TEFF'] >= 5500  ] = np.nan \n",
    "        AAS_RG['LOGG'][AAS_RG['LOGG'] >= 3.7 + 0.1*AAS_RG['FE_H'] ] = np.nan\n",
    "\n",
    "        #Now get rid of nan's\n",
    "        AAS_RG = AAS_RG[np.isfinite(AAS_RG['TEFF'])] #gets rid of nan's\n",
    "        AAS_RG = AAS_RG[np.isfinite(AAS_RG['LOGG'])]\n",
    "\n",
    "        # Down the road we'll also have problems with AK and K so we need to get rid of any AK values that are -9999.9999\n",
    "        AAS_RG['AK_WISE'][AAS_RG['AK_WISE'] < 0  ] = np.nan #replaces bad values with nan\n",
    "        AAS_RG = AAS_RG[np.isfinite(AAS_RG['AK_WISE'])]\n",
    "\n",
    "        AAS_RG['AK_TARG'][AAS_RG['AK_TARG'] < 0  ] = np.nan #replaces bad values with nan\n",
    "        AAS_RG = AAS_RG[np.isfinite(AAS_RG['AK_TARG'])]\n",
    "        return AAS_RG\n",
    "        \n",
    "    \n",
    "    #Adding the RV, err, and dates to ALL_AVERAGE_SIMPLIFIED. This should be the last one you\n",
    "    #run because you don't want to waist time adding RV values for stars you will end up ignoring\n",
    "    def rv_table_add(self, ALL_AVERAGE_SIMPLIFIED, ALL_VISIT_SIMPLIFIED):\n",
    "        RV_Column = Column(name = 'RADIALV', data = np.ones(len(ALL_AVERAGE_SIMPLIFIED)), dtype = 'object') #Right now filling it with ones just as a place holder\n",
    "        ERR_Column = Column(name = 'RADIAL_ERR', data = np.ones(len(ALL_AVERAGE_SIMPLIFIED)), dtype = 'object')\n",
    "        DATE_Column = Column(name = 'RADIAL_DATE', data = np.ones(len(ALL_AVERAGE_SIMPLIFIED)), dtype = 'object')\n",
    "        \n",
    "        ALL_AVERAGE_SIMPLIFIED_foo = Table(ALL_AVERAGE_SIMPLIFIED, copy = True)\n",
    "        ALL_AVERAGE_SIMPLIFIED_foo.add_columns([RV_Column,ERR_Column,DATE_Column], [0,0,0])\n",
    "        \n",
    "        start = 0\n",
    "        end = 0\n",
    "        loop = 0\n",
    "        name = 0\n",
    "        #Just in case I want to organize by APOGEE_ID and JD\n",
    "        ALL_VISIT_SIMPLIFIED.sort(['APOGEE_ID', 'JD'])\n",
    "        \n",
    "        for n in ALL_AVERAGE_SIMPLIFIED_foo['NVISITS']:\n",
    "            start = end\n",
    "            end += n\n",
    "            \n",
    "            #Read in the dates the object was observed\n",
    "            Date = ALL_VISIT_SIMPLIFIED['JD'][start:end] - ALL_VISIT_SIMPLIFIED['JD'][start]\n",
    "            Date_Array = np.array(Date)\n",
    "            \n",
    "            RV = ALL_VISIT_SIMPLIFIED['VHELIO'][start:end]\n",
    "            RV_Array = np.array(RV)\n",
    "            \n",
    "            err = ALL_VISIT_SIMPLIFIED['VRELERR'][start:end]\n",
    "            \n",
    "            err = [.1 if n < 0.1 else n for n in err]\n",
    "            err_Array = np.array(err)\n",
    "            \n",
    "            #Now Add them to the all averaged simplified table\n",
    "            ALL_AVERAGE_SIMPLIFIED_foo['RADIALV'][name] = RV_Array\n",
    "            ALL_AVERAGE_SIMPLIFIED_foo['RADIAL_ERR'][name] = err_Array\n",
    "            ALL_AVERAGE_SIMPLIFIED_foo['RADIAL_DATE'][name] = Date_Array\n",
    "            name += 1\n",
    "        return ALL_AVERAGE_SIMPLIFIED_foo\n",
    "    \n",
    "    ### ISOCHRON FITTING ###\n",
    "    \n",
    "    def iso_fit(self,ALL_AVERAGE,ISO):\n",
    "        iso_meanM = np.zeros(len(ALL_AVERAGE))\n",
    "        iso_medianM = np.zeros(len(ALL_AVERAGE))\n",
    "        iso_stdM = np.zeros(len(ALL_AVERAGE))\n",
    "        \n",
    "        iso_meanL = np.zeros(len(ALL_AVERAGE))\n",
    "        iso_medianL = np.zeros(len(ALL_AVERAGE))\n",
    "        iso_stdL = np.zeros(len(ALL_AVERAGE))\n",
    "        \n",
    "        for j in range(len(ALL_AVERAGE)):\n",
    "            star_teff = ALL_AVERAGE['TEFF'][j]\n",
    "            star_logg = ALL_AVERAGE['LOGG'][j]\n",
    "            star_feh  = ALL_AVERAGE['FE_H'][j]\n",
    "            \n",
    "            gd, = np.where(( (np.abs(ISO['LOGTE']-np.log10(star_teff)) < 0.1) &\n",
    "                    (np.abs(ISO['LOGG']-star_logg) < 0.1) &\n",
    "                    (np.abs(ISO['FEH']-star_feh) < 0.1) ) )\n",
    "            \n",
    "            # This if loop is to check that any good values got found. If the array is empty then when i find mean and the like\n",
    "            # it gives me some warnings about dividing by zero. \n",
    "            if len(gd) > 0:\n",
    "                iso_meanM[j] = np.mean(ISO['MASS'][gd])\n",
    "                iso_medianM[j] = np.median(ISO[\"MASS\"][gd])\n",
    "                iso_stdM[j] = np.std(ISO[\"MASS\"][gd])\n",
    "\n",
    "                iso_meanL[j] = np.mean(ISO['LOGL'][gd])\n",
    "                iso_medianL[j] = np.median(ISO[\"LOGL\"][gd])\n",
    "                iso_stdL[j] = np.std(ISO[\"LOGL\"][gd])\n",
    "            else:\n",
    "                iso_meanM[j] = np.nan\n",
    "                iso_medianM[j] = np.nan\n",
    "                iso_stdM[j] = np.nan\n",
    "\n",
    "                iso_meanL[j] = np.nan\n",
    "                iso_medianL[j] = np.nan\n",
    "                iso_stdL[j] = np.nan\n",
    "        #Now add on the mass luminocity and radius values\n",
    "        ALL_AVERAGE['ISO_MEANM'] = iso_meanM*u.solMass\n",
    "        ALL_AVERAGE[\"ISO_MEDIANM\"] = iso_medianM * u.solMass\n",
    "        ALL_AVERAGE['ISO_STDM'] = iso_stdM * u.solMass\n",
    "\n",
    "        ALL_AVERAGE['ISO_MEANL'] = iso_meanL * u.solLum\n",
    "        ALL_AVERAGE[\"ISO_MEDIANL\"] = iso_medianL * u.solLum\n",
    "        ALL_AVERAGE['ISO_STDL'] = iso_stdL * u.solLum \n",
    "\n",
    "        iso_meanR = np.sqrt( ALL_AVERAGE['ISO_MEANL'] / (4 * np.pi * sigma_sb * (ALL_AVERAGE[\"TEFF\"]*u.K)**4 ) ).to(u.solRad)\n",
    "        ALL_AVERAGE['ISO_MEANR'] = iso_meanR\n",
    "        ALL_AVERAGE = ALL_AVERAGE[np.isfinite(ALL_AVERAGE['ISO_MEANM'])]\n",
    "        return ALL_AVERAGE\n",
    "    \n",
    "    #Lastly I want to be able to split the data table into the LMC and the SMC. One program with a flag should be able to do it\n",
    "    def mc_cut(self, ALL_AVERAGE, flag):\n",
    "        if flag != \"L\" and flag != 'S':\n",
    "            return print(\"ERROR: flag needs to be a string, either 'L' or 'S'\")\n",
    "        ALL_AVERAGE_foo = Table(ALL_AVERAGE, copy = True)\n",
    "        rows_2_remove = []\n",
    "        for n in range(len(ALL_AVERAGE_foo)):\n",
    "            if ALL_AVERAGE_foo['FIELD'][n][0] != flag:\n",
    "                rows_2_remove.append(n)\n",
    "        ALL_AVERAGE_foo.remove_rows(rows_2_remove)\n",
    "    \n",
    "        return ALL_AVERAGE_foo"
   ]
  },
  {
   "cell_type": "code",
   "execution_count": 3,
   "metadata": {},
   "outputs": [],
   "source": [
    "%run Binary_Data_Clean.py"
   ]
  },
  {
   "cell_type": "code",
   "execution_count": 4,
   "metadata": {},
   "outputs": [],
   "source": [
    "Tables = Binary_Data_Clean('/home/cody/Binary Search/2nd_Data_Set/allMC.avg.58247.nocut.fits','/home/cody/Binary Search/2nd_Data_Set/allVisit-t9-l31c-58247.mc.fits',\n",
    "                          '/home/cody/Binary Search/parsec_decamsdss_all.fits.gz')"
   ]
  },
  {
   "cell_type": "code",
   "execution_count": 5,
   "metadata": {},
   "outputs": [],
   "source": [
    "AllAvg, AllVis, ISO = Tables.load_tables()"
   ]
  },
  {
   "cell_type": "code",
   "execution_count": 6,
   "metadata": {},
   "outputs": [],
   "source": [
    "AllVis = Tables.too_fast(AllVis)\n",
    "AllAvgSimp, AllVisSimp = Tables.nvisits_cut(AllAvg,AllVis)\n",
    "AAS_RG = Tables.rg_cut(AllAvgSimp)"
   ]
  },
  {
   "cell_type": "code",
   "execution_count": 6,
   "metadata": {},
   "outputs": [],
   "source": [
    "#Put this later so we can save the LMC and SMC tables\n",
    "#AllAvgRv = Tables.rv_table_add(AllAvgSimp,AllVisSimp)"
   ]
  },
  {
   "cell_type": "code",
   "execution_count": 7,
   "metadata": {
    "scrolled": true
   },
   "outputs": [],
   "source": [
    "AAS_RG_ISO = Tables.iso_fit(AAS_RG, ISO)"
   ]
  },
  {
   "cell_type": "code",
   "execution_count": 8,
   "metadata": {},
   "outputs": [],
   "source": [
    "AllAvg_LMC = Tables.mc_cut(AAS_RG_ISO, 'L')\n",
    "AllAvg_SMC = Tables.mc_cut(AAS_RG_ISO, 'S')"
   ]
  },
  {
   "cell_type": "markdown",
   "metadata": {},
   "source": [
    "Problem with now saving these tables. Becaue one of the rows has a column of type 'object' saving it as a .fits file doesn't work for some reason. So the best I can do is save the simplified tables before they have the RV values added on. "
   ]
  },
  {
   "cell_type": "code",
   "execution_count": 11,
   "metadata": {},
   "outputs": [
    {
     "ename": "OSError",
     "evalue": "File exists: aas_rgb_lmc_NORV",
     "output_type": "error",
     "traceback": [
      "\u001b[0;31m---------------------------------------------------------------------------\u001b[0m",
      "\u001b[0;31mOSError\u001b[0m                                   Traceback (most recent call last)",
      "\u001b[0;32m<ipython-input-11-8fcd560dd5ba>\u001b[0m in \u001b[0;36m<module>\u001b[0;34m()\u001b[0m\n\u001b[0;32m----> 1\u001b[0;31m \u001b[0mAllAvg_LMC\u001b[0m\u001b[0;34m.\u001b[0m\u001b[0mwrite\u001b[0m\u001b[0;34m(\u001b[0m\u001b[0;34m'aas_rgb_lmc_NORV'\u001b[0m\u001b[0;34m,\u001b[0m \u001b[0mformat\u001b[0m \u001b[0;34m=\u001b[0m \u001b[0;34m'fits'\u001b[0m\u001b[0;34m)\u001b[0m\u001b[0;34m\u001b[0m\u001b[0m\n\u001b[0m\u001b[1;32m      2\u001b[0m \u001b[0mAllAvg_SMC\u001b[0m\u001b[0;34m.\u001b[0m\u001b[0mwrite\u001b[0m\u001b[0;34m(\u001b[0m\u001b[0;34m'aas_rgb_smc_NORV'\u001b[0m\u001b[0;34m,\u001b[0m \u001b[0mformat\u001b[0m \u001b[0;34m=\u001b[0m \u001b[0;34m'fits'\u001b[0m\u001b[0;34m)\u001b[0m\u001b[0;34m\u001b[0m\u001b[0m\n",
      "\u001b[0;32m~/anaconda3/lib/python3.6/site-packages/astropy/table/table.py\u001b[0m in \u001b[0;36mwrite\u001b[0;34m(self, *args, **kwargs)\u001b[0m\n\u001b[1;32m   2558\u001b[0m         \u001b[0mpassed\u001b[0m \u001b[0mthrough\u001b[0m \u001b[0mto\u001b[0m \u001b[0mthe\u001b[0m \u001b[0munderlying\u001b[0m \u001b[0mdata\u001b[0m \u001b[0mreader\u001b[0m \u001b[0;34m(\u001b[0m\u001b[0me\u001b[0m\u001b[0;34m.\u001b[0m\u001b[0mg\u001b[0m\u001b[0;34m.\u001b[0m\u001b[0;31m \u001b[0m\u001b[0;31m`\u001b[0m\u001b[0;34m~\u001b[0m\u001b[0mastropy\u001b[0m\u001b[0;34m.\u001b[0m\u001b[0mio\u001b[0m\u001b[0;34m.\u001b[0m\u001b[0mascii\u001b[0m\u001b[0;34m.\u001b[0m\u001b[0mwrite\u001b[0m\u001b[0;31m`\u001b[0m\u001b[0;34m)\u001b[0m\u001b[0;34m.\u001b[0m\u001b[0;34m\u001b[0m\u001b[0m\n\u001b[1;32m   2559\u001b[0m         \"\"\"\n\u001b[0;32m-> 2560\u001b[0;31m         \u001b[0mio_registry\u001b[0m\u001b[0;34m.\u001b[0m\u001b[0mwrite\u001b[0m\u001b[0;34m(\u001b[0m\u001b[0mself\u001b[0m\u001b[0;34m,\u001b[0m \u001b[0;34m*\u001b[0m\u001b[0margs\u001b[0m\u001b[0;34m,\u001b[0m \u001b[0;34m**\u001b[0m\u001b[0mkwargs\u001b[0m\u001b[0;34m)\u001b[0m\u001b[0;34m\u001b[0m\u001b[0m\n\u001b[0m\u001b[1;32m   2561\u001b[0m \u001b[0;34m\u001b[0m\u001b[0m\n\u001b[1;32m   2562\u001b[0m     \u001b[0;32mdef\u001b[0m \u001b[0mcopy\u001b[0m\u001b[0;34m(\u001b[0m\u001b[0mself\u001b[0m\u001b[0;34m,\u001b[0m \u001b[0mcopy_data\u001b[0m\u001b[0;34m=\u001b[0m\u001b[0;32mTrue\u001b[0m\u001b[0;34m)\u001b[0m\u001b[0;34m:\u001b[0m\u001b[0;34m\u001b[0m\u001b[0m\n",
      "\u001b[0;32m~/anaconda3/lib/python3.6/site-packages/astropy/io/registry.py\u001b[0m in \u001b[0;36mwrite\u001b[0;34m(data, format, *args, **kwargs)\u001b[0m\n\u001b[1;32m    558\u001b[0m \u001b[0;34m\u001b[0m\u001b[0m\n\u001b[1;32m    559\u001b[0m     \u001b[0mwriter\u001b[0m \u001b[0;34m=\u001b[0m \u001b[0mget_writer\u001b[0m\u001b[0;34m(\u001b[0m\u001b[0mformat\u001b[0m\u001b[0;34m,\u001b[0m \u001b[0mdata\u001b[0m\u001b[0;34m.\u001b[0m\u001b[0m__class__\u001b[0m\u001b[0;34m)\u001b[0m\u001b[0;34m\u001b[0m\u001b[0m\n\u001b[0;32m--> 560\u001b[0;31m     \u001b[0mwriter\u001b[0m\u001b[0;34m(\u001b[0m\u001b[0mdata\u001b[0m\u001b[0;34m,\u001b[0m \u001b[0;34m*\u001b[0m\u001b[0margs\u001b[0m\u001b[0;34m,\u001b[0m \u001b[0;34m**\u001b[0m\u001b[0mkwargs\u001b[0m\u001b[0;34m)\u001b[0m\u001b[0;34m\u001b[0m\u001b[0m\n\u001b[0m\u001b[1;32m    561\u001b[0m \u001b[0;34m\u001b[0m\u001b[0m\n\u001b[1;32m    562\u001b[0m \u001b[0;34m\u001b[0m\u001b[0m\n",
      "\u001b[0;32m~/anaconda3/lib/python3.6/site-packages/astropy/io/fits/connect.py\u001b[0m in \u001b[0;36mwrite_table_fits\u001b[0;34m(input, output, overwrite)\u001b[0m\n\u001b[1;32m    385\u001b[0m             \u001b[0mos\u001b[0m\u001b[0;34m.\u001b[0m\u001b[0mremove\u001b[0m\u001b[0;34m(\u001b[0m\u001b[0moutput\u001b[0m\u001b[0;34m)\u001b[0m\u001b[0;34m\u001b[0m\u001b[0m\n\u001b[1;32m    386\u001b[0m         \u001b[0;32melse\u001b[0m\u001b[0;34m:\u001b[0m\u001b[0;34m\u001b[0m\u001b[0m\n\u001b[0;32m--> 387\u001b[0;31m             \u001b[0;32mraise\u001b[0m \u001b[0mOSError\u001b[0m\u001b[0;34m(\u001b[0m\u001b[0;34m\"File exists: {0}\"\u001b[0m\u001b[0;34m.\u001b[0m\u001b[0mformat\u001b[0m\u001b[0;34m(\u001b[0m\u001b[0moutput\u001b[0m\u001b[0;34m)\u001b[0m\u001b[0;34m)\u001b[0m\u001b[0;34m\u001b[0m\u001b[0m\n\u001b[0m\u001b[1;32m    388\u001b[0m \u001b[0;34m\u001b[0m\u001b[0m\n\u001b[1;32m    389\u001b[0m     \u001b[0mtable_hdu\u001b[0m\u001b[0;34m.\u001b[0m\u001b[0mwriteto\u001b[0m\u001b[0;34m(\u001b[0m\u001b[0moutput\u001b[0m\u001b[0;34m)\u001b[0m\u001b[0;34m\u001b[0m\u001b[0m\n",
      "\u001b[0;31mOSError\u001b[0m: File exists: aas_rgb_lmc_NORV"
     ]
    }
   ],
   "source": [
    "AllAvg_LMC.write('aas_rgb_lmc_NORV', format = 'fits')\n",
    "AllAvg_SMC.write('aas_rgb_smc_NORV', format = 'fits')"
   ]
  },
  {
   "cell_type": "markdown",
   "metadata": {},
   "source": [
    "Now that I've saved the LMC and SMC tables I can tack on the RV values"
   ]
  },
  {
   "cell_type": "code",
   "execution_count": 9,
   "metadata": {},
   "outputs": [],
   "source": [
    "AllAvg_LMC_RV = Tables.rv_table_add(AllAvg_LMC,AllVisSimp)\n",
    "AllAvg_SMC_RV = Tables.rv_table_add(AllAvg_SMC,AllVisSimp)"
   ]
  },
  {
   "cell_type": "code",
   "execution_count": 1,
   "metadata": {},
   "outputs": [
    {
     "data": {
      "text/plain": [
       "'/home/cody/Binary Search'"
      ]
     },
     "execution_count": 1,
     "metadata": {},
     "output_type": "execute_result"
    }
   ],
   "source": [
    "%pwd"
   ]
  },
  {
   "cell_type": "code",
   "execution_count": 47,
   "metadata": {},
   "outputs": [
    {
     "name": "stdout",
     "output_type": "stream",
     "text": [
      "Overwriting Binary_Fraction.py\n"
     ]
    }
   ],
   "source": [
    "%%writefile Binary_Fraction.py\n",
    "from astropy.table import Table, Column, vstack\n",
    "from astropy.io import fits\n",
    "import numpy as np\n",
    "from scipy.stats import chi2\n",
    "import astropy.units as u\n",
    "from astropy.constants import G, sigma_sb, c\n",
    "\n",
    "from astropy.time import Time\n",
    "\n",
    "from thejoker.data import RVData\n",
    "from twobody.wrap import cy_rv_from_elements\n",
    "from twobody.utils import ArrayProcessor\n",
    "from twobody import KeplerOrbit\n",
    "\n",
    "class Binary_Fraction:\n",
    "    def __init__(self,AAS_TABLE):\n",
    "        self.AAS_TABLE = AAS_TABLE\n",
    "        \n",
    "    def buddy_values(self, N, m_min):\n",
    "        \"\"\"\n",
    "        Makes a list of the paramiters of the secondary star for the primary star in row 'N' from AAS_TABLE\n",
    "        \n",
    "        Inputs\n",
    "        ----------\n",
    "        N: This is just the row that I want to use when looking at the AAS_TABLE\n",
    "        m_min: Minimum mass I want to consider. This should be in Jupiter Masses.\n",
    "        \n",
    "        Output\n",
    "        ----------\n",
    "        List of the physical paramiters randomly made from the companion star. \n",
    "        \"\"\"\n",
    "        M = self.AAS_TABLE['ISO_MEANM'][N]*u.solMass\n",
    "        #Make the fake companion that we want orbiting our primary star\n",
    "        m_buddy = np.random.uniform(m_min, M.to(u.jupiterMass).value)*u.jupiterMass #For reference the 1 solMas = 1047 jupMas\n",
    "        #P_buddy = np.random.uniform(12,1000)*u.d\n",
    "        P_buddy = np.random.lognormal(5.03,2.28)*u.d\n",
    "        \n",
    "        if P_buddy.value < 12:\n",
    "            e_buddy = 0*u.one\n",
    "        else:\n",
    "            e_buddy = np.random.uniform(0, 0.93)*u.one\n",
    "        n_foo = (2 * np.pi) / P_buddy\n",
    "        \n",
    "        a_buddy = np.cbrt(( (G*(M + m_buddy)) / (4*np.pi**2) ) * P_buddy**2 )\n",
    "        a_buddy = a_buddy.to(u.AU)\n",
    "        \n",
    "        # Also need some angles of the orbit that we would see. \n",
    "        i_buddy = np.random.uniform(0, np.pi)*u.rad\n",
    "        \n",
    "         #These are some phase angles that depend on when we first see it.\n",
    "        w_buddy = np.random.uniform(0, 2*np.pi)*u.rad\n",
    "        phi_buddy = np.random.uniform(0, 2*np.pi)*u.rad\n",
    "\n",
    "        #Make sure the closest point of the orbit isn't so close that we have to worry about title effects. \n",
    "        r_peri = (1-e_buddy)*a_buddy\n",
    "        r_peri = r_peri.to(u.solRad)\n",
    "        \n",
    "        #If the orbit is so close that we would have to consider title effects then we want to pick a different\n",
    "        #set of orbital paramiters.\n",
    "        in_case_of_emergency = 0 #Variable that will get us out of the loop if we're stuck forever\n",
    "        while r_peri.value < 5*self.AAS_TABLE['ISO_MEANR'][N]:\n",
    "\n",
    "            m_buddy = np.random.uniform(m_min, M.to(u.jupiterMass).value)*u.jupiterMass \n",
    "            P_buddy = np.random.uniform(12,1000)*u.d\n",
    "            #P_buddy = np.random.lognormal(5.03,2.28)*u.d\n",
    "            if P_buddy.value < 12:\n",
    "                e_buddy = 0*u.one\n",
    "            else:\n",
    "                e_buddy = np.random.uniform(0,.93)*u.one\n",
    "            n = (2*np.pi) / P_buddy\n",
    "\n",
    "            #From those paramiters we can use keplers law to find the semi-major axis\n",
    "            a_buddy = np.cbrt(( (G*(M + m_buddy)) / (4*np.pi**2) ) * P_buddy**2 )\n",
    "            a_buddy = a_buddy.to(u.AU)\n",
    "\n",
    "            # Also need some angles of the orbit that we would see. \n",
    "            i_buddy = np.random.uniform(0, np.pi)*u.rad\n",
    "\n",
    "            #These are some phase angles that depend on when we first see it.\n",
    "            w_buddy = np.random.uniform(0, 2*np.pi)*u.rad\n",
    "            phi_buddy = np.random.uniform(0, 2*np.pi)*u.rad\n",
    "            #Make sure the closest point of the orbit isn't so close that we have to worry about title effects. \n",
    "            r_peri = (1-e_buddy)*a_buddy\n",
    "            r_peri = r_peri.to(u.solRad)\n",
    "            in_case_of_emergency += 1\n",
    "            if in_case_of_emergency > 9:\n",
    "                print(\"You got stuck!\")\n",
    "                break\n",
    "        # Now I can find the \"K\" paramiter based on these values. \n",
    "        K_buddy = (m_buddy / (M + m_buddy)) * (n_foo * a_buddy * np.sin(i_buddy)) / np.sqrt(1-e_buddy**2)\n",
    "        K_buddy = K_buddy.to(u.km / u.s)\n",
    "        foo_list = [m_buddy, e_buddy, P_buddy, a_buddy, i_buddy, w_buddy,\n",
    "                   phi_buddy, K_buddy, self.AAS_TABLE['APOGEE_ID'][N]]\n",
    "        \n",
    "        return foo_list\n",
    "    \n",
    "    def buddy_table(self, buddy_array):\n",
    "        \"\"\"\n",
    "        Takes the output from buddy_values and turns it into an astropy table. The goal is to have a table of\n",
    "        values from the simulations. Some of \n",
    "        \"\"\"\n",
    "        Foo_Table = Table([[False], [buddy_array[0].value], [buddy_array[1].value], [buddy_array[2].value], [buddy_array[3].value], \n",
    "                           [buddy_array[4].value], [buddy_array[5].value], [buddy_array[6].value], [buddy_array[7].value],\n",
    "                           [0], [buddy_array[8]]],\n",
    "                          names = ('Binary','m','e','P','a','i','w','phi','K','P-value','APOGEE_ID'),\n",
    "                          dtype=('b','f8','f8','f8','f8','f8','f8','f8','f8','f8','str'))\n",
    "        return Foo_Table\n",
    "\n",
    "        \n",
    "    def fake_rv_binary(self, N, m_min, jitter):\n",
    "        \"\"\"\n",
    "        After I have a set of paramiters form the buddy_values I want to make a fake Radial Velocity Measurment\n",
    "        based on those values and the Primary Stars Values.\n",
    "        \"\"\"\n",
    "        buddy_list = self.buddy_values(N,m_min)\n",
    "        Date = self.AAS_TABLE['RADIAL_DATE'][N]\n",
    "        \n",
    "        if jitter:\n",
    "            jitter_value = 2*0.015**(1/3*self.AAS_TABLE[\"LOGG\"][N])\n",
    "            err = (np.sqrt(self.AAS_TABLE['RADIAL_ERR'][N]**2 + jitter_value**2) )*u.km/u.s\n",
    "        else:\n",
    "            err = self.AAS_TABLE['RADIAL_ERR'][N]*u.km/u.s\n",
    "        # This is some stuff that cy_rv_from_elements needs for it's time input. Not sure why but it doens't\n",
    "        #work without these few lines. i.e. DO NOT TOUCH!\n",
    "        t_buddy = Time(Date, format = 'mjd')\n",
    "\n",
    "        t_buddy = t_buddy.tcb.mjd\n",
    "\n",
    "        procb = ArrayProcessor(t_buddy)\n",
    "\n",
    "        t_buddy, = procb.prepare_arrays()\n",
    "\n",
    "        td0 = t_buddy[0]\n",
    "\n",
    "        td0 = Time(td0, format = 'mjd')\n",
    "        \n",
    "        #Makes the observed radial velocity in the binaries Barrycenter.\n",
    "        rv_buddy = cy_rv_from_elements(t_buddy, buddy_list[2].to(u.day).value, 1. , buddy_list[1].value, buddy_list[5].value,\n",
    "                                         buddy_list[6].value, td0.tcb.mjd, \n",
    "                                         anomaly_tol = 1E-10, anomaly_maxiter = 128)\n",
    "        \n",
    "        #Then we move the velocity to be in our reference frame. The extra added term at the end is to simulate\n",
    "        #the fact that we wont observ the actual velocity every measurement will be off from the real value. \n",
    "        rv_buddy = (buddy_list[7] * rv_buddy + self.AAS_TABLE['VHELIO_AVG'][N] * u.km/ u.s)\n",
    "        + np.random.normal(0, self.AAS_TABLE['VERR'][N], size = len(rv_buddy)) * u.km/u.s\n",
    "        \n",
    "        return rv_buddy, err, buddy_list\n",
    "    \n",
    "    def chi_sq_mean(self, RV, err, reduce):\n",
    "        \"\"\"\n",
    "        I want to fit some radial velocity measurments to a strait line of the average value. The logic goes \n",
    "        that if the strait line fits the data well, then it's a single star floating in space. If a strait line \n",
    "        fits the data poorly then there should be something there causing the deviation from the mean. \n",
    "        \n",
    "        Inputs\n",
    "        ----------\n",
    "        RV: Radial velocity values\n",
    "        err: the error in those radial velocity values\n",
    "        reduce: boolian if I want to find the reduced chi squared or not. Only applicable if there are more data \n",
    "                points than paramiters. \n",
    "        \"\"\"\n",
    "        chi_sq_value = np.sum((RV - np.mean(RV))**2 / (err)**2)\n",
    "        if reduce:\n",
    "            return chi_sq_value / (len(RV) - 1)\n",
    "        else:\n",
    "            return chi_sq_value\n",
    "    def fake_binary_detection(self, N, m_min, jitter, reduce):\n",
    "        \"\"\"\n",
    "        Uses the chi_sq_value to then find the P-Value then set the variable Binary in buddy table to be True\n",
    "        or False depending on the threshold we set. \n",
    "        \"\"\"\n",
    "        #First call the fake_rv function\n",
    "        f_radial_velocity, f_err, bud_list = self.fake_rv_binary(N, m_min, jitter)\n",
    "        #Find the chi^2 for the fake rv values\n",
    "        chi_squared = self.chi_sq_mean(f_radial_velocity, f_err, reduce)\n",
    "        #Find the p-value from that chi^2\n",
    "        p_value = 1 - chi2.cdf(chi_squared, len(f_radial_velocity) - 1)\n",
    "        #print(chi_squared, p_value)\n",
    "        #Make the buddy table\n",
    "        bud_table = self.buddy_table(bud_list)\n",
    "        #Set the 'P-value' in the buddy table\n",
    "        bud_table['P-value'] = p_value\n",
    "        #Check if it's a binary or not.\n",
    "        if p_value < 0.05:\n",
    "            f_binary = True\n",
    "        else:\n",
    "            f_binary = False\n",
    "        #Put the result in the table\n",
    "        bud_table['Binary'] = f_binary\n",
    "        \"\"\"\n",
    "        date = self.AAS_TABLE['RADIAL_DATE'][N]\n",
    "        RV = f_radial_velocity\n",
    "        data = RVData(t = date, rv = RV, stddev= f_err)\n",
    "        data.plot()\n",
    "        plt.title(p_value)\n",
    "        plt.show()\n",
    "        plt.close()\n",
    "        \"\"\"\n",
    "        return f_radial_velocity, f_err, bud_table\n",
    "    \n",
    "    \"\"\"\n",
    "    Need the same thing but this time with no buddy, assumes a single star with error and decided if it's in a binary or not\n",
    "    \"\"\"\n",
    "    def fake_solo_detection(self,N, m_min, jitter, reduce):\n",
    "        jitter = 2*0.015**(1/3*self.AAS_TABLE[\"LOGG\"][N])\n",
    "        #Make some fake solo RV measurments\n",
    "        solo_RV = np.random.normal(self.AAS_TABLE['VHELIO_AVG'][N], self.AAS_TABLE['VERR'][N] ,size = len(self.AAS_TABLE[\"RADIALV\"][N]))\n",
    "        #Keep the real ovserved error\n",
    "        solo_err = np.sqrt(self.AAS_TABLE['RADIAL_ERR'][N]**2+jitter**2)\n",
    "        #Don't think I need the date, but my old stuff has it so I'm keeping it\n",
    "        Date = self.AAS_TABLE['RADIAL_DATE'][N]\n",
    "        #Finds the chi_squared and p-value\n",
    "        solo_chi_squared = self.chi_sq_mean(solo_RV, solo_err, reduce)\n",
    "        p_value = 1 - chi2.cdf(solo_chi_squared, len(solo_RV) - 1)\n",
    "        #Check if it's a binary or not.\n",
    "        if p_value < 0.05:\n",
    "            solo_binary = True\n",
    "        else:\n",
    "            solo_binary = False\n",
    "        return p_value, solo_binary\n",
    "    \n",
    "    \"\"\"\n",
    "    Time to put it all together\n",
    "    \"\"\"\n",
    "    \n",
    "    def binary_or_not(self, N, m_min, jitter, reduce, b_fraction):\n",
    "            \"\"\"\n",
    "            Picks a random number and if it's below b_fraction then we run fake_binary_detection\n",
    "            if it's larger than b_fraction then we run fake_solo_detection. Returns the P-value and\n",
    "            the boolian 'Binary' for each run\n",
    "            \"\"\"\n",
    "            #Pick a random number between 0 and 1. \n",
    "            foo_random_number = np.random.uniform()\n",
    "            if foo_random_number < b_fraction:\n",
    "                foo_rv, foo_err, foo_table = self.fake_binary_detection(N,m_min, jitter, reduce)\n",
    "                return foo_table['P-value'], foo_table['Binary']\n",
    "            else:\n",
    "                foo_pvalue, foo_binary = self.fake_solo_detection(N,m_min, jitter, reduce)\n",
    "                return foo_pvalue, foo_binary\n",
    "            \n",
    "            \n",
    "    def Master(self,m_min,jitter, reduce, b_fraction,loop):\n",
    "        \"\"\"\n",
    "        Should just have to run this to get the detection rate for different binary fractions at the end of the day.\n",
    "        \"\"\"\n",
    "        foo_exit = 0\n",
    "        pvalue_list = []\n",
    "        binary_bool_list = []\n",
    "        while foo_exit < loop:\n",
    "            for N in range(len(self.AAS_TABLE)):\n",
    "                p_value, bool_binary = self.binary_or_not(N, m_min, jitter, reduce, b_fraction)\n",
    "                pvalue_list.append(p_value)\n",
    "                binary_bool_list.append(bool_binary)\n",
    "            foo_exit += 1\n",
    "        return pvalue_list, binary_bool_list\n",
    "    \n",
    "    def Real_Data_Fraction(self):\n",
    "        foo_check = []\n",
    "        rd_p_value_array = []\n",
    "        rd_Binary_array = []\n",
    "        for K in range(len(self.AAS_TABLE)):\n",
    "            rd_rv = self.AAS_TABLE['RADIALV'][K]\n",
    "            rd_err = self.AAS_TABLE['RADIAL_ERR'][K]\n",
    "            rd_jitter = 2*0.015**(1/3*self.AAS_TABLE[\"LOGG\"][K])\n",
    "            rd_err = np.sqrt(rd_err**2 + rd_jitter**2)\n",
    "            rd_chi_squared = self.chi_sq_mean(rd_rv, rd_err, True)\n",
    "            rd_p_value = 1 - chi2.cdf(rd_chi_squared, len(rd_rv)-1)\n",
    "            rd_p_value_array.append(rd_p_value)\n",
    "        for i in rd_p_value_array:\n",
    "            if i < 0.05:\n",
    "                rd_Binary_array.append(True)\n",
    "            else:\n",
    "                rd_Binary_array.append(False)\n",
    "        return rd_p_value_array, rd_Binary_array"
   ]
  },
  {
   "cell_type": "code",
   "execution_count": 48,
   "metadata": {},
   "outputs": [],
   "source": [
    "%run Binary_Fraction.py\n",
    "import warnings\n",
    "import matplotlib.pyplot as plt\n",
    "warnings.filterwarnings('ignore')"
   ]
  },
  {
   "cell_type": "code",
   "execution_count": 49,
   "metadata": {},
   "outputs": [],
   "source": [
    "thing_LMC = Binary_Fraction(AllAvg_LMC_RV)\n",
    "thing_SMC = Binary_Fraction(AllAvg_SMC_RV)"
   ]
  },
  {
   "cell_type": "code",
   "execution_count": 27,
   "metadata": {
    "scrolled": false
   },
   "outputs": [],
   "source": [
    "b_frac = np.linspace(0, 1, 4)\n",
    "detection_rate_LMC_200_UP = []\n",
    "for i in b_frac:\n",
    "    p_value_result_LMC_200_UP, binary_result_LMC_200_UP = thing_LMC.Master(200, True, False, i, 10)\n",
    "    detection_rate_LMC_200_UP.append(np.count_nonzero(binary_result_LMC_200_UP)/len(binary_result_LMC_200_UP))"
   ]
  },
  {
   "cell_type": "code",
   "execution_count": 29,
   "metadata": {},
   "outputs": [],
   "source": [
    "detection_rate_SMC_200_UP = []\n",
    "for i in b_frac:\n",
    "    p_value_result_SMC_200_UP, binary_result_SMC_200_UP = thing_SMC.Master(200, True, False, i, 10)\n",
    "    detection_rate_SMC_200_UP.append(np.count_nonzero(binary_result_SMC_200_UP)/len(binary_result_SMC_200_UP))"
   ]
  },
  {
   "cell_type": "code",
   "execution_count": 41,
   "metadata": {},
   "outputs": [],
   "source": [
    "real_data_detection_LMC, binary_bool_LMC = thing_LMC.Real_Data_Fraction()\n",
    "real_data_detection_SMC, binary_bool_SMC = thing_SMC.Real_Data_Fraction()\n",
    "LMC_binary_detection = np.count_nonzero(real_data_detection_LMC)/len(real_data_detection_LMC)\n",
    "SMC_binary_detection = np.count_nonzero(real_data_detection_SMC)/len(real_data_detection_SMC)"
   ]
  },
  {
   "cell_type": "code",
   "execution_count": 40,
   "metadata": {},
   "outputs": [
    {
     "data": {
      "image/png": "[encoded data removed]",
      "text/plain": [
       "<Figure size 720x720 with 1 Axes>"
      ]
     },
     "metadata": {},
     "output_type": "display_data"
    }
   ],
   "source": [
    "plt.figure(figsize = (10,10))\n",
    "plt.plot(b_frac, detection_rate_LMC_200_UP,'.-', color = 'C0', label = 'LMC')\n",
    "plt.hlines(LMC_binary_detection, 0 ,1, color = 'C0', linestyles='dashed', label = 'LMC Data')\n",
    "plt.plot(b_frac, detection_rate_SMC_200_UP, '.-', color = 'C1', label = 'SMC')\n",
    "plt.hlines(SMC_binary_detection, 0 ,1, color = 'C1', linestyles='dashed', label = 'SMC Data')\n",
    "plt.xlabel('Binary Fraction', size = 18)\n",
    "plt.ylabel('Detection Rate', size = 18)\n",
    "plt.title('$m_{min} = 200$, Uniform Period 12,1000', size = 18)\n",
    "plt.legend(prop = {'size': 20})\n",
    "plt.show()"
   ]
  },
  {
   "cell_type": "code",
   "execution_count": 42,
   "metadata": {},
   "outputs": [],
   "source": [
    "b_frac = np.linspace(0, 1, 4)\n",
    "detection_rate_LMC_30_UP = []\n",
    "for i in b_frac:\n",
    "    p_value_result_LMC_30_UP, binary_result_LMC_30_UP = thing_LMC.Master(30, True, False, i, 10)\n",
    "    detection_rate_LMC_30_UP.append(np.count_nonzero(binary_result_LMC_30_UP)/len(binary_result_LMC_30_UP))\n",
    "    \n",
    "detection_rate_SMC_30_UP = []\n",
    "for i in b_frac:\n",
    "    p_value_result_SMC_30_UP, binary_result_SMC_30_UP = thing_SMC.Master(30, True, False, i, 10)\n",
    "    detection_rate_SMC_30_UP.append(np.count_nonzero(binary_result_SMC_30_UP)/len(binary_result_SMC_30_UP))"
   ]
  },
  {
   "cell_type": "markdown",
   "metadata": {},
   "source": [
    "Now I have my synthetic detection rates. I want to do the same detection process but with the real data to see where they intersect."
   ]
  },
  {
   "cell_type": "code",
   "execution_count": 44,
   "metadata": {},
   "outputs": [
    {
     "data": {
      "image/png": "[encoded data removed]",
      "text/plain": [
       "<Figure size 720x720 with 1 Axes>"
      ]
     },
     "metadata": {},
     "output_type": "display_data"
    }
   ],
   "source": [
    "plt.figure(figsize = (10,10))\n",
    "plt.plot(b_frac, detection_rate_LMC_30_UP,'.-', color = 'C0', label = 'LMC')\n",
    "plt.hlines(LMC_binary_detection, 0 ,1, color = 'C0', linestyles='dashed', label = 'LMC Data')\n",
    "plt.plot(b_frac, detection_rate_SMC_30_UP, '.-', color = 'C1', label = 'SMC')\n",
    "plt.hlines(SMC_binary_detection, 0 ,1, color = 'C1', linestyles='dashed', label = 'SMC Data')\n",
    "plt.xlabel('Binary Fraction', size = 18)\n",
    "plt.ylabel('Detection Rate', size = 18)\n",
    "plt.title('$m_{min} = 30$, Uniform Period 12,1000', size = 18)\n",
    "plt.legend(prop = {'size': 20})\n",
    "plt.show()"
   ]
  },
  {
   "cell_type": "code",
   "execution_count": null,
   "metadata": {},
   "outputs": [],
   "source": [
    "b_frac = np.linspace(0, 1, 4)\n",
    "detection_rate_LMC_30_LNP = []\n",
    "for i in b_frac:\n",
    "    p_value_result_LMC_30_LNP, binary_result_LMC_30_LNP = thing_LMC.Master(30, True, False, i, 10)\n",
    "    detection_rate_LMC_30_LNP.append(np.count_nonzero(binary_result_LMC_30_LNP)/len(binary_result_LMC_30_LNP))\n",
    "    \n",
    "detection_rate_SMC_30_LNP = []\n",
    "for i in b_frac:\n",
    "    p_value_result_SMC_30_LNP, binary_result_SMC_30_LNP = thing_SMC.Master(30, True, False, i, 10)\n",
    "    detection_rate_SMC_30_LNP.append(np.count_nonzero(binary_result_SMC_30_LNP)/len(binary_result_SMC_30_LNP))"
   ]
  },
  {
   "cell_type": "code",
   "execution_count": 46,
   "metadata": {},
   "outputs": [
    {
     "data": {
      "text/plain": [
       "[0.09184168012924071,\n",
       " 0.28852988691437803,\n",
       " 0.47802907915993537,\n",
       " 0.677140549273021]"
      ]
     },
     "execution_count": 46,
     "metadata": {},
     "output_type": "execute_result"
    }
   ],
   "source": [
    "detection_rate_LMC_200_UP"
   ]
  },
  {
   "cell_type": "code",
   "execution_count": 6,
   "metadata": {},
   "outputs": [
    {
     "ename": "NameError",
     "evalue": "name 'thing2' is not defined",
     "output_type": "error",
     "traceback": [
      "\u001b[0;31m---------------------------------------------------------------------------\u001b[0m",
      "\u001b[0;31mNameError\u001b[0m                                 Traceback (most recent call last)",
      "\u001b[0;32m<ipython-input-6-6071f304092f>\u001b[0m in \u001b[0;36m<module>\u001b[0;34m()\u001b[0m\n\u001b[0;32m----> 1\u001b[0;31m \u001b[0mthing2\u001b[0m\u001b[0;34m\u001b[0m\u001b[0m\n\u001b[0m",
      "\u001b[0;31mNameError\u001b[0m: name 'thing2' is not defined"
     ]
    }
   ],
   "source": [
    "thing2"
   ]
  },
  {
   "cell_type": "code",
   "execution_count": null,
   "metadata": {},
   "outputs": [],
   "source": []
  }
 ],
 "metadata": {
  "kernelspec": {
   "display_name": "Python 3",
   "language": "python",
   "name": "python3"
  },
  "language_info": {
   "codemirror_mode": {
    "name": "ipython",
    "version": 3
   },
   "file_extension": ".py",
   "mimetype": "text/x-python",
   "name": "python",
   "nbconvert_exporter": "python",
   "pygments_lexer": "ipython3",
   "version": "3.6.6"
  }
 },
 "nbformat": 4,
 "nbformat_minor": 2
}
