{
 "cells": [
  {
   "cell_type": "code",
   "execution_count": 1,
   "metadata": {},
   "outputs": [
    {
     "data": {
      "text/plain": [
       "\" Author: Cody Brown\\n    Date:  February 24, 2018\\n    Purpose: Take in a fits file and remove data that isn't needed for Binary Search. \\n             Mainly I will remove any objects that weren't seen at least 5 times. Then I'll\\n             remove any observations that returned any 'nan' or any non physical values.\""
      ]
     },
     "execution_count": 1,
     "metadata": {},
     "output_type": "execute_result"
    }
   ],
   "source": [
    "\"\"\" Author: Cody Brown\n",
    "    Date:  February 24, 2018\n",
    "    Purpose: Take in a fits file and remove data that isn't needed for Binary Search. \n",
    "             Mainly I will remove any objects that weren't seen at least 5 times. Then I'll\n",
    "             remove any observations that returned any 'nan' or any non physical values.\"\"\""
   ]
  },
  {
   "cell_type": "code",
   "execution_count": 5,
   "metadata": {},
   "outputs": [],
   "source": [
    "# Loading helpfull librarries\n",
    "from astropy.io import fits\n",
    "from astropy.table import Table\n",
    "\n",
    "import numpy as np\n",
    "import matplotlib.pyplot as plt\n",
    "\n",
    "# Import the data and set it as two Tables, AllAverage just looks at the average measurments for each object\n",
    "# AllVisit is the data from each individual pass at the object.\n",
    "AllAverage = Table(fits.getdata('/home/cody/Binary Search/allMC.avg.nocut.fits',1))\n",
    "AllVisit   = Table(fits.getdata('/home/cody/Binary Search/allVisit-t9-l31c-58104.mc.fits',1))\n",
    "\n",
    "# Now I want to make an array of APOGEE_ID, NVISITS, VSCATTER, STABLERV_CHI2, STABLERV_CHI2_PROB, VHELIO_AVG values,\n",
    "AllAvgSimp = AllAverage\n",
    "# Now that I have a table with only the columns I want, I would like to get rid of any row that has less than 5 visits,\n",
    "# First I'll make an array of the rows where NVISITS is less than 5\n",
    "aRowsRemove = []\n",
    "for n in range(len(AllAvgSimp)):\n",
    "    if AllAvgSimp['NVISITS'][n] < 5:\n",
    "        aRowsRemove.append(n)\n",
    "aRowsRemove  # This is a list of all the rows I want to remove from AllAvgSimp\n",
    "\n",
    "AllAvgSimp.remove_rows(aRowsRemove) # Now I want to cut out those rows\n"
   ]
  },
  {
   "cell_type": "code",
   "execution_count": 6,
   "metadata": {},
   "outputs": [
    {
     "name": "stdout",
     "output_type": "stream",
     "text": [
      "1376 22100\n"
     ]
    }
   ],
   "source": [
    "print (len(AllAverage), len(AllVisit))"
   ]
  },
  {
   "cell_type": "code",
   "execution_count": 7,
   "metadata": {},
   "outputs": [],
   "source": [
    "holder = []  # Holder array that I will apend the rows I want to keep\n",
    "for n in range(len(AllVisit)):\n",
    "    for m in AllAvgSimp['APOGEE_ID']:\n",
    "        if AllVisit['APOGEE_ID'][n] == m:\n",
    "            holder.append(n)\n",
    "            break"
   ]
  },
  {
   "cell_type": "code",
   "execution_count": 3,
   "metadata": {},
   "outputs": [],
   "source": [
    "# 'holder' should be an array of all the rows in AllVisits, that had at least 5 visits. Now I want to remove\n",
    "# all of the other rows out of AllVisit.\n",
    "remove_AllVisit = []\n",
    "dumby_AllVisit = list(range(0,len(AllVisit))) #List of numbers from 0:len(AllVisit)\n",
    "for x in dumby_AllVisit:\n",
    "    if x not in holder:\n",
    "        remove_AllVisit.append(dumby_AllVisit[x]) #This will give me a list of all the rows I want to remove from AllVisit.\n",
    "        \n",
    "# Now I have an array of rows I want to remove I want to do the same thing that I did for\n",
    "AllVisSimp = AllVisit\n",
    "AllVisSimp.remove_rows(remove_AllVisit)\n",
    "# Next is to remove any points with 'NVISIT' that might be nan.\n",
    "#AllVisSimp = AllVisSimp[np.isfinite(AllVisSimp('VHELIO'))]\n",
    "\n",
    "AllVisSimp = AllVisSimp[np.isfinite(AllVisSimp['VHELIO'])]\n",
    "\n",
    "remove_ToFast = []\n",
    "dumby_ToFast = list(range(0,len(AllVisSimp)))\n",
    "for y in dumby_ToFast:\n",
    "    if AllVisSimp['VHELIO'][y] > 10**4:\n",
    "        remove_ToFast.append(dumby_ToFast[y])\n",
    "        \n",
    "AllVisSimp.remove_rows(remove_ToFast)\n",
    "\n",
    "# Now that I have these simplified tables I'd like to save them so\n",
    "# I don't have to remake them every time.\n",
    "AllVisSimp.write('AllVisSimp.fits', format = 'fits')\n",
    "AllAvgSimp.write('AllAvgSimp.fits', format = 'fits')\n"
   ]
  },
  {
   "cell_type": "code",
   "execution_count": 5,
   "metadata": {},
   "outputs": [
    {
     "data": {
      "text/html": [
       "&lt;Table length=22100&gt;\n",
       "<table id=\"table140057565858560\" class=\"table-striped table-bordered table-condensed\">\n",
       "<thead><tr><th>VISIT_ID</th><th>APRED_VERSION</th><th>APOGEE_ID</th><th>TARGET_ID</th><th>FILE</th><th>FIBERID</th><th>PLATE</th><th>MJD</th><th>TELESCOPE</th><th>SURVEY</th><th>FIELD</th><th>PROGRAMNAME</th><th>LOCATION_ID</th><th>RA</th><th>DEC</th><th>GLON</th><th>GLAT</th><th>J</th><th>J_ERR</th><th>H</th><th>H_ERR</th><th>K</th><th>K_ERR</th><th>RA_TARG</th><th>DEC_TARG</th><th>APOGEE_TARGET1</th><th>APOGEE_TARGET2</th><th>APOGEE_TARGET3</th><th>TARGFLAGS</th><th>SNR</th><th>STARFLAG</th><th>STARFLAGS</th><th>DATEOBS</th><th>JD</th><th>BC</th><th>VTYPE</th><th>VREL</th><th>VRELERR</th><th>VHELIO</th><th>VLSR</th><th>VGSR</th><th>CHISQ</th><th>RV_TEFF</th><th>RV_FEH</th><th>RV_LOGG</th><th>RV_ALPHA</th><th>RV_CARB</th><th>SYNTHFILE</th><th>ESTVTYPE</th><th>ESTVREL</th><th>ESTVRELERR</th><th>ESTVHELIO</th><th>SYNTHVREL</th><th>SYNTHVRELERR</th><th>SYNTHVHELIO</th><th>OBSVREL</th><th>OBSVRELERR</th><th>OBSVHELIO</th><th>APOGEE2_TARGET1</th><th>APOGEE2_TARGET2</th><th>APOGEE2_TARGET3</th><th>COMMISS</th><th>EXTRATARG</th><th>MIN_H</th><th>MAX_H</th><th>MIN_JK</th><th>MAX_JK</th><th>REDUCTION_ID</th><th>SRC_H</th><th>WASH_M</th><th>WASH_M_ERR</th><th>WASH_T2</th><th>WASH_T2_ERR</th><th>DDO51</th><th>DDO51_ERR</th><th>IRAC_3_6</th><th>IRAC_3_6_ERR</th><th>IRAC_4_5</th><th>IRAC_4_5_ERR</th><th>IRAC_5_8</th><th>IRAC_5_8_ERR</th><th>IRAC_8_0</th><th>IRAC_8_0_ERR</th><th>WISE_4_5</th><th>WISE_4_5_ERR</th><th>TARG_4_5</th><th>TARG_4_5_ERR</th><th>AK_TARG</th><th>AK_TARG_METHOD</th><th>AK_WISE</th><th>SFD_EBV</th><th>WASH_DDO51_GIANT_FLAG</th><th>WASH_DDO51_STAR_FLAG</th><th>PMRA</th><th>PMDEC</th><th>PM_SRC</th></tr></thead>\n",
       "<thead><tr><th>str56</th><th>str2</th><th>str18</th><th>str36</th><th>str45</th><th>int16</th><th>str13</th><th>int32</th><th>str6</th><th>str14</th><th>str16</th><th>str18</th><th>int16</th><th>float64</th><th>float64</th><th>float64</th><th>float64</th><th>float32</th><th>float32</th><th>float32</th><th>float32</th><th>float32</th><th>float32</th><th>float64</th><th>float64</th><th>int32</th><th>int32</th><th>int32</th><th>str147</th><th>float32</th><th>int32</th><th>str74</th><th>str23</th><th>float64</th><th>float32</th><th>int16</th><th>float32</th><th>float32</th><th>float32</th><th>float32</th><th>float32</th><th>float32</th><th>float32</th><th>float32</th><th>float32</th><th>float32</th><th>float32</th><th>str23</th><th>int16</th><th>float32</th><th>float32</th><th>float32</th><th>float32</th><th>float32</th><th>float32</th><th>float32</th><th>float32</th><th>float32</th><th>int32</th><th>int32</th><th>int32</th><th>int16</th><th>int16</th><th>float32</th><th>float32</th><th>float32</th><th>float32</th><th>str23</th><th>str14</th><th>float32</th><th>float32</th><th>float32</th><th>float32</th><th>float32</th><th>float32</th><th>float32</th><th>float32</th><th>float32</th><th>float32</th><th>float32</th><th>float32</th><th>float32</th><th>float32</th><th>float32</th><th>float32</th><th>float32</th><th>float32</th><th>float32</th><th>str17</th><th>float32</th><th>float32</th><th>int16</th><th>int16</th><th>float32</th><th>float32</th><th>str20</th></tr></thead>\n",
       "<tr><td>apogee.lco25m.s.t9.10123.58089.99</td><td>t9</td><td>2M00034301-7717269</td><td>SMC1.2M00034301-7717269</td><td>asVisit-t9-10123-58089-099.fits</td><td>99</td><td>10123</td><td>58089</td><td>lco25m</td><td>apogee2s</td><td>SMC1</td><td>magclouds</td><td>5521</td><td>0.929224</td><td>-77.290833</td><td>306.3119767745385</td><td>-39.5225249603948</td><td>11.12</td><td>0.024</td><td>10.853</td><td>0.024</td><td>10.844</td><td>0.023</td><td>0.0</td><td>0.0</td><td>0</td><td>0</td><td>0</td><td>APOGEE2_NO_DERED,APOGEE2_TELLURIC</td><td>31.2753</td><td>0</td><td></td><td>2017-12-02T00:10:10.503</td><td>2458089.53025</td><td>-10.138256</td><td>4</td><td>12.981746</td><td>0.06439533</td><td>2.8434896</td><td>-0.41470736</td><td>-137.16165</td><td>1.4803312</td><td>5500.0</td><td>-0.5</td><td>4.0</td><td>0.0</td><td>0.0</td><td>apg_rvsynthgrid_v2.fits</td><td>2</td><td>12.29194</td><td>0.09590278</td><td>2.1536834</td><td>13.192202</td><td>0.07968546</td><td>3.0539455</td><td>12.981746</td><td>0.06439533</td><td>2.8434896</td><td>-2147483584</td><td>-2147483136</td><td>0</td><td>0</td><td>4</td><td>-9999.0</td><td>9999.0</td><td>-9999.0</td><td>9999.0</td><td>2M00034301-7717269</td><td>2MASS</td><td>-9999.99</td><td>-9999.99</td><td>-9999.99</td><td>-9999.99</td><td>-9999.99</td><td>-9999.99</td><td>-9999.99</td><td>-9999.99</td><td>-9999.99</td><td>-9999.99</td><td>-9999.99</td><td>-9999.99</td><td>-9999.99</td><td>-9999.99</td><td>10.813</td><td>0.02</td><td>-9999.99</td><td>-9999.99</td><td>0.015576529</td><td>SFD</td><td>-0.009180035</td><td>0.051577915</td><td>-1</td><td>1</td><td>7.7</td><td>-1.0</td><td>NOMAD</td></tr>\n",
       "<tr><td>apogee.lco25m.s.t9.10123.58092.100</td><td>t9</td><td>2M00034301-7717269</td><td>SMC1.2M00034301-7717269</td><td>asVisit-t9-10123-58092-100.fits</td><td>100</td><td>10123</td><td>58092</td><td>lco25m</td><td>apogee2s</td><td>SMC1</td><td>magclouds</td><td>5521</td><td>0.929224</td><td>-77.290833</td><td>306.3119767745385</td><td>-39.5225249603948</td><td>11.12</td><td>0.024</td><td>10.853</td><td>0.024</td><td>10.844</td><td>0.023</td><td>0.0</td><td>0.0</td><td>0</td><td>0</td><td>0</td><td>APOGEE2_NO_DERED,APOGEE2_TELLURIC</td><td>18.9728</td><td>0</td><td></td><td>2017-12-05T00:26:02.177</td><td>2458092.52387</td><td>-9.677409</td><td>4</td><td>12.486766</td><td>0.12203417</td><td>2.8093567</td><td>-0.44884032</td><td>-137.19579</td><td>1.5045376</td><td>5500.0</td><td>-0.5</td><td>4.0</td><td>0.0</td><td>0.0</td><td>apg_rvsynthgrid_v2.fits</td><td>2</td><td>12.378583</td><td>0.1733652</td><td>2.7011738</td><td>12.5124655</td><td>0.13104624</td><td>2.8350563</td><td>12.486766</td><td>0.12203417</td><td>2.8093567</td><td>-2147483584</td><td>-2147483136</td><td>0</td><td>0</td><td>4</td><td>-9999.0</td><td>9999.0</td><td>-9999.0</td><td>9999.0</td><td>2M00034301-7717269</td><td>2MASS</td><td>-9999.99</td><td>-9999.99</td><td>-9999.99</td><td>-9999.99</td><td>-9999.99</td><td>-9999.99</td><td>-9999.99</td><td>-9999.99</td><td>-9999.99</td><td>-9999.99</td><td>-9999.99</td><td>-9999.99</td><td>-9999.99</td><td>-9999.99</td><td>10.813</td><td>0.02</td><td>-9999.99</td><td>-9999.99</td><td>0.015576529</td><td>SFD</td><td>-0.009180035</td><td>0.051577915</td><td>-1</td><td>1</td><td>7.7</td><td>-1.0</td><td>NOMAD</td></tr>\n",
       "<tr><td>apogee.lco25m.s.t9.10123.58089.146</td><td>t9</td><td>2M00034350-7705554</td><td>SMC1.2M00034350-7705554</td><td>asVisit-t9-10123-58089-146.fits</td><td>146</td><td>10123</td><td>58089</td><td>lco25m</td><td>apogee2s</td><td>SMC1</td><td>magclouds</td><td>5521</td><td>0.931278</td><td>-77.098732</td><td>306.3709557525501</td><td>-39.70917637418822</td><td>14.209</td><td>0.027</td><td>13.765</td><td>0.03</td><td>13.628</td><td>0.038</td><td>0.0</td><td>0.0</td><td>0</td><td>0</td><td>0</td><td>APOGEE2_WASH_GIANT,APOGEE2_MAGCLOUD_CANDIDATE</td><td>6.86382</td><td>0</td><td></td><td>2017-12-02T00:10:10.503</td><td>2458089.53025</td><td>-10.227091</td><td>4</td><td>24.286062</td><td>0.060671214</td><td>14.058971</td><td>10.788111</td><td>-125.48735</td><td>1.3785712</td><td>6250.0</td><td>0.5</td><td>5.0</td><td>0.0</td><td>0.0</td><td>apg_rvsynthgrid_v2.fits</td><td>2</td><td>24.337128</td><td>0.37715027</td><td>14.110037</td><td>23.72126</td><td>0.34756625</td><td>13.494169</td><td>24.286062</td><td>0.060671214</td><td>14.058971</td><td>-2139094912</td><td>0</td><td>0</td><td>0</td><td>1</td><td>-9999.0</td><td>9999.0</td><td>-9999.0</td><td>9999.0</td><td>2M00034350-7705554</td><td>2MASS</td><td>-9999.99</td><td>-9999.99</td><td>-9999.99</td><td>-9999.99</td><td>-9999.99</td><td>-9999.99</td><td>-9999.99</td><td>-9999.99</td><td>-9999.99</td><td>-9999.99</td><td>-9999.99</td><td>-9999.99</td><td>-9999.99</td><td>-9999.99</td><td>13.754</td><td>0.03</td><td>-9999.99</td><td>-9999.99</td><td>0.015982343</td><td>SFD</td><td>-0.035801418</td><td>0.052921668</td><td>-1</td><td>1</td><td>10.1</td><td>-6.0</td><td>HSOY</td></tr>\n",
       "<tr><td>apogee.lco25m.s.t9.10123.58092.134</td><td>t9</td><td>2M00034350-7705554</td><td>SMC1.2M00034350-7705554</td><td>asVisit-t9-10123-58092-134.fits</td><td>134</td><td>10123</td><td>58092</td><td>lco25m</td><td>apogee2s</td><td>SMC1</td><td>magclouds</td><td>5521</td><td>0.931278</td><td>-77.098732</td><td>306.3709557525501</td><td>-39.70917637418822</td><td>14.209</td><td>0.027</td><td>13.765</td><td>0.03</td><td>13.628</td><td>0.038</td><td>0.0</td><td>0.0</td><td>0</td><td>0</td><td>0</td><td>APOGEE2_WASH_GIANT,APOGEE2_MAGCLOUD_CANDIDATE</td><td>4.26526</td><td>16</td><td>LOW_SNR</td><td>2017-12-05T00:26:02.177</td><td>2458092.52387</td><td>-9.768423</td><td>4</td><td>24.203655</td><td>0.11441417</td><td>14.435232</td><td>11.1643715</td><td>-125.11109</td><td>1.2795132</td><td>6250.0</td><td>0.5</td><td>5.0</td><td>0.0</td><td>0.0</td><td>apg_rvsynthgrid_v2.fits</td><td>2</td><td>24.051487</td><td>0.4580055</td><td>14.283064</td><td>23.781635</td><td>0.5787433</td><td>14.013212</td><td>24.203655</td><td>0.11441417</td><td>14.435232</td><td>-2139094912</td><td>0</td><td>0</td><td>0</td><td>1</td><td>-9999.0</td><td>9999.0</td><td>-9999.0</td><td>9999.0</td><td>2M00034350-7705554</td><td>2MASS</td><td>-9999.99</td><td>-9999.99</td><td>-9999.99</td><td>-9999.99</td><td>-9999.99</td><td>-9999.99</td><td>-9999.99</td><td>-9999.99</td><td>-9999.99</td><td>-9999.99</td><td>-9999.99</td><td>-9999.99</td><td>-9999.99</td><td>-9999.99</td><td>13.754</td><td>0.03</td><td>-9999.99</td><td>-9999.99</td><td>0.015982343</td><td>SFD</td><td>-0.035801418</td><td>0.052921668</td><td>-1</td><td>1</td><td>10.1</td><td>-6.0</td><td>HSOY</td></tr>\n",
       "<tr><td>apogee.lco25m.s.t9.10123.58089.147</td><td>t9</td><td>2M00034528-7700350</td><td>SMC1.2M00034528-7700350</td><td>asVisit-t9-10123-58089-147.fits</td><td>147</td><td>10123</td><td>58089</td><td>lco25m</td><td>apogee2s</td><td>SMC1</td><td>magclouds</td><td>5521</td><td>0.938669</td><td>-77.009727</td><td>306.3965556826073</td><td>-39.79599447609552</td><td>14.432</td><td>0.029</td><td>13.667</td><td>0.026</td><td>13.475</td><td>0.038</td><td>0.0</td><td>0.0</td><td>0</td><td>0</td><td>0</td><td>APOGEE2_WASH_GIANT,APOGEE2_MAGCLOUD_CANDIDATE</td><td>7.16041</td><td>0</td><td></td><td>2017-12-02T00:10:10.503</td><td>2458089.53025</td><td>-10.267953</td><td>5</td><td>-129.63268</td><td>0.18341005</td><td>-139.90063</td><td>-143.17767</td><td>-279.2367</td><td>1.3674891</td><td>4000.0</td><td>-0.5</td><td>2.0</td><td>0.0</td><td>0.0</td><td>apg_rvsynthgrid_v2.fits</td><td>2</td><td>-129.75504</td><td>0.21020535</td><td>-140.023</td><td>-129.63268</td><td>0.18341005</td><td>-139.90063</td><td>-130.24663</td><td>0.06504113</td><td>-140.51459</td><td>-2139094912</td><td>0</td><td>0</td><td>0</td><td>1</td><td>-9999.0</td><td>9999.0</td><td>-9999.0</td><td>9999.0</td><td>2M00034528-7700350</td><td>2MASS</td><td>-9999.99</td><td>-9999.99</td><td>-9999.99</td><td>-9999.99</td><td>-9999.99</td><td>-9999.99</td><td>-9999.99</td><td>-9999.99</td><td>-9999.99</td><td>-9999.99</td><td>-9999.99</td><td>-9999.99</td><td>-9999.99</td><td>-9999.99</td><td>13.584</td><td>0.028</td><td>-9999.99</td><td>-9999.99</td><td>0.016451977</td><td>SFD</td><td>0.030294167</td><td>0.054476745</td><td>-1</td><td>1</td><td>2.2</td><td>-1.5</td><td>HSOY</td></tr>\n",
       "<tr><td>apogee.lco25m.s.t9.10123.58092.135</td><td>t9</td><td>2M00034528-7700350</td><td>SMC1.2M00034528-7700350</td><td>asVisit-t9-10123-58092-135.fits</td><td>135</td><td>10123</td><td>58092</td><td>lco25m</td><td>apogee2s</td><td>SMC1</td><td>magclouds</td><td>5521</td><td>0.938669</td><td>-77.009727</td><td>306.3965556826073</td><td>-39.79599447609552</td><td>14.432</td><td>0.029</td><td>13.667</td><td>0.026</td><td>13.475</td><td>0.038</td><td>0.0</td><td>0.0</td><td>0</td><td>0</td><td>0</td><td>APOGEE2_WASH_GIANT,APOGEE2_MAGCLOUD_CANDIDATE</td><td>4.82317</td><td>16</td><td>LOW_SNR</td><td>2017-12-05T00:26:02.177</td><td>2458092.52387</td><td>-9.810332</td><td>5</td><td>-129.65274</td><td>0.32508445</td><td>-139.46307</td><td>-142.74011</td><td>-278.79913</td><td>1.3410211</td><td>4000.0</td><td>-0.5</td><td>2.0</td><td>0.0</td><td>0.0</td><td>apg_rvsynthgrid_v2.fits</td><td>2</td><td>-131.20686</td><td>0.31226808</td><td>-141.0172</td><td>-129.65274</td><td>0.32508445</td><td>-139.46307</td><td>-130.03171</td><td>0.106758386</td><td>-139.84204</td><td>-2139094912</td><td>0</td><td>0</td><td>0</td><td>1</td><td>-9999.0</td><td>9999.0</td><td>-9999.0</td><td>9999.0</td><td>2M00034528-7700350</td><td>2MASS</td><td>-9999.99</td><td>-9999.99</td><td>-9999.99</td><td>-9999.99</td><td>-9999.99</td><td>-9999.99</td><td>-9999.99</td><td>-9999.99</td><td>-9999.99</td><td>-9999.99</td><td>-9999.99</td><td>-9999.99</td><td>-9999.99</td><td>-9999.99</td><td>13.584</td><td>0.028</td><td>-9999.99</td><td>-9999.99</td><td>0.016451977</td><td>SFD</td><td>0.030294167</td><td>0.054476745</td><td>-1</td><td>1</td><td>2.2</td><td>-1.5</td><td>HSOY</td></tr>\n",
       "<tr><td>apogee.lco25m.s.t9.10123.58089.145</td><td>t9</td><td>2M00041203-7706504</td><td>SMC1.2M00041203-7706504</td><td>asVisit-t9-10123-58089-145.fits</td><td>145</td><td>10123</td><td>58089</td><td>lco25m</td><td>apogee2s</td><td>SMC1</td><td>magclouds</td><td>5521</td><td>1.050163</td><td>-77.114021</td><td>306.3327363551259</td><td>-39.70063852761689</td><td>14.765</td><td>0.035</td><td>14.312</td><td>0.046</td><td>14.202</td><td>0.067</td><td>0.0</td><td>0.0</td><td>0</td><td>0</td><td>0</td><td>APOGEE2_WASH_GIANT,APOGEE2_MAGCLOUD_CANDIDATE</td><td>2.27099</td><td>16</td><td>LOW_SNR</td><td>2017-12-02T00:10:10.503</td><td>2458089.53025</td><td>-10.215302</td><td>4</td><td>16.710962</td><td>0.08361645</td><td>6.49566</td><td>3.2200522</td><td>-133.1392</td><td>1.3185533</td><td>4750.0</td><td>0.5</td><td>4.0</td><td>0.0</td><td>0.0</td><td>apg_rvsynthgrid_v2.fits</td><td>2</td><td>16.381567</td><td>0.52455044</td><td>6.1662645</td><td>16.758474</td><td>0.46951124</td><td>6.543172</td><td>16.710962</td><td>0.08361645</td><td>6.49566</td><td>-2139094912</td><td>0</td><td>0</td><td>0</td><td>1</td><td>-9999.0</td><td>9999.0</td><td>-9999.0</td><td>9999.0</td><td>2M00041203-7706504</td><td>2MASS</td><td>-9999.99</td><td>-9999.99</td><td>-9999.99</td><td>-9999.99</td><td>-9999.99</td><td>-9999.99</td><td>-9999.99</td><td>-9999.99</td><td>-9999.99</td><td>-9999.99</td><td>-9999.99</td><td>-9999.99</td><td>-9999.99</td><td>-9999.99</td><td>14.254</td><td>0.038</td><td>14.254</td><td>0.038</td><td>0.0073445174</td><td>RJCE_WISE</td><td>0.0073445174</td><td>0.05172451</td><td>-1</td><td>1</td><td>2.8</td><td>10.0</td><td>HSOY</td></tr>\n",
       "<tr><td>apogee.lco25m.s.t9.10123.58092.133</td><td>t9</td><td>2M00041203-7706504</td><td>SMC1.2M00041203-7706504</td><td>asVisit-t9-10123-58092-133.fits</td><td>133</td><td>10123</td><td>58092</td><td>lco25m</td><td>apogee2s</td><td>SMC1</td><td>magclouds</td><td>5521</td><td>1.050163</td><td>-77.114021</td><td>306.3327363551259</td><td>-39.70063852761689</td><td>14.765</td><td>0.035</td><td>14.312</td><td>0.046</td><td>14.202</td><td>0.067</td><td>0.0</td><td>0.0</td><td>0</td><td>0</td><td>0</td><td>APOGEE2_WASH_GIANT,APOGEE2_MAGCLOUD_CANDIDATE</td><td>2.03537</td><td>16</td><td>LOW_SNR</td><td>2017-12-05T00:26:02.177</td><td>2458092.52387</td><td>-9.757089</td><td>4</td><td>15.610324</td><td>0.12040294</td><td>5.8532352</td><td>2.5776277</td><td>-133.78162</td><td>1.377806</td><td>4750.0</td><td>0.5</td><td>4.0</td><td>0.0</td><td>0.0</td><td>apg_rvsynthgrid_v2.fits</td><td>2</td><td>14.635535</td><td>0.5236122</td><td>4.878447</td><td>14.841814</td><td>0.71208066</td><td>5.0847254</td><td>15.610324</td><td>0.12040294</td><td>5.8532352</td><td>-2139094912</td><td>0</td><td>0</td><td>0</td><td>1</td><td>-9999.0</td><td>9999.0</td><td>-9999.0</td><td>9999.0</td><td>2M00041203-7706504</td><td>2MASS</td><td>-9999.99</td><td>-9999.99</td><td>-9999.99</td><td>-9999.99</td><td>-9999.99</td><td>-9999.99</td><td>-9999.99</td><td>-9999.99</td><td>-9999.99</td><td>-9999.99</td><td>-9999.99</td><td>-9999.99</td><td>-9999.99</td><td>-9999.99</td><td>14.254</td><td>0.038</td><td>14.254</td><td>0.038</td><td>0.0073445174</td><td>RJCE_WISE</td><td>0.0073445174</td><td>0.05172451</td><td>-1</td><td>1</td><td>2.8</td><td>10.0</td><td>HSOY</td></tr>\n",
       "<tr><td>apogee.lco25m.s.t9.10123.58089.116</td><td>t9</td><td>2M00045303-7725441</td><td>SMC1.2M00045303-7725441</td><td>asVisit-t9-10123-58089-116.fits</td><td>116</td><td>10123</td><td>58089</td><td>lco25m</td><td>apogee2s</td><td>SMC1</td><td>magclouds</td><td>5521</td><td>1.22098</td><td>-77.428932</td><td>306.1894921104054</td><td>-39.40333941560411</td><td>14.552</td><td>0.037</td><td>14.049</td><td>0.03</td><td>13.852</td><td>0.053</td><td>0.0</td><td>0.0</td><td>0</td><td>0</td><td>0</td><td>APOGEE2_WASH_GIANT,APOGEE2_MAGCLOUD_CANDIDATE</td><td>4.98762</td><td>16</td><td>LOW_SNR</td><td>2017-12-02T00:10:10.503</td><td>2458089.53025</td><td>-10.062925</td><td>3</td><td>102.27678</td><td>0.58657557</td><td>92.21385</td><td>88.95096</td><td>-48.24526</td><td>1.5090362</td><td>4500.0</td><td>-0.5</td><td>3.0</td><td>0.0</td><td>0.0</td><td>apg_rvsynthgrid_v2.fits</td><td>2</td><td>103.83437</td><td>0.7337678</td><td>93.77145</td><td>102.43133</td><td>0.48789543</td><td>92.3684</td><td>102.14932</td><td>0.053817168</td><td>92.086395</td><td>-2139094912</td><td>0</td><td>0</td><td>0</td><td>1</td><td>-9999.0</td><td>9999.0</td><td>-9999.0</td><td>9999.0</td><td>2M00045303-7725441</td><td>2MASS</td><td>-9999.99</td><td>-9999.99</td><td>-9999.99</td><td>-9999.99</td><td>-9999.99</td><td>-9999.99</td><td>-9999.99</td><td>-9999.99</td><td>-9999.99</td><td>-9999.99</td><td>-9999.99</td><td>-9999.99</td><td>-9999.99</td><td>-9999.99</td><td>13.969</td><td>0.034</td><td>-9999.99</td><td>-9999.99</td><td>0.014720604</td><td>SFD</td><td>0.02753993</td><td>0.048743725</td><td>-1</td><td>1</td><td>8.0</td><td>-0.4</td><td>HSOY</td></tr>\n",
       "<tr><td>apogee.lco25m.s.t9.10123.58092.116</td><td>t9</td><td>2M00045303-7725441</td><td>SMC1.2M00045303-7725441</td><td>asVisit-t9-10123-58092-116.fits</td><td>116</td><td>10123</td><td>58092</td><td>lco25m</td><td>apogee2s</td><td>SMC1</td><td>magclouds</td><td>5521</td><td>1.22098</td><td>-77.428932</td><td>306.1894921104054</td><td>-39.40333941560411</td><td>14.552</td><td>0.037</td><td>14.049</td><td>0.03</td><td>13.852</td><td>0.053</td><td>0.0</td><td>0.0</td><td>0</td><td>0</td><td>0</td><td>APOGEE2_WASH_GIANT,APOGEE2_MAGCLOUD_CANDIDATE</td><td>4.06613</td><td>16</td><td>LOW_SNR</td><td>2017-12-05T00:26:02.177</td><td>2458092.52387</td><td>-9.602019</td><td>3</td><td>101.77617</td><td>0.6306054</td><td>92.17415</td><td>88.911255</td><td>-48.28496</td><td>1.4788098</td><td>4500.0</td><td>-0.5</td><td>3.0</td><td>0.0</td><td>0.0</td><td>apg_rvsynthgrid_v2.fits</td><td>2</td><td>101.465546</td><td>0.7686178</td><td>91.863525</td><td>101.74322</td><td>0.557941</td><td>92.1412</td><td>101.79442</td><td>0.07189835</td><td>92.1924</td><td>-2139094912</td><td>0</td><td>0</td><td>0</td><td>1</td><td>-9999.0</td><td>9999.0</td><td>-9999.0</td><td>9999.0</td><td>2M00045303-7725441</td><td>2MASS</td><td>-9999.99</td><td>-9999.99</td><td>-9999.99</td><td>-9999.99</td><td>-9999.99</td><td>-9999.99</td><td>-9999.99</td><td>-9999.99</td><td>-9999.99</td><td>-9999.99</td><td>-9999.99</td><td>-9999.99</td><td>-9999.99</td><td>-9999.99</td><td>13.969</td><td>0.034</td><td>-9999.99</td><td>-9999.99</td><td>0.014720604</td><td>SFD</td><td>0.02753993</td><td>0.048743725</td><td>-1</td><td>1</td><td>8.0</td><td>-0.4</td><td>HSOY</td></tr>\n",
       "<tr><td>...</td><td>...</td><td>...</td><td>...</td><td>...</td><td>...</td><td>...</td><td>...</td><td>...</td><td>...</td><td>...</td><td>...</td><td>...</td><td>...</td><td>...</td><td>...</td><td>...</td><td>...</td><td>...</td><td>...</td><td>...</td><td>...</td><td>...</td><td>...</td><td>...</td><td>...</td><td>...</td><td>...</td><td>...</td><td>...</td><td>...</td><td>...</td><td>...</td><td>...</td><td>...</td><td>...</td><td>...</td><td>...</td><td>...</td><td>...</td><td>...</td><td>...</td><td>...</td><td>...</td><td>...</td><td>...</td><td>...</td><td>...</td><td>...</td><td>...</td><td>...</td><td>...</td><td>...</td><td>...</td><td>...</td><td>...</td><td>...</td><td>...</td><td>...</td><td>...</td><td>...</td><td>...</td><td>...</td><td>...</td><td>...</td><td>...</td><td>...</td><td>...</td><td>...</td><td>...</td><td>...</td><td>...</td><td>...</td><td>...</td><td>...</td><td>...</td><td>...</td><td>...</td><td>...</td><td>...</td><td>...</td><td>...</td><td>...</td><td>...</td><td>...</td><td>...</td><td>...</td><td>...</td><td>...</td><td>...</td><td>...</td><td>...</td><td>...</td><td>...</td><td>...</td><td>...</td></tr>\n",
       "<tr><td>apogee.lco25m.s.t9.10120.58096.117</td><td>t9</td><td>2M06442660-7543364</td><td>LMC16.2M06442660-7543364</td><td>asVisit-t9-10120-58096-117.fits</td><td>117</td><td>10120</td><td>58096</td><td>lco25m</td><td>apogee2s</td><td>LMC16</td><td>magclouds</td><td>5519</td><td>101.110839</td><td>-75.726784</td><td>286.9262306911751</td><td>-26.65410792766029</td><td>13.633</td><td>0.024</td><td>13.146</td><td>0.031</td><td>13.025</td><td>0.029</td><td>0.0</td><td>0.0</td><td>0</td><td>0</td><td>0</td><td>APOGEE2_WASH_GIANT,APOGEE2_MAGCLOUD_CANDIDATE</td><td>18.972</td><td>0</td><td></td><td>2017-12-09T05:27:54.710</td><td>2458096.7509</td><td>0.391583</td><td>5</td><td>-9.550255</td><td>0.13028833</td><td>-9.158671</td><td>-14.261975</td><td>-202.36526</td><td>1.4739723</td><td>6500.0</td><td>0.5</td><td>5.0</td><td>0.0</td><td>0.0</td><td>apg_rvsynthgrid_v2.fits</td><td>2</td><td>-9.487095</td><td>0.13564329</td><td>-9.095511</td><td>-9.550255</td><td>0.13028833</td><td>-9.158671</td><td>-9.567626</td><td>0.13068035</td><td>-9.176043</td><td>-2139094912</td><td>0</td><td>0</td><td>0</td><td>1</td><td>-9999.0</td><td>9999.0</td><td>-9999.0</td><td>9999.0</td><td>2M06442660-7543364</td><td>2MASS</td><td>-9999.99</td><td>-9999.99</td><td>-9999.99</td><td>-9999.99</td><td>-9999.99</td><td>-9999.99</td><td>-9999.99</td><td>-9999.99</td><td>-9999.99</td><td>-9999.99</td><td>-9999.99</td><td>-9999.99</td><td>-9999.99</td><td>-9999.99</td><td>13.032</td><td>0.023</td><td>-9999.99</td><td>-9999.99</td><td>0.038990498</td><td>SFD</td><td>0.058752295</td><td>0.12910761</td><td>-1</td><td>1</td><td>-2.0</td><td>2.3</td><td>HSOY</td></tr>\n",
       "<tr><td>apogee.lco25m.s.t9.10120.58096.150</td><td>t9</td><td>2M06442832-7446384</td><td>LMC16.2M06442832-7446384</td><td>asVisit-t9-10120-58096-150.fits</td><td>150</td><td>10120</td><td>58096</td><td>lco25m</td><td>apogee2s</td><td>LMC16</td><td>magclouds</td><td>5519</td><td>101.11804</td><td>-74.777344</td><td>285.8699297245708</td><td>-26.556856231683113</td><td>14.748</td><td>0.035</td><td>14.198</td><td>0.071</td><td>14.022</td><td>0.069</td><td>0.0</td><td>0.0</td><td>0</td><td>0</td><td>0</td><td>APOGEE2_WASH_GIANT,APOGEE2_MAGCLOUD_CANDIDATE</td><td>14.5609</td><td>0</td><td></td><td>2017-12-09T05:27:54.710</td><td>2458096.7509</td><td>0.5931774</td><td>3</td><td>-5.983361</td><td>0.34908006</td><td>-5.3901834</td><td>-10.666849</td><td>-199.95432</td><td>1.627616</td><td>4250.0</td><td>-1.5</td><td>1.0</td><td>0.0</td><td>0.0</td><td>apg_rvsynthgrid_v2.fits</td><td>2</td><td>-4.436005</td><td>0.3853335</td><td>-3.8428278</td><td>-5.636593</td><td>0.36281008</td><td>-5.0434155</td><td>-5.983361</td><td>0.34908006</td><td>-5.3901834</td><td>-2139094912</td><td>0</td><td>0</td><td>0</td><td>1</td><td>-9999.0</td><td>9999.0</td><td>-9999.0</td><td>9999.0</td><td>2M06442832-7446384</td><td>2MASS</td><td>-9999.99</td><td>-9999.99</td><td>-9999.99</td><td>-9999.99</td><td>-9999.99</td><td>-9999.99</td><td>-9999.99</td><td>-9999.99</td><td>-9999.99</td><td>-9999.99</td><td>-9999.99</td><td>-9999.99</td><td>-9999.99</td><td>-9999.99</td><td>14.034</td><td>0.03</td><td>-9999.99</td><td>-9999.99</td><td>0.040876605</td><td>SFD</td><td>0.10465159</td><td>0.135353</td><td>-1</td><td>1</td><td>-5.1</td><td>-11.8</td><td>HSOY</td></tr>\n",
       "<tr><td>apogee.lco25m.s.t9.10120.58096.115</td><td>t9</td><td>2M06442888-7542086</td><td>LMC16.2M06442888-7542086</td><td>asVisit-t9-10120-58096-115.fits</td><td>115</td><td>10120</td><td>58096</td><td>lco25m</td><td>apogee2s</td><td>LMC16</td><td>magclouds</td><td>5519</td><td>101.12037</td><td>-75.702408</td><td>286.8993375099907</td><td>-26.649414789169704</td><td>14.56</td><td>0.045</td><td>14.07</td><td>0.048</td><td>13.939</td><td>-9999.99</td><td>0.0</td><td>0.0</td><td>0</td><td>0</td><td>0</td><td>APOGEE2_WASH_GIANT,APOGEE2_MAGCLOUD_CANDIDATE</td><td>3.16513</td><td>16</td><td>LOW_SNR</td><td>2017-12-09T05:27:54.710</td><td>2458096.7509</td><td>0.39789146</td><td>5</td><td>52.829163</td><td>0.31636047</td><td>53.227055</td><td>48.119545</td><td>-140.01833</td><td>1.4164898</td><td>5250.0</td><td>0.5</td><td>4.0</td><td>0.0</td><td>0.0</td><td>apg_rvsynthgrid_v2.fits</td><td>2</td><td>55.00912</td><td>0.3745931</td><td>55.407013</td><td>52.829163</td><td>0.31636047</td><td>53.227055</td><td>52.75591</td><td>0.31789124</td><td>53.1538</td><td>-2139094912</td><td>0</td><td>0</td><td>0</td><td>1</td><td>-9999.0</td><td>9999.0</td><td>-9999.0</td><td>9999.0</td><td>2M06442888-7542086</td><td>2MASS</td><td>-9999.99</td><td>-9999.99</td><td>-9999.99</td><td>-9999.99</td><td>-9999.99</td><td>-9999.99</td><td>-9999.99</td><td>-9999.99</td><td>-9999.99</td><td>-9999.99</td><td>-9999.99</td><td>-9999.99</td><td>-9999.99</td><td>-9999.99</td><td>13.44</td><td>0.028</td><td>-9999.99</td><td>-9999.99</td><td>-9999.99</td><td>none</td><td>0.53244007</td><td>0.12843387</td><td>-1</td><td>1</td><td>-21.8</td><td>3.6</td><td>HSOY</td></tr>\n",
       "<tr><td>apogee.lco25m.s.t9.10120.58096.140</td><td>t9</td><td>2M06450394-7443538</td><td>LMC16.2M06450394-7443538</td><td>asVisit-t9-10120-58096-140.fits</td><td>140</td><td>10120</td><td>58096</td><td>lco25m</td><td>apogee2s</td><td>LMC16</td><td>magclouds</td><td>5519</td><td>101.266426</td><td>-74.731621</td><td>285.82373829198406</td><td>-26.513204284941455</td><td>14.18</td><td>0.028</td><td>13.327</td><td>0.028</td><td>13.208</td><td>0.038</td><td>0.0</td><td>0.0</td><td>0</td><td>0</td><td>0</td><td>APOGEE2_WASH_GIANT,APOGEE2_MAGCLOUD_CANDIDATE</td><td>19.2464</td><td>8</td><td>VERY_BRIGHT_NEIGHBOR</td><td>2017-12-09T05:27:54.710</td><td>2458096.7509</td><td>0.6220074</td><td>5</td><td>332.72668</td><td>0.080868125</td><td>333.3487</td><td>328.06815</td><td>138.66533</td><td>2.4034169</td><td>3750.0</td><td>-0.5</td><td>3.0</td><td>0.0</td><td>0.0</td><td>apg_rvsynthgrid_v2.fits</td><td>2</td><td>332.8701</td><td>0.09707939</td><td>333.4921</td><td>332.72668</td><td>0.080868125</td><td>333.3487</td><td>332.74265</td><td>0.0834875</td><td>333.36465</td><td>-2139094912</td><td>0</td><td>0</td><td>0</td><td>1</td><td>-9999.0</td><td>9999.0</td><td>-9999.0</td><td>9999.0</td><td>2M06450394-7443538</td><td>2MASS</td><td>-9999.99</td><td>-9999.99</td><td>-9999.99</td><td>-9999.99</td><td>-9999.99</td><td>-9999.99</td><td>-9999.99</td><td>-9999.99</td><td>-9999.99</td><td>-9999.99</td><td>-9999.99</td><td>-9999.99</td><td>-9999.99</td><td>-9999.99</td><td>13.129</td><td>0.024</td><td>-9999.99</td><td>-9999.99</td><td>0.04035888</td><td>SFD</td><td>0.13586396</td><td>0.13363868</td><td>-1</td><td>1</td><td>4.2</td><td>-1.3</td><td>HSOY</td></tr>\n",
       "<tr><td>apogee.lco25m.s.t9.10120.58096.114</td><td>t9</td><td>2M06450730-7517265</td><td>LMC16.2M06450730-7517265</td><td>asVisit-t9-10120-58096-114.fits</td><td>114</td><td>10120</td><td>58096</td><td>lco25m</td><td>apogee2s</td><td>LMC16</td><td>magclouds</td><td>5519</td><td>101.280433</td><td>-75.29071</td><td>286.44564414510495</td><td>-26.568434465519477</td><td>14.864</td><td>0.036</td><td>14.158</td><td>0.044</td><td>14.1</td><td>0.075</td><td>0.0</td><td>0.0</td><td>0</td><td>0</td><td>0</td><td>APOGEE2_WASH_GIANT,APOGEE2_MAGCLOUD_CANDIDATE</td><td>6.85536</td><td>0</td><td></td><td>2017-12-09T05:27:54.710</td><td>2458096.7509</td><td>0.5048852</td><td>3</td><td>51.50405</td><td>0.28277344</td><td>52.008938</td><td>46.830635</td><td>-141.8875</td><td>1.3297746</td><td>5750.0</td><td>0.5</td><td>5.0</td><td>0.0</td><td>0.0</td><td>apg_rvsynthgrid_v2.fits</td><td>2</td><td>52.135216</td><td>0.2876801</td><td>52.640102</td><td>51.125305</td><td>0.2834105</td><td>51.63019</td><td>51.50405</td><td>0.28277344</td><td>52.008938</td><td>-2139094912</td><td>0</td><td>0</td><td>0</td><td>1</td><td>-9999.0</td><td>9999.0</td><td>-9999.0</td><td>9999.0</td><td>2M06450730-7517265</td><td>2MASS</td><td>-9999.99</td><td>-9999.99</td><td>-9999.99</td><td>-9999.99</td><td>-9999.99</td><td>-9999.99</td><td>-9999.99</td><td>-9999.99</td><td>-9999.99</td><td>-9999.99</td><td>-9999.99</td><td>-9999.99</td><td>-9999.99</td><td>-9999.99</td><td>14.07</td><td>0.03</td><td>14.07</td><td>0.03</td><td>0.03488427</td><td>RJCE_WISE</td><td>0.03488427</td><td>0.13279155</td><td>-1</td><td>1</td><td>-2.9</td><td>-0.4</td><td>HSOY</td></tr>\n",
       "<tr><td>apogee.lco25m.s.t9.10120.58096.149</td><td>t9</td><td>2M06452831-7447469</td><td>LMC16.2M06452831-7447469</td><td>asVisit-t9-10120-58096-149.fits</td><td>149</td><td>10120</td><td>58096</td><td>lco25m</td><td>apogee2s</td><td>LMC16</td><td>magclouds</td><td>5519</td><td>101.367969</td><td>-74.796364</td><td>285.8988833301067</td><td>-26.493672817931508</td><td>14.028</td><td>0.028</td><td>13.397</td><td>0.03</td><td>13.364</td><td>0.04</td><td>0.0</td><td>0.0</td><td>0</td><td>0</td><td>0</td><td>APOGEE2_WASH_GIANT,APOGEE2_MAGCLOUD_CANDIDATE</td><td>20.6016</td><td>0</td><td></td><td>2017-12-09T05:27:54.710</td><td>2458096.7509</td><td>0.621295</td><td>5</td><td>-28.153337</td><td>0.107816175</td><td>-27.532043</td><td>-32.797775</td><td>-222.16223</td><td>1.7184305</td><td>6000.0</td><td>0.5</td><td>5.0</td><td>0.0</td><td>0.0</td><td>apg_rvsynthgrid_v2.fits</td><td>2</td><td>-27.560854</td><td>0.09730717</td><td>-26.93956</td><td>-28.153337</td><td>0.107816175</td><td>-27.532043</td><td>-28.165682</td><td>0.10919566</td><td>-27.544388</td><td>-2139094912</td><td>0</td><td>0</td><td>0</td><td>1</td><td>-9999.0</td><td>9999.0</td><td>-9999.0</td><td>9999.0</td><td>2M06452831-7447469</td><td>2MASS</td><td>-9999.99</td><td>-9999.99</td><td>-9999.99</td><td>-9999.99</td><td>-9999.99</td><td>-9999.99</td><td>-9999.99</td><td>-9999.99</td><td>-9999.99</td><td>-9999.99</td><td>-9999.99</td><td>-9999.99</td><td>-9999.99</td><td>-9999.99</td><td>13.354</td><td>0.025</td><td>-9999.99</td><td>-9999.99</td><td>0.041946225</td><td>SFD</td><td>-0.0064257975</td><td>0.1388948</td><td>-1</td><td>1</td><td>-4.4</td><td>-5.1</td><td>HSOY</td></tr>\n",
       "<tr><td>apogee.lco25m.s.t9.10120.58096.103</td><td>t9</td><td>2M06453094-7518046</td><td>LMC16.2M06453094-7518046</td><td>asVisit-t9-10120-58096-103.fits</td><td>103</td><td>10120</td><td>58096</td><td>lco25m</td><td>apogee2s</td><td>LMC16</td><td>magclouds</td><td>5519</td><td>101.378924</td><td>-75.301285</td><td>286.46030132581257</td><td>-26.54466598006357</td><td>14.888</td><td>0.043</td><td>14.384</td><td>0.051</td><td>14.247</td><td>0.078</td><td>0.0</td><td>0.0</td><td>0</td><td>0</td><td>0</td><td>APOGEE2_WASH_GIANT,APOGEE2_MAGCLOUD_CANDIDATE</td><td>3.98647</td><td>16</td><td>LOW_SNR</td><td>2017-12-09T05:27:54.710</td><td>2458096.7509</td><td>0.5148804</td><td>3</td><td>-16.090826</td><td>0.26358885</td><td>-15.575946</td><td>-20.749462</td><td>-209.49248</td><td>1.4135603</td><td>5000.0</td><td>0.5</td><td>5.0</td><td>0.0</td><td>0.0</td><td>apg_rvsynthgrid_v2.fits</td><td>2</td><td>-15.423002</td><td>0.261039</td><td>-14.908122</td><td>-16.206789</td><td>0.27017823</td><td>-15.691909</td><td>-16.090826</td><td>0.26358885</td><td>-15.575946</td><td>-2139094912</td><td>0</td><td>0</td><td>0</td><td>1</td><td>-9999.0</td><td>9999.0</td><td>-9999.0</td><td>9999.0</td><td>2M06453094-7518046</td><td>2MASS</td><td>-9999.99</td><td>-9999.99</td><td>-9999.99</td><td>-9999.99</td><td>-9999.99</td><td>-9999.99</td><td>-9999.99</td><td>-9999.99</td><td>-9999.99</td><td>-9999.99</td><td>-9999.99</td><td>-9999.99</td><td>-9999.99</td><td>-9999.99</td><td>14.255</td><td>0.032</td><td>-9999.99</td><td>-9999.99</td><td>0.040103044</td><td>SFD</td><td>0.07252174</td><td>0.13279155</td><td>-1</td><td>1</td><td>-6.6</td><td>6.5</td><td>HSOY</td></tr>\n",
       "<tr><td>apogee.lco25m.s.t9.10120.58096.106</td><td>t9</td><td>2M06454220-7507571</td><td>LMC16.2M06454220-7507571</td><td>asVisit-t9-10120-58096-106.fits</td><td>106</td><td>10120</td><td>58096</td><td>lco25m</td><td>apogee2s</td><td>LMC16</td><td>magclouds</td><td>5519</td><td>101.425853</td><td>-75.132545</td><td>286.27416977813425</td><td>-26.514941158923204</td><td>13.736</td><td>0.022</td><td>13.204</td><td>0.034</td><td>13.082</td><td>0.038</td><td>0.0</td><td>0.0</td><td>0</td><td>0</td><td>0</td><td>APOGEE2_WASH_GIANT,APOGEE2_MAGCLOUD_CANDIDATE</td><td>23.6678</td><td>0</td><td></td><td>2017-12-09T05:27:54.710</td><td>2458096.7509</td><td>0.5568152</td><td>5</td><td>10.718027</td><td>0.05849438</td><td>11.274842</td><td>6.071953</td><td>-182.90016</td><td>1.4210725</td><td>5500.0</td><td>0.5</td><td>4.0</td><td>0.0</td><td>0.0</td><td>apg_rvsynthgrid_v2.fits</td><td>2</td><td>10.480728</td><td>0.06221623</td><td>11.037543</td><td>10.718027</td><td>0.05849438</td><td>11.274842</td><td>10.733722</td><td>0.05898169</td><td>11.290537</td><td>-2139094912</td><td>0</td><td>0</td><td>0</td><td>1</td><td>-9999.0</td><td>9999.0</td><td>-9999.0</td><td>9999.0</td><td>2M06454220-7507571</td><td>2MASS</td><td>-9999.99</td><td>-9999.99</td><td>-9999.99</td><td>-9999.99</td><td>-9999.99</td><td>-9999.99</td><td>-9999.99</td><td>-9999.99</td><td>-9999.99</td><td>-9999.99</td><td>-9999.99</td><td>-9999.99</td><td>-9999.99</td><td>-9999.99</td><td>13.122</td><td>0.024</td><td>13.122</td><td>0.024</td><td>0.02937667</td><td>RJCE_WISE</td><td>0.02937667</td><td>0.13754183</td><td>-1</td><td>1</td><td>-5.8</td><td>4.1</td><td>HSOY</td></tr>\n",
       "<tr><td>apogee.lco25m.s.t9.10120.58096.119</td><td>t9</td><td>2M06454464-7529183</td><td>LMC16.2M06454464-7529183</td><td>asVisit-t9-10120-58096-119.fits</td><td>119</td><td>10120</td><td>58096</td><td>lco25m</td><td>apogee2s</td><td>LMC16</td><td>magclouds</td><td>5519</td><td>101.436011</td><td>-75.488419</td><td>286.6700290884986</td><td>-26.549835613259745</td><td>13.979</td><td>-9999.99</td><td>13.752</td><td>-9999.99</td><td>13.965</td><td>0.071</td><td>0.0</td><td>0.0</td><td>0</td><td>0</td><td>0</td><td>APOGEE2_MAGCLOUD_CANDIDATE</td><td>8.96139</td><td>0</td><td></td><td>2017-12-09T05:27:54.710</td><td>2458096.7509</td><td>0.48191482</td><td>3</td><td>-15.624193</td><td>0.24546248</td><td>-15.142279</td><td>-20.279999</td><td>-208.80911</td><td>1.3833214</td><td>6250.0</td><td>0.5</td><td>4.0</td><td>0.0</td><td>0.0</td><td>apg_rvsynthgrid_v2.fits</td><td>2</td><td>-15.74772</td><td>0.20563394</td><td>-15.265805</td><td>-15.653329</td><td>0.24958889</td><td>-15.171414</td><td>-15.624193</td><td>0.24546248</td><td>-15.142279</td><td>-2139095040</td><td>0</td><td>0</td><td>0</td><td>1</td><td>-9999.0</td><td>9999.0</td><td>-9999.0</td><td>9999.0</td><td>2M06454464-7529183</td><td>2MASS</td><td>-9999.99</td><td>-9999.99</td><td>-9999.99</td><td>-9999.99</td><td>-9999.99</td><td>-9999.99</td><td>-9999.99</td><td>-9999.99</td><td>-9999.99</td><td>-9999.99</td><td>-9999.99</td><td>-9999.99</td><td>-9999.99</td><td>-9999.99</td><td>13.554</td><td>0.026</td><td>-9999.99</td><td>-9999.99</td><td>-9999.99</td><td>none</td><td>0.13586396</td><td>0.1238333</td><td>-1</td><td>1</td><td>0.0</td><td>0.0</td><td>none</td></tr>\n",
       "<tr><td>apogee.lco25m.s.t9.10120.58096.104</td><td>t9</td><td>2M06463583-7509575</td><td>LMC16.2M06463583-7509575</td><td>asVisit-t9-10120-58096-104.fits</td><td>104</td><td>10120</td><td>58096</td><td>lco25m</td><td>apogee2s</td><td>LMC16</td><td>magclouds</td><td>5519</td><td>101.649304</td><td>-75.165993</td><td>286.31825592444864</td><td>-26.461634239017844</td><td>14.317</td><td>0.037</td><td>13.704</td><td>0.037</td><td>13.561</td><td>0.046</td><td>0.0</td><td>0.0</td><td>0</td><td>0</td><td>0</td><td>APOGEE2_WASH_GIANT,APOGEE2_MAGCLOUD_CANDIDATE</td><td>14.3848</td><td>0</td><td></td><td>2017-12-09T05:27:54.710</td><td>2458096.7509</td><td>0.57764643</td><td>3</td><td>240.32906</td><td>0.22639532</td><td>240.90671</td><td>235.71649</td><td>46.69926</td><td>1.2852836</td><td>5750.0</td><td>-0.5</td><td>4.0</td><td>0.0</td><td>0.0</td><td>apg_rvsynthgrid_v2.fits</td><td>2</td><td>240.4479</td><td>0.28722006</td><td>241.02556</td><td>240.32616</td><td>0.2264988</td><td>240.90381</td><td>240.32906</td><td>0.22639532</td><td>240.90671</td><td>-2139094912</td><td>0</td><td>0</td><td>0</td><td>1</td><td>-9999.0</td><td>9999.0</td><td>-9999.0</td><td>9999.0</td><td>2M06463583-7509575</td><td>2MASS</td><td>-9999.99</td><td>-9999.99</td><td>-9999.99</td><td>-9999.99</td><td>-9999.99</td><td>-9999.99</td><td>-9999.99</td><td>-9999.99</td><td>-9999.99</td><td>-9999.99</td><td>-9999.99</td><td>-9999.99</td><td>-9999.99</td><td>-9999.99</td><td>13.623</td><td>0.026</td><td>13.623</td><td>0.026</td><td>0.0284583</td><td>RJCE_WISE</td><td>0.0284583</td><td>0.13397866</td><td>-1</td><td>1</td><td>-2.1</td><td>-1.5</td><td>HSOY</td></tr>\n",
       "</table>"
      ],
      "text/plain": [
       "<Table length=22100>\n",
       "                        VISIT_ID                         ...\n",
       "                         str56                           ...\n",
       "-------------------------------------------------------- ...\n",
       "apogee.lco25m.s.t9.10123.58089.99                        ...\n",
       "apogee.lco25m.s.t9.10123.58092.100                       ...\n",
       "apogee.lco25m.s.t9.10123.58089.146                       ...\n",
       "apogee.lco25m.s.t9.10123.58092.134                       ...\n",
       "apogee.lco25m.s.t9.10123.58089.147                       ...\n",
       "apogee.lco25m.s.t9.10123.58092.135                       ...\n",
       "apogee.lco25m.s.t9.10123.58089.145                       ...\n",
       "apogee.lco25m.s.t9.10123.58092.133                       ...\n",
       "apogee.lco25m.s.t9.10123.58089.116                       ...\n",
       "apogee.lco25m.s.t9.10123.58092.116                       ...\n",
       "                                                     ... ...\n",
       "apogee.lco25m.s.t9.10120.58096.117                       ...\n",
       "apogee.lco25m.s.t9.10120.58096.150                       ...\n",
       "apogee.lco25m.s.t9.10120.58096.115                       ...\n",
       "apogee.lco25m.s.t9.10120.58096.140                       ...\n",
       "apogee.lco25m.s.t9.10120.58096.114                       ...\n",
       "apogee.lco25m.s.t9.10120.58096.149                       ...\n",
       "apogee.lco25m.s.t9.10120.58096.103                       ...\n",
       "apogee.lco25m.s.t9.10120.58096.106                       ...\n",
       "apogee.lco25m.s.t9.10120.58096.119                       ...\n",
       "apogee.lco25m.s.t9.10120.58096.104                       ..."
      ]
     },
     "execution_count": 5,
     "metadata": {},
     "output_type": "execute_result"
    }
   ],
   "source": [
    "AllVisit"
   ]
  },
  {
   "cell_type": "code",
   "execution_count": 9,
   "metadata": {},
   "outputs": [
    {
     "ename": "TypeError",
     "evalue": "'builtin_function_or_method' object is not subscriptable",
     "output_type": "error",
     "traceback": [
      "\u001b[0;31m---------------------------------------------------------------------------\u001b[0m",
      "\u001b[0;31mTypeError\u001b[0m                                 Traceback (most recent call last)",
      "\u001b[0;32m<ipython-input-9-3f864bdd00d3>\u001b[0m in \u001b[0;36m<module>\u001b[0;34m()\u001b[0m\n\u001b[1;32m      2\u001b[0m \u001b[0mx\u001b[0m \u001b[0;34m=\u001b[0m \u001b[0;34m[\u001b[0m\u001b[0;34m'hello'\u001b[0m\u001b[0;34m,\u001b[0m \u001b[0;36m5\u001b[0m\u001b[0;34m,\u001b[0m \u001b[0;32mTrue\u001b[0m\u001b[0;34m]\u001b[0m\u001b[0;34m\u001b[0m\u001b[0m\n\u001b[1;32m      3\u001b[0m \u001b[0my\u001b[0m \u001b[0;34m=\u001b[0m \u001b[0;34m[\u001b[0m\u001b[0;36m3.0\u001b[0m\u001b[0;34m,\u001b[0m \u001b[0;36m6.0\u001b[0m\u001b[0;34m,\u001b[0m \u001b[0;36m9.0\u001b[0m\u001b[0;34m]\u001b[0m\u001b[0;34m\u001b[0m\u001b[0m\n\u001b[0;32m----> 4\u001b[0;31m \u001b[0mz\u001b[0m \u001b[0;34m=\u001b[0m \u001b[0mnp\u001b[0m\u001b[0;34m.\u001b[0m\u001b[0marray\u001b[0m\u001b[0;34m[\u001b[0m\u001b[0;36m3\u001b[0m\u001b[0;34m,\u001b[0m\u001b[0;36m6\u001b[0m\u001b[0;34m,\u001b[0m\u001b[0;36m9\u001b[0m\u001b[0;34m]\u001b[0m\u001b[0;34m\u001b[0m\u001b[0m\n\u001b[0m",
      "\u001b[0;31mTypeError\u001b[0m: 'builtin_function_or_method' object is not subscriptable"
     ]
    }
   ],
   "source": [
    "import numpy as np\n",
    "x = ['hello', 5, True]\n",
    "y = [3.0, 6.0, 9.0]\n",
    "z = np.array(3,6,9)"
   ]
  },
  {
   "cell_type": "code",
   "execution_count": 5,
   "metadata": {},
   "outputs": [
    {
     "name": "stdout",
     "output_type": "stream",
     "text": [
      "['hello', 5, True] [3.0, 6.0, 9.0]\n"
     ]
    }
   ],
   "source": [
    "print (x, y)"
   ]
  },
  {
   "cell_type": "code",
   "execution_count": null,
   "metadata": {},
   "outputs": [],
   "source": []
  }
 ],
 "metadata": {
  "kernelspec": {
   "display_name": "Python 3",
   "language": "python",
   "name": "python3"
  },
  "language_info": {
   "codemirror_mode": {
    "name": "ipython",
    "version": 3
   },
   "file_extension": ".py",
   "mimetype": "text/x-python",
   "name": "python",
   "nbconvert_exporter": "python",
   "pygments_lexer": "ipython3",
   "version": "3.6.4"
  }
 },
 "nbformat": 4,
 "nbformat_minor": 2
}
