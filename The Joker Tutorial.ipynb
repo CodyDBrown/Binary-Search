{
 "cells": [
  {
   "cell_type": "code",
   "execution_count": 1,
   "metadata": {},
   "outputs": [
    {
     "name": "stderr",
     "output_type": "stream",
     "text": [
      "/home/cody/anaconda3/lib/python3.6/site-packages/h5py/__init__.py:36: FutureWarning: Conversion of the second argument of issubdtype from `float` to `np.floating` is deprecated. In future, it will be treated as `np.float64 == np.dtype(float).type`.\n",
      "  from ._conv import register_converters as _register_converters\n"
     ]
    },
    {
     "data": {
      "text/plain": [
       "<matplotlib.figure.Figure at 0x7f61a0a475f8>"
      ]
     },
     "metadata": {},
     "output_type": "display_data"
    }
   ],
   "source": [
    "\"\"\" This is the tutorial in how to use the Joker taken from the documentation page. \"\"\"\n",
    "from thejoker.data import RVData\n",
    "from thejoker.plot import plot_rv_curves\n",
    "from thejoker.sampler import compute_likelihoods\n",
    "import astropy.units as  u\n",
    "import matplotlib.pyplot as plt\n",
    "import numpy as np\n",
    "import schwimmbad\n",
    "t = [0., 49.452, 95.393, 127.587, 38.31] * u.d\n",
    "rv_dat = [38.77, 39.70, 37.45, 38.31, 38.31]* u.km/u.s\n",
    "err = [0.184, 0.261, 0.112, 0.155, 0.233] * u.km/u.s\n",
    "\n",
    "#t = [0.0, 2.9883000003173947, 27.93244000012055, 30.923119999933988, 35.92739999992773, \n",
    "#     63.85682999994606, 66.85045000026003]\n",
    "#rv =[25.313385, 25.192486, 25.721413, 25.3508, 25.458048, 25.524765, 25.467243] * u.km/u.s\n",
    "#err = [0.026613813, 0.04872429, 0.029271094, 0.026994251, 0.033509318] * u\n",
    "data = RVData(t = t, rv=rv_dat, stddev = err)\n",
    "ax = data.plot()\n",
    "ax.set_xlim(-10,200)\n",
    "ax.set_xlabel(\"Time [day]\")\n",
    "ax.set_ylabel(\"RV [km/s]\")\n",
    "plt.show(ax)"
   ]
  },
  {
   "cell_type": "code",
   "execution_count": 27,
   "metadata": {},
   "outputs": [
    {
     "data": {
      "text/latex": [
       "$[20.525165] \\; \\mathrm{d}$"
      ],
      "text/plain": [
       "<Quantity [20.52516519] d>"
      ]
     },
     "execution_count": 27,
     "metadata": {},
     "output_type": "execute_result"
    }
   ],
   "source": [
    "rnd = np.random.RandomState()\n",
    "a, b = (np.log(8), np.log(512))\n",
    "np.exp(rnd.uniform(a,b, size = 1))*u.day"
   ]
  },
  {
   "cell_type": "code",
   "execution_count": 21,
   "metadata": {},
   "outputs": [
    {
     "data": {
      "text/plain": [
       "0.834044009405148"
      ]
     },
     "execution_count": 21,
     "metadata": {},
     "output_type": "execute_result"
    }
   ],
   "source": [
    "rnd = np.random.RandomState(1)\n",
    "rnd.uniform(0,2)"
   ]
  },
  {
   "cell_type": "code",
   "execution_count": 68,
   "metadata": {},
   "outputs": [
    {
     "data": {
      "image/png": "[encoded data removed]",
      "text/plain": [
       "<matplotlib.figure.Figure at 0x7f619e385ba8>"
      ]
     },
     "metadata": {},
     "output_type": "display_data"
    },
    {
     "data": {
      "image/png": "[encoded data removed]",
      "text/plain": [
       "<matplotlib.figure.Figure at 0x7f619ebb7128>"
      ]
     },
     "metadata": {},
     "output_type": "display_data"
    }
   ],
   "source": [
    "from thejoker.sampler import TheJoker\n",
    "from thejoker.sampler import JokerParams\n",
    "#From The Joker that gets possible paramiters that fit the data. The range of max and minimum periods have no ryme \n",
    "#or reason to them I just picked them becasue they seam reasonable. \n",
    "params = JokerParams(P_min = 8*u.day, P_max= 512*u.day)\n",
    "joker = TheJoker(params)\n",
    "#samples = joker.rejection_sample(data, n_prior_samples = 2**16)\n",
    "name_thing = 'name thing?'\n",
    "fig, ax = plt.subplots(1,1)\n",
    "ax.scatter(samples['P'].value, samples['K'].to(u.km/u.s).value,\n",
    "           marker='.', color= 'k',alpha=0.45)\n",
    "ax.set_xlabel('$P$ [day]')\n",
    "ax.set_ylabel('$K$ [km/s]')\n",
    "#ax.set_xlim(-5,128)\n",
    "#ax.set_ylim(0.75, 3.)\n",
    "\n",
    "ax.scatter(61.942, 1.3959, marker='o', color='#31a354', zorder=-100)\n",
    "\n",
    "fig, ax = plt.subplots(1,1)\n",
    "t_grid = np.linspace(-5,200,1024)\n",
    "plot_rv_curves(samples, t_grid, rv_unit =u.km/u.s, data = data, ax=ax,\n",
    "              plot_kwargs=dict(color='#888888'),relative_to_t0=False)\n",
    "data = RVData(t = t, rv=rv_dat, stddev = err)\n",
    "ax = data.plot()\n",
    "#ax.set_xlim(-5,100)\n",
    "#ax.set_ylim(25.1,26.8)\n",
    "plt.show()"
   ]
  },
  {
   "cell_type": "code",
   "execution_count": 64,
   "metadata": {},
   "outputs": [
    {
     "name": "stderr",
     "output_type": "stream",
     "text": [
      "/home/cody/anaconda3/lib/python3.6/site-packages/thejoker/sampler/mcmc.py:47: RuntimeWarning: divide by zero encountered in log\n",
      "  self._y_jitter = 2 * np.log(s.to(self._rv_unit).value)\n"
     ]
    }
   ],
   "source": [
    "modle, samples = joker.mcmc_sample(data,samples)"
   ]
  },
  {
   "cell_type": "code",
   "execution_count": 69,
   "metadata": {},
   "outputs": [
    {
     "data": {
      "text/plain": [
       "256"
      ]
     },
     "execution_count": 69,
     "metadata": {},
     "output_type": "execute_result"
    }
   ],
   "source": [
    "len(samples['P'])"
   ]
  },
  {
   "cell_type": "code",
   "execution_count": 5,
   "metadata": {},
   "outputs": [
    {
     "name": "stderr",
     "output_type": "stream",
     "text": [
      "WARNING: ErfaWarning: ERFA function \"utctai\" yielded 5 of \"dubious year (Note 3)\" [astropy._erfa.core]\n",
      "WARNING: ErfaWarning: ERFA function \"taiutc\" yielded 5 of \"dubious year (Note 4)\" [astropy._erfa.core]\n",
      "WARNING: ErfaWarning: ERFA function \"utctai\" yielded 1 of \"dubious year (Note 3)\" [astropy._erfa.core]\n",
      "WARNING: ErfaWarning: ERFA function \"taiutc\" yielded 1 of \"dubious year (Note 4)\" [astropy._erfa.core]\n"
     ]
    }
   ],
   "source": [
    "#This Is going through and doing all the things that plot_rv_curves does, but by doing this I can get back the \n",
    "#pridicted analytical radial velocities\n",
    "import astropy.units as u\n",
    "import numpy as np\n",
    "\n",
    "from astropy.time import Time\n",
    "from twobody import KeplerOrbit\n",
    "from astropy.time import Time\n",
    "\n",
    "from astropy.table import Table\n",
    "from twobody.wrap import cy_rv_from_elements\n",
    "from twobody.utils import ArrayProcessor\n",
    "\n",
    "#Loop through all the different good samples that survive rejection. \n",
    "chi_2 = np.zeros(len(samples))\n",
    "chi_2_red = np.zeros(len(samples))\n",
    "ln_L = np.zeros(len(samples))\n",
    "for n in range(len(samples)):\n",
    "    \n",
    "    #For each of the samples read in their respective orbital paramiters. I haven't read in jitter becasue in all of\n",
    "    #my cases I've set the jitter to be zero\n",
    "    P = samples['P'][n]\n",
    "    e = samples['e'][n]\n",
    "    M0 = samples['M0'][n]\n",
    "    omega = samples['omega'][n]\n",
    "    K = samples['K'][n]\n",
    "    v0 = samples['v0'][n]\n",
    "    s = samples['jitter'][n]\n",
    "    #t_foo = np.linspace(t[0], 200,1024) #make a lin space for the radial velocity plot. Must start at the starting point\n",
    "                                        #of the data, if not then the radial velocity curves will be off set \n",
    "   \n",
    "    #t_foo = Time(t_foo, format = 'mjd')\n",
    "    t_dat = Time(t, format = 'mjd')\n",
    "\n",
    "    #t_foo = t_foo.tcb.mjd\n",
    "    t_dat = t_dat.tcb.mjd\n",
    "\n",
    "    #proc = ArrayProcessor(t_foo)\n",
    "    proc2 = ArrayProcessor(t_dat)\n",
    "\n",
    "    #t_foo, = proc.prepare_arrays()\n",
    "    t_dat, = proc2.prepare_arrays()\n",
    "\n",
    "    #t0  = t_foo[0]\n",
    "    td0 = t_dat[0]\n",
    "\n",
    "    #t0  = Time(t0 , format = 'mjd')\n",
    "    td0 = Time(td0, format = 'mjd')\n",
    "    \n",
    "    \n",
    "    #Several warnings pop up when running this. Something about certain time values giving \"dubious year (Note 3/4)\" \n",
    "    #But it runs fine without it\n",
    "    #rv = cy_rv_from_elements(t_foo, P.to(u.day).value, 1., e, omega.to(u.radian).value,\n",
    "    #                         M0.to(u.radian).value, t0.tcb.mjd, \n",
    "    #                         anomaly_tol = 1E-10, anomaly_maxiter = 128)\n",
    "    \n",
    "    rv_an = cy_rv_from_elements(t_dat, P.to(u.day).value, 1., e, omega.value,\n",
    "                             M0.value, td0.tcb.mjd, \n",
    "                             anomaly_tol = 1E-10, anomaly_maxiter = 128)\n",
    "    #rv = K*rv + v0\n",
    "    \n",
    "    #rv_an is the analytical radial velocity evaluated at the times that we made the actual observations\n",
    "    rv_an = K*rv_an + v0\n",
    "\n",
    "    #plt.plot(t_foo,rv,color='#555555' ,linestyle = '-', marker = '', alpha = 0.05 + 4./(len(samples) + 4.), rasterized = True)\n",
    "    \n",
    "    #data = RVData(t = t, rv=rv_dat, stddev = err)\n",
    "    #ax = data.plot()\n",
    "    #ax.set_xlim(-5,200)\n",
    "    #ax.set_xlabel(\"Time [day]\")\n",
    "    #ax.set_ylabel(\"RV [km/s]\")\n",
    "    #Now that I have an 'analytic' radial velocity i want to find the ln_likelihood\n",
    "    diff = (rv_dat - rv_an)**2\n",
    "    chi_2[n] = sum(diff /((err)**2 + s**2))\n",
    "    chi_term = diff /((err)**2  + s**2)\n",
    "    # Can't use a reduced chi squared because often the number of data points we have is less than the number\n",
    "    # of paramiters to our best fit equation. \n",
    "    #chi_2_red[n] = chi_2[n] / (len(data) - 6)\n",
    "    thing_2b_summed = chi_term + np.log(2*np.pi*(err.value**2 + s.value**2))\n",
    "    ln_L[n] = -0.5*sum(thing_2b_summed)\n",
    "    \n",
    "ax.set_xlim(-5,200)\n",
    "ax.set_ylim(37,40)\n",
    "plt.show(ax) \n"
   ]
  },
  {
   "cell_type": "code",
   "execution_count": 6,
   "metadata": {},
   "outputs": [],
   "source": [
    "plt.show(ax)"
   ]
  },
  {
   "cell_type": "code",
   "execution_count": 7,
   "metadata": {},
   "outputs": [
    {
     "name": "stdout",
     "output_type": "stream",
     "text": [
      "[-0.1138191   0.97253307  0.7527951   2.83761172 -0.3688792   1.43723438\n",
      "  2.40706276  3.06088936  3.48216059  3.62079911 -3.15449756  2.77154683\n",
      " -2.13475607  0.11174475  2.60879573  3.05865781  0.59072667  2.24061189\n",
      "  2.48798167 -1.05342424  2.21005947  0.30837453  3.31061035  1.51958747\n",
      "  1.97670537  0.16264366  1.58383972 -3.28407853  1.20001153  3.45777989\n",
      " -2.7854635  -0.16116544  1.80897559 -4.67712153 -0.37768343 -5.36936109\n",
      "  2.61583235  1.69737105  1.11500207  2.51749067  0.53397829  2.58752341\n",
      " -0.43079884  1.56418853  2.32630253  3.69689011  3.39780848  2.59882491\n",
      "  1.59407969  2.65154081  2.38025342 -1.67220033  0.8706388   1.34760352] \n",
      " [ 8.13096845  5.95826411  6.39774004  2.2281068   8.64108865  5.02886149\n",
      "  3.08920473  1.78155153  0.93900907  0.66173202 14.21232537  2.36023658\n",
      " 12.17284238  7.67984075  2.68573878  1.78601462  6.7218769   3.42210646\n",
      "  2.9273669  10.01017872  3.4832113   7.28658118  1.28210955  4.8641553\n",
      "  3.9499195   7.57804293  4.7356508  14.4714873   5.50330718  0.98777047\n",
      " 13.47425723  8.22566113  4.28537906 17.25757331  8.6586971  18.64205243\n",
      "  2.67166554  4.50858815  5.67332611  2.86834891  6.83537367  2.72828342\n",
      "  8.76492793  4.77495318  3.25072519  0.50955003  1.10771328  2.70568042\n",
      "  4.71517086  2.60024862  3.14282341 11.2477309   6.16205265  5.2081232 ] \n",
      " [0. 0. 0. 0. 0. 0. 0. 0. 0. 0. 0. 0. 0. 0. 0. 0. 0. 0. 0. 0. 0. 0. 0. 0.\n",
      " 0. 0. 0. 0. 0. 0. 0. 0. 0. 0. 0. 0. 0. 0. 0. 0. 0. 0. 0. 0. 0. 0. 0. 0.\n",
      " 0. 0. 0. 0. 0. 0.]\n"
     ]
    }
   ],
   "source": [
    "print( ln_L, '\\n', chi_2, \"\\n\", chi_2_red)"
   ]
  },
  {
   "cell_type": "code",
   "execution_count": 21,
   "metadata": {},
   "outputs": [
    {
     "name": "stdout",
     "output_type": "stream",
     "text": [
      "[ 2.49805541  2.00385311  3.26966903  1.96258157  1.91792313  2.52796246\n",
      " -0.95465186  1.93329231 -1.47173921 -1.70773027  2.83030418 -2.48976459\n",
      "  1.63819941 -1.5983893   0.94810834  2.1065376  -5.37858322  0.56129142\n",
      "  1.95971985 -2.75122792  0.96213567  2.55589907  1.25679157  2.15488986\n",
      " -0.27633615 -0.81656623  2.3676054   3.16521392 -1.63262462  1.76312277\n",
      " -0.60465712  0.417777    1.46469145  2.74939564  1.88057947  1.38008995\n",
      " -1.46500416  2.23661875  1.5011411  -0.81891106 -2.01613838  3.01025816\n",
      "  1.04597125  2.52144802  1.97589346  2.30163804  1.05013267  3.28593322\n",
      " -1.66953043  2.40547314  2.51310367  1.64922803  2.81756289  2.03561563\n",
      "  2.43982215 -0.37450896 -0.32098072  3.46380694  1.92010583 -3.84087361\n",
      "  2.08197904  0.73021974  0.95752751  1.04424136  2.31834387  2.33134088\n",
      "  0.58767509 -3.18271154  1.60857667  2.16320738 -3.09081033  1.07710759\n",
      "  2.70423853  3.07085271  1.54167336] \n",
      " [ 2.90721943  3.89562403  1.36399219  3.97816711  4.06748398  2.84740532\n",
      "  9.81263395  4.03674562 10.84680866 11.31879078  2.24272189 12.88285943\n",
      "  4.62693143 11.10010885  6.00711357  3.69025504 18.66049669  6.7807474\n",
      "  3.98389054 13.40578608  5.9790589   2.7915321   5.38974711  3.59355052\n",
      "  8.45600254  9.53646271  3.16811944  1.5729024  11.16857949  4.37708471\n",
      "  9.11264449  7.06777624  4.97394735  2.40453896  4.14217131  5.14315034\n",
      " 10.83333857  3.43009274  4.90104804  9.54115236 11.93560701  1.88281391\n",
      "  5.81138775  2.86043421  3.95154332  3.30005417  5.80306491  1.33146381\n",
      " 11.24239111  3.09238397  2.87712291  4.60487419  2.26820446  3.83209899\n",
      "  3.02368595  8.65234817  8.54529169  0.97571636  4.06311858 15.58507746\n",
      "  3.73937216  6.44289077  5.98827523  5.81484752  3.2666425   3.24064848\n",
      "  6.72798006 14.26875331  4.68617691  3.57691548 14.0849509   5.74911506\n",
      "  2.49485318  1.76162482  4.81998352]\n"
     ]
    }
   ],
   "source": [
    "print( ln_L, '\\n', chi_2)"
   ]
  },
  {
   "cell_type": "code",
   "execution_count": 21,
   "metadata": {},
   "outputs": [
    {
     "name": "stdout",
     "output_type": "stream",
     "text": [
      "127.587 1.618736048651312 41.474913887592386 25.616314472698207\n"
     ]
    }
   ],
   "source": [
    "T = (max(t) - min(t)).value\n",
    "Delta = (4*np.median(samples['P'].value**2)) / (2*np.pi * T)\n",
    "P_rms = np.sqrt(np.mean(samples['P'].value**2))\n",
    "P_var = np.sqrt(np.var(samples['P'].value))\n",
    "print( T, Delta, P_rms,P_var)"
   ]
  },
  {
   "cell_type": "code",
   "execution_count": 13,
   "metadata": {},
   "outputs": [
    {
     "data": {
      "text/plain": [
       "1.5"
      ]
     },
     "execution_count": 13,
     "metadata": {},
     "output_type": "execute_result"
    }
   ],
   "source": []
  },
  {
   "cell_type": "markdown",
   "metadata": {},
   "source": [
    "# I want to mess around with the _.rejection_sample for a little while to see exactly how it's going about doing this around not having K or v0 and how it commes up with those values after it does the marginalization over the non-linear paramiters"
   ]
  },
  {
   "cell_type": "code",
   "execution_count": 129,
   "metadata": {},
   "outputs": [],
   "source": [
    "from thejoker.data import RVData\n",
    "from thejoker.plot import plot_rv_curves\n",
    "from thejoker.sampler import compute_likelihoods\n",
    "import astropy.units as  u\n",
    "import matplotlib.pyplot as plt\n",
    "import numpy as np\n",
    "import schwimmbad\n",
    "import tempfile\n",
    "from thejoker.sampler import TheJoker\n",
    "from thejoker.sampler import JokerParams\n",
    "from thejoker.sampler import multiproc_helpers\n",
    "t = [0., 49.452, 95.393, 127.587, 38.31] * u.d\n",
    "rv_dat = [38.77, 39.70, 37.45, 38.31, 38.31]* u.km/u.s\n",
    "err = [0.184, 0.261, 0.112, 0.155, 0.233] * u.km/u.s\n",
    "\n",
    "data = RVData(t = t, rv=rv_dat, stddev = err)"
   ]
  },
  {
   "cell_type": "code",
   "execution_count": 113,
   "metadata": {},
   "outputs": [],
   "source": [
    "params = JokerParams(P_min = 8*u.day, P_max= 512*u.day)\n",
    "joker = TheJoker(params)\n",
    "start_idx = 0\n",
    "pool = schwimmbad.SerialPool()"
   ]
  },
  {
   "cell_type": "code",
   "execution_count": 115,
   "metadata": {},
   "outputs": [],
   "source": [
    "import thejoker.sampler\n",
    "n_prior_samples = 2**3\n",
    "prior_cache_file = None\n",
    "n_batches = None"
   ]
  },
  {
   "cell_type": "code",
   "execution_count": 140,
   "metadata": {},
   "outputs": [],
   "source": [
    "from thejoker.sampler import io\n",
    "n_prior_samples, cache_exists = joker._validate_prior_cache(n_prior_samples=2**3, prior_cache_file=None)\n",
    "with tempfile.NamedTemporaryFile(mode = 'r+') as f:\n",
    "    prior_cache_file = f.name\n",
    "    prior_samples = joker.sample_prior(2**3)\n",
    "    prior_units = io.save_prior_samples(prior_cache_file, prior_samples, data.rv.unit)\n",
    "    #result = joker._rejection_sample_from_cache(data, n_prior_samples,prior_cache_file,start_idx=0,\n",
    "    #                                             seed = None ,return_logprobs=False) \n",
    "    #marg_lls = compute_likelihoods(n_prior_samples, prior_cache_file, start_idx,data, params, pool,\n",
    "    #                           n_batches)\n",
    "    #Still to much going on in this so I'm going to dive into how this works.\n",
    "    args = [prior_cache_file, data, params]\n",
    "    if n_batches is None:\n",
    "        n_batches = pool.size\n",
    "    tasks = multiproc_helpers.chunk_tasks(n_prior_samples, n_batches, args = args, start_idx = 0)\n",
    "    #results = [r for r in pool.map(multiproc_helpers._marginal_ll_worker, tasks\n",
    "    \n",
    "    #How does _marfinal_ll_worker, work? Mainly just calls batch_marginal_ln_likelihood, cuts it up into batches\n",
    "    # first for parrallelization.\n",
    "    "
   ]
  },
  {
   "cell_type": "markdown",
   "metadata": {},
   "source": [
    "After running this last section I've done the rejection sampling, I went from a random batch of 2^18 samples in [p,e,M0,omega]. After doing the random rejection I've been left with 55. The output 'result' is a numpy.ndarray. It doesn't have units I want to still dive into what _rejection_sample_fom_cache_ does so I'm not going to run it but run all the things it calls individually. "
   ]
  },
  {
   "cell_type": "code",
   "execution_count": 142,
   "metadata": {},
   "outputs": [],
   "source": []
  },
  {
   "cell_type": "code",
   "execution_count": 120,
   "metadata": {},
   "outputs": [
    {
     "data": {
      "text/plain": [
       "JokerSamples([('P',\n",
       "               <Quantity [279.40843391,  28.79886281, 118.41569201,  49.82045649,\n",
       "                          424.93137328, 271.42461562, 172.84698413, 304.03136451] d>),\n",
       "              ('M0',\n",
       "               <Quantity [2.18916589, 3.38790059, 2.63794706, 1.14584799, 4.14965503,\n",
       "                          6.04096116, 0.08169327, 5.41519338] rad>),\n",
       "              ('e',\n",
       "               <Quantity [0.42187487, 0.19919702, 0.514397  , 0.10360886, 0.04020911,\n",
       "                          0.1505639 , 0.54001322, 0.1323107 ]>),\n",
       "              ('omega',\n",
       "               <Quantity [0.931598  , 5.57325539, 3.76062018, 5.74371535, 6.14352925,\n",
       "                          4.08394685, 4.29176408, 4.55321679] rad>),\n",
       "              ('jitter', <Quantity [0., 0., 0., 0., 0., 0., 0., 0.] km / s>)])"
      ]
     },
     "execution_count": 120,
     "metadata": {},
     "output_type": "execute_result"
    }
   ],
   "source": [
    "prior_samples"
   ]
  },
  {
   "cell_type": "code",
   "execution_count": 99,
   "metadata": {},
   "outputs": [
    {
     "data": {
      "text/plain": [
       "(array([4033., 3273., 2977., 2717., 2553., 2426., 2368., 2179., 2230.,\n",
       "        1968., 1977., 1859., 1759., 1699., 1608., 1559., 1515., 1378.,\n",
       "        1418., 1336., 1191., 1176., 1145., 1116., 1046., 1048.,  971.,\n",
       "         916.,  922.,  848.,  841.,  779.,  739.,  688.,  684.,  649.,\n",
       "         584.,  596.,  558.,  499.,  485.,  450.,  412.,  401.,  373.,\n",
       "         314.,  321.,  307.,  260.,  243.,  230.,  219.,  217.,  177.,\n",
       "         160.,  153.,  124.,  126.,  127.,   97.,   79.,   79.,   70.,\n",
       "          57.,   55.,   51.,   38.,   23.,   16.,   15.,   13.,    8.,\n",
       "           8.]),\n",
       " array([2.55067032e-06, 1.30593028e-02, 2.61160550e-02, 3.91728072e-02,\n",
       "        5.22295593e-02, 6.52863115e-02, 7.83430636e-02, 9.13998158e-02,\n",
       "        1.04456568e-01, 1.17513320e-01, 1.30570072e-01, 1.43626824e-01,\n",
       "        1.56683577e-01, 1.69740329e-01, 1.82797081e-01, 1.95853833e-01,\n",
       "        2.08910585e-01, 2.21967337e-01, 2.35024090e-01, 2.48080842e-01,\n",
       "        2.61137594e-01, 2.74194346e-01, 2.87251098e-01, 3.00307850e-01,\n",
       "        3.13364603e-01, 3.26421355e-01, 3.39478107e-01, 3.52534859e-01,\n",
       "        3.65591611e-01, 3.78648363e-01, 3.91705115e-01, 4.04761868e-01,\n",
       "        4.17818620e-01, 4.30875372e-01, 4.43932124e-01, 4.56988876e-01,\n",
       "        4.70045628e-01, 4.83102381e-01, 4.96159133e-01, 5.09215885e-01,\n",
       "        5.22272637e-01, 5.35329389e-01, 5.48386141e-01, 5.61442894e-01,\n",
       "        5.74499646e-01, 5.87556398e-01, 6.00613150e-01, 6.13669902e-01,\n",
       "        6.26726654e-01, 6.39783407e-01, 6.52840159e-01, 6.65896911e-01,\n",
       "        6.78953663e-01, 6.92010415e-01, 7.05067167e-01, 7.18123920e-01,\n",
       "        7.31180672e-01, 7.44237424e-01, 7.57294176e-01, 7.70350928e-01,\n",
       "        7.83407680e-01, 7.96464432e-01, 8.09521185e-01, 8.22577937e-01,\n",
       "        8.35634689e-01, 8.48691441e-01, 8.61748193e-01, 8.74804945e-01,\n",
       "        8.87861698e-01, 9.00918450e-01, 9.13975202e-01, 9.27031954e-01,\n",
       "        9.40088706e-01, 9.53145458e-01]),\n",
       " <a list of 73 Patch objects>)"
      ]
     },
     "execution_count": 99,
     "metadata": {},
     "output_type": "execute_result"
    },
    {
     "data": {
      "image/png": "[encoded data removed]",
      "text/plain": [
       "<matplotlib.figure.Figure at 0x7f13bbfb5f60>"
      ]
     },
     "metadata": {},
     "output_type": "display_data"
    }
   ],
   "source": [
    "plt.hist(e, bins = 'auto')"
   ]
  },
  {
   "cell_type": "code",
   "execution_count": 72,
   "metadata": {},
   "outputs": [
    {
     "data": {
      "text/plain": [
       "262144"
      ]
     },
     "execution_count": 72,
     "metadata": {},
     "output_type": "execute_result"
    }
   ],
   "source": []
  },
  {
   "cell_type": "code",
   "execution_count": null,
   "metadata": {},
   "outputs": [],
   "source": []
  }
 ],
 "metadata": {
  "kernelspec": {
   "display_name": "Python 3",
   "language": "python",
   "name": "python3"
  },
  "language_info": {
   "codemirror_mode": {
    "name": "ipython",
    "version": 3
   },
   "file_extension": ".py",
   "mimetype": "text/x-python",
   "name": "python",
   "nbconvert_exporter": "python",
   "pygments_lexer": "ipython3",
   "version": "3.6.4"
  }
 },
 "nbformat": 4,
 "nbformat_minor": 2
}
