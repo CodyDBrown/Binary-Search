{
 "cells": [
  {
   "cell_type": "code",
   "execution_count": 50,
   "metadata": {},
   "outputs": [],
   "source": [
    "from astropy.table import Table, Column\n",
    "from astropy.io import fits\n",
    "import numpy as np\n",
    "import matplotlib.pyplot as plt\n",
    "import astropy.units as u\n",
    "from astropy.constants import G, sigma_sb, c\n",
    "import scipy.stats\n",
    "\n",
    "import warnings\n",
    "warnings.filterwarnings('ignore')"
   ]
  },
  {
   "cell_type": "code",
   "execution_count": 51,
   "metadata": {},
   "outputs": [
    {
     "data": {
      "text/plain": [
       "'/home/cody/Binary Search'"
      ]
     },
     "execution_count": 51,
     "metadata": {},
     "output_type": "execute_result"
    }
   ],
   "source": [
    "pwd"
   ]
  },
  {
   "cell_type": "code",
   "execution_count": 52,
   "metadata": {},
   "outputs": [],
   "source": []
  },
  {
   "cell_type": "markdown",
   "metadata": {},
   "source": [
    "I've already done a lot of the table clean stuff, so the only thing left to do right now is to add the RV values"
   ]
  },
  {
   "cell_type": "code",
   "execution_count": 58,
   "metadata": {},
   "outputs": [],
   "source": [
    "\n",
    "%run Binary_Data_Clean2.py\n",
    "Tables = Binary_Data_Clean2('/home/cody/Binary Search/2nd_Data_Set/mc_rgb_nocuts.fits','/home/cody/Binary Search/2nd_Data_Set/allVisit-t9-l31c-58247.mc.fits',\n",
    "                          '/home/cody/Binary Search/parsec_decamsdss_all.fits.gz')"
   ]
  },
  {
   "cell_type": "code",
   "execution_count": 59,
   "metadata": {},
   "outputs": [],
   "source": [
    "AllAvg, AllVis, ISO = Tables.get_data()"
   ]
  },
  {
   "cell_type": "code",
   "execution_count": 60,
   "metadata": {
    "scrolled": true
   },
   "outputs": [],
   "source": [
    "AllAvg, AllVis, ISO = Tables.get_data()\n",
    "AllVis = Tables.cuts(AllVis)\n",
    "AllAvg = Tables.nvisits_cut(AllAvg,5)"
   ]
  },
  {
   "cell_type": "code",
   "execution_count": 65,
   "metadata": {},
   "outputs": [],
   "source": [
    "AAS_RG = Tables.rg_cut(AllAvg)"
   ]
  },
  {
   "cell_type": "code",
   "execution_count": 67,
   "metadata": {},
   "outputs": [],
   "source": [
    "AAS_RG_ISO = Tables.iso_fit(AAS_RG, ISO, limit=0.005)"
   ]
  },
  {
   "cell_type": "code",
   "execution_count": 68,
   "metadata": {
    "scrolled": true
   },
   "outputs": [],
   "source": [
    "AAS_RV = Tables.rv_table_add(AAS_RG_ISO, AllVis)"
   ]
  },
  {
   "cell_type": "code",
   "execution_count": 69,
   "metadata": {
    "scrolled": true
   },
   "outputs": [
    {
     "data": {
      "text/html": [
       "<i>Table length=733</i>\n",
       "<table id=\"table140576581257872\" class=\"table-striped table-bordered table-condensed\">\n",
       "<thead><tr><th>RADIALV</th><th>RADIAL_ERR</th><th>RADIAL_DATE</th><th>APSTAR_ID</th><th>TARGET_ID</th><th>ASPCAP_ID</th><th>FILE</th><th>APOGEE_ID</th><th>TELESCOPE</th><th>LOCATION_ID</th><th>FIELD</th><th>J</th><th>J_ERR</th><th>H</th><th>H_ERR</th><th>K</th><th>K_ERR</th><th>RA</th><th>DEC</th><th>GLON</th><th>GLAT</th><th>APOGEE_TARGET1</th><th>APOGEE_TARGET2</th><th>APOGEE_TARGET3</th><th>APOGEE2_TARGET1</th><th>APOGEE2_TARGET2</th><th>APOGEE2_TARGET3</th><th>TARGFLAGS</th><th>SURVEY</th><th>NINST [3]</th><th>NVISITS</th><th>COMBTYPE</th><th>COMMISS</th><th>SNR</th><th>STARFLAG</th><th>STARFLAGS</th><th>ANDFLAG</th><th>ANDFLAGS</th><th>VHELIO_AVG</th><th>VSCATTER</th><th>VERR</th><th>VERR_MED</th><th>OBSVHELIO_AVG</th><th>OBSVSCATTER</th><th>OBSVERR</th><th>OBSVERR_MED</th><th>SYNTHVHELIO_AVG</th><th>SYNTHVSCATTER</th><th>SYNTHVERR</th><th>SYNTHVERR_MED</th><th>RV_TEFF</th><th>RV_LOGG</th><th>RV_FEH</th><th>RV_ALPHA</th><th>RV_CARB</th><th>RV_CCFWHM</th><th>RV_AUTOFWHM</th><th>SYNTHSCATTER</th><th>STABLERV_CHI2 [2]</th><th>STABLERV_RCHI2 [2]</th><th>CHI2_THRESHOLD [2]</th><th>STABLERV_CHI2_PROB [2]</th><th>MEANFIB</th><th>SIGFIB</th><th>SNREV</th><th>APSTAR_VERSION</th><th>ASPCAP_VERSION</th><th>RESULTS_VERSION</th><th>EXTRATARG</th><th>MIN_H</th><th>MAX_H</th><th>MIN_JK</th><th>MAX_JK</th><th>PARAM [9]</th><th>FPARAM [9]</th><th>PARAM_COV [9,9]</th><th>FPARAM_COV [9,9]</th><th>TEFF</th><th>TEFF_ERR</th><th>LOGG</th><th>LOGG_ERR</th><th>VMICRO</th><th>VMACRO</th><th>VSINI</th><th>M_H</th><th>M_H_ERR</th><th>ALPHA_M</th><th>ALPHA_M_ERR</th><th>ASPCAP_CHI2</th><th>ASPCAP_CLASS</th><th>ASPCAPFLAG</th><th>ASPCAPFLAGS</th><th>PARAMFLAG [9]</th><th>FELEM [26]</th><th>FELEM_ERR [26]</th><th>X_H [26]</th><th>X_H_ERR [26]</th><th>X_M [26]</th><th>X_M_ERR [26]</th><th>C_FE</th><th>CI_FE</th><th>N_FE</th><th>O_FE</th><th>NA_FE</th><th>MG_FE</th><th>AL_FE</th><th>SI_FE</th><th>P_FE</th><th>S_FE</th><th>K_FE</th><th>CA_FE</th><th>TI_FE</th><th>TIII_FE</th><th>V_FE</th><th>CR_FE</th><th>MN_FE</th><th>FE_H</th><th>CO_FE</th><th>NI_FE</th><th>CU_FE</th><th>GE_FE</th><th>RB_FE</th><th>Y_FE</th><th>ND_FE</th><th>C_FE_ERR</th><th>CI_FE_ERR</th><th>N_FE_ERR</th><th>O_FE_ERR</th><th>NA_FE_ERR</th><th>MG_FE_ERR</th><th>AL_FE_ERR</th><th>SI_FE_ERR</th><th>P_FE_ERR</th><th>S_FE_ERR</th><th>K_FE_ERR</th><th>CA_FE_ERR</th><th>TI_FE_ERR</th><th>TIII_FE_ERR</th><th>V_FE_ERR</th><th>CR_FE_ERR</th><th>MN_FE_ERR</th><th>FE_H_ERR</th><th>CO_FE_ERR</th><th>NI_FE_ERR</th><th>CU_FE_ERR</th><th>GE_FE_ERR</th><th>RB_FE_ERR</th><th>Y_FE_ERR</th><th>ND_FE_ERR</th><th>C_FE_FLAG</th><th>CI_FE_FLAG</th><th>N_FE_FLAG</th><th>O_FE_FLAG</th><th>NA_FE_FLAG</th><th>MG_FE_FLAG</th><th>AL_FE_FLAG</th><th>SI_FE_FLAG</th><th>P_FE_FLAG</th><th>S_FE_FLAG</th><th>K_FE_FLAG</th><th>CA_FE_FLAG</th><th>TI_FE_FLAG</th><th>TIII_FE_FLAG</th><th>V_FE_FLAG</th><th>CR_FE_FLAG</th><th>MN_FE_FLAG</th><th>FE_H_FLAG</th><th>CO_FE_FLAG</th><th>NI_FE_FLAG</th><th>CU_FE_FLAG</th><th>GE_FE_FLAG</th><th>RB_FE_FLAG</th><th>Y_FE_FLAG</th><th>ND_FE_FLAG</th><th>ELEM_CHI2 [26]</th><th>ELEMFLAG [26]</th><th>REDUCTION_ID</th><th>SRC_H</th><th>WASH_M</th><th>WASH_M_ERR</th><th>WASH_T2</th><th>WASH_T2_ERR</th><th>DDO51</th><th>DDO51_ERR</th><th>IRAC_3_6</th><th>IRAC_3_6_ERR</th><th>IRAC_4_5</th><th>IRAC_4_5_ERR</th><th>IRAC_5_8</th><th>IRAC_5_8_ERR</th><th>IRAC_8_0</th><th>IRAC_8_0_ERR</th><th>WISE_4_5</th><th>WISE_4_5_ERR</th><th>TARG_4_5</th><th>TARG_4_5_ERR</th><th>AK_TARG</th><th>AK_TARG_METHOD</th><th>AK_WISE</th><th>SFD_EBV</th><th>WASH_DDO51_GIANT_FLAG</th><th>WASH_DDO51_STAR_FLAG</th><th>PMRA</th><th>PMDEC</th><th>PM_SRC</th><th>ALL_VISITS</th><th>VISITS</th><th>ALL_VISIT_PK [50]</th><th>VISIT_PK [50]</th><th>FPARAM_CLASS [23,9]</th><th>CHI2_CLASS [23]</th><th>LMCPA</th><th>LMCRAD</th><th>SMCPA</th><th>SMCRAD</th><th>MLON</th><th>MLAT</th><th>M</th><th>MERR</th><th>DDO51ERR</th><th>T2</th><th>T2ERR</th><th>DELTA_VHELIO</th><th>DELTA_PMRA</th><th>DELTA_PMDEC</th><th>DELTA_FEH</th><th>DELTA_ALPHA</th><th>TARGET_TYPE</th><th>TARGET_NAME</th><th>PRIORITY</th><th>GAIA_SOURCEID</th><th>GAIA_PARALLAX</th><th>GAIA_PARALLAX_ERROR</th><th>GAIA_DIST05</th><th>GAIA_DIST_MODE</th><th>GAIA_DIST95</th><th>GAIA_PMRA</th><th>GAIA_PMRA_ERROR</th><th>GAIA_PMDEC</th><th>GAIA_PMDEC_ERROR</th><th>GAIA_GMAG</th><th>GAIA_BPMAG</th><th>GAIA_RPMAG</th><th>GAIA_PML</th><th>GAIA_PMB</th><th>GAIA_PMML</th><th>GAIA_PMMB</th><th>ISO_MEANM</th><th>ISO_MEDIANM</th><th>ISO_STDM</th><th>ISO_MEANL</th><th>ISO_MEDIANL</th><th>ISO_STDL</th><th>ISO_MEANR</th></tr></thead>\n",
       "<thead><tr><th></th><th></th><th></th><th></th><th></th><th></th><th></th><th></th><th></th><th></th><th></th><th></th><th></th><th></th><th></th><th></th><th></th><th></th><th></th><th></th><th></th><th></th><th></th><th></th><th></th><th></th><th></th><th></th><th></th><th></th><th></th><th></th><th></th><th></th><th></th><th></th><th></th><th></th><th></th><th></th><th></th><th></th><th></th><th></th><th></th><th></th><th></th><th></th><th></th><th></th><th></th><th></th><th></th><th></th><th></th><th></th><th></th><th></th><th></th><th></th><th></th><th></th><th></th><th></th><th></th><th></th><th></th><th></th><th></th><th></th><th></th><th></th><th></th><th></th><th></th><th></th><th></th><th></th><th></th><th></th><th></th><th></th><th></th><th></th><th></th><th></th><th></th><th></th><th></th><th></th><th></th><th></th><th></th><th></th><th></th><th></th><th></th><th></th><th></th><th></th><th></th><th></th><th></th><th></th><th></th><th></th><th></th><th></th><th></th><th></th><th></th><th></th><th></th><th></th><th></th><th></th><th></th><th></th><th></th><th></th><th></th><th></th><th></th><th></th><th></th><th></th><th></th><th></th><th></th><th></th><th></th><th></th><th></th><th></th><th></th><th></th><th></th><th></th><th></th><th></th><th></th><th></th><th></th><th></th><th></th><th></th><th></th><th></th><th></th><th></th><th></th><th></th><th></th><th></th><th></th><th></th><th></th><th></th><th></th><th></th><th></th><th></th><th></th><th></th><th></th><th></th><th></th><th></th><th></th><th></th><th></th><th></th><th></th><th></th><th></th><th></th><th></th><th></th><th></th><th></th><th></th><th></th><th></th><th></th><th></th><th></th><th></th><th></th><th></th><th></th><th></th><th></th><th></th><th></th><th></th><th></th><th></th><th></th><th></th><th></th><th></th><th></th><th></th><th></th><th></th><th></th><th></th><th></th><th></th><th></th><th></th><th></th><th></th><th></th><th></th><th></th><th></th><th></th><th></th><th></th><th></th><th></th><th></th><th></th><th></th><th></th><th></th><th></th><th></th><th></th><th></th><th></th><th></th><th></th><th></th><th></th><th></th><th></th><th></th><th></th><th></th><th></th><th></th><th></th><th></th><th></th><th></th><th>solMass</th><th>solMass</th><th>solMass</th><th>solLum</th><th>solLum</th><th>solLum</th><th>solRad</th></tr></thead>\n",
       "<thead><tr><th>str111</th><th>str111</th><th>str141</th><th>str47</th><th>str36</th><th>str59</th><th>str38</th><th>str18</th><th>str8</th><th>int32</th><th>str5</th><th>float32</th><th>float32</th><th>float32</th><th>float32</th><th>float32</th><th>float32</th><th>float64</th><th>float64</th><th>float64</th><th>float64</th><th>int32</th><th>int32</th><th>int32</th><th>int32</th><th>int32</th><th>int32</th><th>str192</th><th>str35</th><th>int32</th><th>int32</th><th>int32</th><th>int16</th><th>float32</th><th>int32</th><th>str165</th><th>int32</th><th>str58</th><th>float32</th><th>float32</th><th>float32</th><th>float32</th><th>float32</th><th>float32</th><th>float32</th><th>float32</th><th>float32</th><th>float32</th><th>float32</th><th>float32</th><th>float32</th><th>float32</th><th>float32</th><th>float32</th><th>float32</th><th>float32</th><th>float32</th><th>float32</th><th>float32</th><th>float32</th><th>float32</th><th>float32</th><th>float32</th><th>float32</th><th>float32</th><th>str5</th><th>str4</th><th>str7</th><th>int16</th><th>float32</th><th>float32</th><th>float32</th><th>float32</th><th>float32</th><th>float32</th><th>float32</th><th>float32</th><th>float32</th><th>float32</th><th>float32</th><th>float32</th><th>float32</th><th>float32</th><th>float32</th><th>float32</th><th>float32</th><th>float32</th><th>float32</th><th>float32</th><th>str5</th><th>int32</th><th>str189</th><th>int32</th><th>float32</th><th>float32</th><th>float32</th><th>float32</th><th>float32</th><th>float32</th><th>float32</th><th>float32</th><th>float32</th><th>float32</th><th>float32</th><th>float32</th><th>float32</th><th>float32</th><th>float32</th><th>float32</th><th>float32</th><th>float32</th><th>float32</th><th>float32</th><th>float32</th><th>float32</th><th>float32</th><th>float32</th><th>float32</th><th>float32</th><th>float32</th><th>float32</th><th>float32</th><th>float32</th><th>float32</th><th>float32</th><th>float32</th><th>float32</th><th>float32</th><th>float32</th><th>float32</th><th>float32</th><th>float32</th><th>float32</th><th>float32</th><th>float32</th><th>float32</th><th>float32</th><th>float32</th><th>float32</th><th>float32</th><th>float32</th><th>float32</th><th>float32</th><th>float32</th><th>float32</th><th>float32</th><th>float32</th><th>float32</th><th>float32</th><th>int32</th><th>int32</th><th>int32</th><th>int32</th><th>int32</th><th>int32</th><th>int32</th><th>int32</th><th>int32</th><th>int32</th><th>int32</th><th>int32</th><th>int32</th><th>int32</th><th>int32</th><th>int32</th><th>int32</th><th>int32</th><th>int32</th><th>int32</th><th>int32</th><th>int32</th><th>int32</th><th>int32</th><th>int32</th><th>float32</th><th>int32</th><th>str23</th><th>str14</th><th>float32</th><th>float32</th><th>float32</th><th>float32</th><th>float32</th><th>float32</th><th>float32</th><th>float32</th><th>float32</th><th>float32</th><th>float32</th><th>float32</th><th>float32</th><th>float32</th><th>float32</th><th>float32</th><th>float32</th><th>float32</th><th>float32</th><th>str17</th><th>float32</th><th>float32</th><th>int16</th><th>int16</th><th>float32</th><th>float32</th><th>str20</th><th>str1044</th><th>str917</th><th>int32</th><th>int32</th><th>float32</th><th>float32</th><th>float32</th><th>float32</th><th>float32</th><th>float32</th><th>float32</th><th>float32</th><th>float32</th><th>float32</th><th>float32</th><th>float32</th><th>float32</th><th>float32</th><th>float32</th><th>float32</th><th>float32</th><th>float32</th><th>int32</th><th>str11</th><th>int32</th><th>int64</th><th>float32</th><th>float32</th><th>float32</th><th>float32</th><th>float32</th><th>float32</th><th>float32</th><th>float32</th><th>float32</th><th>float32</th><th>float32</th><th>float32</th><th>float32</th><th>float32</th><th>float32</th><th>float32</th><th>float64</th><th>float64</th><th>float64</th><th>float64</th><th>float64</th><th>float64</th><th>float64</th></tr></thead>\n",
       "<tr><td>223.86137 223.76282 223.079   223.00877 223.60187</td><td>0.1 0.1 0.1 0.1 0.1</td><td>2458026.79485 2458029.82855 2458052.72718 2458057.74579 2458061.70327</td><td>apogee.apo25m.s.stars.LMC-8.2M05085554-7249522</td><td>LMC-8.2M05085554-7249522</td><td>apogee.apo25m.s.t9-l31c.LMC-8.2M05085554-7249522</td><td>apStar-t9-2M05085554-7249522.fits</td><td>2M05085554-7249522</td><td>lco25m</td><td>5487</td><td>LMC8</td><td>13.29</td><td>0.022</td><td>12.422</td><td>0.026</td><td>12.165</td><td>0.027</td><td>77.231431</td><td>-72.831177</td><td>284.359685373</td><td>-33.3186819309</td><td>0</td><td>0</td><td>0</td><td>-2139094912</td><td>0</td><td>0</td><td>APOGEE2_WASH_GIANT,APOGEE2_MAGCLOUD_CANDIDATE</td><td>apogee2s</td><td>0 .. 5</td><td>5</td><td>1</td><td>0</td><td>77.2405</td><td>4</td><td>BRIGHT_NEIGHBOR</td><td>0</td><td></td><td>223.464</td><td>0.394226</td><td>0.0138002</td><td>0.0314683</td><td>223.482</td><td>0.415443</td><td>0.0133336</td><td>0.0305439</td><td>223.403</td><td>0.41035</td><td>0.012215</td><td>0.0278466</td><td>3500.0</td><td>1.0</td><td>-0.5</td><td>0.0</td><td>0.0</td><td>21.798</td><td>20.5562</td><td>0.0437592</td><td>660.5078 .. 930.2531</td><td>12.850173 .. 15.250026</td><td>18.466919 .. 18.466919</td><td>0.0 .. 0.0</td><td>296.627</td><td>1.34164</td><td>85.40201</td><td>stars</td><td>l31c</td><td>t9-l31c</td><td>1</td><td>-9999.99</td><td>9999.99</td><td>-9999.99</td><td>9999.99</td><td>3788.7832 .. 0.0</td><td>3704.9 .. 0.0</td><td>2677.081 .. 0.0</td><td>7.0477 .. 0.0</td><td>3788.7832</td><td>51.740517</td><td>0.7273977</td><td>0.071192734</td><td>2.5665517</td><td>10.0</td><td>-9999.99</td><td>-0.53785324</td><td>0.022050116</td><td>0.011788052</td><td>0.021621335</td><td>4.336107</td><td>GKg</td><td>0</td><td></td><td>512 .. 65536</td><td>-0.11379 .. -1.2484</td><td>0.0023329167 .. 0.115139045</td><td>-0.6516432 .. -9999.0</td><td>0.021853883 .. -9999.0</td><td>-0.11379 .. -9999.0</td><td>0.021853883 .. -9999.0</td><td>-0.1542499</td><td>-0.1738599</td><td>0.075100064</td><td>0.05087316</td><td>-0.19902784</td><td>0.03344041</td><td>-0.5829248</td><td>-0.0033373237</td><td>-0.4322297</td><td>0.5978539</td><td>-0.10835254</td><td>0.033602685</td><td>-0.16356254</td><td>0.15922356</td><td>-0.07854545</td><td>0.13353628</td><td>-0.1269573</td><td>-0.4973933</td><td>-0.21035272</td><td>0.0065446496</td><td>-9999.99</td><td>-9999.99</td><td>-9999.99</td><td>-9999.99</td><td>-9999.99</td><td>0.021853883</td><td>0.05041548</td><td>0.032674074</td><td>0.024293935</td><td>0.08449557</td><td>0.035339393</td><td>0.036880873</td><td>0.027179783</td><td>0.09453333</td><td>0.12816006</td><td>0.05944437</td><td>0.039211508</td><td>0.034947317</td><td>0.07231767</td><td>0.053874835</td><td>0.048333544</td><td>0.037182942</td><td>0.012872229</td><td>0.060285985</td><td>0.028689735</td><td>-9999.99</td><td>-9999.99</td><td>-9999.99</td><td>-9999.99</td><td>-9999.99</td><td>512</td><td>512</td><td>512</td><td>512</td><td>512</td><td>512</td><td>512</td><td>512</td><td>512</td><td>512</td><td>512</td><td>512</td><td>512</td><td>512</td><td>512</td><td>512</td><td>512</td><td>512</td><td>512</td><td>512</td><td>2</td><td>2</td><td>512</td><td>2</td><td>2</td><td>4.0061755 .. 3.5007412</td><td>512 .. 2</td><td>2M05085554-7249522</td><td>2MASS</td><td>-9999.99</td><td>-9999.99</td><td>-9999.99</td><td>-9999.99</td><td>17.185</td><td>-9999.99</td><td>-9999.99</td><td>-9999.99</td><td>-9999.99</td><td>-9999.99</td><td>-9999.99</td><td>-9999.99</td><td>-9999.99</td><td>-9999.99</td><td>12.229</td><td>0.022</td><td>-9999.99</td><td>-9999.99</td><td>0.030884879</td><td>SFD</td><td>0.13127385</td><td>0.10226782</td><td>-1</td><td>1</td><td>-5.4</td><td>-4.5</td><td>HSOY</td><td>t9-10071-58026-296,t9-10071-58029-296,t9-10071-58052-296,t9-10071-58057-299,t9-10071-58061-296</td><td>t9-10071-58026-296,t9-10071-58029-296,t9-10071-58052-296,t9-10071-58057-299,t9-10071-58061-296</td><td>268190 .. -1</td><td>268190 .. -1</td><td>3617.7 .. 0.0</td><td>6.112516 .. 0.0</td><td>204.53412</td><td>3.3170402</td><td>120.8693</td><td>18.012655</td><td>-1.0400716</td><td>-0.7382308</td><td>17.1763</td><td>0.013</td><td>0.0115</td><td>14.6418</td><td>0.0061</td><td>-18.498001</td><td>-0.31984055</td><td>-0.32746184</td><td>0.08876997</td><td>0.012333587</td><td>9</td><td>BrtRGB</td><td>9000141</td><td>4651393270268075648</td><td>-0.04463099</td><td>0.040278874</td><td>8773.419</td><td>11810.24</td><td>18229.205</td><td>1.7693182</td><td>0.064176105</td><td>-0.0034034057</td><td>0.07584801</td><td>15.8662</td><td>16.871</td><td>14.8058</td><td>-0.49047676</td><td>1.6999798</td><td>1.7575427</td><td>0.20382011</td><td>1.1611250638961792</td><td>1.1334999799728394</td><td>0.20709837973117828</td><td>1126.8887939453125</td><td>1086.4515380859375</td><td>211.12738037109375</td><td>77.910226221432</td></tr>\n",
       "<tr><td>231.17038 230.89876 230.99196 230.83307 230.79813 231.04836 229.54332\n",
       " 230.8165  230.80255</td><td>0.1 0.1 0.1 0.1 0.1 0.1 0.1 0.1 0.1</td><td>2458026.79485 2458029.82855 2458052.72718 2458057.74579 2458061.70327\n",
       " 2458093.65772 2458096.63159 2458114.58676 2458122.53449</td><td>apogee.apo25m.s.stars.LMC8.2M05102833-7239125</td><td>LMC8.2M05102833-7239125</td><td>apogee.apo25m.s.t9-l31c.LMC8.2M05102833-7239125</td><td>apStar-t9-2M05102833-7239125.fits</td><td>2M05102833-7239125</td><td>lco25m</td><td>5511</td><td>LMC8</td><td>13.545</td><td>0.029</td><td>12.697</td><td>0.021</td><td>12.476</td><td>0.026</td><td>77.618058</td><td>-72.653473</td><td>284.117576483</td><td>-33.2572404434</td><td>0</td><td>0</td><td>0</td><td>-2139094912</td><td>0</td><td>0</td><td>APOGEE2_WASH_GIANT,APOGEE2_MAGCLOUD_CANDIDATE</td><td>apogee2s</td><td>0 .. 4</td><td>9</td><td>1</td><td>0</td><td>99.04082</td><td>0</td><td></td><td>0</td><td></td><td>230.7885</td><td>0.682285</td><td>0.21283552</td><td>0.031724</td><td>230.655</td><td>0.787565</td><td>0.0147931</td><td>0.031028</td><td>230.638</td><td>0.682285</td><td>0.0152174</td><td>0.031724</td><td>3500.0</td><td>2.0</td><td>-0.5</td><td>0.0</td><td>0.0</td><td>21.2242</td><td>20.8043</td><td>0.111131</td><td>938.6752 .. 938.6752</td><td>17.688745 .. 17.688745</td><td>16.266323 .. 16.266323</td><td>0.0 .. 0.0</td><td>255.884</td><td>100.04</td><td>77.720436</td><td>stars</td><td>l31c</td><td>t9-l31c</td><td>1</td><td>-9999.99</td><td>9999.99</td><td>-9999.99</td><td>9999.99</td><td>3881.9358 .. 0.0</td><td>3804.1357 .. 0.0</td><td>3070.9822 .. 0.0</td><td>7.0797 .. 0.0</td><td>3881.9358</td><td>55.416443</td><td>0.7931385</td><td>0.07105252</td><td>2.408685</td><td>10.0</td><td>-9999.99</td><td>-0.43857515</td><td>0.02219943</td><td>0.03101505</td><td>0.02052401</td><td>2.981261</td><td>GKg</td><td>0</td><td></td><td>0 .. 65536</td><td>-0.115922 .. -1.0837553</td><td>0.0028199467 .. 0.13311274</td><td>-0.59464514 .. -9999.0</td><td>0.02298221 .. -9999.0</td><td>-0.15607 .. -9999.0</td><td>0.02298221 .. -9999.0</td><td>-0.17268991</td><td>-0.18376994</td><td>0.1440301</td><td>0.08102435</td><td>-0.23298788</td><td>0.11266044</td><td>-0.44800484</td><td>0.037369728</td><td>-0.022249758</td><td>0.21067387</td><td>-0.09380251</td><td>0.035175383</td><td>-0.07475057</td><td>0.35764354</td><td>-0.2507255</td><td>0.07892728</td><td>-0.10013735</td><td>-0.42195523</td><td>-0.08756274</td><td>-0.099155426</td><td>-9999.99</td><td>-9999.99</td><td>-9999.99</td><td>-9999.99</td><td>-9999.99</td><td>0.02298221</td><td>0.05124445</td><td>0.033928785</td><td>0.025629055</td><td>0.093632795</td><td>0.033789758</td><td>0.040847275</td><td>0.027295701</td><td>0.09818424</td><td>0.12674384</td><td>0.061179496</td><td>0.03951086</td><td>0.036093537</td><td>0.07535825</td><td>0.05691178</td><td>0.049414866</td><td>0.03792179</td><td>0.012272925</td><td>0.06262986</td><td>0.029190557</td><td>-9999.99</td><td>-9999.99</td><td>-9999.99</td><td>-9999.99</td><td>-9999.99</td><td>512</td><td>512</td><td>512</td><td>0</td><td>512</td><td>512</td><td>512</td><td>0</td><td>512</td><td>512</td><td>512</td><td>0</td><td>0</td><td>512</td><td>512</td><td>0</td><td>512</td><td>512</td><td>512</td><td>512</td><td>2</td><td>2</td><td>512</td><td>2</td><td>2</td><td>2.9875832 .. 0.69361746</td><td>512 .. 2</td><td>2M05102833-7239125</td><td>2MASS</td><td>-9999.99</td><td>-9999.99</td><td>-9999.99</td><td>-9999.99</td><td>17.13</td><td>-9999.99</td><td>-9999.99</td><td>-9999.99</td><td>-9999.99</td><td>-9999.99</td><td>-9999.99</td><td>-9999.99</td><td>-9999.99</td><td>-9999.99</td><td>12.555</td><td>0.022</td><td>-9999.99</td><td>-9999.99</td><td>0.026582414</td><td>SFD</td><td>0.08445531</td><td>0.08802124</td><td>-1</td><td>1</td><td>10.2</td><td>-3.6</td><td>HSOY</td><td>t9-10071-58026-241,t9-10071-58029-283,t9-10071-58052-247,t9-10071-58057-241,t9-10071-58061-241,t9-10112-58093-289,t9-10112-58096-091,t9-10112-58114-295,t9-10112-58122-289</td><td>t9-10112-58093-289,t9-10112-58096-091,t9-10112-58114-295,t9-10112-58122-289</td><td>269907 .. -1</td><td>269912 .. -1</td><td>3746.9 .. 0.0</td><td>3.9584029 .. 0.0</td><td>204.25734</td><td>3.1061034</td><td>120.57121</td><td>18.20279</td><td>-0.94635534</td><td>-0.54861856</td><td>17.0792</td><td>0.0092</td><td>0.0117</td><td>14.8128</td><td>0.0057</td><td>-11.173508</td><td>0.01970601</td><td>-0.27229744</td><td>0.17784125</td><td>0.018277377</td><td>9</td><td>BrtRGB</td><td>9000126</td><td>4651402581757184000</td><td>-0.03848992</td><td>0.030610224</td><td>10639.706</td><td>14005.19</td><td>20692.688</td><td>2.1088648</td><td>0.05614699</td><td>0.051760994</td><td>0.0704759</td><td>15.9243</td><td>16.8952</td><td>14.9528</td><td>-0.62055916</td><td>2.0161588</td><td>2.0901668</td><td>0.28494322</td><td>1.2443846464157104</td><td>1.1380000114440918</td><td>0.41194257140159607</td><td>1064.8681640625</td><td>961.6123657226562</td><td>382.89276123046875</td><td>72.14474012997167</td></tr>\n",
       "<tr><td>235.15228 235.1603  235.3941  235.48442 235.66985</td><td>0.1 0.1 0.1 0.1 0.1</td><td>2458026.79485 2458029.82855 2458052.72718 2458057.74579 2458061.70327</td><td>apogee.apo25m.s.stars.LMC-8.2M05113350-7239194</td><td>LMC-8.2M05113350-7239194</td><td>apogee.apo25m.s.t9-l31c.LMC-8.2M05113350-7239194</td><td>apStar-t9-2M05113350-7239194.fits</td><td>2M05113350-7239194</td><td>lco25m</td><td>5487</td><td>LMC8</td><td>13.276</td><td>0.021</td><td>12.428</td><td>0.024</td><td>12.203</td><td>0.024</td><td>77.889589</td><td>-72.655411</td><td>284.093841725</td><td>-33.1787369406</td><td>0</td><td>0</td><td>0</td><td>-2139094912</td><td>0</td><td>0</td><td>APOGEE2_WASH_GIANT,APOGEE2_MAGCLOUD_CANDIDATE</td><td>apogee2s</td><td>0 .. 5</td><td>5</td><td>0</td><td>0</td><td>91.8256</td><td>0</td><td></td><td>0</td><td></td><td>235.366</td><td>0.220757</td><td>0.0129274</td><td>0.030308</td><td>235.351</td><td>0.244046</td><td>0.0117618</td><td>0.0279579</td><td>235.365</td><td>0.224281</td><td>0.0115895</td><td>0.0274023</td><td>3500.0</td><td>1.0</td><td>-0.5</td><td>0.0</td><td>0.0</td><td>22.1454</td><td>20.5555</td><td>0.0333882</td><td>231.49594 .. 310.0762</td><td>7.6074953 .. 8.80449</td><td>18.466919 .. 18.466919</td><td>0.0 .. 0.0</td><td>251.687</td><td>18.2975</td><td>99.232895</td><td>stars</td><td>l31c</td><td>t9-l31c</td><td>1</td><td>-9999.99</td><td>9999.99</td><td>-9999.99</td><td>9999.99</td><td>3869.2249 .. 0.0</td><td>3791.8 .. 0.0</td><td>2772.4465 .. 0.0</td><td>4.0587 .. 0.0</td><td>3869.2249</td><td>52.654026</td><td>0.8936295</td><td>0.06724587</td><td>2.3001702</td><td>10.0</td><td>-9999.99</td><td>-0.40191516</td><td>0.021793276</td><td>0.01073505</td><td>0.019319238</td><td>5.1835823</td><td>GKg</td><td>0</td><td></td><td>0 .. 65536</td><td>-0.12571 .. -1.3284</td><td>0.0020637587 .. 0.123324774</td><td>-0.52762514 .. -9999.0</td><td>0.02128639 .. -9999.0</td><td>-0.12571 .. -9999.0</td><td>0.02128639 .. -9999.0</td><td>-0.15447992</td><td>-0.19756997</td><td>0.17513005</td><td>0.038184047</td><td>-0.3330779</td><td>0.11945039</td><td>-0.5174048</td><td>-0.019498825</td><td>-0.016839743</td><td>0.18365385</td><td>-0.08055252</td><td>-0.01176551</td><td>-0.08686167</td><td>0.4776835</td><td>-0.13027549</td><td>0.09728268</td><td>-0.14716738</td><td>-0.37314522</td><td>-0.043962777</td><td>-0.15668547</td><td>-9999.99</td><td>-9999.99</td><td>-9999.99</td><td>-9999.99</td><td>-9999.99</td><td>0.02128639</td><td>0.04702708</td><td>0.032020673</td><td>0.023176018</td><td>0.07554734</td><td>0.031241046</td><td>0.03656183</td><td>0.025829863</td><td>0.092062175</td><td>0.09776093</td><td>0.053226702</td><td>0.034434225</td><td>0.03324467</td><td>0.072122216</td><td>0.05279782</td><td>0.04398822</td><td>0.03350387</td><td>0.011883694</td><td>0.05248453</td><td>0.025125219</td><td>-9999.99</td><td>-9999.99</td><td>-9999.99</td><td>-9999.99</td><td>-9999.99</td><td>512</td><td>512</td><td>512</td><td>0</td><td>512</td><td>512</td><td>512</td><td>0</td><td>512</td><td>512</td><td>512</td><td>0</td><td>0</td><td>512</td><td>512</td><td>0</td><td>512</td><td>512</td><td>512</td><td>512</td><td>2</td><td>258</td><td>512</td><td>2</td><td>2</td><td>4.8041883 .. 3.7084296</td><td>512 .. 2</td><td>2M05113350-7239194</td><td>2MASS</td><td>-9999.99</td><td>-9999.99</td><td>-9999.99</td><td>-9999.99</td><td>17.048477</td><td>-9999.99</td><td>-9999.99</td><td>-9999.99</td><td>-9999.99</td><td>-9999.99</td><td>-9999.99</td><td>-9999.99</td><td>-9999.99</td><td>-9999.99</td><td>12.299</td><td>0.022</td><td>-9999.99</td><td>-9999.99</td><td>0.02672683</td><td>SFD</td><td>0.07252261</td><td>0.08849944</td><td>-1</td><td>1</td><td>13.1</td><td>-8.3</td><td>HSOY</td><td>t9-10071-58026-243,t9-10071-58029-285,t9-10071-58052-249,t9-10071-58057-243,t9-10071-58061-243</td><td>t9-10071-58026-243,t9-10071-58029-285,t9-10071-58052-249,t9-10071-58057-243,t9-10071-58061-243</td><td>271647 .. -1</td><td>271647 .. -1</td><td>3722.5 .. 0.0</td><td>6.6672997 .. 0.0</td><td>202.90799</td><td>3.0704272</td><td>120.711914</td><td>18.270748</td><td>-0.8656666</td><td>-0.5417633</td><td>16.958826</td><td>0.0075740996</td><td>0.008235746</td><td>14.58033</td><td>0.004420372</td><td>-6.5960083</td><td>0.043391466</td><td>0.12021333</td><td>0.20778999</td><td>0.011280585</td><td>9</td><td>BrtRGB</td><td>9000273</td><td>4651390315330630016</td><td>0.019513581</td><td>0.026568428</td><td>9490.244</td><td>12302.555</td><td>18250.121</td><td>2.1325502</td><td>0.049712006</td><td>0.44427177</td><td>0.063971326</td><td>15.7394</td><td>16.7751</td><td>14.7402</td><td>-0.9956397</td><td>1.9374855</td><td>2.073282</td><td>0.6683191</td><td>1.4268946647644043</td><td>1.2280000448226929</td><td>0.46471336483955383</td><td>1000.6385498046875</td><td>851.13818359375</td><td>357.72027587890625</td><td>70.39537641555795</td></tr>\n",
       "<tr><td>237.23451 237.1751  237.20723 236.99663 236.96706 237.01067 237.1595\n",
       " 236.9611</td><td>0.1 0.1 0.1 0.1 0.1 0.1 0.1 0.1</td><td>2458026.79485 2458029.82855 2458057.74579 2458061.70327 2458093.65772\n",
       " 2458096.63159 2458114.58676 2458122.53449</td><td>apogee.apo25m.s.stars.LMC-8.2M05113647-7223369</td><td>LMC-8.2M05113647-7223369</td><td>apogee.apo25m.s.t9-l31c.LMC-8.2M05113647-7223369</td><td>apStar-t9-2M05113647-7223369.fits</td><td>2M05113647-7223369</td><td>lco25m</td><td>5487</td><td>LMC8</td><td>13.612</td><td>0.026</td><td>12.767</td><td>0.027</td><td>12.582</td><td>0.027</td><td>77.901961</td><td>-72.393608</td><td>283.790899174</td><td>-33.24441742</td><td>0</td><td>0</td><td>0</td><td>-2139094912</td><td>0</td><td>0</td><td>APOGEE2_WASH_GIANT,APOGEE2_MAGCLOUD_CANDIDATE</td><td>apogee2s</td><td>0 .. 4</td><td>8</td><td>0</td><td>0</td><td>108.78934</td><td>0</td><td></td><td>0</td><td></td><td>237.09702</td><td>0.107277</td><td>0.084849365</td><td>0.041499</td><td>237.078</td><td>0.128639</td><td>0.0178403</td><td>0.0370063</td><td>237.148</td><td>0.182387</td><td>0.0175002</td><td>0.0363942</td><td>3750.0</td><td>2.0</td><td>-0.5</td><td>0.0</td><td>0.0</td><td>21.8443</td><td>20.6856</td><td>0.061451</td><td>21.002434 .. 78.79071</td><td>2.6459045 .. 5.1247997</td><td>16.266323 .. 16.266323</td><td>0.00010514259 .. 0.0</td><td>251.37</td><td>9.0</td><td>75.74444</td><td>stars</td><td>l31c</td><td>t9-l31c</td><td>17</td><td>-9999.99</td><td>9999.99</td><td>-9999.99</td><td>9999.99</td><td>3960.3518 .. 0.0</td><td>3879.3286 .. 0.0</td><td>3402.235 .. 0.0</td><td>5.8672 .. 0.0</td><td>3960.3518</td><td>58.328682</td><td>1.0938455</td><td>0.072055966</td><td>2.2009492</td><td>10.0</td><td>-9999.99</td><td>-0.43703514</td><td>0.023194598</td><td>0.019382048</td><td>0.020591741</td><td>3.2414548</td><td>GKg</td><td>0</td><td></td><td>0 .. 65536</td><td>-0.11385922 .. -0.8876065</td><td>0.0029180986 .. 0.0955458</td><td>-0.5143771 .. -9999.0</td><td>0.024813954 .. -9999.0</td><td>-0.077342 .. -9999.0</td><td>0.024813954 .. -9999.0</td><td>-0.1241619</td><td>-0.1725499</td><td>0.040865064</td><td>0.046634972</td><td>-0.24396783</td><td>0.10807043</td><td>-0.5346448</td><td>0.11220744</td><td>-0.04843974</td><td>0.14058387</td><td>-0.18562257</td><td>-0.014154494</td><td>-0.108272195</td><td>0.5857735</td><td>-0.16244549</td><td>0.05079341</td><td>-0.20853734</td><td>-0.39021522</td><td>-0.24770278</td><td>-0.10020536</td><td>-9999.99</td><td>-9999.99</td><td>-9999.99</td><td>-9999.99</td><td>-9999.99</td><td>0.024813954</td><td>0.053227004</td><td>0.036248196</td><td>0.027536295</td><td>0.09449656</td><td>0.03373147</td><td>0.041250877</td><td>0.028051725</td><td>0.10109693</td><td>0.13833655</td><td>0.06304422</td><td>0.040519875</td><td>0.0378516</td><td>0.07835603</td><td>0.06032664</td><td>0.05147943</td><td>0.03923771</td><td>0.012112347</td><td>0.08023964</td><td>0.030157661</td><td>-9999.99</td><td>-9999.99</td><td>-9999.99</td><td>-9999.99</td><td>-9999.99</td><td>512</td><td>512</td><td>512</td><td>0</td><td>512</td><td>512</td><td>512</td><td>0</td><td>512</td><td>512</td><td>512</td><td>0</td><td>0</td><td>512</td><td>512</td><td>0</td><td>512</td><td>512</td><td>512</td><td>512</td><td>2</td><td>2</td><td>512</td><td>2</td><td>2</td><td>3.0039315 .. 1.0810082</td><td>512 .. 2</td><td>2M05113647-7223369</td><td>2MASS</td><td>-9999.99</td><td>-9999.99</td><td>-9999.99</td><td>-9999.99</td><td>16.937973</td><td>-9999.99</td><td>-9999.99</td><td>-9999.99</td><td>-9999.99</td><td>-9999.99</td><td>-9999.99</td><td>-9999.99</td><td>-9999.99</td><td>-9999.99</td><td>12.597</td><td>0.04</td><td>-9999.99</td><td>-9999.99</td><td>0.024443684</td><td>SFD</td><td>0.11016007</td><td>0.08093935</td><td>-1</td><td>1</td><td>0.8</td><td>2.2</td><td>HSOY</td><td>t9-10071-58026-247,t9-10071-58029-247,t9-10071-58057-247,t9-10071-58061-265,t9-10112-58093-252,t9-10112-58096-132,t9-10112-58114-252,t9-10112-58122-252</td><td>t9-10071-58026-247,t9-10071-58029-247,t9-10071-58057-247,t9-10071-58061-265</td><td>271703 .. -1</td><td>271703 .. -1</td><td>3860.0 .. 0.0</td><td>3.7456744 .. 0.0</td><td>205.21817</td><td>2.8371747</td><td>120.01238</td><td>18.41252</td><td>-0.88975966</td><td>-0.28104436</td><td>16.861408</td><td>0.012447902</td><td>0.010518106</td><td>14.749655</td><td>0.005108627</td><td>-4.86499</td><td>-0.1870035</td><td>0.15764928</td><td>0.1658926</td><td>0.014324486</td><td>9</td><td>BrtRGB</td><td>9000063</td><td>4651423781716803840</td><td>-0.010845161</td><td>0.038774624</td><td>8205.757</td><td>11002.521</td><td>17137.984</td><td>1.9021553</td><td>0.0645096</td><td>0.48170772</td><td>0.07971355</td><td>15.8114</td><td>16.7358</td><td>14.8799</td><td>-0.9651333</td><td>1.7084365</td><td>1.8403559</td><td>0.68068177</td><td>1.244999885559082</td><td>0.9594999551773071</td><td>0.4628972113132477</td><td>623.4006958007812</td><td>466.1226806640625</td><td>253.4545440673828</td><td>53.035854095675134</td></tr>\n",
       "<tr><td>206.82503 206.81335 206.79012 206.85545 206.95317 206.84123 207.04236\n",
       " 208.2946  207.70848</td><td>0.1 0.1 0.1 0.1 0.1 0.1 0.1 0.1 0.1</td><td>2458026.79485 2458029.82855 2458052.72718 2458057.74579 2458061.70327\n",
       " 2458093.65772 2458096.63159 2458114.58676 2458122.53449</td><td>apogee.apo25m.s.stars.LMC-8.2M05120652-7240450</td><td>LMC-8.2M05120652-7240450</td><td>apogee.apo25m.s.t9-l31c.LMC-8.2M05120652-7240450</td><td>apStar-t9-2M05120652-7240450.fits</td><td>2M05120652-7240450</td><td>lco25m</td><td>5487</td><td>LMC8</td><td>13.364</td><td>0.029</td><td>12.468</td><td>0.027</td><td>12.267</td><td>0.032</td><td>78.027186</td><td>-72.679169</td><td>284.108228076</td><td>-33.1329136898</td><td>0</td><td>0</td><td>0</td><td>-2139094912</td><td>0</td><td>0</td><td>APOGEE2_WASH_GIANT,APOGEE2_MAGCLOUD_CANDIDATE</td><td>apogee2s</td><td>0 .. 5</td><td>9</td><td>1</td><td>0</td><td>135.43102</td><td>0</td><td></td><td>0</td><td></td><td>207.19249</td><td>0.662081</td><td>0.4928578</td><td>0.0258318</td><td>206.7</td><td>0.0800411</td><td>0.0111834</td><td>0.0247021</td><td>206.761</td><td>0.104877</td><td>0.0106878</td><td>0.023102</td><td>3500.0</td><td>1.0</td><td>-0.5</td><td>0.0</td><td>0.0</td><td>21.8255</td><td>20.5554</td><td>0.0370927</td><td>17.343742 .. 59.894436</td><td>2.082291 .. 3.8695748</td><td>18.466919 .. 18.466919</td><td>0.0016571879 .. 0.0</td><td>253.04</td><td>17.4155</td><td>103.72153</td><td>stars</td><td>l31c</td><td>t9-l31c</td><td>17</td><td>-9999.99</td><td>9999.99</td><td>-9999.99</td><td>9999.99</td><td>3804.0366 .. 0.0</td><td>3722.8013 .. 0.0</td><td>2532.0278 .. 0.0</td><td>4.4443 .. 0.0</td><td>3804.0366</td><td>50.31926</td><td>0.82074845</td><td>0.068144694</td><td>2.4629183</td><td>10.0</td><td>-9999.99</td><td>-0.49643278</td><td>0.02202045</td><td>-0.003749948</td><td>0.020525154</td><td>5.5272617</td><td>GKg</td><td>0</td><td></td><td>512 .. 65536</td><td>-0.12528847 .. -1.2467234</td><td>0.0018666012 .. 0.11107655</td><td>-0.6120328 .. -9999.0</td><td>0.020963376 .. -9999.0</td><td>-0.1156 .. -9999.0</td><td>0.020963376 .. -9999.0</td><td>-0.13081992</td><td>-0.15473992</td><td>0.082332075</td><td>0.03714615</td><td>-0.41617793</td><td>0.022866428</td><td>-0.47449487</td><td>0.016189694</td><td>-0.19086975</td><td>-0.20353615</td><td>-0.042392552</td><td>0.012602687</td><td>-0.12523657</td><td>0.5519335</td><td>-0.18885547</td><td>0.03935623</td><td>-0.10693735</td><td>-0.48121285</td><td>0.11939722</td><td>-0.18648547</td><td>-9999.99</td><td>-9999.99</td><td>-9999.99</td><td>-9999.99</td><td>-9999.99</td><td>0.020963376</td><td>0.04734531</td><td>0.031752516</td><td>0.02277853</td><td>0.17653894</td><td>0.032964166</td><td>0.035573393</td><td>0.02613071</td><td>0.090199925</td><td>0.076843716</td><td>0.053112283</td><td>0.035033125</td><td>0.033031456</td><td>0.07049439</td><td>0.051428568</td><td>0.04423188</td><td>0.03372397</td><td>0.012457604</td><td>0.049259067</td><td>0.025415782</td><td>-9999.99</td><td>-9999.99</td><td>-9999.99</td><td>-9999.99</td><td>-9999.99</td><td>512</td><td>512</td><td>512</td><td>512</td><td>512</td><td>512</td><td>512</td><td>512</td><td>512</td><td>512</td><td>512</td><td>512</td><td>512</td><td>512</td><td>512</td><td>512</td><td>512</td><td>512</td><td>512</td><td>512</td><td>2</td><td>259</td><td>512</td><td>2</td><td>2</td><td>5.1353493 .. 4.7670536</td><td>512 .. 2</td><td>2M05120652-7240450</td><td>2MASS</td><td>-9999.99</td><td>-9999.99</td><td>-9999.99</td><td>-9999.99</td><td>17.2804</td><td>-9999.99</td><td>-9999.99</td><td>-9999.99</td><td>-9999.99</td><td>-9999.99</td><td>-9999.99</td><td>-9999.99</td><td>-9999.99</td><td>-9999.99</td><td>12.284</td><td>0.022</td><td>-9999.99</td><td>-9999.99</td><td>0.028830716</td><td>SFD</td><td>0.123012014</td><td>0.09546595</td><td>-1</td><td>1</td><td>-0.6</td><td>-7.4</td><td>HSOY</td><td>t9-10071-58026-242,t9-10071-58029-284,t9-10071-58052-251,t9-10071-58057-245,t9-10071-58061-245,t9-10112-58093-291,t9-10112-58096-094,t9-10112-58114-298,t9-10112-58122-291</td><td>t9-10071-58026-242,t9-10071-58029-284,t9-10071-58052-251,t9-10071-58057-245,t9-10071-58061-245</td><td>272615 .. -1</td><td>272615 .. -1</td><td>3639.2 .. 0.0</td><td>7.8509097 .. 0.0</td><td>202.02592</td><td>3.0736449</td><td>120.84493</td><td>18.293188</td><td>-0.8224018</td><td>-0.56108063</td><td>17.201</td><td>0.0119</td><td>0.014</td><td>14.7102</td><td>0.0057</td><td>-34.769516</td><td>0.32509685</td><td>-0.31802094</td><td>0.11952251</td><td>0.0040296465</td><td>9</td><td>BrtRGB</td><td>9000067</td><td>4651389971733277312</td><td>0.08251503</td><td>0.030342558</td><td>6686.2104</td><td>8564.186</td><td>13114.242</td><td>2.4142556</td><td>0.054253604</td><td>0.006037501</td><td>0.071178965</td><td>15.8759</td><td>16.9755</td><td>14.8477</td><td>-0.6431369</td><td>2.3270242</td><td>2.4005444</td><td>0.2570084</td><td>1.2154545783996582</td><td>1.1710000038146973</td><td>0.38931864500045776</td><td>1002.7025146484375</td><td>968.2780151367188</td><td>342.44671630859375</td><td>72.90379565151225</td></tr>\n",
       "<tr><td>232.78552 232.82983 233.09476 232.99303 233.16414 233.0298  233.25323\n",
       " 233.03505 233.0866</td><td>0.1 0.1 0.1 0.1 0.1 0.1 0.1 0.1 0.1</td><td>2458026.79485 2458029.82855 2458052.72718 2458057.74579 2458061.70327\n",
       " 2458093.65772 2458096.63159 2458114.58676 2458122.53449</td><td>apogee.apo25m.s.stars.LMC8.2M05121881-7248435</td><td>LMC8.2M05121881-7248435</td><td>apogee.apo25m.s.t9-l31c.LMC8.2M05121881-7248435</td><td>apStar-t9-2M05121881-7248435.fits</td><td>2M05121881-7248435</td><td>lco25m</td><td>5511</td><td>LMC8</td><td>13.627</td><td>0.03</td><td>12.782</td><td>0.028</td><td>12.605</td><td>0.033</td><td>78.078379</td><td>-72.812111</td><td>284.256505996</td><td>-33.0831388425</td><td>0</td><td>0</td><td>0</td><td>-2139094912</td><td>0</td><td>0</td><td>APOGEE2_WASH_GIANT,APOGEE2_MAGCLOUD_CANDIDATE</td><td>apogee2s</td><td>0 .. 4</td><td>9</td><td>1</td><td>0</td><td>116.13147</td><td>0</td><td></td><td>0</td><td></td><td>233.0275</td><td>0.163862</td><td>0.102533504</td><td>0.0347204</td><td>233.132</td><td>0.12897</td><td>0.0148866</td><td>0.0335673</td><td>233.09</td><td>0.135959</td><td>0.0143189</td><td>0.0322226</td><td>3750.0</td><td>1.0</td><td>-0.5</td><td>0.0</td><td>0.0</td><td>21.5096</td><td>20.3571</td><td>0.0681342</td><td>31.803125 .. 73.38003</td><td>3.2559242 .. 4.945706</td><td>16.266323 .. 16.266323</td><td>5.9604645e-07 .. 0.0</td><td>246.279</td><td>97.3049</td><td>88.31983</td><td>stars</td><td>l31c</td><td>t9-l31c</td><td>17</td><td>-9999.99</td><td>9999.99</td><td>-9999.99</td><td>9999.99</td><td>3930.853 .. 0.0</td><td>3856.3765 .. 0.0</td><td>3110.8142 .. 0.0</td><td>4.1348 .. 0.0</td><td>3930.853</td><td>55.774673</td><td>1.0170758</td><td>0.068396635</td><td>2.315048</td><td>10.0</td><td>-9999.99</td><td>-0.36810514</td><td>0.022084378</td><td>0.026418049</td><td>0.019134056</td><td>4.611795</td><td>GKg</td><td>0</td><td></td><td>0 .. 65536</td><td>-0.14019737 .. -1.0041593</td><td>0.0026022105 .. 0.113203354</td><td>-0.5078051 .. -9999.0</td><td>0.02255066 .. -9999.0</td><td>-0.1397 .. -9999.0</td><td>0.02255066 .. -9999.0</td><td>-0.13904989</td><td>-0.120489925</td><td>0.19133008</td><td>0.06579232</td><td>-0.24799788</td><td>0.076360434</td><td>-0.5390848</td><td>0.06129408</td><td>0.23266025</td><td>0.20004387</td><td>-0.018442541</td><td>0.046199948</td><td>-0.019448996</td><td>0.4307135</td><td>-0.18855548</td><td>0.16331701</td><td>-0.09099734</td><td>-0.36875522</td><td>-0.1034928</td><td>-0.16807544</td><td>-9999.99</td><td>-9999.99</td><td>-9999.99</td><td>-9999.99</td><td>-9999.99</td><td>0.02255066</td><td>0.048871662</td><td>0.033465423</td><td>0.024763882</td><td>0.08449734</td><td>0.031219803</td><td>0.0385903</td><td>0.026393926</td><td>0.096096195</td><td>0.11350771</td><td>0.05656304</td><td>0.036138617</td><td>0.03484162</td><td>0.075014666</td><td>0.05594975</td><td>0.04629828</td><td>0.035275485</td><td>0.011679511</td><td>0.05796292</td><td>0.026626952</td><td>-9999.99</td><td>-9999.99</td><td>-9999.99</td><td>-9999.99</td><td>-9999.99</td><td>512</td><td>512</td><td>512</td><td>0</td><td>512</td><td>512</td><td>512</td><td>0</td><td>512</td><td>512</td><td>512</td><td>0</td><td>0</td><td>512</td><td>512</td><td>0</td><td>512</td><td>512</td><td>512</td><td>512</td><td>2</td><td>259</td><td>512</td><td>2</td><td>2</td><td>4.676059 .. 1.7383611</td><td>512 .. 2</td><td>2M05121881-7248435</td><td>2MASS</td><td>-9999.99</td><td>-9999.99</td><td>-9999.99</td><td>-9999.99</td><td>17.2545</td><td>-9999.99</td><td>-9999.99</td><td>-9999.99</td><td>-9999.99</td><td>-9999.99</td><td>-9999.99</td><td>-9999.99</td><td>-9999.99</td><td>-9999.99</td><td>12.622</td><td>0.023</td><td>-9999.99</td><td>-9999.99</td><td>0.030516382</td><td>SFD</td><td>0.10097986</td><td>0.10104763</td><td>-1</td><td>1</td><td>3.6</td><td>-0.9</td><td>HSOY</td><td>t9-10071-58026-300,t9-10071-58029-300,t9-10071-58052-300,t9-10071-58057-295,t9-10071-58061-300,t9-10112-58093-300,t9-10112-58096-102,t9-10112-58114-289,t9-10112-58122-300</td><td>t9-10112-58093-300,t9-10112-58096-102,t9-10112-58114-289,t9-10112-58122-300</td><td>272969 .. -1</td><td>272974 .. -1</td><td>3808.8 .. 0.0</td><td>5.6006703 .. 0.0</td><td>200.74403</td><td>3.1876838</td><td>121.231995</td><td>18.236721</td><td>-0.7935314</td><td>-0.6917356</td><td>17.1765</td><td>0.0112</td><td>0.0134</td><td>14.9099</td><td>0.0052</td><td>-8.934509</td><td>0.0801785</td><td>-0.06266993</td><td>0.2290014</td><td>0.036649182</td><td>9</td><td>BrtRGB</td><td>9000074</td><td>4651384714693350528</td><td>0.027835263</td><td>0.03285171</td><td>8040.619</td><td>10581.419</td><td>16298.904</td><td>2.1693373</td><td>0.05237174</td><td>0.2613885</td><td>0.06910343</td><td>15.9868</td><td>16.9679</td><td>15.0232</td><td>-0.82591033</td><td>2.0229237</td><td>2.130816</td><td>0.48370573</td><td>1.1771999597549438</td><td>1.0245000123977661</td><td>0.38749805092811584</td><td>667.0205688476562</td><td>576.1031494140625</td><td>236.43795776367188</td><td>55.68643995458097</td></tr>\n",
       "<tr><td>204.33325 204.46786 204.88216 205.35597 205.7899</td><td>0.1 0.1 0.1 0.1 0.1</td><td>2458026.79485 2458029.82855 2458052.72718 2458057.74579 2458061.70327</td><td>apogee.apo25m.s.stars.LMC-8.2M05130138-7218018</td><td>LMC-8.2M05130138-7218018</td><td>apogee.apo25m.s.t9-l31c.LMC-8.2M05130138-7218018</td><td>apStar-t9-2M05130138-7218018.fits</td><td>2M05130138-7218018</td><td>lco25m</td><td>5487</td><td>LMC8</td><td>13.547</td><td>0.021</td><td>12.705</td><td>0.031</td><td>12.468</td><td>0.027</td><td>78.25577</td><td>-72.300507</td><td>283.650159422</td><td>-33.1649691784</td><td>0</td><td>0</td><td>0</td><td>-2139094912</td><td>0</td><td>0</td><td>APOGEE2_WASH_GIANT,APOGEE2_MAGCLOUD_CANDIDATE</td><td>apogee2s</td><td>0 .. 5</td><td>5</td><td>0</td><td>0</td><td>77.8311</td><td>0</td><td></td><td>0</td><td></td><td>204.907</td><td>0.609596</td><td>0.0154622</td><td>0.0340516</td><td>204.704</td><td>0.615611</td><td>0.0139373</td><td>0.030631</td><td>204.761</td><td>0.645208</td><td>0.0136483</td><td>0.0295198</td><td>3500.0</td><td>2.0</td><td>-0.5</td><td>0.0</td><td>0.0</td><td>21.322</td><td>20.8032</td><td>0.0454022</td><td>1233.5322 .. 1787.4893</td><td>17.560839 .. 21.139355</td><td>18.466919 .. 18.466919</td><td>0.0 .. 0.0</td><td>262.95</td><td>8.04984</td><td>84.71972</td><td>stars</td><td>l31c</td><td>t9-l31c</td><td>1</td><td>-9999.99</td><td>9999.99</td><td>-9999.99</td><td>9999.99</td><td>3761.047 .. 0.0</td><td>3671.1 .. 0.0</td><td>2616.3137 .. 0.0</td><td>4.9172 .. 0.0</td><td>3761.047</td><td>51.149914</td><td>0.55470294</td><td>0.07398238</td><td>2.5815468</td><td>10.0</td><td>-9999.99</td><td>-0.6845548</td><td>0.023079691</td><td>-0.14798994</td><td>0.023697406</td><td>3.4804866</td><td>GKg</td><td>0</td><td></td><td>512 .. 65536</td><td>-0.3032 .. -0.62275</td><td>0.0024979792 .. 0.088605866</td><td>-0.9877548 .. -9999.0</td><td>0.022938466 .. -9999.0</td><td>-0.3032 .. -9999.0</td><td>0.022938466 .. -9999.0</td><td>-0.3207699</td><td>-0.41296995</td><td>-0.04554391</td><td>-0.112256825</td><td>-0.22778785</td><td>-0.0012565255</td><td>-0.48631477</td><td>-0.04737228</td><td>0.20340028</td><td>-0.14781612</td><td>-0.10711253</td><td>0.006013751</td><td>-0.25314152</td><td>0.46391356</td><td>-0.35750544</td><td>0.045776248</td><td>-0.19745731</td><td>-0.6669849</td><td>-0.043472707</td><td>-0.14035535</td><td>-9999.99</td><td>-9999.99</td><td>-9999.99</td><td>-9999.99</td><td>-9999.99</td><td>0.022938466</td><td>0.053157493</td><td>0.034205746</td><td>0.025496587</td><td>0.09249973</td><td>0.038437773</td><td>0.03754412</td><td>0.028429892</td><td>0.09533289</td><td>0.16458432</td><td>0.062437594</td><td>0.042045977</td><td>0.036442667</td><td>0.07656174</td><td>0.05509694</td><td>0.05134484</td><td>0.039444674</td><td>0.013637598</td><td>0.0518917</td><td>0.030779283</td><td>-9999.99</td><td>-9999.99</td><td>-9999.99</td><td>-9999.99</td><td>-9999.99</td><td>512</td><td>512</td><td>512</td><td>512</td><td>512</td><td>512</td><td>512</td><td>512</td><td>512</td><td>512</td><td>512</td><td>512</td><td>512</td><td>512</td><td>512</td><td>512</td><td>512</td><td>512</td><td>512</td><td>512</td><td>2</td><td>258</td><td>512</td><td>2</td><td>2</td><td>3.7062097 .. 2.9700928</td><td>512 .. 2</td><td>2M05130138-7218018</td><td>2MASS</td><td>-9999.99</td><td>-9999.99</td><td>-9999.99</td><td>-9999.99</td><td>17.2855</td><td>-9999.99</td><td>-9999.99</td><td>-9999.99</td><td>-9999.99</td><td>-9999.99</td><td>-9999.99</td><td>-9999.99</td><td>-9999.99</td><td>-9999.99</td><td>12.497</td><td>0.023</td><td>-9999.99</td><td>-9999.99</td><td>0.025536666</td><td>SFD</td><td>0.14504416</td><td>0.0845585</td><td>-1</td><td>1</td><td>-0.3</td><td>-1.4</td><td>HSOY</td><td>t9-10071-58026-266,t9-10071-58029-266,t9-10071-58052-266,t9-10071-58057-266,t9-10071-58061-248</td><td>t9-10071-58026-266,t9-10071-58029-266,t9-10071-58052-266,t9-10071-58057-266,t9-10071-58061-248</td><td>273915 .. -1</td><td>273915 .. -1</td><td>3634.9 .. 0.0</td><td>5.4099097 .. 0.0</td><td>204.17766</td><td>2.7043176</td><td>119.94661</td><td>18.553036</td><td>-0.79263765</td><td>-0.1773774</td><td>17.1478</td><td>0.0135</td><td>0.0139</td><td>14.8759</td><td>0.0044</td><td>-37.055008</td><td>0.13222957</td><td>0.118027985</td><td>-0.026549995</td><td>-0.14744441</td><td>9</td><td>BrtRGB</td><td>9000194</td><td>4651425327904875136</td><td>-0.15277822</td><td>0.04511639</td><td>10123.901</td><td>13665.909</td><td>20622.025</td><td>2.2213883</td><td>0.080336705</td><td>0.44208643</td><td>0.08498599</td><td>16.0359</td><td>17.0712</td><td>15.0219</td><td>-0.99620724</td><td>2.0341039</td><td>2.1659214</td><td>0.66241366</td><td>1.0614666938781738</td><td>0.9940000176429749</td><td>0.30783694982528687</td><td>1488.8016357421875</td><td>1364.5831298828125</td><td>458.1104431152344</td><td>90.87707022115029</td></tr>\n",
       "<tr><td>259.1222  259.09393 259.05307 259.22418 259.37283 259.09906 258.93588\n",
       " 258.9442  258.63098</td><td>0.1 0.1 0.1 0.1 0.1 0.1 0.1 0.1 0.1</td><td>2458026.79485 2458029.82855 2458052.72718 2458057.74579 2458061.70327\n",
       " 2458093.65772 2458096.63159 2458114.58676 2458122.53449</td><td>apogee.apo25m.s.stars.LMC-8.2M05130952-7225219</td><td>LMC-8.2M05130952-7225219</td><td>apogee.apo25m.s.t9-l31c.LMC-8.2M05130952-7225219</td><td>apStar-t9-2M05130952-7225219.fits</td><td>2M05130952-7225219</td><td>lco25m</td><td>5487</td><td>LMC8</td><td>13.598</td><td>0.027</td><td>12.712</td><td>0.03</td><td>12.52</td><td>0.032</td><td>78.289694</td><td>-72.422775</td><td>283.788154622</td><td>-33.1236781667</td><td>0</td><td>0</td><td>0</td><td>-2139094912</td><td>0</td><td>0</td><td>APOGEE2_WASH_GIANT,APOGEE2_MAGCLOUD_CANDIDATE</td><td>apogee2s</td><td>0 .. 5</td><td>9</td><td>1</td><td>0</td><td>119.604164</td><td>4</td><td>BRIGHT_NEIGHBOR</td><td>0</td><td></td><td>259.032</td><td>0.19597</td><td>0.19091105</td><td>0.0341374</td><td>259.183</td><td>0.188724</td><td>0.0127908</td><td>0.0316622</td><td>259.191</td><td>0.159706</td><td>0.0126876</td><td>0.0312594</td><td>3500.0</td><td>1.0</td><td>-0.5</td><td>0.0</td><td>0.0</td><td>21.6219</td><td>20.5555</td><td>0.0450034</td><td>59.603737 .. 115.35686</td><td>3.8601727 .. 5.3702154</td><td>18.466919 .. 18.466919</td><td>0.0 .. 0.0</td><td>251.521</td><td>10.2616</td><td>89.68099</td><td>stars</td><td>l31c</td><td>t9-l31c</td><td>17</td><td>-9999.99</td><td>9999.99</td><td>-9999.99</td><td>9999.99</td><td>3868.739 .. 0.0</td><td>3789.2253 .. 0.0</td><td>2865.0977 .. 0.0</td><td>5.014 .. 0.0</td><td>3868.739</td><td>53.526608</td><td>0.91043395</td><td>0.066946514</td><td>2.2856514</td><td>10.0</td><td>-9999.99</td><td>-0.33918515</td><td>0.020987097</td><td>0.003008049</td><td>0.01863985</td><td>5.4661307</td><td>GKg</td><td>0</td><td></td><td>0 .. 65536</td><td>-0.13564923 .. -1.8300683</td><td>0.0023488721 .. 0.015890878</td><td>-0.47526515 .. -9999.0</td><td>0.02082932 .. -9999.0</td><td>-0.13608 .. -9999.0</td><td>0.02082932 .. -9999.0</td><td>-0.16643992</td><td>-0.2837099</td><td>0.11366008</td><td>0.03695658</td><td>-0.30614784</td><td>0.047370434</td><td>-0.6190648</td><td>0.047155768</td><td>-0.009729743</td><td>-0.2911661</td><td>0.033947468</td><td>0.019456208</td><td>-0.090330124</td><td>0.44466352</td><td>-0.20316544</td><td>0.07757905</td><td>-0.22029737</td><td>-0.30882522</td><td>-0.15146276</td><td>-0.10112542</td><td>-9999.99</td><td>-9999.99</td><td>-9999.99</td><td>-9999.99</td><td>-9999.99</td><td>0.02082932</td><td>0.04668083</td><td>0.031209525</td><td>0.022989571</td><td>0.07609468</td><td>0.030628193</td><td>0.036543574</td><td>0.02548487</td><td>0.09357477</td><td>0.07625393</td><td>0.054546542</td><td>0.034802556</td><td>0.033092078</td><td>0.07240013</td><td>0.05290379</td><td>0.044052903</td><td>0.033788927</td><td>0.011643866</td><td>0.05450722</td><td>0.025479615</td><td>-9999.99</td><td>-9999.99</td><td>-9999.99</td><td>-9999.99</td><td>-9999.99</td><td>512</td><td>512</td><td>512</td><td>0</td><td>512</td><td>512</td><td>512</td><td>0</td><td>512</td><td>512</td><td>512</td><td>0</td><td>0</td><td>512</td><td>512</td><td>0</td><td>512</td><td>512</td><td>512</td><td>512</td><td>2</td><td>259</td><td>512</td><td>2</td><td>259</td><td>4.7576227 .. 0.00051748776</td><td>512 .. 259</td><td>2M05130952-7225219</td><td>2MASS</td><td>-9999.99</td><td>-9999.99</td><td>-9999.99</td><td>-9999.99</td><td>17.2783</td><td>-9999.99</td><td>-9999.99</td><td>-9999.99</td><td>-9999.99</td><td>-9999.99</td><td>-9999.99</td><td>-9999.99</td><td>-9999.99</td><td>-9999.99</td><td>12.57</td><td>0.022</td><td>-9999.99</td><td>-9999.99</td><td>0.025644852</td><td>SFD</td><td>0.08445618</td><td>0.08491673</td><td>-1</td><td>1</td><td>6.3</td><td>12.6</td><td>HSOY</td><td>t9-10071-58026-251,t9-10071-58029-248,t9-10071-58052-242,t9-10071-58057-248,t9-10071-58061-269,t9-10112-58093-248,t9-10112-58096-131,t9-10112-58114-251,t9-10112-58122-251</td><td>t9-10071-58026-251,t9-10071-58029-248,t9-10071-58052-242,t9-10071-58057-248,t9-10071-58061-269</td><td>274129 .. -1</td><td>274129 .. -1</td><td>3734.9 .. 0.0</td><td>6.689906 .. 0.0</td><td>202.83524</td><td>2.8086681</td><td>120.28837</td><td>18.495893</td><td>-0.77019423</td><td>-0.29800656</td><td>17.2727</td><td>0.0123</td><td>0.0145</td><td>14.8601</td><td>0.0106</td><td>17.070007</td><td>-0.03142667</td><td>-0.18275273</td><td>0.27663195</td><td>0.009113651</td><td>9</td><td>BrtRGB</td><td>9000269</td><td>4651420002145623296</td><td>0.06141879</td><td>0.037262</td><td>6597.5615</td><td>8694.238</td><td>13846.5</td><td>2.057732</td><td>0.06858697</td><td>0.14130571</td><td>0.080396496</td><td>16.0329</td><td>17.0625</td><td>15.0195</td><td>-0.66501594</td><td>1.95243</td><td>2.0334172</td><td>0.34560624</td><td>1.2015000581741333</td><td>1.0579999685287476</td><td>0.4093473553657532</td><td>782.43505859375</td><td>675.305419921875</td><td>290.5046081542969</td><td>62.26424614302741</td></tr>\n",
       "<tr><td>209.42451 208.75055 209.2684  208.87024 208.73721</td><td>0.1        0.1        0.10075305 0.1        0.1</td><td>2458026.79485 2458029.82855 2458052.72718 2458057.74579 2458061.70327</td><td>apogee.apo25m.s.stars.LMC-8.2M05131444-7214173</td><td>LMC-8.2M05131444-7214173</td><td>apogee.apo25m.s.t9-l31c.LMC-8.2M05131444-7214173</td><td>apStar-t9-2M05131444-7214173.fits</td><td>2M05131444-7214173</td><td>lco25m</td><td>5487</td><td>LMC8</td><td>13.567</td><td>0.026</td><td>12.779</td><td>0.03</td><td>12.628</td><td>0.032</td><td>78.31019</td><td>-72.238152</td><td>283.573083282</td><td>-33.1648637963</td><td>0</td><td>0</td><td>0</td><td>-2139094912</td><td>0</td><td>0</td><td>APOGEE2_WASH_GIANT,APOGEE2_MAGCLOUD_CANDIDATE</td><td>apogee2s</td><td>0 .. 5</td><td>5</td><td>0</td><td>0</td><td>68.6071</td><td>0</td><td></td><td>0</td><td></td><td>209.029</td><td>0.31617</td><td>0.0393498</td><td>0.0891807</td><td>208.986</td><td>0.326709</td><td>0.0359145</td><td>0.0836031</td><td>208.923</td><td>0.358199</td><td>0.0325577</td><td>0.075107</td><td>3750.0</td><td>2.0</td><td>-1.5</td><td>0.0</td><td>0.0</td><td>21.3887</td><td>20.0347</td><td>0.110971</td><td>57.410973 .. 116.036316</td><td>3.7885015 .. 5.386008</td><td>18.466919 .. 18.466919</td><td>0.0 .. 0.0</td><td>263.822</td><td>9.50263</td><td>74.95692</td><td>stars</td><td>l31c</td><td>t9-l31c</td><td>1</td><td>-9999.99</td><td>9999.99</td><td>-9999.99</td><td>9999.99</td><td>4049.7207 .. 0.0</td><td>3921.2 .. 0.0</td><td>4111.1997 .. 0.0</td><td>25.518 .. 0.0</td><td>4049.7207</td><td>64.11864</td><td>0.3704453</td><td>0.10596052</td><td>2.8431513</td><td>10.0</td><td>-9999.99</td><td>-1.6164283</td><td>0.042928685</td><td>0.10065605</td><td>0.04717382</td><td>2.206785</td><td>GKg</td><td>32</td><td>C_M_WARN</td><td>0 .. 65536</td><td>-0.72417 .. -1.2949</td><td>0.013738631 .. 0.18887033</td><td>-9999.0 .. -9999.0</td><td>-9999.0 .. -9999.0</td><td>-9999.0 .. -9999.0</td><td>-9999.0 .. -9999.0</td><td>-9999.99</td><td>-0.7043899</td><td>0.5401201</td><td>0.16530514</td><td>-9999.99</td><td>0.02519548</td><td>-0.6832348</td><td>0.17740464</td><td>0.12176037</td><td>0.514264</td><td>0.28157747</td><td>0.2446717</td><td>-0.13961291</td><td>0.15295362</td><td>-0.3005755</td><td>-0.02409947</td><td>-0.5761372</td><td>-1.5975484</td><td>-0.7038728</td><td>-0.01797545</td><td>-9999.99</td><td>-9999.99</td><td>-9999.99</td><td>-9999.99</td><td>-9999.99</td><td>-9999.99</td><td>0.09802106</td><td>0.072503395</td><td>0.056206778</td><td>-9999.99</td><td>0.069452725</td><td>0.07713041</td><td>0.04661578</td><td>0.13026512</td><td>0.22672671</td><td>0.10412071</td><td>0.07945693</td><td>0.06589043</td><td>0.09721386</td><td>0.19815397</td><td>0.13458455</td><td>0.082492426</td><td>0.01910609</td><td>0.34397674</td><td>0.06095813</td><td>-9999.99</td><td>-9999.99</td><td>-9999.99</td><td>-9999.99</td><td>-9999.99</td><td>259</td><td>768</td><td>512</td><td>512</td><td>512</td><td>512</td><td>512</td><td>512</td><td>512</td><td>512</td><td>512</td><td>512</td><td>512</td><td>512</td><td>512</td><td>512</td><td>512</td><td>512</td><td>512</td><td>512</td><td>2</td><td>259</td><td>259</td><td>258</td><td>2</td><td>2.350228 .. 2.240681</td><td>259 .. 2</td><td>2M05131444-7214173</td><td>2MASS</td><td>-9999.99</td><td>-9999.99</td><td>-9999.99</td><td>-9999.99</td><td>16.7461</td><td>-9999.99</td><td>-9999.99</td><td>-9999.99</td><td>-9999.99</td><td>-9999.99</td><td>-9999.99</td><td>-9999.99</td><td>-9999.99</td><td>-9999.99</td><td>12.666</td><td>0.049</td><td>-9999.99</td><td>-9999.99</td><td>0.024105972</td><td>SFD</td><td>0.057833925</td><td>0.0798211</td><td>-1</td><td>1</td><td>0.6</td><td>-0.7</td><td>HSOY</td><td>t9-10071-58026-270,t9-10071-58029-265,t9-10071-58052-265,t9-10071-58057-270,t9-10071-58061-247</td><td>t9-10071-58026-270,t9-10071-58029-265,t9-10071-58052-265,t9-10071-58057-270,t9-10071-58061-247</td><td>274282 .. -1</td><td>274282 .. -1</td><td>4019.6 .. 0.0</td><td>2.4680274 .. 0.0</td><td>204.48582</td><td>2.6414182</td><td>119.81026</td><td>18.600742</td><td>-0.782366</td><td>-0.1136798</td><td>16.6798</td><td>0.0089</td><td>0.0093</td><td>14.7735</td><td>0.0059</td><td>-32.933</td><td>-0.14234579</td><td>-0.13488278</td><td>-0.87066</td><td>0.10120158</td><td>9</td><td>BrtRGB</td><td>9000394</td><td>4651519370516677248</td><td>-0.035579216</td><td>0.039665714</td><td>8662.851</td><td>11646.707</td><td>18003.375</td><td>1.946813</td><td>0.081871726</td><td>0.18917567</td><td>0.07559028</td><td>15.7492</td><td>16.568</td><td>14.8286</td><td>-0.6784066</td><td>1.8345661</td><td>1.9184113</td><td>0.38153213</td><td>0.8749999403953552</td><td>0.871999979019165</td><td>0.18879088759422302</td><td>2524.826904296875</td><td>2517.00146484375</td><td>521.995849609375</td><td>102.07493637898314</td></tr>\n",
       "<tr><td>...</td><td>...</td><td>...</td><td>...</td><td>...</td><td>...</td><td>...</td><td>...</td><td>...</td><td>...</td><td>...</td><td>...</td><td>...</td><td>...</td><td>...</td><td>...</td><td>...</td><td>...</td><td>...</td><td>...</td><td>...</td><td>...</td><td>...</td><td>...</td><td>...</td><td>...</td><td>...</td><td>...</td><td>...</td><td>...</td><td>...</td><td>...</td><td>...</td><td>...</td><td>...</td><td>...</td><td>...</td><td>...</td><td>...</td><td>...</td><td>...</td><td>...</td><td>...</td><td>...</td><td>...</td><td>...</td><td>...</td><td>...</td><td>...</td><td>...</td><td>...</td><td>...</td><td>...</td><td>...</td><td>...</td><td>...</td><td>...</td><td>...</td><td>...</td><td>...</td><td>...</td><td>...</td><td>...</td><td>...</td><td>...</td><td>...</td><td>...</td><td>...</td><td>...</td><td>...</td><td>...</td><td>...</td><td>...</td><td>...</td><td>...</td><td>...</td><td>...</td><td>...</td><td>...</td><td>...</td><td>...</td><td>...</td><td>...</td><td>...</td><td>...</td><td>...</td><td>...</td><td>...</td><td>...</td><td>...</td><td>...</td><td>...</td><td>...</td><td>...</td><td>...</td><td>...</td><td>...</td><td>...</td><td>...</td><td>...</td><td>...</td><td>...</td><td>...</td><td>...</td><td>...</td><td>...</td><td>...</td><td>...</td><td>...</td><td>...</td><td>...</td><td>...</td><td>...</td><td>...</td><td>...</td><td>...</td><td>...</td><td>...</td><td>...</td><td>...</td><td>...</td><td>...</td><td>...</td><td>...</td><td>...</td><td>...</td><td>...</td><td>...</td><td>...</td><td>...</td><td>...</td><td>...</td><td>...</td><td>...</td><td>...</td><td>...</td><td>...</td><td>...</td><td>...</td><td>...</td><td>...</td><td>...</td><td>...</td><td>...</td><td>...</td><td>...</td><td>...</td><td>...</td><td>...</td><td>...</td><td>...</td><td>...</td><td>...</td><td>...</td><td>...</td><td>...</td><td>...</td><td>...</td><td>...</td><td>...</td><td>...</td><td>...</td><td>...</td><td>...</td><td>...</td><td>...</td><td>...</td><td>...</td><td>...</td><td>...</td><td>...</td><td>...</td><td>...</td><td>...</td><td>...</td><td>...</td><td>...</td><td>...</td><td>...</td><td>...</td><td>...</td><td>...</td><td>...</td><td>...</td><td>...</td><td>...</td><td>...</td><td>...</td><td>...</td><td>...</td><td>...</td><td>...</td><td>...</td><td>...</td><td>...</td><td>...</td><td>...</td><td>...</td><td>...</td><td>...</td><td>...</td><td>...</td><td>...</td><td>...</td><td>...</td><td>...</td><td>...</td><td>...</td><td>...</td><td>...</td><td>...</td><td>...</td><td>...</td><td>...</td><td>...</td><td>...</td><td>...</td><td>...</td><td>...</td><td>...</td><td>...</td><td>...</td><td>...</td><td>...</td><td>...</td><td>...</td><td>...</td><td>...</td><td>...</td><td>...</td><td>...</td><td>...</td><td>...</td><td>...</td><td>...</td><td>...</td><td>...</td><td>...</td><td>...</td><td>...</td><td>...</td><td>...</td><td>...</td><td>...</td><td>...</td><td>...</td><td>...</td><td>...</td><td>...</td><td>...</td><td>...</td><td>...</td><td>...</td><td>...</td></tr>\n",
       "<tr><td>84.89805 84.82342 84.3082  84.98249 85.14481 85.41889 85.29206</td><td>0.13256307 0.13170961 0.1320378  0.1        0.1        0.153062\n",
       " 0.11789604</td><td>2458025.67342 2458028.66172 2458053.60586 2458056.59654 2458061.60082\n",
       " 2458089.53025 2458092.52387</td><td>apogee.apo25m.s.stars.SMC-1.2M00334836-7724533</td><td>SMC-1.2M00334836-7724533</td><td>apogee.apo25m.s.t9-l31c.SMC-1.2M00334836-7724533</td><td>apStar-t9-2M00334836-7724533.fits</td><td>2M00334836-7724533</td><td>lco25m</td><td>5497</td><td>SMC1</td><td>13.877</td><td>0.026</td><td>13.373</td><td>0.036</td><td>13.245</td><td>0.039</td><td>8.45154</td><td>-77.414833</td><td>304.178591405</td><td>-39.6706722175</td><td>0</td><td>0</td><td>0</td><td>-2139094912</td><td>0</td><td>0</td><td>APOGEE2_WASH_GIANT,APOGEE2_MAGCLOUD_CANDIDATE</td><td>apogee2s</td><td>0 .. 5</td><td>5</td><td>1</td><td>0</td><td>61.6647</td><td>4</td><td>BRIGHT_NEIGHBOR</td><td>0</td><td></td><td>84.8767</td><td>0.315952</td><td>0.0477262</td><td>0.13171</td><td>85.2194</td><td>0.416692</td><td>0.0428033</td><td>0.10931</td><td>85.2104</td><td>0.329619</td><td>0.0423897</td><td>0.122342</td><td>4500.0</td><td>3.0</td><td>-0.5</td><td>0.0</td><td>0.0</td><td>22.0846</td><td>22.3305</td><td>0.225265</td><td>30.784637 .. 38.70816</td><td>2.7741952 .. 3.110794</td><td>18.466919 .. 18.466919</td><td>3.3974648e-06 .. 5.9604645e-08</td><td>229.946</td><td>102.712</td><td>65.334114</td><td>stars</td><td>l31c</td><td>t9-l31c</td><td>1</td><td>-9999.99</td><td>9999.99</td><td>-9999.99</td><td>9999.99</td><td>5022.993 .. 0.0</td><td>4952.1 .. 0.0</td><td>12677.586 .. 0.0</td><td>460.7 .. 0.0</td><td>5022.993</td><td>112.59479</td><td>3.5176346</td><td>0.08066678</td><td>0.89713955</td><td>1.0</td><td>1.9340602</td><td>-0.4478482</td><td>0.03943043</td><td>0.17253588</td><td>0.01895613</td><td>2.1931584</td><td>GKd</td><td>18560</td><td>STAR_WARN,SN_WARN,VSINI_WARN</td><td>0 .. 65536</td><td>-0.33647 .. -0.80876</td><td>0.008782198 .. 0.26170978</td><td>-0.4578982 .. -9999.0</td><td>0.0625687 .. -9999.0</td><td>-0.010049999 .. -9999.0</td><td>0.0625687 .. -9999.0</td><td>-0.063587606</td><td>-0.017997593</td><td>-0.12513757</td><td>0.35202593</td><td>-9999.99</td><td>0.33267096</td><td>0.3924223</td><td>0.14181682</td><td>-0.68911004</td><td>0.0024196804</td><td>0.24221012</td><td>0.0674687</td><td>0.3493955</td><td>-9999.99</td><td>0.5371008</td><td>0.040127963</td><td>-0.32681382</td><td>-0.3943106</td><td>-2.0115118</td><td>0.122514844</td><td>-9999.99</td><td>-9999.99</td><td>-9999.99</td><td>-9999.99</td><td>-9999.99</td><td>0.0625687</td><td>0.079180986</td><td>0.08064536</td><td>0.06558049</td><td>-9999.99</td><td>0.028870355</td><td>0.08375998</td><td>0.037277557</td><td>0.1751114</td><td>0.44056782</td><td>0.08149286</td><td>0.048263967</td><td>0.06482571</td><td>-9999.99</td><td>0.21646939</td><td>0.07743913</td><td>0.05366806</td><td>0.00941924</td><td>1.1088282</td><td>0.03927012</td><td>-9999.99</td><td>-9999.99</td><td>-9999.99</td><td>-9999.99</td><td>-9999.99</td><td>4096</td><td>0</td><td>4096</td><td>0</td><td>259</td><td>0</td><td>0</td><td>0</td><td>0</td><td>0</td><td>0</td><td>0</td><td>0</td><td>259</td><td>0</td><td>0</td><td>0</td><td>0</td><td>256</td><td>0</td><td>2</td><td>2</td><td>0</td><td>2</td><td>2</td><td>1.8763765 .. 0.04782996</td><td>4096 .. 2</td><td>2M00334836-7724533</td><td>2MASS</td><td>-9999.99</td><td>-9999.99</td><td>-9999.99</td><td>-9999.99</td><td>15.7338</td><td>-9999.99</td><td>-9999.99</td><td>-9999.99</td><td>-9999.99</td><td>-9999.99</td><td>-9999.99</td><td>-9999.99</td><td>-9999.99</td><td>-9999.99</td><td>13.289</td><td>0.026</td><td>-9999.99</td><td>-9999.99</td><td>0.016816758</td><td>SFD</td><td>0.031212538</td><td>0.05568463</td><td>-1</td><td>1</td><td>6.3</td><td>4.5</td><td>HSOY</td><td>t9-10081-58025-119,t9-10081-58028-296,t9-10081-58053-092,t9-10081-58056-296,t9-10081-58061-284,t9-10123-58089-287,t9-10123-58092-284</td><td>t9-10081-58025-119,t9-10081-58028-296,t9-10081-58053-092,t9-10081-58056-296,t9-10081-58061-284</td><td>37459 .. -1</td><td>37459 .. -1</td><td>4923.1 .. 0.0</td><td>2.1991253 .. 0.0</td><td>216.95163</td><td>20.33099</td><td>192.5604</td><td>4.7409987</td><td>-11.554093</td><td>-14.3214445</td><td>15.7385</td><td>0.0044</td><td>0.0056</td><td>14.4741</td><td>0.005</td><td>68.3579</td><td>1.1704574</td><td>1.0582159</td><td>-0.010932744</td><td>0.105642</td><td>10</td><td>FntRGB</td><td>10000016</td><td>4635859507415094016</td><td>0.41092265</td><td>0.027972605</td><td>2208.488</td><td>2435.7593</td><td>2772.3313</td><td>7.590959</td><td>0.0554804</td><td>0.26646703</td><td>0.045993105</td><td>15.3378</td><td>15.8385</td><td>14.6875</td><td>-7.5372477</td><td>-0.9399919</td><td>2.0481315</td><td>7.3142905</td><td>0.9704999923706055</td><td>0.9704999923706055</td><td>0.05350002646446228</td><td>4.667850971221924</td><td>4.667850971221924</td><td>0.4020557403564453</td><td>2.852901362991529</td></tr>\n",
       "<tr><td>133.733   133.1323  131.40984 132.1383  132.742   132.1543  131.40575\n",
       " 132.10025</td><td>0.1462759  0.13600723 0.15379588 0.12528999 0.15234923 0.2180509\n",
       " 0.21442853 0.23498663</td><td>2458027.76192 2458030.74924 2458053.67478 2458058.65733 2458062.65373\n",
       " 2458093.595   2458096.58811 2458114.53342</td><td>apogee.apo25m.s.stars.SMC-7.2M01571327-7318291</td><td>SMC-7.2M01571327-7318291</td><td>apogee.apo25m.s.t9-l31c.SMC-7.2M01571327-7318291</td><td>apStar-t9-2M01571327-7318291.fits</td><td>2M01571327-7318291</td><td>lco25m</td><td>5503</td><td>SMC7</td><td>14.976</td><td>0.041</td><td>14.37</td><td>0.04</td><td>14.165</td><td>0.069</td><td>29.305292</td><td>-73.308105</td><td>296.548786303</td><td>-42.9952948873</td><td>0</td><td>0</td><td>0</td><td>-2139094912</td><td>0</td><td>0</td><td>APOGEE2_WASH_GIANT,APOGEE2_MAGCLOUD_CANDIDATE</td><td>apogee2s</td><td>0 .. 5</td><td>5</td><td>0</td><td>0</td><td>35.7449</td><td>0</td><td></td><td>0</td><td></td><td>132.533</td><td>0.896105</td><td>0.0641663</td><td>0.146276</td><td>132.601</td><td>0.926</td><td>0.0530509</td><td>0.120966</td><td>132.5</td><td>0.908464</td><td>0.072943</td><td>0.160155</td><td>4250.0</td><td>3.0</td><td>-0.5</td><td>0.0</td><td>0.0</td><td>22.5365</td><td>22.7</td><td>0.18518</td><td>151.86363 .. 107.93318</td><td>6.1616483 .. 5.194545</td><td>18.466919 .. 18.466919</td><td>0.0 .. 0.0</td><td>229.102</td><td>57.2914</td><td>37.731323</td><td>stars</td><td>l31c</td><td>t9-l31c</td><td>1</td><td>-9999.99</td><td>9999.99</td><td>-9999.99</td><td>9999.99</td><td>4401.029 .. 0.0</td><td>4311.3 .. 0.0</td><td>6817.757 .. 0.0</td><td>267.19 .. 0.0</td><td>4401.029</td><td>82.56971</td><td>1.9201425</td><td>0.08814911</td><td>1.6389285</td><td>10.0</td><td>-9999.99</td><td>-0.6878963</td><td>0.03275456</td><td>-0.11635928</td><td>0.025626983</td><td>2.0708566</td><td>GKg</td><td>2176</td><td>STAR_WARN,SN_WARN</td><td>0 .. 65536</td><td>-0.33626 .. 0.74999</td><td>0.019704822 .. 0.15153548</td><td>-1.0241563 .. -9999.0</td><td>0.045762293 .. -9999.0</td><td>-0.33626 .. -9999.0</td><td>0.045762293 .. -9999.0</td><td>-0.41325015</td><td>-0.17943013</td><td>-0.09114915</td><td>-0.18792564</td><td>-0.26530594</td><td>-0.2836941</td><td>-1.1614742</td><td>-0.05619955</td><td>-0.1814906</td><td>-9999.99</td><td>-0.09446186</td><td>-0.23016006</td><td>-0.2669428</td><td>-9999.99</td><td>-9999.99</td><td>-0.3096183</td><td>-0.5940084</td><td>-0.6109062</td><td>0.08347356</td><td>-0.19045335</td><td>-9999.99</td><td>-9999.99</td><td>-9999.99</td><td>-9999.99</td><td>-9999.99</td><td>0.045762293</td><td>0.07939905</td><td>0.06119836</td><td>0.050732877</td><td>0.25101992</td><td>0.05137412</td><td>0.21037823</td><td>0.058448266</td><td>0.23140441</td><td>-9999.99</td><td>0.09683543</td><td>0.061023768</td><td>0.058597386</td><td>-9999.99</td><td>-9999.99</td><td>0.1440139</td><td>0.06544234</td><td>0.01261416</td><td>0.15749921</td><td>0.048150964</td><td>-9999.99</td><td>-9999.99</td><td>-9999.99</td><td>-9999.99</td><td>-9999.99</td><td>512</td><td>0</td><td>512</td><td>512</td><td>512</td><td>0</td><td>0</td><td>0</td><td>0</td><td>259</td><td>512</td><td>0</td><td>0</td><td>259</td><td>259</td><td>0</td><td>0</td><td>0</td><td>0</td><td>0</td><td>259</td><td>2</td><td>0</td><td>259</td><td>259</td><td>2.3577077 .. 3.0336816</td><td>512 .. 259</td><td>2M01571327-7318291</td><td>2MASS</td><td>-9999.99</td><td>-9999.99</td><td>-9999.99</td><td>-9999.99</td><td>17.2648</td><td>-9999.99</td><td>-9999.99</td><td>-9999.99</td><td>-9999.99</td><td>-9999.99</td><td>-9999.99</td><td>-9999.99</td><td>-9999.99</td><td>-9999.99</td><td>14.154</td><td>0.032</td><td>-9999.99</td><td>-9999.99</td><td>0.016945139</td><td>SFD</td><td>0.15238763</td><td>0.056109734</td><td>-1</td><td>1</td><td>4.8</td><td>-1.7</td><td>HSOY</td><td>t9-10087-58027-270,t9-10087-58030-270,t9-10087-58053-133,t9-10087-58058-247,t9-10087-58062-247,t9-10130-58093-143,t9-10130-58096-269,t9-10130-58114-254</td><td>t9-10087-58027-270,t9-10087-58030-270,t9-10087-58053-133,t9-10087-58058-247,t9-10087-58062-247</td><td>90272 .. -1</td><td>90272 .. -1</td><td>4398.8 .. 0.0</td><td>2.0965729 .. 0.0</td><td>233.98006</td><td>16.38511</td><td>103.512</td><td>4.7051396</td><td>-12.695489</td><td>-7.7968297</td><td>17.2972</td><td>0.0097</td><td>0.0125</td><td>15.7682</td><td>0.0066</td><td>84.38205</td><td>-2.6108527</td><td>-0.57819796</td><td>0.023044705</td><td>-0.11720731</td><td>10</td><td>FntRGB</td><td>10000117</td><td>4638596982130792448</td><td>-0.024436966</td><td>0.06172627</td><td>6119.728</td><td>8554.245</td><td>14477.234</td><td>1.2764939</td><td>0.15313551</td><td>-1.447432</td><td>0.097160436</td><td>16.7828</td><td>17.4401</td><td>16.0</td><td>-0.6997357</td><td>1.798574</td><td>1.9266325</td><td>0.11218628</td><td>0.9909999966621399</td><td>0.9909999966621399</td><td>0.0</td><td>119.12419128417969</td><td>119.12419128417969</td><td>0.0</td><td>18.773490204063684</td></tr>\n",
       "<tr><td>144.134   144.0643  143.96924 143.91527 143.80449 143.98044 143.62646</td><td>0.1 0.1 0.1 0.1 0.1 0.1 0.1</td><td>2458027.76192 2458053.67478 2458058.65733 2458062.65373 2458093.595\n",
       " 2458096.58811 2458114.53342</td><td>apogee.apo25m.s.stars.SMC-7.2M01593403-7356532</td><td>SMC-7.2M01593403-7356532</td><td>apogee.apo25m.s.t9-l31c.SMC-7.2M01593403-7356532</td><td>apStar-t9-2M01593403-7356532.fits</td><td>2M01593403-7356532</td><td>lco25m</td><td>5503</td><td>SMC7</td><td>13.951</td><td>0.029</td><td>13.128</td><td>0.026</td><td>13.014</td><td>0.03</td><td>29.891816</td><td>-73.948112</td><td>296.641450038</td><td>-42.3378083409</td><td>0</td><td>0</td><td>0</td><td>-2139094912</td><td>0</td><td>0</td><td>APOGEE2_WASH_GIANT,APOGEE2_MAGCLOUD_CANDIDATE</td><td>apogee2s</td><td>0 .. 5</td><td>7</td><td>1</td><td>0</td><td>84.8093</td><td>0</td><td></td><td>0</td><td></td><td>143.91101</td><td>0.176988</td><td>0.1456703</td><td>0.0755471</td><td>144.078</td><td>0.125017</td><td>0.0349794</td><td>0.0684922</td><td>144.014</td><td>0.0974726</td><td>0.0377715</td><td>0.0755471</td><td>3750.0</td><td>1.0</td><td>-1.5</td><td>0.0</td><td>0.0</td><td>21.2423</td><td>19.973</td><td>0.0421106</td><td>5.1689835 .. 5.1689835</td><td>1.3126289 .. 1.3126289</td><td>16.266323 .. 16.266323</td><td>0.15983337 .. 0.15983337</td><td>244.188</td><td>80.05</td><td>70.740555</td><td>stars</td><td>l31c</td><td>t9-l31c</td><td>1</td><td>-9999.99</td><td>9999.99</td><td>-9999.99</td><td>9999.99</td><td>4054.3633 .. 0.0</td><td>3974.3472 .. 0.0</td><td>4098.196 .. 0.0</td><td>31.05 .. 0.0</td><td>4054.3633</td><td>64.01715</td><td>0.5304604</td><td>0.09560995</td><td>2.2980528</td><td>10.0</td><td>-9999.99</td><td>-1.3046283</td><td>0.03627095</td><td>-0.09115395</td><td>0.03708414</td><td>2.338568</td><td>GKg</td><td>32</td><td>C_M_WARN</td><td>0 .. 65536</td><td>-0.6264749 .. -1.6618189</td><td>0.012653458 .. 0.30691043</td><td>-2.0100484 .. -9999.0</td><td>0.043659545 .. -9999.0</td><td>-0.70542 .. -9999.0</td><td>0.043659545 .. -9999.0</td><td>-0.7479</td><td>-0.47317982</td><td>0.18341017</td><td>-0.051885128</td><td>-9999.99</td><td>-0.04812348</td><td>-0.46583474</td><td>0.019817352</td><td>0.1219604</td><td>-0.39551604</td><td>0.18607748</td><td>-0.044118762</td><td>-0.31122327</td><td>0.63810354</td><td>-0.49007547</td><td>-0.23534</td><td>-0.57273734</td><td>-1.2621484</td><td>-0.24467278</td><td>-0.075175405</td><td>-9999.99</td><td>-9999.99</td><td>-9999.99</td><td>-9999.99</td><td>-9999.99</td><td>0.043659545</td><td>0.08374914</td><td>0.060722485</td><td>0.047229085</td><td>-9999.99</td><td>0.05647632</td><td>0.060034156</td><td>0.040719423</td><td>0.123077214</td><td>0.29713634</td><td>0.09255595</td><td>0.06689881</td><td>0.05743022</td><td>0.093024224</td><td>0.22109726</td><td>0.1326876</td><td>0.06262806</td><td>0.016645715</td><td>0.12076423</td><td>0.051097155</td><td>-9999.99</td><td>-9999.99</td><td>-9999.99</td><td>-9999.99</td><td>-9999.99</td><td>768</td><td>512</td><td>512</td><td>512</td><td>512</td><td>512</td><td>512</td><td>512</td><td>512</td><td>512</td><td>512</td><td>512</td><td>512</td><td>512</td><td>512</td><td>512</td><td>512</td><td>512</td><td>512</td><td>512</td><td>2</td><td>2</td><td>512</td><td>259</td><td>2</td><td>2.3692997 .. 2.2495725</td><td>768 .. 2</td><td>2M01593403-7356532</td><td>2MASS</td><td>-9999.99</td><td>-9999.99</td><td>-9999.99</td><td>-9999.99</td><td>16.9253</td><td>-9999.99</td><td>-9999.99</td><td>-9999.99</td><td>-9999.99</td><td>-9999.99</td><td>-9999.99</td><td>-9999.99</td><td>-9999.99</td><td>-9999.99</td><td>12.984</td><td>0.023</td><td>-9999.99</td><td>-9999.99</td><td>0.013721535</td><td>SFD</td><td>0.08629205</td><td>0.045435548</td><td>-1</td><td>1</td><td>-0.3</td><td>-2.3</td><td>HSOY</td><td>t9-10087-58027-281,t9-10087-58030-287,t9-10087-58053-119,t9-10087-58058-275,t9-10087-58062-281,t9-10130-58093-112,t9-10130-58096-274,t9-10130-58114-280</td><td>t9-10087-58027-281,t9-10087-58053-119,t9-10087-58058-275,t9-10087-58062-281</td><td>91599 .. -1</td><td>91599 .. -1</td><td>4055.7 .. 0.0</td><td>2.5897033 .. 0.0</td><td>231.8813</td><td>16.080494</td><td>111.11328</td><td>4.8885183</td><td>-12.085004</td><td>-8.063915</td><td>16.9518</td><td>0.0083</td><td>0.0095</td><td>14.9416</td><td>0.0046</td><td>95.760056</td><td>-2.6027222</td><td>-0.37249327</td><td>-0.46172726</td><td>-0.040068526</td><td>9</td><td>BrtRGB</td><td>9000006</td><td>4638366050329499136</td><td>-0.025958408</td><td>0.034903705</td><td>9266.624</td><td>12326.583</td><td>18720.703</td><td>1.2846245</td><td>0.06806381</td><td>-1.2417274</td><td>0.05935319</td><td>16.0098</td><td>16.8151</td><td>15.1289</td><td>-0.76416886</td><td>1.6149905</td><td>1.7717068</td><td>0.23065892</td><td>0.9482499957084656</td><td>0.8795000314712524</td><td>0.2002297043800354</td><td>1794.978515625</td><td>1640.032958984375</td><td>395.9599609375</td><td>85.86926795001658</td></tr>\n",
       "<tr><td>141.15681 140.44247 140.9848  140.53833 140.69296 141.13057 141.24542\n",
       " 141.0975</td><td>0.1 0.1 0.1 0.1 0.1 0.1 0.1 0.1</td><td>2458027.76192 2458030.74924 2458053.67478 2458058.65733 2458062.65373\n",
       " 2458093.595   2458096.58811 2458114.53342</td><td>apogee.apo25m.s.stars.SMC-7.2M02010817-7315227</td><td>SMC-7.2M02010817-7315227</td><td>apogee.apo25m.s.t9-l31c.SMC-7.2M02010817-7315227</td><td>apStar-t9-2M02010817-7315227.fits</td><td>2M02010817-7315227</td><td>lco25m</td><td>5503</td><td>SMC7</td><td>14.098</td><td>0.03</td><td>13.339</td><td>0.027</td><td>13.199</td><td>0.024</td><td>30.284073</td><td>-73.256325</td><td>296.163892822</td><td>-42.9439603959</td><td>0</td><td>0</td><td>0</td><td>-2139094912</td><td>0</td><td>0</td><td>APOGEE2_WASH_GIANT,APOGEE2_MAGCLOUD_CANDIDATE</td><td>apogee2s</td><td>0 .. 5</td><td>8</td><td>1</td><td>0</td><td>82.56803</td><td>4</td><td>BRIGHT_NEIGHBOR</td><td>4</td><td>BRIGHT_NEIGHBOR</td><td>140.95601</td><td>0.301</td><td>0.28142497</td><td>0.0801265</td><td>140.42</td><td>0.342331</td><td>0.0333322</td><td>0.078388</td><td>140.757</td><td>0.301</td><td>0.0341306</td><td>0.0801265</td><td>4000.0</td><td>3.0</td><td>-0.5</td><td>0.0</td><td>0.0</td><td>22.5428</td><td>22.2182</td><td>0.0992821</td><td>55.579117 .. 55.579117</td><td>3.72757 .. 3.72757</td><td>18.466919 .. 18.466919</td><td>0.0 .. 0.0</td><td>208.097</td><td>73.7292</td><td>72.67005</td><td>stars</td><td>l31c</td><td>t9-l31c</td><td>1</td><td>-9999.99</td><td>9999.99</td><td>-9999.99</td><td>9999.99</td><td>4130.813 .. 0.0</td><td>4023.8787 .. 0.0</td><td>4382.9194 .. 0.0</td><td>42.893 .. 0.0</td><td>4130.813</td><td>66.20362</td><td>1.044258</td><td>0.08868442</td><td>1.7114334</td><td>10.0</td><td>-9999.99</td><td>-1.0692061</td><td>0.033491585</td><td>-0.040886346</td><td>0.03086154</td><td>2.7953746</td><td>GKg</td><td>0</td><td></td><td>0 .. 65536</td><td>-0.40918046 .. -2.498776</td><td>0.009244566 .. 0.058916043</td><td>-1.4822761 .. -9999.0</td><td>0.040318884 .. -9999.0</td><td>-0.41307 .. -9999.0</td><td>0.040318884 .. -9999.0</td><td>-0.48375326</td><td>-0.22291332</td><td>0.09536672</td><td>-0.0326733</td><td>-9999.99</td><td>-0.13565522</td><td>-0.62675184</td><td>0.16500986</td><td>0.30249453</td><td>-9999.99</td><td>0.015808046</td><td>-0.19077617</td><td>-0.23649591</td><td>-0.193811</td><td>-1.7195148</td><td>0.020050585</td><td>-0.5086008</td><td>-0.9985228</td><td>-0.060348213</td><td>-0.17018384</td><td>-9999.99</td><td>-9999.99</td><td>-9999.99</td><td>-9999.99</td><td>-9999.99</td><td>0.040318884</td><td>0.07583879</td><td>0.056265853</td><td>0.043515906</td><td>-9999.99</td><td>0.047609393</td><td>0.06267456</td><td>0.03741524</td><td>0.11483229</td><td>-9999.99</td><td>0.08404651</td><td>0.05824513</td><td>0.05330127</td><td>0.09248102</td><td>0.26117045</td><td>0.07591453</td><td>0.055868216</td><td>0.014771946</td><td>0.09411004</td><td>0.044500723</td><td>-9999.99</td><td>-9999.99</td><td>-9999.99</td><td>-9999.99</td><td>-9999.99</td><td>512</td><td>0</td><td>512</td><td>512</td><td>512</td><td>0</td><td>0</td><td>0</td><td>0</td><td>259</td><td>512</td><td>0</td><td>0</td><td>0</td><td>768</td><td>0</td><td>0</td><td>0</td><td>0</td><td>0</td><td>2</td><td>2</td><td>259</td><td>259</td><td>259</td><td>2.625004 .. 3.856737</td><td>512 .. 259</td><td>2M02010817-7315227</td><td>2MASS</td><td>-9999.99</td><td>-9999.99</td><td>-9999.99</td><td>-9999.99</td><td>16.888203</td><td>-9999.99</td><td>-9999.99</td><td>-9999.99</td><td>-9999.99</td><td>-9999.99</td><td>-9999.99</td><td>-9999.99</td><td>-9999.99</td><td>-9999.99</td><td>13.166</td><td>0.024</td><td>-9999.99</td><td>-9999.99</td><td>0.0125173675</td><td>SFD</td><td>0.11291343</td><td>0.04144824</td><td>-1</td><td>1</td><td>4.7</td><td>-1.4</td><td>HSOY</td><td>t9-10087-58027-207,t9-10087-58030-255,t9-10087-58053-087,t9-10087-58058-261,t9-10087-58062-255,t9-10130-58093-040,t9-10130-58096-256,t9-10130-58114-196</td><td>t9-10087-58027-207,t9-10087-58030-255,t9-10087-58053-087,t9-10087-58058-261,t9-10087-58062-255</td><td>92462 .. -1</td><td>92462 .. -1</td><td>4089.2 .. 0.0</td><td>2.9417787 .. 0.0</td><td>234.4025</td><td>16.124397</td><td>103.052025</td><td>4.988764</td><td>-12.559363</td><td>-7.5443387</td><td>16.722778</td><td>0.003781958</td><td>0.010414036</td><td>15.030913</td><td>0.004058347</td><td>92.80505</td><td>-2.2887526</td><td>-0.43802238</td><td>-0.3016951</td><td>-0.016690362</td><td>10</td><td>FntRGB</td><td>10000009</td><td>4638608904960111744</td><td>-0.014007413</td><td>0.037088934</td><td>8549.423</td><td>11423.657</td><td>17629.623</td><td>1.5985943</td><td>0.08615575</td><td>-1.3072565</td><td>0.068313554</td><td>16.0862</td><td>16.8556</td><td>15.2411</td><td>-1.0129523</td><td>1.7995427</td><td>2.0219276</td><td>0.41980377</td><td>0.8130000233650208</td><td>0.8130000233650208</td><td>0.0</td><td>575.43994140625</td><td>575.43994140625</td><td>0.0</td><td>46.836279675475204</td></tr>\n",
       "<tr><td>135.01575 134.71425 134.91568 135.24738 135.23778 135.22063 135.38377\n",
       " 134.85599</td><td>0.1 0.1 0.1 0.1 0.1 0.1 0.1 0.1</td><td>2458027.76192 2458030.74924 2458053.67478 2458058.65733 2458062.65373\n",
       " 2458093.595   2458096.58811 2458114.53342</td><td>apogee.apo25m.s.stars.SMC-7.2M02012965-7321556</td><td>SMC-7.2M02012965-7321556</td><td>apogee.apo25m.s.t9-l31c.SMC-7.2M02012965-7321556</td><td>apStar-t9-2M02012965-7321556.fits</td><td>2M02012965-7321556</td><td>lco25m</td><td>5503</td><td>SMC7</td><td>14.186</td><td>0.032</td><td>13.454</td><td>0.027</td><td>13.338</td><td>0.039</td><td>30.373581</td><td>-73.365456</td><td>296.185538263</td><td>-42.8329707113</td><td>0</td><td>0</td><td>0</td><td>-2139094912</td><td>0</td><td>0</td><td>APOGEE2_WASH_GIANT,APOGEE2_MAGCLOUD_CANDIDATE</td><td>apogee2s</td><td>0 .. 5</td><td>8</td><td>1</td><td>0</td><td>86.27563</td><td>0</td><td></td><td>0</td><td></td><td>135.1045</td><td>0.270227</td><td>0.102533504</td><td>0.0729128</td><td>135.005</td><td>0.429721</td><td>0.0294742</td><td>0.0689548</td><td>135.032</td><td>0.225456</td><td>0.0311718</td><td>0.0729128</td><td>4250.0</td><td>3.0</td><td>-0.5</td><td>0.0</td><td>0.0</td><td>22.2571</td><td>22.705</td><td>0.28398</td><td>44.042576 .. 44.042576</td><td>3.318229 .. 3.318229</td><td>18.466919 .. 18.466919</td><td>0.0 .. 0.0</td><td>186.736</td><td>88.3448</td><td>77.15481</td><td>stars</td><td>l31c</td><td>t9-l31c</td><td>1</td><td>-9999.99</td><td>9999.99</td><td>-9999.99</td><td>9999.99</td><td>4244.6743 .. 0.0</td><td>4153.468 .. 0.0</td><td>4840.2896 .. 0.0</td><td>28.074 .. 0.0</td><td>4244.6743</td><td>69.57219</td><td>1.4652455</td><td>0.08064415</td><td>1.9059873</td><td>10.0</td><td>-9999.99</td><td>-0.7067688</td><td>0.030689513</td><td>-0.06593911</td><td>0.024474744</td><td>1.9702893</td><td>GKg</td><td>0</td><td></td><td>0 .. 65536</td><td>-0.38469172 .. -0.71951056</td><td>0.008259056 .. 0.1158663</td><td>-1.0736887 .. -9999.0</td><td>0.037033778 .. -9999.0</td><td>-0.36692 .. -9999.0</td><td>0.037033778 .. -9999.0</td><td>-0.41824788</td><td>-0.35589796</td><td>0.07174206</td><td>-0.12296021</td><td>-0.25210267</td><td>-0.12793106</td><td>-0.7926318</td><td>-0.084192455</td><td>-0.059753418</td><td>-0.3070069</td><td>-0.1604718</td><td>-0.06946194</td><td>-0.1451289</td><td>0.74537116</td><td>-0.37269372</td><td>-0.15251702</td><td>-0.28796005</td><td>-0.65544087</td><td>-0.23756373</td><td>-0.20741528</td><td>-9999.99</td><td>-9999.99</td><td>-9999.99</td><td>-9999.99</td><td>-9999.99</td><td>0.037033778</td><td>0.06716758</td><td>0.051858887</td><td>0.039682925</td><td>0.15079457</td><td>0.038216524</td><td>0.05782214</td><td>0.033760983</td><td>0.1233491</td><td>0.21802522</td><td>0.07402312</td><td>0.04866146</td><td>0.048811004</td><td>0.09235448</td><td>0.12861182</td><td>0.06576857</td><td>0.048294287</td><td>0.012659727</td><td>0.09845557</td><td>0.03721371</td><td>-9999.99</td><td>-9999.99</td><td>-9999.99</td><td>-9999.99</td><td>-9999.99</td><td>512</td><td>0</td><td>512</td><td>512</td><td>512</td><td>0</td><td>0</td><td>0</td><td>0</td><td>0</td><td>512</td><td>0</td><td>0</td><td>256</td><td>512</td><td>0</td><td>0</td><td>0</td><td>0</td><td>0</td><td>258</td><td>258</td><td>0</td><td>2</td><td>2</td><td>1.8744334 .. 0.5253152</td><td>512 .. 2</td><td>2M02012965-7321556</td><td>2MASS</td><td>-9999.99</td><td>-9999.99</td><td>-9999.99</td><td>-9999.99</td><td>16.789879</td><td>-9999.99</td><td>-9999.99</td><td>-9999.99</td><td>-9999.99</td><td>-9999.99</td><td>-9999.99</td><td>-9999.99</td><td>-9999.99</td><td>-9999.99</td><td>13.303</td><td>0.024</td><td>-9999.99</td><td>-9999.99</td><td>0.012899484</td><td>SFD</td><td>0.09271802</td><td>0.042713523</td><td>-1</td><td>1</td><td>0.4</td><td>-2.3</td><td>HSOY</td><td>t9-10087-58027-242,t9-10087-58030-194,t9-10087-58053-038,t9-10087-58058-242,t9-10087-58062-242,t9-10130-58093-050,t9-10130-58096-188,t9-10130-58114-191</td><td>t9-10087-58027-242,t9-10087-58030-194,t9-10087-58053-038,t9-10087-58058-242,t9-10087-58062-242</td><td>92632 .. -1</td><td>92632 .. -1</td><td>4205.2 .. 0.0</td><td>2.1554601 .. 0.0</td><td>234.04143</td><td>16.073938</td><td>104.317055</td><td>5.0092463</td><td>-12.457516</td><td>-7.5930967</td><td>16.756414</td><td>0.005741313</td><td>0.009930133</td><td>15.0478945</td><td>0.0041271737</td><td>86.95355</td><td>-2.5587158</td><td>-0.41594863</td><td>-0.0030104518</td><td>-0.06159035</td><td>10</td><td>FntRGB</td><td>10000017</td><td>4638604369474557568</td><td>-0.033262294</td><td>0.040144853</td><td>8531.34</td><td>11481.369</td><td>17804.559</td><td>1.3286308</td><td>0.09897256</td><td>-1.2851827</td><td>0.06450658</td><td>16.1265</td><td>16.847</td><td>15.3029</td><td>-0.76746863</td><td>1.6816505</td><td>1.8351746</td><td>0.22156405</td><td>1.2033332586288452</td><td>1.2009999752044678</td><td>0.25516048073768616</td><td>341.7412109375</td><td>338.06488037109375</td><td>79.22283935546875</td><td>34.18325313934557</td></tr>\n",
       "<tr><td>133.97334 133.87354 133.71475 135.36324 134.60638 133.97218 134.61467\n",
       " 135.2668</td><td>0.18660484 0.14360297 0.1628778  0.1077813  0.15165327 0.12221641\n",
       " 0.14260824 0.16509001</td><td>2458027.76192 2458030.74924 2458053.67478 2458058.65733 2458062.65373\n",
       " 2458093.595   2458096.58811 2458114.53342</td><td>apogee.apo25m.s.stars.SMC-7.2M02022001-7335206</td><td>SMC-7.2M02022001-7335206</td><td>apogee.apo25m.s.t9-l31c.SMC-7.2M02022001-7335206</td><td>apStar-t9-2M02022001-7335206.fits</td><td>2M02022001-7335206</td><td>lco25m</td><td>5503</td><td>SMC7</td><td>15.052</td><td>0.048</td><td>14.31</td><td>0.049</td><td>14.223</td><td>0.064</td><td>30.583384</td><td>-73.589058</td><td>296.22157184</td><td>-42.6030640878</td><td>0</td><td>0</td><td>0</td><td>-2139094912</td><td>0</td><td>0</td><td>APOGEE2_WASH_GIANT,APOGEE2_MAGCLOUD_CANDIDATE</td><td>apogee2s</td><td>0 .. 5</td><td>8</td><td>1</td><td>0</td><td>47.13064</td><td>4</td><td>BRIGHT_NEIGHBOR</td><td>0</td><td></td><td>134.459</td><td>0.681036</td><td>0.12021764</td><td>0.151653</td><td>134.339</td><td>0.775435</td><td>0.049963</td><td>0.118262</td><td>134.374</td><td>0.681036</td><td>0.0657074</td><td>0.151653</td><td>4250.0</td><td>3.0</td><td>-0.5</td><td>0.0</td><td>0.0</td><td>21.9668</td><td>22.6997</td><td>0.504262</td><td>119.74223 .. 119.74223</td><td>5.4713397 .. 5.4713397</td><td>18.466919 .. 18.466919</td><td>0.0 .. 0.0</td><td>255.389</td><td>86.9068</td><td>41.53981</td><td>stars</td><td>l31c</td><td>t9-l31c</td><td>1</td><td>-9999.99</td><td>9999.99</td><td>-9999.99</td><td>9999.99</td><td>4387.5894 .. 0.0</td><td>4349.9473 .. 0.0</td><td>6619.5205 .. 0.0</td><td>236.61 .. 0.0</td><td>4387.5894</td><td>81.360435</td><td>1.5415555</td><td>0.08812137</td><td>1.8274268</td><td>10.0</td><td>-9999.99</td><td>-0.7185255</td><td>0.032979786</td><td>-0.14171705</td><td>0.025975434</td><td>1.9489468</td><td>GKg</td><td>2176</td><td>STAR_WARN,SN_WARN</td><td>0 .. 65536</td><td>-0.5316032 .. -1.2226686</td><td>0.02551862 .. 0.25232914</td><td>-1.2577155 .. -9999.0</td><td>0.045557678 .. -9999.0</td><td>-0.53919 .. -9999.0</td><td>0.045557678 .. -9999.0</td><td>-0.6073933</td><td>-0.40995342</td><td>-0.07035941</td><td>-0.20953608</td><td>0.20285258</td><td>-0.32167858</td><td>-0.9206069</td><td>-0.20813209</td><td>-0.52552956</td><td>-9999.99</td><td>-0.29613632</td><td>0.06519812</td><td>-0.088563204</td><td>0.0039996505</td><td>-9999.99</td><td>0.20148528</td><td>-0.52305263</td><td>-0.65032214</td><td>-0.03529203</td><td>-0.22165859</td><td>-9999.99</td><td>-9999.99</td><td>-9999.99</td><td>-9999.99</td><td>-9999.99</td><td>0.045557678</td><td>0.079151504</td><td>0.06111952</td><td>0.050297186</td><td>0.15756904</td><td>0.053193044</td><td>0.13781509</td><td>0.053407867</td><td>0.2890986</td><td>-9999.99</td><td>0.12697637</td><td>0.060537446</td><td>0.05825385</td><td>0.4082646</td><td>-9999.99</td><td>0.081309</td><td>0.061373446</td><td>0.0127446195</td><td>0.14543384</td><td>0.047680005</td><td>-9999.99</td><td>-9999.99</td><td>-9999.99</td><td>-9999.99</td><td>-9999.99</td><td>512</td><td>0</td><td>512</td><td>512</td><td>512</td><td>0</td><td>0</td><td>0</td><td>0</td><td>259</td><td>512</td><td>0</td><td>0</td><td>0</td><td>259</td><td>0</td><td>0</td><td>0</td><td>0</td><td>0</td><td>2</td><td>259</td><td>0</td><td>258</td><td>2</td><td>2.0909805 .. 2.185244e-07</td><td>512 .. 2</td><td>2M02022001-7335206</td><td>2MASS</td><td>-9999.99</td><td>-9999.99</td><td>-9999.99</td><td>-9999.99</td><td>17.4193</td><td>-9999.99</td><td>-9999.99</td><td>-9999.99</td><td>-9999.99</td><td>-9999.99</td><td>-9999.99</td><td>-9999.99</td><td>-9999.99</td><td>-9999.99</td><td>14.275</td><td>0.034</td><td>-9999.99</td><td>-9999.99</td><td>0.014774805</td><td>SFD</td><td>-0.013769265</td><td>0.048923198</td><td>-1</td><td>1</td><td>1.3</td><td>-2.9</td><td>HSOY</td><td>t9-10087-58027-287,t9-10087-58030-290,t9-10087-58053-095,t9-10087-58058-293,t9-10087-58062-287,t9-10130-58093-023,t9-10130-58096-185,t9-10130-58114-185</td><td>t9-10087-58027-287,t9-10087-58030-290,t9-10087-58053-095,t9-10087-58058-293,t9-10087-58062-287</td><td>93036 .. -1</td><td>93036 .. -1</td><td>4439.3 .. 0.0</td><td>2.004472 .. 0.0</td><td>233.29938</td><td>15.966144</td><td>106.87503</td><td>5.0651426</td><td>-12.244559</td><td>-7.6880136</td><td>17.3632</td><td>0.0093</td><td>0.0131</td><td>15.8538</td><td>0.0071</td><td>86.308044</td><td>-2.4766905</td><td>-0.2540382</td><td>0.033813417</td><td>-0.11497583</td><td>10</td><td>FntRGB</td><td>10000111</td><td>4638409304944339328</td><td>-0.07518488</td><td>0.05628133</td><td>7271.576</td><td>10076.938</td><td>16354.522</td><td>1.4106562</td><td>0.11737237</td><td>-1.1232723</td><td>0.0930601</td><td>16.819</td><td>17.4628</td><td>16.0467</td><td>-0.89814365</td><td>1.5636598</td><td>1.7623243</td><td>0.3819777</td><td>0.9026666283607483</td><td>0.8859999775886536</td><td>0.04800926893949509</td><td>237.802978515625</td><td>231.73947143554688</td><td>12.092662811279297</td><td>26.687638892492437</td></tr>\n",
       "<tr><td>129.5529  129.78838 129.48067 129.32523 129.81773 127.70253 128.10039\n",
       " 127.8663</td><td>0.11509663 0.1        0.1        0.1        0.10417881 0.1\n",
       " 0.1        0.1</td><td>2458027.76192 2458030.74924 2458053.67478 2458058.65733 2458062.65373\n",
       " 2458093.595   2458096.58811 2458114.53342</td><td>apogee.apo25m.s.stars.SMC-7.2M02041614-7316336</td><td>SMC-7.2M02041614-7316336</td><td>apogee.apo25m.s.t9-l31c.SMC-7.2M02041614-7316336</td><td>apStar-t9-2M02041614-7316336.fits</td><td>2M02041614-7316336</td><td>lco25m</td><td>5503</td><td>SMC7</td><td>13.699</td><td>0.022</td><td>13.143</td><td>0.023</td><td>13.138</td><td>0.038</td><td>31.067254</td><td>-73.276009</td><td>295.888136657</td><td>-42.8418741706</td><td>0</td><td>0</td><td>0</td><td>-2139094912</td><td>0</td><td>0</td><td>APOGEE2_WASH_GIANT,APOGEE2_MAGCLOUD_CANDIDATE</td><td>apogee2s</td><td>0 .. 5</td><td>8</td><td>1</td><td>0</td><td>101.68957</td><td>0</td><td></td><td>0</td><td></td><td>128.7255</td><td>0.20893</td><td>1.1985458</td><td>0.0923071</td><td>129.445</td><td>0.455157</td><td>0.0345827</td><td>0.0822074</td><td>129.064</td><td>0.246423</td><td>0.0356332</td><td>0.0774809</td><td>4750.0</td><td>3.0</td><td>-0.5</td><td>0.0</td><td>0.0</td><td>21.1313</td><td>21.9413</td><td>0.285211</td><td>21.696432 .. 40.816685</td><td>2.3289714 .. 3.1943967</td><td>18.466919 .. 18.466919</td><td>0.00023031235 .. 0.0</td><td>155.011</td><td>72.206</td><td>85.36512</td><td>stars</td><td>l31c</td><td>t9-l31c</td><td>1</td><td>-9999.99</td><td>9999.99</td><td>-9999.99</td><td>9999.99</td><td>4961.2373 .. 0.0</td><td>4821.842 .. 0.0</td><td>11003.873 .. 0.0</td><td>225.18 .. 0.0</td><td>4961.2373</td><td>104.899345</td><td>3.1423037</td><td>0.08214984</td><td>0.7631853</td><td>10.0</td><td>-9999.99</td><td>-0.49279836</td><td>0.042253707</td><td>0.25821975</td><td>0.021221636</td><td>1.8835189</td><td>GKg</td><td>0</td><td></td><td>0 .. 65536</td><td>0.065119885 .. -0.35592657</td><td>0.012222929 .. 0.18652345</td><td>-0.38030836 .. -9999.0</td><td>0.06368475 .. -9999.0</td><td>0.11249 .. -9999.0</td><td>0.06368475 .. -9999.0</td><td>0.06837013</td><td>0.17599013</td><td>0.18477014</td><td>0.14873907</td><td>-0.26381314</td><td>0.3299799</td><td>0.67200017</td><td>0.20233165</td><td>0.03707537</td><td>0.007774681</td><td>0.067246765</td><td>0.16950089</td><td>0.25724193</td><td>0.6008476</td><td>-0.6226002</td><td>0.096165806</td><td>-0.20195138</td><td>-0.4486785</td><td>0.6749364</td><td>0.05491382</td><td>-9999.99</td><td>-9999.99</td><td>-9999.99</td><td>-9999.99</td><td>-9999.99</td><td>0.06368475</td><td>0.08043907</td><td>0.08318784</td><td>0.06351998</td><td>0.16765441</td><td>0.03129029</td><td>0.08151774</td><td>0.038445093</td><td>0.1350413</td><td>0.18663333</td><td>0.077924654</td><td>0.04805984</td><td>0.064751826</td><td>0.12337057</td><td>0.11831143</td><td>0.07741611</td><td>0.05310042</td><td>0.010167721</td><td>0.12235902</td><td>0.03866964</td><td>-9999.99</td><td>-9999.99</td><td>-9999.99</td><td>-9999.99</td><td>-9999.99</td><td>0</td><td>0</td><td>0</td><td>0</td><td>0</td><td>0</td><td>0</td><td>0</td><td>0</td><td>0</td><td>0</td><td>0</td><td>0</td><td>0</td><td>0</td><td>0</td><td>0</td><td>0</td><td>0</td><td>0</td><td>2</td><td>259</td><td>0</td><td>2</td><td>2</td><td>1.9617335 .. 1.0754074</td><td>0 .. 2</td><td>2M02041614-7316336</td><td>2MASS</td><td>-9999.99</td><td>-9999.99</td><td>-9999.99</td><td>-9999.99</td><td>15.470448</td><td>-9999.99</td><td>-9999.99</td><td>-9999.99</td><td>-9999.99</td><td>-9999.99</td><td>-9999.99</td><td>-9999.99</td><td>-9999.99</td><td>-9999.99</td><td>13.122</td><td>0.024</td><td>-9999.99</td><td>-9999.99</td><td>0.010251262</td><td>SFD</td><td>-0.026622085</td><td>0.033944577</td><td>-1</td><td>1</td><td>1.3</td><td>-2.2</td><td>HSOY</td><td>t9-10087-58027-204,t9-10087-58030-199,t9-10087-58053-036,t9-10087-58058-162,t9-10087-58062-205,t9-10130-58093-056,t9-10130-58096-194,t9-10130-58114-152</td><td>t9-10087-58027-204,t9-10087-58030-199,t9-10087-58053-036,t9-10087-58058-162,t9-10087-58062-205</td><td>94016 .. -1</td><td>94016 .. -1</td><td>4807.5 .. 0.0</td><td>1.9155346 .. 0.0</td><td>234.52242</td><td>15.900474</td><td>103.42799</td><td>5.2126374</td><td>-12.399783</td><td>-7.3824744</td><td>15.499425</td><td>0.0025707386</td><td>0.003587565</td><td>14.287454</td><td>0.0025453814</td><td>80.57454</td><td>0.07625365</td><td>-1.9119017</td><td>0.1786586</td><td>0.2194452</td><td>9</td><td>BrtRGB</td><td>9000012</td><td>4638422812617176192</td><td>0.13265581</td><td>0.023394113</td><td>5729.828</td><td>6920.564</td><td>9537.174</td><td>3.9636004</td><td>0.05348672</td><td>-2.7811358</td><td>0.040679865</td><td>15.1374</td><td>15.6259</td><td>14.5014</td><td>-2.6126912</td><td>4.0766044</td><td>4.672185</td><td>1.2710409</td><td>0.9180000424385071</td><td>0.9110000133514404</td><td>0.010614459402859211</td><td>9.55823040008545</td><td>9.484184265136719</td><td>0.13669152557849884</td><td>4.1846794801862</td></tr>\n",
       "<tr><td>142.2567  142.24188 142.14635 142.58124 143.83762 144.16432 143.03976</td><td>0.19195683 0.18248205 0.18416189 0.19607618 0.2933296  0.28608525\n",
       " 0.29161155</td><td>2458027.76192 2458030.74924 2458053.67478 2458058.65733 2458093.595\n",
       " 2458096.58811 2458114.53342</td><td>apogee.apo25m.s.stars.SMC-7.2M02103057-7314300</td><td>SMC-7.2M02103057-7314300</td><td>apogee.apo25m.s.t9-l31c.SMC-7.2M02103057-7314300</td><td>apStar-t9-2M02103057-7314300.fits</td><td>2M02103057-7314300</td><td>lco25m</td><td>5503</td><td>SMC7</td><td>15.421</td><td>0.05</td><td>14.743</td><td>0.048</td><td>14.667</td><td>0.103</td><td>32.627415</td><td>-73.241684</td><td>295.307165884</td><td>-42.6961447551</td><td>0</td><td>0</td><td>0</td><td>-2139094912</td><td>0</td><td>0</td><td>APOGEE2_WASH_GIANT,APOGEE2_MAGCLOUD_CANDIDATE</td><td>apogee2s</td><td>0 .. 5</td><td>5</td><td>0</td><td>0</td><td>26.4736</td><td>20</td><td>BRIGHT_NEIGHBOR,LOW_SNR</td><td>0</td><td></td><td>142.313</td><td>0.190062</td><td>0.0887219</td><td>0.191957</td><td>142.305</td><td>0.326561</td><td>0.0532816</td><td>0.115332</td><td>142.426</td><td>0.295617</td><td>0.124918</td><td>0.260866</td><td>4750.0</td><td>3.0</td><td>-0.5</td><td>0.0</td><td>0.0</td><td>22.0858</td><td>21.9415</td><td>0.214236</td><td>2.9255114 .. 1.2220575</td><td>0.98750716 .. 0.6382417</td><td>16.266323 .. 16.266323</td><td>0.40325302 .. 0.74771905</td><td>84.3256</td><td>73.6091</td><td>28.88031</td><td>stars</td><td>l31c</td><td>t9-l31c</td><td>1</td><td>-9999.99</td><td>9999.99</td><td>-9999.99</td><td>9999.99</td><td>4510.6 .. 0.0</td><td>4510.6 .. 0.0</td><td>-9999.0 .. 0.0</td><td>1140.8 .. 0.0</td><td>4510.6</td><td>85.42232</td><td>1.9062</td><td>0.0796929</td><td>1.6647538</td><td>10.0</td><td>-9999.99</td><td>-0.92786</td><td>-9999.99</td><td>0.051838</td><td>0.028636545</td><td>1.802229</td><td>GKg</td><td>142608512</td><td>STAR_WARN,SN_WARN,STAR_BAD,SN_BAD</td><td>0 .. 65536</td><td>-0.53852 .. -2.4947</td><td>0.05541931 .. 0.17704237</td><td>-9999.0 .. -9999.0</td><td>-9999.0 .. -9999.0</td><td>-9999.0 .. -9999.0</td><td>-9999.0 .. -9999.0</td><td>-9999.99</td><td>-9999.99</td><td>-9999.99</td><td>-9999.99</td><td>-9999.99</td><td>-9999.99</td><td>-9999.99</td><td>-9999.99</td><td>-9999.99</td><td>-9999.99</td><td>-9999.99</td><td>-9999.99</td><td>-9999.99</td><td>-9999.99</td><td>-9999.99</td><td>-9999.99</td><td>-9999.99</td><td>-0.88993</td><td>-9999.99</td><td>-9999.99</td><td>-9999.99</td><td>-9999.99</td><td>-9999.99</td><td>-9999.99</td><td>-9999.99</td><td>-9999.99</td><td>-9999.99</td><td>-9999.99</td><td>-9999.99</td><td>-9999.99</td><td>-9999.99</td><td>-9999.99</td><td>-9999.99</td><td>-9999.99</td><td>-9999.99</td><td>-9999.99</td><td>-9999.99</td><td>-9999.99</td><td>-9999.99</td><td>-9999.99</td><td>-9999.99</td><td>-9999.99</td><td>0.014666358</td><td>-9999.99</td><td>-9999.99</td><td>-9999.99</td><td>-9999.99</td><td>-9999.99</td><td>-9999.99</td><td>-9999.99</td><td>0</td><td>0</td><td>0</td><td>0</td><td>0</td><td>0</td><td>0</td><td>0</td><td>0</td><td>257</td><td>0</td><td>0</td><td>0</td><td>0</td><td>0</td><td>0</td><td>0</td><td>0</td><td>256</td><td>0</td><td>0</td><td>256</td><td>0</td><td>256</td><td>257</td><td>1.3661237 .. 0.4032645</td><td>0 .. 257</td><td>2M02103057-7314300</td><td>2MASS</td><td>-9999.99</td><td>-9999.99</td><td>-9999.99</td><td>-9999.99</td><td>17.65019</td><td>-9999.99</td><td>-9999.99</td><td>-9999.99</td><td>-9999.99</td><td>-9999.99</td><td>-9999.99</td><td>-9999.99</td><td>-9999.99</td><td>-9999.99</td><td>14.648</td><td>0.039</td><td>-9999.99</td><td>-9999.99</td><td>-9999.99</td><td>none</td><td>0.041310243</td><td>0.0433415</td><td>-1</td><td>1</td><td>-2.9</td><td>1.9</td><td>HSOY</td><td>t9-10087-58027-042,t9-10087-58030-042,t9-10087-58053-204,t9-10087-58058-037,t9-10087-58062-037,t9-10130-58093-206,t9-10130-58096-032,t9-10130-58114-038</td><td>t9-10087-58027-042,t9-10087-58030-042,t9-10087-58053-204,t9-10087-58058-037,t9-10087-58062-037</td><td>97179 .. -1</td><td>97179 .. -1</td><td>4689.6 .. 0.0</td><td>1.8093809 .. 0.0</td><td>235.00784</td><td>15.469302</td><td>103.43363</td><td>5.6633353</td><td>-12.132199</td><td>-7.0182586</td><td>17.60162</td><td>0.009185047</td><td>0.015733695</td><td>16.127783</td><td>0.0059596915</td><td>94.16205</td><td>-2.4315698</td><td>-0.16272342</td><td>-0.23153532</td><td>0.008366685</td><td>10</td><td>FntRGB</td><td>10000185</td><td>4644417517514120960</td><td>0.025283746</td><td>0.07276129</td><td>4942.818</td><td>6992.772</td><td>12562.866</td><td>1.4557769</td><td>0.15699036</td><td>-1.0319575</td><td>0.10714958</td><td>17.1216</td><td>17.7536</td><td>16.3773</td><td>-0.90544784</td><td>1.537657</td><td>1.7352618</td><td>0.4160431</td><td>0.8460000157356262</td><td>0.8460000157356262</td><td>0.0</td><td>114.55130004882812</td><td>114.55130004882812</td><td>0.0</td><td>17.52608093943055</td></tr>\n",
       "<tr><td>92.4999   93.65905  92.66941  92.43373  91.26598 368.98175 359.49213</td><td>0.14516056 0.1        0.12256695 0.14837416 0.17358537 2.12657309\n",
       " 4.03604126</td><td>2458027.76192 2458030.74924 2458053.67478 2458058.65733 2458062.65373\n",
       " 2458096.58811 2458114.53342</td><td>apogee.apo25m.s.stars.SMC-7.2M02113257-7408036</td><td>SMC-7.2M02113257-7408036</td><td>apogee.apo25m.s.t9-l31c.SMC-7.2M02113257-7408036</td><td>apStar-t9-2M02113257-7408036.fits</td><td>2M02113257-7408036</td><td>lco25m</td><td>5503</td><td>SMC7</td><td>14.449</td><td>0.032</td><td>13.921</td><td>0.029</td><td>13.818</td><td>0.051</td><td>32.885738</td><td>-74.134361</td><td>295.711558849</td><td>-41.8519868278</td><td>0</td><td>0</td><td>0</td><td>-2139094912</td><td>0</td><td>0</td><td>APOGEE2_WASH_GIANT,APOGEE2_MAGCLOUD_CANDIDATE</td><td>apogee2s</td><td>0 .. 5</td><td>7</td><td>0</td><td>0</td><td>34.984047</td><td>4</td><td>BRIGHT_NEIGHBOR</td><td>4</td><td>BRIGHT_NEIGHBOR</td><td>93.11589</td><td>6.71018</td><td>14.944335</td><td>0.145161</td><td>92.7046</td><td>0.851341</td><td>0.05764</td><td>0.145161</td><td>92.9207</td><td>0.954724</td><td>0.172625</td><td>0.438194</td><td>5750.0</td><td>4.0</td><td>-0.5</td><td>0.0</td><td>0.0</td><td>24.7139</td><td>23.4595</td><td>0.264597</td><td>182.45355 .. 24.440012</td><td>6.7537684 .. 2.471842</td><td>18.466919 .. 18.466919</td><td>0.0 .. 6.520748e-05</td><td>66.4557</td><td>87.5511</td><td>30.43009</td><td>stars</td><td>l31c</td><td>t9-l31c</td><td>1</td><td>-9999.99</td><td>9999.99</td><td>-9999.99</td><td>9999.99</td><td>5026.498 .. 0.0</td><td>4219.9414 .. 0.0</td><td>15519.622 .. 0.0</td><td>4034.7 .. 0.0</td><td>5026.498</td><td>124.577774</td><td>2.3159876</td><td>0.08602018</td><td>1.9349065</td><td>10.0</td><td>-9999.99</td><td>-1.3083079</td><td>0.06197841</td><td>0.4144272</td><td>0.039441936</td><td>1.3142864</td><td>GKg</td><td>2176</td><td>STAR_WARN,SN_WARN</td><td>0 .. 65536</td><td>-0.5568872 .. -0.21440196</td><td>0.16552038 .. 0.2797749</td><td>-1.2067878 .. -9999.0</td><td>0.16552038 .. -9999.0</td><td>0.10152 .. -9999.0</td><td>0.16552038 .. -9999.0</td><td>0.051632643</td><td>-0.062966466</td><td>-0.048665166</td><td>0.19651365</td><td>-9999.99</td><td>0.14949</td><td>0.7020112</td><td>0.5334196</td><td>-0.12224555</td><td>-0.010219574</td><td>-0.7379004</td><td>-9999.99</td><td>0.3138243</td><td>-9999.99</td><td>0.47993386</td><td>0.86945724</td><td>-0.20604587</td><td>-1.2584205</td><td>-0.111380935</td><td>0.3285808</td><td>-9999.99</td><td>-9999.99</td><td>-9999.99</td><td>-9999.99</td><td>-9999.99</td><td>0.16552038</td><td>0.28712192</td><td>0.2543639</td><td>0.30334634</td><td>-9999.99</td><td>0.1459315</td><td>0.12696062</td><td>0.06263066</td><td>0.43358967</td><td>0.8213647</td><td>0.7336143</td><td>-9999.99</td><td>0.14431909</td><td>-9999.99</td><td>0.2885325</td><td>0.15071179</td><td>0.18162048</td><td>0.022305157</td><td>0.52185243</td><td>0.08361596</td><td>-9999.99</td><td>-9999.99</td><td>-9999.99</td><td>-9999.99</td><td>-9999.99</td><td>512</td><td>512</td><td>4608</td><td>512</td><td>259</td><td>512</td><td>512</td><td>512</td><td>512</td><td>512</td><td>512</td><td>259</td><td>512</td><td>259</td><td>512</td><td>512</td><td>512</td><td>512</td><td>512</td><td>512</td><td>259</td><td>259</td><td>512</td><td>2</td><td>2</td><td>1.1539793 .. 0.13467282</td><td>512 .. 2</td><td>2M02113257-7408036</td><td>2MASS</td><td>-9999.99</td><td>-9999.99</td><td>-9999.99</td><td>-9999.99</td><td>16.4073</td><td>-9999.99</td><td>-9999.99</td><td>-9999.99</td><td>-9999.99</td><td>-9999.99</td><td>-9999.99</td><td>-9999.99</td><td>-9999.99</td><td>-9999.99</td><td>13.895</td><td>0.031</td><td>-9999.99</td><td>-9999.99</td><td>0.019686652</td><td>SFD</td><td>-0.022032855</td><td>0.065187596</td><td>-1</td><td>1</td><td>3.4</td><td>-5.3</td><td>HSOY</td><td>t9-10087-58027-019,t9-10087-58030-030,t9-10087-58053-217,t9-10087-58058-025,t9-10087-58062-013,t9-10130-58093-221,t9-10130-58096-023,t9-10130-58114-023</td><td>t9-10087-58027-019,t9-10087-58030-030,t9-10087-58053-217,t9-10087-58058-025,t9-10087-58062-013</td><td>97636 .. -1</td><td>97636 .. -1</td><td>4952.9 .. 0.0</td><td>1.3153763 .. 0.0</td><td>231.74002</td><td>15.23748</td><td>112.45073</td><td>5.7233377</td><td>-11.407492</td><td>-7.552469</td><td>16.3451</td><td>0.0055</td><td>0.0076</td><td>15.1266</td><td>0.0054</td><td>44.964935</td><td>0.0</td><td>-2.809384</td><td>-0.9202368</td><td>0.3393081</td><td>10</td><td>FntRGB</td><td>10000057</td><td>4637563338121539456</td><td>0.070934765</td><td>0.03399911</td><td>6662.178</td><td>8673.328</td><td>13593.521</td><td>3.8873467</td><td>0.08125989</td><td>-3.6786182</td><td>0.057747632</td><td>15.9536</td><td>16.453</td><td>15.3022</td><td>-2.0418768</td><td>4.947166</td><td>5.3296275</td><td>0.48865184</td><td>1.0915000438690186</td><td>1.0915000438690186</td><td>0.03650003671646118</td><td>81.06856536865234</td><td>81.06856536865234</td><td>3.2649078369140625</td><td>11.87267672578195</td></tr>\n",
       "<tr><td>43.066017 45.07807  45.289207 44.805965 44.875805 45.043114 45.499535\n",
       " 44.910446</td><td>0.10509701 0.1        0.1        0.1        0.1        0.1\n",
       " 0.1        0.1</td><td>2458027.76192 2458030.74924 2458053.67478 2458058.65733 2458062.65373\n",
       " 2458093.595   2458096.58811 2458114.53342</td><td>apogee.apo25m.s.stars.SMC-7.2M02115146-7323481</td><td>SMC-7.2M02115146-7323481</td><td>apogee.apo25m.s.t9-l31c.SMC-7.2M02115146-7323481</td><td>apStar-t9-2M02115146-7323481.fits</td><td>2M02115146-7323481</td><td>lco25m</td><td>5503</td><td>SMC7</td><td>13.46</td><td>0.026</td><td>12.953</td><td>0.028</td><td>12.848</td><td>0.029</td><td>32.964445</td><td>-73.396698</td><td>295.27425374</td><td>-42.5150341326</td><td>0</td><td>0</td><td>0</td><td>-2139094912</td><td>0</td><td>0</td><td>APOGEE2_WASH_GIANT,APOGEE2_MAGCLOUD_CANDIDATE</td><td>apogee2s</td><td>0 .. 5</td><td>8</td><td>0</td><td>0</td><td>107.10418</td><td>0</td><td></td><td>0</td><td></td><td>45.025005</td><td>0.890576</td><td>0.19869845</td><td>0.0484884</td><td>44.8845</td><td>0.890576</td><td>0.0239874</td><td>0.0484884</td><td>44.7906</td><td>0.928727</td><td>0.0258599</td><td>0.0522937</td><td>5750.0</td><td>4.0</td><td>0.5</td><td>0.0</td><td>0.0</td><td>22.4059</td><td>22.6833</td><td>0.132816</td><td>436.9512 .. 340.9666</td><td>10.451689 .. 9.23264</td><td>18.466919 .. 18.466919</td><td>0.0 .. 0.0</td><td>148.893</td><td>91.8357</td><td>87.47032</td><td>stars</td><td>l31c</td><td>t9-l31c</td><td>1</td><td>-9999.99</td><td>9999.99</td><td>-9999.99</td><td>9999.99</td><td>4845.462 .. 0.0</td><td>4778.465 .. 0.0</td><td>9247.37 .. 0.0</td><td>125.67 .. 0.0</td><td>4845.462</td><td>96.163246</td><td>3.0328596</td><td>0.06963927</td><td>1.4139367</td><td>10.0</td><td>-9999.99</td><td>-0.079038665</td><td>0.031770833</td><td>0.024893472</td><td>0.0152674</td><td>2.7264028</td><td>GKg</td><td>0</td><td></td><td>0 .. 65536</td><td>-0.16962701 .. -0.0445368</td><td>0.0060812007 .. 0.09814785</td><td>-0.26782864 .. -9999.0</td><td>0.043936085 .. -9999.0</td><td>-0.18879 .. -9999.0</td><td>0.043936085 .. -9999.0</td><td>-0.20107901</td><td>-0.046493024</td><td>0.30486098</td><td>0.027302157</td><td>-9999.99</td><td>0.050674237</td><td>0.22841343</td><td>0.018969074</td><td>-0.0530914</td><td>-0.20153481</td><td>0.036045328</td><td>0.00363072</td><td>-0.011264935</td><td>0.49129105</td><td>-0.29499823</td><td>-0.011061855</td><td>-0.08126078</td><td>-0.06674964</td><td>0.42004704</td><td>-0.02729126</td><td>-9999.99</td><td>-9999.99</td><td>-9999.99</td><td>-9999.99</td><td>-9999.99</td><td>0.043936085</td><td>0.060977273</td><td>0.059375957</td><td>0.04474147</td><td>-9999.99</td><td>0.023595465</td><td>0.06612466</td><td>0.030657664</td><td>0.12281004</td><td>0.07565624</td><td>0.0621599</td><td>0.035998385</td><td>0.04971661</td><td>0.10912066</td><td>0.09450665</td><td>0.057100076</td><td>0.040207032</td><td>0.008608737</td><td>0.15648003</td><td>0.028417774</td><td>-9999.99</td><td>-9999.99</td><td>-9999.99</td><td>-9999.99</td><td>-9999.99</td><td>0</td><td>0</td><td>0</td><td>0</td><td>259</td><td>0</td><td>0</td><td>0</td><td>0</td><td>0</td><td>0</td><td>0</td><td>0</td><td>0</td><td>0</td><td>0</td><td>0</td><td>0</td><td>0</td><td>0</td><td>2</td><td>259</td><td>0</td><td>2</td><td>2</td><td>3.4647348 .. 0.8191888</td><td>0 .. 2</td><td>2M02115146-7323481</td><td>2MASS</td><td>-9999.99</td><td>-9999.99</td><td>-9999.99</td><td>-9999.99</td><td>15.3932</td><td>-9999.99</td><td>-9999.99</td><td>-9999.99</td><td>-9999.99</td><td>-9999.99</td><td>-9999.99</td><td>-9999.99</td><td>-9999.99</td><td>-9999.99</td><td>12.822</td><td>0.022</td><td>-9999.99</td><td>-9999.99</td><td>0.014550845</td><td>SFD</td><td>0.07435848</td><td>0.04818161</td><td>-1</td><td>1</td><td>1.6</td><td>5.1</td><td>HSOY</td><td>t9-10087-58027-091,t9-10087-58030-139,t9-10087-58053-283,t9-10087-58058-043,t9-10087-58062-096,t9-10130-58093-196,t9-10130-58096-039,t9-10130-58114-046</td><td>t9-10087-58027-091,t9-10087-58030-139,t9-10087-58053-283,t9-10087-58058-043,t9-10087-58062-096</td><td>97776 .. -1</td><td>97776 .. -1</td><td>4797.9 .. 0.0</td><td>2.7554338 .. 0.0</td><td>234.50987</td><td>15.343259</td><td>105.064926</td><td>5.747541</td><td>-11.950546</td><td>-7.0480027</td><td>15.3875</td><td>0.0038</td><td>0.0043</td><td>14.1044</td><td>0.0034</td><td>-3.1259499</td><td>0.9703536</td><td>2.643516</td><td>0.58251035</td><td>0.020119287</td><td>9</td><td>BrtRGB</td><td>9000008</td><td>4644365020129610880</td><td>0.26546693</td><td>0.022096207</td><td>3339.1143</td><td>3746.9236</td><td>4400.625</td><td>4.8577003</td><td>0.051346246</td><td>1.774282</td><td>0.039501853</td><td>14.9832</td><td>15.528</td><td>14.3065</td><td>-5.1559515</td><td>0.40188602</td><td>1.8887982</td><td>4.8143315</td><td>1.3814998865127563</td><td>1.3385000228881836</td><td>0.13941989839076996</td><td>17.058616638183594</td><td>16.25548553466797</td><td>2.4013497829437256</td><td>5.860774222419862</td></tr>\n",
       "</table>"
      ],
      "text/plain": [
       "<Table length=733>\n",
       "                                         RADIALV                                           ...\n",
       "                                                                                           ...\n",
       "                                          str111                                           ...\n",
       "------------------------------------------------------------------------------------------ ...\n",
       "                                         223.86137 223.76282 223.079   223.00877 223.60187 ...\n",
       "231.17038 230.89876 230.99196 230.83307 230.79813 231.04836 229.54332\n",
       " 230.8165  230.80255 ...\n",
       "                                         235.15228 235.1603  235.3941  235.48442 235.66985 ...\n",
       "           237.23451 237.1751  237.20723 236.99663 236.96706 237.01067 237.1595\n",
       " 236.9611  ...\n",
       "206.82503 206.81335 206.79012 206.85545 206.95317 206.84123 207.04236\n",
       " 208.2946  207.70848 ...\n",
       "232.78552 232.82983 233.09476 232.99303 233.16414 233.0298  233.25323\n",
       " 233.03505 233.0866  ...\n",
       "                                         204.33325 204.46786 204.88216 205.35597 205.7899  ...\n",
       "259.1222  259.09393 259.05307 259.22418 259.37283 259.09906 258.93588\n",
       " 258.9442  258.63098 ...\n",
       "                                         209.42451 208.75055 209.2684  208.87024 208.73721 ...\n",
       "                                                                                       ... ...\n",
       "                            84.89805 84.82342 84.3082  84.98249 85.14481 85.41889 85.29206 ...\n",
       "          133.733   133.1323  131.40984 132.1383  132.742   132.1543  131.40575\n",
       " 132.10025 ...\n",
       "                     144.134   144.0643  143.96924 143.91527 143.80449 143.98044 143.62646 ...\n",
       "          141.15681 140.44247 140.9848  140.53833 140.69296 141.13057 141.24542\n",
       " 141.0975  ...\n",
       "          135.01575 134.71425 134.91568 135.24738 135.23778 135.22063 135.38377\n",
       " 134.85599 ...\n",
       "          133.97334 133.87354 133.71475 135.36324 134.60638 133.97218 134.61467\n",
       " 135.2668  ...\n",
       "          129.5529  129.78838 129.48067 129.32523 129.81773 127.70253 128.10039\n",
       " 127.8663  ...\n",
       "                     142.2567  142.24188 142.14635 142.58124 143.83762 144.16432 143.03976 ...\n",
       "                      92.4999   93.65905  92.66941  92.43373  91.26598 368.98175 359.49213 ...\n",
       "          43.066017 45.07807  45.289207 44.805965 44.875805 45.043114 45.499535\n",
       " 44.910446 ..."
      ]
     },
     "execution_count": 69,
     "metadata": {},
     "output_type": "execute_result"
    }
   ],
   "source": [
    "AAS_RV"
   ]
  },
  {
   "cell_type": "code",
   "execution_count": 45,
   "metadata": {},
   "outputs": [
    {
     "data": {
      "text/plain": [
       "1.2797845602035522"
      ]
     },
     "execution_count": 45,
     "metadata": {},
     "output_type": "execute_result"
    }
   ],
   "source": [
    "AAS_RV['ISO_MEANM'][0]"
   ]
  },
  {
   "cell_type": "code",
   "execution_count": 29,
   "metadata": {},
   "outputs": [
    {
     "data": {
      "text/plain": [
       "(array([  1.,  60., 516., 366., 187.,  59.,  26.,  21.,  19.,   7.]),\n",
       " array([3448.19995117, 3624.24445801, 3800.28896484, 3976.33347168,\n",
       "        4152.37797852, 4328.42248535, 4504.46699219, 4680.51149902,\n",
       "        4856.55600586, 5032.6005127 , 5208.64501953]),\n",
       " <a list of 10 Patch objects>)"
      ]
     },
     "execution_count": 29,
     "metadata": {},
     "output_type": "execute_result"
    },
    {
     "data": {
      "image/png": "[encoded data removed]",
      "text/plain": [
       "<Figure size 432x288 with 1 Axes>"
      ]
     },
     "metadata": {},
     "output_type": "display_data"
    }
   ],
   "source": [
    "plt.hist(AAS_RV['TEFF'])"
   ]
  },
  {
   "cell_type": "code",
   "execution_count": 48,
   "metadata": {},
   "outputs": [
    {
     "data": {
      "text/latex": [
       "$79.257528 \\; \\mathrm{R_{\\odot}}$"
      ],
      "text/plain": [
       "<Quantity 79.25752793 solRad>"
      ]
     },
     "execution_count": 48,
     "metadata": {},
     "output_type": "execute_result"
    }
   ],
   "source": []
  },
  {
   "cell_type": "code",
   "execution_count": 49,
   "metadata": {},
   "outputs": [
    {
     "data": {
      "text/latex": [
       "$5.670367 \\times 10^{-8} \\; \\mathrm{\\frac{W}{m^{2}\\,K^{4}}}$"
      ],
      "text/plain": [
       "<<class 'astropy.constants.codata2014.CODATA2014'> name='Stefan-Boltzmann constant' value=5.670367e-08 uncertainty=1.3e-13 unit='W / (K4 m2)' reference='CODATA 2014'>"
      ]
     },
     "execution_count": 49,
     "metadata": {},
     "output_type": "execute_result"
    }
   ],
   "source": [
    "sigma_sb"
   ]
  },
  {
   "cell_type": "code",
   "execution_count": null,
   "metadata": {},
   "outputs": [],
   "source": [
    "AllAvg_LMC = Tables.mc_cut(AAS_RV, 'L')\n",
    "AllAvg_SMC = Tables.mc_cut(AAS_RV, 'S')"
   ]
  },
  {
   "cell_type": "code",
   "execution_count": null,
   "metadata": {},
   "outputs": [],
   "source": [
    "AllAvg_LMC.write('AllAvg_LMC', format = 'fits')\n",
    "AllAvg_SMC.write('AllAvg_SMC', format = 'fits')"
   ]
  },
  {
   "cell_type": "code",
   "execution_count": 9,
   "metadata": {},
   "outputs": [],
   "source": [
    "AllAvg_LMC = fits.open('AllAvg_LMC')\n",
    "AllAvg_SMC = fits.open('AllAvg_SMC')\n",
    "AllAvg_LMC = AllAvg_LMC[1].data\n",
    "AllAvg_SMC = AllAvg_SMC[1].data\n",
    "AllAvg_LMC = Table(AllAvg_LMC)\n",
    "AllAvg_SMC = Table(AllAvg_SMC)\n"
   ]
  },
  {
   "cell_type": "code",
   "execution_count": 10,
   "metadata": {},
   "outputs": [],
   "source": [
    "%run Table_Convert.py\n",
    "AllAvg_SMC=Table_Convert(AllAvg_SMC)\n",
    "AllAvg_LMC=Table_Convert(AllAvg_LMC)"
   ]
  },
  {
   "cell_type": "code",
   "execution_count": null,
   "metadata": {},
   "outputs": [],
   "source": [
    "#Make the nvist cut again becasue I made some SNR cutsmonta\n",
    "AllAvg_LMC = Tables.nvisits_cut(AllAvg_LMC,5)\n",
    "AllAvg_SMC = Tables.nvisits_cut(AllAvg_SMC,5)"
   ]
  },
  {
   "cell_type": "code",
   "execution_count": 16,
   "metadata": {},
   "outputs": [],
   "source": [
    "%run Binary_Fraction.py\n",
    "thing_LMC = Binary_Fraction(AllAvg_LMC)\n",
    "thing_SMC = Binary_Fraction(AllAvg_SMC)"
   ]
  },
  {
   "cell_type": "code",
   "execution_count": 20,
   "metadata": {},
   "outputs": [
    {
     "data": {
      "text/plain": [
       "1047.5655146604772"
      ]
     },
     "execution_count": 20,
     "metadata": {},
     "output_type": "execute_result"
    }
   ],
   "source": [
    "1*u.solMass.to(u.jupiterMass)"
   ]
  },
  {
   "cell_type": "code",
   "execution_count": 18,
   "metadata": {},
   "outputs": [
    {
     "data": {
      "text/plain": [
       "\"\\n#real_data = [real_data_detection_LMC_5, binary_bool_LMC_5, LMC_binary_detection_5, rd_err_LMC]\\nreal_data_LMC2 = thing_LMC2.Real_Data_Fraction()\\nreal_data_SMC2 = thing_SMC2.Real_Data_Fraction()\\n\\n#synthetic_rates = [p_value_result_LMC, binary_result_LMC,  detection_rate_LMC, errors_LMC]\\nsynthetic_rates_LMC2 = thing_LMC2.synthetic_detection_rate(200,'L',True,False,[0,1],30)\\nsynthetic_rates_SMC2 = thing_SMC2.synthetic_detection_rate(200,'L',True,False,[0,1],30)\\n\""
      ]
     },
     "execution_count": 18,
     "metadata": {},
     "output_type": "execute_result"
    }
   ],
   "source": [
    "#real_data = [real_data_detection_LMC_5, binary_bool_LMC_5, LMC_binary_detection_5, rd_err_LMC]\n",
    "real_data_LMC = thing_LMC.Real_Data_Fraction()\n",
    "real_data_SMC = thing_SMC.Real_Data_Fraction()\n",
    "\n",
    "#synthetic_rates = [p_value_result_LMC, binary_result_LMC,  detection_rate_LMC, errors_LMC]\n",
    "synthetic_rates_LMC = thing_LMC.synthetic_detection_rate(500,'L',True,False,[0,1],30)\n",
    "synthetic_rates_SMC = thing_SMC.synthetic_detection_rate(500,'L',True,False,[0,1],30)\n",
    "\"\"\"\n",
    "#real_data = [real_data_detection_LMC_5, binary_bool_LMC_5, LMC_binary_detection_5, rd_err_LMC]\n",
    "real_data_LMC2 = thing_LMC2.Real_Data_Fraction()\n",
    "real_data_SMC2 = thing_SMC2.Real_Data_Fraction()\n",
    "\n",
    "#synthetic_rates = [p_value_result_LMC, binary_result_LMC,  detection_rate_LMC, errors_LMC]\n",
    "synthetic_rates_LMC2 = thing_LMC2.synthetic_detection_rate(200,'L',True,False,[0,1],30)\n",
    "synthetic_rates_SMC2 = thing_SMC2.synthetic_detection_rate(200,'L',True,False,[0,1],30)\n",
    "\"\"\""
   ]
  },
  {
   "cell_type": "code",
   "execution_count": 19,
   "metadata": {
    "scrolled": false
   },
   "outputs": [
    {
     "data": {
      "image/png": "[encoded data removed]",
      "text/plain": [
       "<Figure size 720x720 with 1 Axes>"
      ]
     },
     "metadata": {},
     "output_type": "display_data"
    }
   ],
   "source": [
    "plt.figure(figsize = (10,10))\n",
    "b_frac = [0,1]\n",
    "plt.plot(b_frac, synthetic_rates_LMC[2],'.-', color = 'C0', label = 'LMC')\n",
    "plt.hlines(real_data_LMC[2], 0 ,1, color = 'C0', linestyles='dashed', label = 'LMC Data')\n",
    "plt.fill_between([0,1],\n",
    "                 [synthetic_rates_LMC[3][0][1], synthetic_rates_LMC[3][1][1]],\n",
    "                 [synthetic_rates_LMC[3][0][0], synthetic_rates_LMC[3][1][0]],\n",
    "                 alpha = 0.3, color = 'C0')\n",
    "plt.fill_between([0,1], real_data_LMC[3][0][0], real_data_LMC[3][0][1], alpha = 0.3, color = 'C0')\n",
    "\n",
    "#plt.plot(b_frac, detection_rate_SMC, '.-', color = 'C1', label = 'SMC')\n",
    "#plt.hlines(SMC_binary_detection_5, 0 ,1, color = 'C1', linestyles='dashed', label = 'SMC Data')\n",
    "#plt.fill_between([0,1], [errors_SMC[0][1],errors_SMC[1][1]], [errors_SMC[0][0], errors_SMC[1][0]], alpha = 0.3, color = 'C1')\n",
    "#plt.fill_between([0,1], rd_err_SMC[0][0], rd_err_SMC[0][1], alpha = 0.3, color = 'C1')\n",
    "plt.plot(b_frac, synthetic_rates_SMC[2],'.-', color = 'C1', label = 'SMC')\n",
    "plt.hlines(real_data_SMC[2], 0 ,1, color = 'C1', linestyles='dashed', label = 'SMC Data')\n",
    "plt.fill_between([0,1],\n",
    "                 [synthetic_rates_SMC[3][0][1], synthetic_rates_SMC[3][1][1]],\n",
    "                 [synthetic_rates_SMC[3][0][0], synthetic_rates_SMC[3][1][0]],\n",
    "                 alpha = 0.3, color = 'C1')\n",
    "plt.fill_between([0,1], real_data_SMC[3][0][0], real_data_SMC[3][0][1], alpha = 0.3, color = 'C1')\n",
    "\n",
    "plt.plot([0,1],[0,1],'--', color = 'black',label = 'Perfect Detection')\n",
    "plt.xlabel('Binary Fraction', size = 18)\n",
    "plt.ylabel('Detection Rate', size = 18)\n",
    "plt.title('$m_{min} = 500$, lognormal(5.03,2.28)*u.d ncut = 5', size = 18)\n",
    "plt.legend(prop = {'size': 20})\n",
    "plt.show()"
   ]
  },
  {
   "cell_type": "code",
   "execution_count": 23,
   "metadata": {},
   "outputs": [
    {
     "data": {
      "image/png": "[encoded data removed]",
      "text/plain": [
       "<Figure size 720x720 with 1 Axes>"
      ]
     },
     "metadata": {},
     "output_type": "display_data"
    }
   ],
   "source": [
    "#real_data = [real_data_detection_LMC_5, binary_bool_LMC_5, LMC_binary_detection_5, rd_err_LMC]\n",
    "real_data_LMC = thing_LMC.Real_Data_Fraction()\n",
    "real_data_SMC = thing_SMC.Real_Data_Fraction()\n",
    "\n",
    "#synthetic_rates = [p_value_result_LMC, binary_result_LMC,  detection_rate_LMC, errors_LMC]\n",
    "synthetic_rates_LMC = thing_LMC.synthetic_detection_rate(500,'U',True,False,[0,1],10)\n",
    "synthetic_rates_SMC = thing_SMC.synthetic_detection_rate(500,'U',True,False,[0,1],10)\n",
    "\n",
    "plt.figure(figsize = (10,10))\n",
    "b_frac = [0,1]\n",
    "plt.plot(b_frac, synthetic_rates_LMC[2],'.-', color = 'C0', label = 'LMC')\n",
    "plt.hlines(real_data_LMC[2], 0 ,1, color = 'C0', linestyles='dashed', label = 'LMC Data')\n",
    "plt.fill_between([0,1],\n",
    "                 [synthetic_rates_LMC[3][0][1], synthetic_rates_LMC[3][1][1]],\n",
    "                 [synthetic_rates_LMC[3][0][0], synthetic_rates_LMC[3][1][0]],\n",
    "                 alpha = 0.3, color = 'C0')\n",
    "plt.fill_between([0,1], real_data_LMC[3][0][0], real_data_LMC[3][0][1], alpha = 0.3, color = 'C0')\n",
    "\n",
    "#plt.plot(b_frac, detection_rate_SMC, '.-', color = 'C1', label = 'SMC')\n",
    "#plt.hlines(SMC_binary_detection_5, 0 ,1, color = 'C1', linestyles='dashed', label = 'SMC Data')\n",
    "#plt.fill_between([0,1], [errors_SMC[0][1],errors_SMC[1][1]], [errors_SMC[0][0], errors_SMC[1][0]], alpha = 0.3, color = 'C1')\n",
    "#plt.fill_between([0,1], rd_err_SMC[0][0], rd_err_SMC[0][1], alpha = 0.3, color = 'C1')\n",
    "plt.plot(b_frac, synthetic_rates_SMC[2],'.-', color = 'C1', label = 'SMC')\n",
    "plt.hlines(real_data_SMC[2], 0 ,1, color = 'C1', linestyles='dashed', label = 'SMC Data')\n",
    "plt.fill_between([0,1],\n",
    "                 [synthetic_rates_SMC[3][0][1], synthetic_rates_SMC[3][1][1]],\n",
    "                 [synthetic_rates_SMC[3][0][0], synthetic_rates_SMC[3][1][0]],\n",
    "                 alpha = 0.3, color = 'C1')\n",
    "plt.fill_between([0,1], real_data_SMC[3][0][0], real_data_SMC[3][0][1], alpha = 0.3, color = 'C1')\n",
    "\n",
    "plt.plot([0,1],[0,1],'--', color = 'black',label = 'Perfect Detection')\n",
    "plt.xlabel('Binary Fraction', size = 18)\n",
    "plt.ylabel('Detection Rate', size = 18)\n",
    "plt.title('$m_{min} = 500$, lognormal(5.03,2.28)*u.d ncut = 5', size = 18)\n",
    "plt.legend(prop = {'size': 20})\n",
    "plt.show()"
   ]
  },
  {
   "cell_type": "markdown",
   "metadata": {},
   "source": [
    "#### DO it all again with mc_rgb_nocuts"
   ]
  },
  {
   "cell_type": "code",
   "execution_count": null,
   "metadata": {},
   "outputs": [],
   "source": [
    "Tables = Binary_Data_Clean2('/home/cody/Binary Search/mc_rgb_nocuts.fits','/home/cody/Binary Search/2nd_Data_Set/allVisit-t9-l31c-58247.mc.fits',\n",
    "                          '/home/cody/Binary Search/parsec_decamsdss_all.fits.gz')\n",
    "\n",
    "AllAvg, AllVis, ISO = Tables.get_data()\n",
    "AllVis = Tables.cuts(AllVis)\n",
    "AllAvg = Tables.nvisits_cut(AllAvg,5)\n",
    "\n",
    "AAS_RG = Tables.rg_cut(AllAvg)\n",
    "AAS_RG_ISO = Tables.iso_fit(AAS_RG, ISO, limit = 0.1)\n",
    "\n",
    "AAS_RV = Tables.rv_table_add(AAS_RG_ISO, AllVis)\n",
    "\n",
    "AllAvg_LMC = Tables.mc_cut(AAS_RV, 'L')\n",
    "AllAvg_SMC = Tables.mc_cut(AAS_RV, 'S')"
   ]
  },
  {
   "cell_type": "code",
   "execution_count": null,
   "metadata": {},
   "outputs": [],
   "source": [
    "%run Table_Convert.py\n",
    "AllAvg_SMC=Table_Convert(AllAvg_SMC)\n",
    "AllAvg_LMC=Table_Convert(AllAvg_LMC)\n",
    "\n",
    "thing_LMC = Binary_Fraction(AllAvg_LMC)\n",
    "thing_SMC = Binary_Fraction(AllAvg_SMC)\n",
    "\n",
    "#real_data = [real_data_detection_LMC_5, binary_bool_LMC_5, LMC_binary_detection_5, rd_err_LMC]\n",
    "real_data_LMC = thing_LMC.Real_Data_Fraction()\n",
    "real_data_SMC = thing_SMC.Real_Data_Fraction()\n",
    "\n",
    "#synthetic_rates = [p_value_result_LMC, binary_result_LMC,  detection_rate_LMC, errors_LMC]\n",
    "synthetic_rates_LMC = thing_LMC.synthetic_detection_rate(200,'L',True,False,[0,1],30)\n",
    "synthetic_rates_SMC = thing_SMC.synthetic_detection_rate(200,'L',True,False,[0,1],30)"
   ]
  },
  {
   "cell_type": "code",
   "execution_count": null,
   "metadata": {},
   "outputs": [],
   "source": [
    "plt.figure(figsize = (10,10))\n",
    "b_frac = [0,1]\n",
    "plt.plot(b_frac, synthetic_rates_LMC[2],'.-', color = 'C0', label = 'LMC')\n",
    "plt.hlines(real_data_LMC[2], 0 ,1, color = 'C0', linestyles='dashed', label = 'LMC Data')\n",
    "plt.fill_between([0,1],\n",
    "                 [synthetic_rates_LMC[3][0][1], synthetic_rates_LMC[3][1][1]],\n",
    "                 [synthetic_rates_LMC[3][0][0], synthetic_rates_LMC[3][1][0]],\n",
    "                 alpha = 0.3, color = 'C0')\n",
    "plt.fill_between([0,1], real_data_LMC[3][0][0], real_data_LMC[3][0][1], alpha = 0.3, color = 'C0')\n",
    "\n",
    "#plt.plot(b_frac, detection_rate_SMC, '.-', color = 'C1', label = 'SMC')\n",
    "#plt.hlines(SMC_binary_detection_5, 0 ,1, color = 'C1', linestyles='dashed', label = 'SMC Data')\n",
    "#plt.fill_between([0,1], [errors_SMC[0][1],errors_SMC[1][1]], [errors_SMC[0][0], errors_SMC[1][0]], alpha = 0.3, color = 'C1')\n",
    "#plt.fill_between([0,1], rd_err_SMC[0][0], rd_err_SMC[0][1], alpha = 0.3, color = 'C1')\n",
    "plt.plot(b_frac, synthetic_rates_SMC[2],'.-', color = 'C1', label = 'SMC')\n",
    "plt.hlines(real_data_SMC[2], 0 ,1, color = 'C1', linestyles='dashed', label = 'SMC Data')\n",
    "plt.fill_between([0,1],\n",
    "                 [synthetic_rates_SMC[3][0][1], synthetic_rates_SMC[3][1][1]],\n",
    "                 [synthetic_rates_SMC[3][0][0], synthetic_rates_SMC[3][1][0]],\n",
    "                 alpha = 0.3, color = 'C1')\n",
    "plt.fill_between([0,1], real_data_SMC[3][0][0], real_data_SMC[3][0][1], alpha = 0.3, color = 'C1')\n",
    "\n",
    "plt.plot([0,1],[0,1],'--', color = 'black',label = 'Perfect Detection')\n",
    "plt.xlabel('Binary Fraction', size = 18)\n",
    "plt.ylabel('Detection Rate', size = 18)\n",
    "plt.title('$m_{min} = 200$, lognormal(5.03,2.28)*u.d ncut = 5', size = 18)\n",
    "plt.legend(prop = {'size': 20})\n",
    "plt.show()"
   ]
  },
  {
   "cell_type": "code",
   "execution_count": null,
   "metadata": {},
   "outputs": [],
   "source": [
    "len(AllAvg_SMC)"
   ]
  },
  {
   "cell_type": "code",
   "execution_count": null,
   "metadata": {},
   "outputs": [],
   "source": []
  },
  {
   "cell_type": "code",
   "execution_count": null,
   "metadata": {},
   "outputs": [],
   "source": [
    "plt.figure(figsize = (10,10))\n",
    "b_frac = [0,1]\n",
    "plt.plot(b_frac, synthetic_rates_LMC2[2],'.-', color = 'C0', label = 'LMC')\n",
    "plt.hlines(real_data_LMC2[2], 0 ,1, color = 'C0', linestyles='dashed', label = 'LMC Data')\n",
    "plt.fill_between([0,1],\n",
    "                 [synthetic_rates_LMC2[3][0][1], synthetic_rates_LMC2[3][1][1]],\n",
    "                 [synthetic_rates_LMC2[3][0][0], synthetic_rates_LMC2[3][1][0]],\n",
    "                 alpha = 0.3, color = 'C0')\n",
    "plt.fill_between([0,1], real_data_LMC2[3][0][0], real_data_LMC2[3][0][1], alpha = 0.3, color = 'C0')\n",
    "\n",
    "#plt.plot(b_frac, detection_rate_SMC, '.-', color = 'C1', label = 'SMC')\n",
    "#plt.hlines(SMC_binary_detection_5, 0 ,1, color = 'C1', linestyles='dashed', label = 'SMC Data')\n",
    "#plt.fill_between([0,1], [errors_SMC[0][1],errors_SMC[1][1]], [errors_SMC[0][0], errors_SMC[1][0]], alpha = 0.3, color = 'C1')\n",
    "#plt.fill_between([0,1], rd_err_SMC[0][0], rd_err_SMC[0][1], alpha = 0.3, color = 'C1')\n",
    "plt.plot(b_frac, synthetic_rates_SMC2[2],'.-', color = 'C1', label = 'SMC')\n",
    "plt.hlines(real_data_SMC2[2], 0 ,1, color = 'C1', linestyles='dashed', label = 'SMC Data')\n",
    "plt.fill_between([0,1],\n",
    "                 [synthetic_rates_SMC2[3][0][1], synthetic_rates_SMC2[3][1][1]],\n",
    "                 [synthetic_rates_SMC2[3][0][0], synthetic_rates_SMC2[3][1][0]],\n",
    "                 alpha = 0.3, color = 'C1')\n",
    "plt.fill_between([0,1], real_data_SMC2[3][0][0], real_data_SMC2[3][0][1], alpha = 0.3, color = 'C1')\n",
    "\n",
    "plt.plot([0,1],[0,1],'--', color = 'black',label = 'Perfect Detection')\n",
    "plt.xlabel('Binary Fraction', size = 18)\n",
    "plt.ylabel('Detection Rate', size = 18)\n",
    "plt.title('$m_{min} = 200$, lognormal(5.03,2.28)*u.d ncut = 5', size = 18)\n",
    "plt.legend(prop = {'size': 20})\n",
    "plt.show()"
   ]
  },
  {
   "cell_type": "markdown",
   "metadata": {},
   "source": [
    "### Almost no difference when we set tighter restriction on the isochrone fitting"
   ]
  },
  {
   "cell_type": "markdown",
   "metadata": {},
   "source": [
    "# 2dHist\n",
    "I want to make the 2dhist I had on the poster so....lets figure out how to do that"
   ]
  },
  {
   "cell_type": "code",
   "execution_count": null,
   "metadata": {},
   "outputs": [],
   "source": [
    "LMC_Fake_Table_L = thing_LMC.Synthetic_Table(200,'L',True,False,10)\n",
    "LMC_Fake_Table_U = thing_LMC.Synthetic_Table(200,'U',True,False,10)"
   ]
  },
  {
   "cell_type": "markdown",
   "metadata": {},
   "source": [
    "All the crap below here is stuff from my older codes. I don't remember how this works but it makes a nice histogram of the acceptance paramiters so I haven't messed with it. At some point I should go through this and make it less of an abomination"
   ]
  },
  {
   "cell_type": "code",
   "execution_count": null,
   "metadata": {},
   "outputs": [],
   "source": [
    "BTF_a_SMC = []\n",
    "BTF_mi_SMC = []\n",
    "\n",
    "BTF_a_no_SMC = []\n",
    "BTF_mi_no_SMC = []\n",
    "\n",
    "BTF_a_all_SMC = SMC_Fake_Table['a']\n",
    "m_all_SMC = SMC_Fake_Table['m']*u.jupiterMass\n",
    "m_all_SMC = m_all_SMC.to(u.solMass)\n",
    "m_all_SMC = m_all_SMC.value\n",
    "\n",
    "i_all_SMC = SMC_Fake_Table['i']\n",
    "\n",
    "BTF_mi_all_SMC = m_all_SMC * np.sin(i_all_SMC)\n",
    "\n",
    "for n in range(len(SMC_Fake_Table)):\n",
    "    if SMC_Fake_Table[\"Binary\"][n]:\n",
    "        BTF_a_SMC.append(SMC_Fake_Table['a'][n])\n",
    "        m = SMC_Fake_Table['m'][n]*u.jupiterMass\n",
    "        m = m.to(u.solMass)\n",
    "        m = m.value\n",
    "        \n",
    "        i = SMC_Fake_Table['i'][n]\n",
    "        BTF_mi_SMC.append(m*np.sin(i))\n",
    "    else:\n",
    "        BTF_a_no_SMC.append(SMC_Fake_Table['a'][n])\n",
    "        m = SMC_Fake_Table['m'][n]*u.jupiterMass\n",
    "        m = m.to(u.solMass)\n",
    "        m = m.value\n",
    "        i = SMC_Fake_Table['i'][n]\n",
    "        BTF_mi_no_SMC.append(m*np.sin(i))\n",
    "fig, ax = plt.subplots(1,1, figsize = (20,10))      \n",
    "ax.scatter(BTF_a_SMC, BTF_mi_SMC, label = 'accepted',alpha = 0.4)\n",
    "ax.scatter(BTF_a_no_SMC, BTF_mi_no_SMC,alpha = 0.4, label = 'rejected')\n",
    "ax.set_title('Detection Rate of Synthetic Binaries SMC',fontsize = 18)\n",
    "ax.set_ylabel('$m*\\sin(i)$', fontsize = 18)\n",
    "ax.set_xlabel('$a$ (AU)', fontsize = 18)\n",
    "ax.set_xscale('log')\n",
    "#ax.set_yscale('log')\n",
    "ax.legend()        "
   ]
  },
  {
   "cell_type": "code",
   "execution_count": null,
   "metadata": {
    "scrolled": false
   },
   "outputs": [],
   "source": [
    "#BTF_mi_all_SMC = BTF_mi_all_SMC*u.jupiterMass\n",
    "#BTF_mi_all_SMC = BTF_mi_all_SMC.to(u.solMass)\n",
    "#BTF_mi_all_SMC = BTF_mi_all_SMC.value\n",
    "H_all, xed,yed, image = plt.hist2d(BTF_a_all_SMC,BTF_mi_all_SMC, bins = [np.logspace(-1.5,1.3,40), np.linspace(0,1.5,40) ])\n",
    "\n",
    "\n",
    "#BTF_mi_SMC = BTF_mi_SMC*u.jupiterMass\n",
    "#BTF_mi_SMC = BTF_mi_SMC.to(u.solMass)\n",
    "#BTF_mi_SMC = BTF_mi_SMC.value\n",
    "H_ac, xed2,yed2,image2 = plt.hist2d(BTF_a_SMC,BTF_mi_SMC, bins = [np.logspace(-1.5,1.3,40), np.linspace(0,1.5,40) ])\n",
    "\n",
    "fig = plt.figure(figsize=(14,10))\n",
    "#plt.hist2d(H_ac/(H_all+0.001), bins =[np.logspace(-1,1,5), np.linspace(0,1000,5) ] )\n",
    "#plt.xscale(\"log\")\n",
    "#plt.xlabel('a (AU)')\n",
    "#plt.ylabel('$m*\\sin(i)$')\n",
    "##plt.yscale('log')\n",
    "#plt.colorbar()\n",
    "#plt.show()\n",
    "X, Y = np.meshgrid(xed, yed)\n",
    "plt.pcolormesh(X, Y, H_ac.T/(H_all.T+0.001))\n",
    "plt.xscale(\"log\")\n",
    "plt.xlabel('a (AU)', fontsize = 30)\n",
    "plt.ylabel('$m*\\sin(i)$  $(M_{\\odot})$',fontsize = 30)\n",
    "plt.title('Detection Rate of Synthetic Binaries (SMC)', fontsize = 30)\n",
    "plt.tick_params(axis='both',which = 'major', labelsize = 26)\n",
    "cbar = plt.colorbar()\n",
    "cbar.ax.tick_params(labelsize = 18)\n",
    "fig.savefig('detection binary hist SMC.png')"
   ]
  },
  {
   "cell_type": "code",
   "execution_count": null,
   "metadata": {},
   "outputs": [],
   "source": [
    "BTF_a_LMC = []\n",
    "BTF_mi_LMC = []\n",
    "\n",
    "BTF_a_no_LMC = []\n",
    "BTF_mi_no_LMC = []\n",
    "\n",
    "BTF_a_all_LMC = LMC_Fake_Table_L['a']\n",
    "m_all_LMC = LMC_Fake_Table_L['m']*u.jupiterMass\n",
    "m_all_LMC = m_all_LMC.to(u.solMass)\n",
    "m_all_LMC = m_all_LMC.value\n",
    "\n",
    "i_all_LMC = LMC_Fake_Table_L['i']\n",
    "\n",
    "BTF_mi_all_LMC = m_all_LMC * np.sin(i_all_LMC)\n",
    "\n",
    "for n in range(len(LMC_Fake_Table_L)):\n",
    "    if LMC_Fake_Table_L[\"Binary\"][n]:\n",
    "        BTF_a_LMC.append(LMC_Fake_Table_L['a'][n])\n",
    "        m = LMC_Fake_Table_L['m'][n]*u.jupiterMass\n",
    "        m = m.to(u.solMass)\n",
    "        m = m.value\n",
    "        \n",
    "        i = LMC_Fake_Table_L['i'][n]\n",
    "        BTF_mi_LMC.append(m*np.sin(i))\n",
    "    else:\n",
    "        BTF_a_no_LMC.append(LMC_Fake_Table_L['a'][n])\n",
    "        m = LMC_Fake_Table_L['m'][n]*u.jupiterMass\n",
    "        m = m.to(u.solMass)\n",
    "        m = m.value\n",
    "        i = LMC_Fake_Table_L['i'][n]\n",
    "        BTF_mi_no_LMC.append(m*np.sin(i))\n",
    "fig, ax = plt.subplots(1,1, figsize = (20,10))      \n",
    "ax.scatter(BTF_a_LMC, BTF_mi_LMC, label = 'accepted',alpha = 0.4)\n",
    "ax.scatter(BTF_a_no_LMC, BTF_mi_no_LMC,alpha = 0.4, label = 'rejected')\n",
    "ax.set_title('Detection Rate of Synthetic Binaries LMC',fontsize = 18)\n",
    "ax.set_ylabel('$m*\\sin(i)$', fontsize = 18)\n",
    "ax.set_xlabel('$a$ (AU)', fontsize = 18)\n",
    "ax.set_xscale('log')\n",
    "#ax.set_yscale('log')\n",
    "ax.legend()        "
   ]
  },
  {
   "cell_type": "code",
   "execution_count": null,
   "metadata": {},
   "outputs": [],
   "source": [
    "#BTF_mi_all_SMC = BTF_mi_all_SMC*u.jupiterMass\n",
    "#BTF_mi_all_SMC = BTF_mi_all_SMC.to(u.solMass)\n",
    "#BTF_mi_all_SMC = BTF_mi_all_SMC.value\n",
    "H_all, xed,yed, image = plt.hist2d(BTF_a_all_LMC,BTF_mi_all_LMC, bins = [np.logspace(-2,1.5,40), np.linspace(0,1.6,40) ])\n",
    "\n",
    "\n",
    "#BTF_mi_SMC = BTF_mi_SMC*u.jupiterMass\n",
    "#BTF_mi_SMC = BTF_mi_SMC.to(u.solMass)\n",
    "#BTF_mi_SMC = BTF_mi_SMC.value\n",
    "H_ac, xed2,yed2,image2 = plt.hist2d(BTF_a_LMC,BTF_mi_LMC, bins = [np.logspace(-2,1.5,40), np.linspace(0,1.6,40) ])\n",
    "\n",
    "fig = plt.figure(figsize=(14,10))\n",
    "#plt.hist2d(H_ac/(H_all+0.001), bins =[np.logspace(-1,1,5), np.linspace(0,1000,5) ] )\n",
    "#plt.xscale(\"log\")\n",
    "#plt.xlabel('a (AU)')\n",
    "#plt.ylabel('$m*\\sin(i)$')\n",
    "##plt.yscale('log')\n",
    "#plt.colorbar()\n",
    "#plt.show()\n",
    "X, Y = np.meshgrid(xed, yed)\n",
    "plt.pcolormesh(X, Y, H_ac.T/(H_all.T+0.001))\n",
    "plt.xscale(\"log\")\n",
    "plt.xlabel('a (AU)', fontsize = 30)\n",
    "plt.ylabel('$m*\\sin(\\i)$  $(M_{\\odot})$',fontsize = 30)\n",
    "plt.title('Detection Rate of Synthetic Binaries (LMC)', fontsize = 30)\n",
    "plt.tick_params(axis='both',which = 'major', labelsize = 26)\n",
    "cbar = plt.colorbar()\n",
    "cbar.ax.tick_params(labelsize = 18)\n",
    "fig.savefig('detection binary hist LMC.png')"
   ]
  },
  {
   "cell_type": "markdown",
   "metadata": {},
   "source": [
    "I want to look at the period distribution of Uniform vs log normal. I'm surprised the lognormal distribution gives a higher acceptance rate at 1 than the uniform"
   ]
  },
  {
   "cell_type": "code",
   "execution_count": null,
   "metadata": {},
   "outputs": [],
   "source": [
    "import matplotlib.pyplot as plt\n",
    "import numpy as np"
   ]
  },
  {
   "cell_type": "markdown",
   "metadata": {},
   "source": [
    "### I want to mess around with other 'nvisits' cut offs. So i'm going to restart the kernal. And at this point I think I'm going to set the nvisit cut off to be varriable that you can set so I don't have to keep changing things everytime I want to run this.  "
   ]
  },
  {
   "cell_type": "code",
   "execution_count": null,
   "metadata": {},
   "outputs": [],
   "source": [
    "import warnings\n",
    "warnings.filterwarnings('ignore')\n",
    "Tables = Binary_Data_Clean('/home/cody/Binary Search/2nd_Data_Set/allMC.avg.58247.nocut.fits','/home/cody/Binary Search/2nd_Data_Set/allVisit-t9-l31c-58247.mc.fits',\n",
    "                          '/home/cody/Binary Search/parsec_decamsdss_all.fits.gz')\n",
    "AllAvg, AllVis, ISO = Tables.load_tables()"
   ]
  },
  {
   "cell_type": "code",
   "execution_count": null,
   "metadata": {},
   "outputs": [],
   "source": [
    "%run Binary_Data_Clean.py\n",
    "%run Binary_Fraction.py"
   ]
  },
  {
   "cell_type": "code",
   "execution_count": null,
   "metadata": {},
   "outputs": [],
   "source": [
    "AAS_RG_ISO_4, AllVisSimp = Tables.nvisits_cut(AAS_RG_ISO,AllVis,4)"
   ]
  },
  {
   "cell_type": "code",
   "execution_count": null,
   "metadata": {},
   "outputs": [],
   "source": [
    "AAS_RG_ISO_4_RV = Tables.rv_table_add(AAS_RG_ISO_4,AllVisSimp)"
   ]
  },
  {
   "cell_type": "code",
   "execution_count": null,
   "metadata": {},
   "outputs": [],
   "source": [
    "for N in AAS_RG_ISO_4_RV['RADIAL_DATE']:\n",
    "    if any(t < 0 for t in N):\n",
    "        print('Problem', N)"
   ]
  },
  {
   "cell_type": "code",
   "execution_count": null,
   "metadata": {},
   "outputs": [],
   "source": [
    "AAS_RG_ISO_4_RV['RADIAL_DATE']"
   ]
  },
  {
   "cell_type": "code",
   "execution_count": null,
   "metadata": {},
   "outputs": [],
   "source": [
    "AllAvg_LMC_4 = Tables.mc_cut(AAS_RG_ISO_4_RV, 'L')\n",
    "AllAvg_SMC_4 = Tables.mc_cut(AAS_RG_ISO_4_RV, 'S')"
   ]
  },
  {
   "cell_type": "code",
   "execution_count": null,
   "metadata": {},
   "outputs": [],
   "source": []
  },
  {
   "cell_type": "code",
   "execution_count": null,
   "metadata": {},
   "outputs": [],
   "source": [
    "thing_LMC_4 = Binary_Fraction(AllAvg_LMC_4)\n",
    "thing_SMC_4 = Binary_Fraction(AllAvg_SMC_4)"
   ]
  },
  {
   "cell_type": "code",
   "execution_count": null,
   "metadata": {},
   "outputs": [],
   "source": [
    "p_value_result_LMC_200_UP4, binary_result_LMC_200_UP4,  detection_rate_LMC_200_UP4 = thing_LMC_4.synthetic_detection_rate(200,'U',True,False,[0,1],30)\n",
    "p_value_result_SMC_200_UP4, binary_result_SMC_200_UP4,  detection_rate_SMC_200_UP4 = thing_SMC_4.synthetic_detection_rate(200,'U',True,False,[0,1],30)"
   ]
  },
  {
   "cell_type": "code",
   "execution_count": null,
   "metadata": {},
   "outputs": [],
   "source": [
    "real_data_detection_LMC_4, binary_bool_LMC_4 = thing_LMC_4.Real_Data_Fraction()\n",
    "real_data_detection_SMC_4, binary_bool_SMC_4 = thing_SMC_4.Real_Data_Fraction()\n",
    "LMC_binary_detection_4 = np.count_nonzero(binary_bool_LMC_4)/len(binary_bool_LMC_4)\n",
    "SMC_binary_detection_4 = np.count_nonzero(binary_bool_SMC_4)/len(binary_bool_SMC_4)"
   ]
  },
  {
   "cell_type": "code",
   "execution_count": null,
   "metadata": {},
   "outputs": [],
   "source": [
    "plt.figure(figsize = (10,10))\n",
    "plt.plot(b_frac, detection_rate_LMC_200_UP4,'.-', color = 'C0', label = 'LMC')\n",
    "plt.hlines(LMC_binary_detection_4, 0 ,1, color = 'C0', linestyles='dashed', label = 'LMC Data')\n",
    "plt.plot(b_frac, detection_rate_SMC_200_UP4, '.-', color = 'C1', label = 'SMC')\n",
    "plt.hlines(SMC_binary_detection_4, 0 ,1, color = 'C1', linestyles='dashed', label = 'SMC Data')\n",
    "plt.plot([0,1],[0,1],'--', color = 'black',label = 'Perfect Detection')\n",
    "plt.xlabel('Binary Fraction', size = 18)\n",
    "plt.ylabel('Detection Rate', size = 18)\n",
    "plt.title('$m_{min} = 200$, Uniform Period (12,1000)days, nvisits $\\greater = 4$', size = 18)\n",
    "plt.legend(prop = {'size': 20})\n",
    "plt.show()"
   ]
  },
  {
   "cell_type": "markdown",
   "metadata": {},
   "source": [
    "Something wierd happened when I added NVISITS = 4 into the group. So I'm going to plot out just the starts with NVISITS = 4, to see WTF happenend. "
   ]
  },
  {
   "cell_type": "markdown",
   "metadata": {},
   "source": [
    "### Things to do\n",
    "##### Add Errors\n",
    "##### Metalicity Cut between the two. \n",
    "##### Remove points from the data set. \n",
    "##### Milky Way stars, large table stuff"
   ]
  },
  {
   "cell_type": "code",
   "execution_count": null,
   "metadata": {},
   "outputs": [],
   "source": [
    "import matplotlib.pyplot as plt\n",
    "%matplotlib notebook"
   ]
  },
  {
   "cell_type": "code",
   "execution_count": null,
   "metadata": {},
   "outputs": [],
   "source": [
    "binary_count0LMC = np.count_nonzero(binary_result_LMC_200_UP[0])\n",
    "binary_count1LMC = np.count_nonzero(binary_result_LMC_200_UP[1])\n",
    "binary_countLMC = np.array([binary_count0LMC, binary_count1LMC])\n",
    "print(binary_count0LMC, binary_count1LMC)\n",
    "binary_count0LMC = np.count_nonzero(binary_result_LMC_200_UP[0])\n",
    "binary_count1LMC = np.count_nonzero(binary_result_LMC_200_UP[1])\n",
    "binary_countLMC = np.array([binary_count0LMC, binary_count1LMC])\n",
    "print(binary_count0LMC, binary_count1LMC)\n",
    "\n",
    "binary_count0SMC = np.count_nonzero(binary_result_SMC_200_UP[0])\n",
    "binary_count1SMC = np.count_nonzero(binary_result_SMC_200_UP[1])\n",
    "binary_countSMC = np.array([binary_count0SMC, binary_count1SMC])\n",
    "print(binary_count0SMC, binary_count1SMC)\n",
    "binary_count0SMC = np.count_nonzero(binary_result_SMC_200_UP[0])\n",
    "binary_count1SMC = np.count_nonzero(binary_result_SMC_200_UP[1])\n",
    "binary_countSMC = np.array([binary_count0SMC, binary_count1SMC])\n",
    "print(binary_count0SMC, binary_count1SMC)"
   ]
  },
  {
   "cell_type": "code",
   "execution_count": null,
   "metadata": {},
   "outputs": [],
   "source": [
    "len(binary_result_LMC_200_UP[0]), len(binary_result_LMC_200_UP[1])"
   ]
  },
  {
   "cell_type": "code",
   "execution_count": null,
   "metadata": {},
   "outputs": [],
   "source": [
    "#I'm just going to use shot noise for the errors. \n",
    "binary_err0LMC = np.sqrt(binary_count0LMC)\n",
    "binary_err1LMC = np.sqrt(binary_count1LMC)\n",
    "binary_err_arrayLMC = np.array([binary_err0LMC, binary_err1LMC])\n",
    "\n",
    "\n",
    "#I'm just going to use shot noise for the errors. \n",
    "binary_err0SMC = np.sqrt(binary_count0SMC)\n",
    "binary_err1SMC = np.sqrt(binary_count1SMC)\n",
    "binary_err_arraySMC = np.array([binary_err0SMC, binary_err1SMC])\n"
   ]
  },
  {
   "cell_type": "code",
   "execution_count": null,
   "metadata": {},
   "outputs": [],
   "source": [
    "#Get upper and lower bound on LMC error.\n",
    "upper_lmc_binary_count = binary_countLMC + binary_err_arrayLMC\n",
    "upper_errorLMC = upper_lmc_binary_count/len(binary_result_LMC_200_UP[0])\n",
    "\n",
    "lower_lmc_binary_count = binary_countLMC - binary_err_arrayLMC\n",
    "lower_errorLMC = lower_lmc_binary_count/len(binary_result_LMC_200_UP[0]) \n",
    "\n",
    "upper_smc_binary_count = binary_countSMC + binary_err_arraySMC\n",
    "upper_errorSMC = upper_smc_binary_count/len(binary_result_SMC_200_UP[0])\n",
    "\n",
    "lower_smc_binary_count = binary_countSMC - binary_err_arraySMC\n",
    "lower_errorSMC = lower_smc_binary_count/len(binary_result_SMC_200_UP[0]) "
   ]
  },
  {
   "cell_type": "markdown",
   "metadata": {},
   "source": [
    "### Real data errors. \n",
    "Done, see above sections"
   ]
  },
  {
   "cell_type": "markdown",
   "metadata": {},
   "source": [
    "##### Metalicity Cut between the two. \n",
    "I want to look at just LMC stars (larger sample) cut them equal chuncks by metalicity and see what the acceptance rate looks like. \n",
    "\n",
    "Looks like the metalicity cut should be around -0.67 for the FE_H lines"
   ]
  },
  {
   "cell_type": "code",
   "execution_count": null,
   "metadata": {},
   "outputs": [],
   "source": [
    "import matplotlib.pyplot as plt\n",
    "bin_stuff = plt.hist(AllAvg_LMC_5['FE_H'],bins = 'auto')"
   ]
  },
  {
   "cell_type": "code",
   "execution_count": null,
   "metadata": {},
   "outputs": [],
   "source": [
    " plt.hist(AllAvg_SMC_5['FE_H'],bins = 'auto')"
   ]
  },
  {
   "cell_type": "code",
   "execution_count": null,
   "metadata": {},
   "outputs": [],
   "source": [
    "foo = 0\n",
    "n = 0\n",
    "while foo < sum(bin_stuff[0])/2:\n",
    "    foo += bin_stuff[0][n]\n",
    "    n+= 1\n",
    "    print(foo, n)"
   ]
  },
  {
   "cell_type": "code",
   "execution_count": null,
   "metadata": {},
   "outputs": [],
   "source": [
    "bin_stuff[1][19]"
   ]
  },
  {
   "cell_type": "markdown",
   "metadata": {},
   "source": [
    "Looks like the metalicity cut should be around -0.67 for the FE_H lines"
   ]
  },
  {
   "cell_type": "code",
   "execution_count": null,
   "metadata": {},
   "outputs": [],
   "source": [
    "cut_off = -0.67\n",
    "AllAvg_LMC_5_high_metal = AllAvg_LMC_5[:][AllAvg_LMC_5['FE_H'] >= cut_off2]\n",
    "AllAvg_LMC_5_low_metal = AllAvg_LMC_5[:][AllAvg_LMC_5['FE_H'] < cut_off2]\n",
    "cut_off2 = -1.12\n",
    "AllAvg_SMC_5_high_metal = AllAvg_SMC_5[:][AllAvg_SMC_5['FE_H'] >= cut_off2]\n",
    "AllAvg_SMC_5_low_metal = AllAvg_SMC_5[:][AllAvg_SMC_5['FE_H'] < cut_off2]\n",
    "len(AllAvg_LMC_5_high_metal),len(AllAvg_LMC_5_low_metal), len(AllAvg_SMC_5_high_metal),len(AllAvg_SMC_5_low_metal)"
   ]
  },
  {
   "cell_type": "code",
   "execution_count": null,
   "metadata": {},
   "outputs": [],
   "source": [
    "AllAvg_LMC_5_low_metal"
   ]
  },
  {
   "cell_type": "code",
   "execution_count": null,
   "metadata": {},
   "outputs": [],
   "source": [
    "thing_LMC_5_hm = Binary_Fraction(AllAvg_LMC_5_high_metal)\n",
    "thing_LMC_5_lm = Binary_Fraction(AllAvg_LMC_5_low_metal)"
   ]
  },
  {
   "cell_type": "code",
   "execution_count": null,
   "metadata": {},
   "outputs": [],
   "source": [
    "thing_LMC_5_hm = Binary_Fraction(AllAvg_LMC_5_high_metal)\n",
    "thing_LMC_5_lm = Binary_Fraction(AllAvg_LMC_5_low_metal)\n",
    "\n",
    "p_value_result_hm, binary_result_hm,  detection_rate_hm, errors_hm = thing_LMC_5_hm.synthetic_detection_rate(200,'U',True,False,[0,1],20)\n",
    "p_value_result_lm, binary_result_lm,  detection_rate_lm, errors_lm = thing_LMC_5_lm.synthetic_detection_rate(200,'U',True,False,[0,1],20)\n",
    "\n",
    "real_data_detection_hm, binary_bool_hm, binary_detection_hm, rd_err_hm = thing_LMC_5_hm.Real_Data_Fraction()\n",
    "real_data_detection_lm, binary_bool_lm, binary_detection_lm, rd_err_lm = thing_LMC_5_lm.Real_Data_Fraction()\n",
    "\n",
    "plt.figure(figsize = (10,10))\n",
    "b_frac = [0,1]\n",
    "plt.plot(b_frac, detection_rate_hm,'.-', color = 'C0', label = 'LMC High Metal')\n",
    "plt.hlines(binary_detection_hm, 0 ,1, color = 'C0', linestyles='dashed', label = 'LMC HM Data')\n",
    "plt.fill_between([0,1], [errors_hm[0][1],errors_hm[1][1]], [errors_hm[0][0], errors_hm[1][0]], alpha = 0.3, color = 'C0')\n",
    "plt.fill_between([0,1], rd_err_hm[0][0], rd_err_hm[0][1], alpha = 0.3, color = 'C0')\n",
    "\n",
    "plt.plot(b_frac, detection_rate_lm, '.-', color = 'C1', label = 'LMC Low Metal')\n",
    "plt.hlines(binary_detection_lm, 0 ,1, color = 'C1', linestyles='dashed', label = 'SMC Data')\n",
    "plt.fill_between([0,1], [errors_lm[0][1],errors_lm[1][1]], [errors_lm[0][0], errors_lm[1][0]], alpha = 0.3, color = 'C1')\n",
    "plt.fill_between([0,1], rd_err_lm[0][0], rd_err_lm[0][1], alpha = 0.3, color = 'C1')\n",
    "\n",
    "plt.plot(b_frac, detection_rate_LMC,'.-', color = 'C2', label = 'LMC Full')\n",
    "plt.hlines(LMC_binary_detection_5, 0 ,1, color = 'C2', linestyles='dashed', label = 'LMC Data Full')\n",
    "\n",
    "plt.plot([0,1],[0,1],'--', color = 'black',label = 'Perfect Detection')\n",
    "plt.xlabel('Binary Fraction', size = 18)\n",
    "plt.ylabel('Detection Rate', size = 18)\n",
    "plt.title('LMC detection broking into Melaiclty FE_H = {} '.format(cut_off2), size = 18)\n",
    "plt.legend(prop = {'size': 20})\n",
    "plt.show()"
   ]
  },
  {
   "cell_type": "code",
   "execution_count": null,
   "metadata": {},
   "outputs": [],
   "source": [
    "plt.figure(figsize = (10,10))\n",
    "b_frac = [0,1]\n",
    "plt.plot(b_frac, detection_rate_hm,'.-', color = 'C0', label = 'LMC High Metal')\n",
    "plt.hlines(binary_detection_hm, 0 ,1, color = 'C0', linestyles='dashed', label = 'LMC HM Data')\n",
    "plt.fill_between([0,1], [errors_hm[0][1],errors_hm[1][1]], [errors_hm[0][0], errors_hm[1][0]], alpha = 0.3, color = 'C0')\n",
    "plt.fill_between([0,1], rd_err_hm[0][0], rd_err_hm[0][1], alpha = 0.3, color = 'C0')\n",
    "\n",
    "plt.plot(b_frac, detection_rate_lm, '.-', color = 'C1', label = 'LMC Low Metal')\n",
    "plt.hlines(binary_detection_lm, 0 ,1, color = 'C1', linestyles='dashed', label = 'SMC Data')\n",
    "plt.fill_between([0,1], [errors_lm[0][1],errors_lm[1][1]], [errors_lm[0][0], errors_lm[1][0]], alpha = 0.3, color = 'C1')\n",
    "plt.fill_between([0,1], rd_err_lm[0][0], rd_err_lm[0][1], alpha = 0.3, color = 'C1')\n",
    "\n",
    "plt.plot(b_frac, detection_rate_LMC,'.-', color = 'C2', label = 'LMC Full')\n",
    "plt.hlines(LMC_binary_detection_5, 0 ,1, color = 'C2', linestyles='dashed', label = 'LMC Data Full')\n",
    "\n",
    "plt.plot([0,1],[0,1],'--', color = 'black',label = 'Perfect Detection')\n",
    "plt.xlabel('Binary Fraction', size = 18)\n",
    "plt.ylabel('Detection Rate', size = 18)\n",
    "plt.title('LMC detection broking into Melaiclty FE_H = -0.67 ', size = 18)\n",
    "plt.legend(prop = {'size': 20})\n",
    "plt.show()"
   ]
  },
  {
   "cell_type": "code",
   "execution_count": null,
   "metadata": {},
   "outputs": [],
   "source": [
    "thing_SMC_5_hm = Binary_Fraction(AllAvg_SMC_5_high_metal)\n",
    "thing_SMC_5_lm = Binary_Fraction(AllAvg_SMC_5_low_metal)\n",
    "\n",
    "p_value_result_hm, binary_result_hm,  detection_rate_hm, errors_hm = thing_SMC_5_hm.synthetic_detection_rate(200,'U',True,False,[0,1],20)\n",
    "p_value_result_lm, binary_result_lm,  detection_rate_lm, errors_lm = thing_SMC_5_lm.synthetic_detection_rate(200,'U',True,False,[0,1],20)\n",
    "\n",
    "real_data_detection_hm, binary_bool_hm, binary_detection_hm, rd_err_hm = thing_SMC_5_hm.Real_Data_Fraction()\n",
    "real_data_detection_lm, binary_bool_lm, binary_detection_lm, rd_err_lm = thing_SMC_5_lm.Real_Data_Fraction()\n",
    "\n",
    "plt.figure(figsize = (10,10))\n",
    "b_frac = [0,1]\n",
    "plt.plot(b_frac, detection_rate_hm,'.-', color = 'C0', label = 'SMC High Metal')\n",
    "plt.hlines(binary_detection_hm, 0 ,1, color = 'C0', linestyles='dashed', label = 'SMC HM Data')\n",
    "plt.fill_between([0,1], [errors_hm[0][1],errors_hm[1][1]], [errors_hm[0][0], errors_hm[1][0]], alpha = 0.3, color = 'C0')\n",
    "plt.fill_between([0,1], rd_err_hm[0][0], rd_err_hm[0][1], alpha = 0.3, color = 'C0')\n",
    "\n",
    "plt.plot(b_frac, detection_rate_lm, '.-', color = 'C1', label = 'SMC Low Metal')\n",
    "plt.hlines(binary_detection_lm, 0 ,1, color = 'C1', linestyles='dashed', label = 'SMC LM Data')\n",
    "plt.fill_between([0,1], [errors_lm[0][1],errors_lm[1][1]], [errors_lm[0][0], errors_lm[1][0]], alpha = 0.3, color = 'C1')\n",
    "plt.fill_between([0,1], rd_err_lm[0][0], rd_err_lm[0][1], alpha = 0.3, color = 'C1')\n",
    "\n",
    "plt.plot(b_frac, detection_rate_SMC,'.-', color = 'C2', label = 'SMC Full')\n",
    "plt.hlines(SMC_binary_detection_5, 0 ,1, color = 'C2', linestyles='dashed', label = 'SMC Data Full')\n",
    "\n",
    "plt.plot([0,1],[0,1],'--', color = 'black',label = 'Perfect Detection')\n",
    "plt.xlabel('Binary Fraction', size = 18)\n",
    "plt.ylabel('Detection Rate', size = 18)\n",
    "plt.title('SMC Separated by Melatlicty FE_H = {}'.format(cut_off), size = 18)\n",
    "plt.legend(prop = {'size': 20})\n",
    "plt.show()"
   ]
  },
  {
   "cell_type": "code",
   "execution_count": null,
   "metadata": {},
   "outputs": [],
   "source": []
  },
  {
   "cell_type": "markdown",
   "metadata": {},
   "source": [
    "Same plot as before but this time I'm just looking at the LMC, and splitting things up betweent stars with higher metalicity and stars with lower metalicity. While the synthetic rates are rather different, the data rates are different enough that they are just about the same"
   ]
  },
  {
   "cell_type": "code",
   "execution_count": null,
   "metadata": {},
   "outputs": [],
   "source": [
    "errors_hm = [item for sublist in AllAvg_LMC_5_high_metal['RADIAL_ERR'] for item in sublist]"
   ]
  },
  {
   "cell_type": "code",
   "execution_count": null,
   "metadata": {},
   "outputs": [],
   "source": [
    "np.mean(errors_hm), np.median(errors_hm)"
   ]
  },
  {
   "cell_type": "code",
   "execution_count": null,
   "metadata": {},
   "outputs": [],
   "source": [
    "errors_lm = [item for sublist in AllAvg_LMC_5_low_metal['RADIAL_ERR'] for item in sublist]"
   ]
  },
  {
   "cell_type": "code",
   "execution_count": null,
   "metadata": {},
   "outputs": [],
   "source": [
    "np.mean(errors_lm), np.median(errors_lm)"
   ]
  },
  {
   "cell_type": "code",
   "execution_count": null,
   "metadata": {
    "scrolled": false
   },
   "outputs": [],
   "source": [
    "plt.figure(1)\n",
    "plt.hist(AllAvg_LMC_5_high_metal['VERR'], bins = 'auto')\n",
    "plt.show()"
   ]
  },
  {
   "cell_type": "code",
   "execution_count": null,
   "metadata": {},
   "outputs": [],
   "source": [
    "plt.figure(2)\n",
    "plt.hist(AllAvg_LMC_5_low_metal['VERR'], bins = 'auto')\n",
    "plt.show()"
   ]
  },
  {
   "cell_type": "code",
   "execution_count": null,
   "metadata": {},
   "outputs": [],
   "source": [
    "np.mean(AllAvg_LMC_5_high_metal['VERR']), np.median(AllAvg_LMC_5_high_metal['VERR'])"
   ]
  },
  {
   "cell_type": "code",
   "execution_count": null,
   "metadata": {},
   "outputs": [],
   "source": [
    "np.mean(AllAvg_LMC_5_low_metal['VERR']), np.median(AllAvg_LMC_5_low_metal['VERR'])"
   ]
  },
  {
   "cell_type": "code",
   "execution_count": null,
   "metadata": {},
   "outputs": [],
   "source": []
  },
  {
   "cell_type": "code",
   "execution_count": null,
   "metadata": {},
   "outputs": [],
   "source": [
    "import psutil\n",
    "psutil.virtual_memory()"
   ]
  },
  {
   "cell_type": "code",
   "execution_count": null,
   "metadata": {},
   "outputs": [],
   "source": [
    "AAS_RG_ISO"
   ]
  },
  {
   "cell_type": "code",
   "execution_count": null,
   "metadata": {},
   "outputs": [],
   "source": [
    "\"\"\" This is the tutorial in how to use the Joker taken from the documentation page. \"\"\"\n",
    "from thejoker.data import RVData\n",
    "from thejoker.plot import plot_rv_curves\n",
    "from thejoker.sampler import compute_likelihoods\n",
    "from thejoker.sampler import JokerParams\n",
    "\n",
    "import astropy.units as  u\n",
    "import matplotlib.pyplot as plt\n",
    "import numpy as np\n",
    "import schwimmbad\n",
    "t = [ 0., 2.9883, 27.93244, 30.92312, 35.9274 ]\n",
    "rv_dat = [13.133986, 12.98943,  13.194267, 13.211391, 13.196156]* u.km/u.s\n",
    "err = [0.02661381, 0.04872429, 0.02927109, 0.02699425, 0.03350932] * u.km/u.s + 0.024902766289999146 * u.km/u.s\n",
    "\n",
    "data = RVData(t = t, rv=rv_dat, stddev = err)\n",
    "ax = data.plot()\n",
    "ax.set_xlabel(\"Time [day]\")\n",
    "ax.set_ylabel(\"RV [km/s]\")\n",
    "plt.show()"
   ]
  },
  {
   "cell_type": "code",
   "execution_count": null,
   "metadata": {
    "scrolled": true
   },
   "outputs": [],
   "source": [
    "for N in range(len(AllAvg_LMC_5)):\n",
    "    t = AllAvg_LMC_5['RADIAL_DATE'][N]\n",
    "    rv_dat = AllAvg_LMC_5['RADIALV'][N]*u.km/u.s\n",
    "    err = AllAvg_LMC_5['RADIAL_ERR'][N]*u.km/u.s\n",
    "    data = RVData(t = t, rv=rv_dat, stddev = err)\n",
    "    ax = data.plot()\n",
    "    ax.set_xlabel(\"Time [day]\")\n",
    "    ax.set_ylabel(\"RV [km/s]\")\n",
    "    ax.hlines(np.mean(rv_dat.value), 0 ,t[-1], linestyles='dashed')\n",
    "    ax.set_title((real_data_detection_LMC_5[N]))\n",
    "    plt.show()\n",
    "    plt.close()"
   ]
  },
  {
   "cell_type": "code",
   "execution_count": null,
   "metadata": {},
   "outputs": [],
   "source": [
    "for N in range(len(AllAvg_SMC_5)):\n",
    "    t = AllAvg_SMC_5['RADIAL_DATE'][N]\n",
    "    rv_dat = AllAvg_SMC_5['RADIALV'][N]*u.km/u.s\n",
    "    err = AllAvg_SMC_5['RADIAL_ERR'][N]*u.km/u.s\n",
    "    data = RVData(t = t, rv=rv_dat, stddev = err)\n",
    "    ax = data.plot()\n",
    "    ax.set_xlabel(\"Time [day]\")\n",
    "    ax.set_ylabel(\"RV [km/s]\")\n",
    "    ax.hlines(np.mean(rv_dat.value), 0 ,t[-1], linestyles='dashed')\n",
    "    #ax.set_ylim(np.mean(rv_dat.value)-3, np.mean(rv_dat.value)+3)\n",
    "    ax.set_title((real_data_detection_SMC_5[N]))\n",
    "    plt.show()\n",
    "    plt.close()"
   ]
  },
  {
   "cell_type": "code",
   "execution_count": null,
   "metadata": {},
   "outputs": [],
   "source": [
    "np.mean(AllAvg_LMC_5['FE_H'])"
   ]
  },
  {
   "cell_type": "code",
   "execution_count": null,
   "metadata": {},
   "outputs": [],
   "source": [
    "np.mean(AllAvg_SMC_5['FE_H'])"
   ]
  },
  {
   "cell_type": "code",
   "execution_count": null,
   "metadata": {},
   "outputs": [],
   "source": [
    "# %load Binary_Fraction.py\n",
    "from astropy.table import Table, Column, vstack\n",
    "from astropy.io import fits\n",
    "import numpy as np\n",
    "from scipy.stats import chi2\n",
    "import astropy.units as u\n",
    "from astropy.constants import G, sigma_sb, c\n",
    "\n",
    "from astropy.time import Time\n",
    "\n",
    "from thejoker.data import RVData\n",
    "from twobody.wrap import cy_rv_from_elements\n",
    "from twobody.utils import ArrayProcessor\n",
    "from twobody import KeplerOrbit\n",
    "# TODO: One thing that I think is really hurting this project is the 'synthetic_detection_rate'\n",
    "#       part of the code. What would probably be a lot more efficient would be to\n",
    "#       make a cataloge of synthetic signals and then I would just have a large\n",
    "#       set of fake signals that I could use over and over again. Rather than having\n",
    "#       to run the synthetic_detection over and over again. Having a set synthetic\n",
    "#       table I think will make my life easier\n",
    "#       BUT, there's a problem with saving fits files with different numbers of\n",
    "#       elements in an array. So I either make an all_visit style table, or I\n",
    "#       have to save each synthetic table as it's own, run my analysis, and then\n",
    "#       combine the results from all the different NVISITS values. Not sure what\n",
    "#       the most efficent way to do this is.\n",
    "class Binary_Fraction:\n",
    "    def __init__(self,AAS_TABLE):\n",
    "        self.AAS_TABLE = AAS_TABLE\n",
    "\n",
    "    def buddy_values(self, N, m_min, period):\n",
    "        \"\"\"\n",
    "        Makes a list of the paramiters of the secondary star for the primary star\n",
    "        in row 'N' from AAS_TABLE\n",
    "\n",
    "        Inputs\n",
    "        ----------\n",
    "        N: This is just the row that I want to use when looking at the AAS_TABLE\n",
    "        m_min: Minimum mass I want to consider. This should be in Jupiter Masses.\n",
    "\n",
    "        Output\n",
    "        ----------\n",
    "        List of the physical paramiters randomly made from the companion star.\n",
    "        \"\"\"\n",
    "        M = self.AAS_TABLE['ISO_MEANM'][N]*u.solMass\n",
    "        #Make the fake companion that we want orbiting our primary star\n",
    "        m_buddy = np.random.uniform(m_min, M.to(u.jupiterMass).value)*u.jupiterMass #For reference the 1 solMas = 1047 jupMas\n",
    "\n",
    "        #Checks what kind of period distribution we want\n",
    "        if period == 'U' or period == 'u':\n",
    "            P_buddy = np.random.uniform(12,1000)*u.d\n",
    "        elif period == 'L' or period == 'l':\n",
    "            P_buddy = np.random.lognormal(5.03,2.28)*u.d\n",
    "        else:\n",
    "            return print('Period flag needs to be \"L\" or \"U\" not {}'.format(period))\n",
    "\n",
    "\n",
    "        if P_buddy.value < 12:\n",
    "            e_buddy = 0*u.one\n",
    "        else:\n",
    "            e_buddy = np.random.uniform(0, 0.93)*u.one\n",
    "        n_foo = (2 * np.pi) / P_buddy\n",
    "\n",
    "        a_buddy = np.cbrt(( (G*(M + m_buddy)) / (4*np.pi**2) ) * P_buddy**2 )\n",
    "        a_buddy = a_buddy.to(u.AU)\n",
    "\n",
    "        # Also need some angles of the orbit that we would see.\n",
    "        i_buddy = np.random.uniform(0, np.pi)*u.rad\n",
    "\n",
    "         #These are some phase angles that depend on when we first see it.\n",
    "        w_buddy = np.random.uniform(0, 2*np.pi)*u.rad\n",
    "        phi_buddy = np.random.uniform(0, 2*np.pi)*u.rad\n",
    "\n",
    "        #Make sure the closest point of the orbit isn't so close that we have to worry about title effects.\n",
    "        r_peri = (1-e_buddy)*a_buddy\n",
    "        r_peri = r_peri.to(u.solRad)\n",
    "\n",
    "        #If the orbit is so close that we would have to consider title effects then we want to pick a different\n",
    "        #set of orbital paramiters.\n",
    "        in_case_of_emergency = 0 #Variable that will get us out of the loop if we're stuck forever\n",
    "        while r_peri.value < 5*self.AAS_TABLE['ISO_MEANR'][N]:\n",
    "\n",
    "            m_buddy = np.random.uniform(m_min, M.to(u.jupiterMass).value)*u.jupiterMass\n",
    "            P_buddy = np.random.uniform(12,1000)*u.d\n",
    "            #P_buddy = np.random.lognormal(5.03,2.28)*u.d\n",
    "            if P_buddy.value < 12:\n",
    "                e_buddy = 0*u.one\n",
    "            else:\n",
    "                e_buddy = np.random.uniform(0,.93)*u.one\n",
    "            n = (2*np.pi) / P_buddy\n",
    "\n",
    "            #From those paramiters we can use keplers law to find the semi-major axis\n",
    "            a_buddy = np.cbrt(( (G*(M + m_buddy)) / (4*np.pi**2) ) * P_buddy**2 )\n",
    "            a_buddy = a_buddy.to(u.AU)\n",
    "\n",
    "            # Also need some angles of the orbit that we would see.\n",
    "            i_buddy = np.random.uniform(0, np.pi)*u.rad\n",
    "\n",
    "            #These are some phase angles that depend on when we first see it.\n",
    "            w_buddy = np.random.uniform(0, 2*np.pi)*u.rad\n",
    "            phi_buddy = np.random.uniform(0, 2*np.pi)*u.rad\n",
    "            #Make sure the closest point of the orbit isn't so close that we have to worry about title effects.\n",
    "            r_peri = (1-e_buddy)*a_buddy\n",
    "            r_peri = r_peri.to(u.solRad)\n",
    "            in_case_of_emergency += 1\n",
    "            if in_case_of_emergency > 9:\n",
    "                print(\"You got stuck!\")\n",
    "                break\n",
    "        # Now I can find the \"K\" paramiter based on these values.\n",
    "        K_buddy = (m_buddy / (M + m_buddy)) * (n_foo * a_buddy * np.sin(i_buddy)) / np.sqrt(1-e_buddy**2)\n",
    "        K_buddy = K_buddy.to(u.km / u.s)\n",
    "        foo_list = [m_buddy, e_buddy, P_buddy, a_buddy, i_buddy, w_buddy,\n",
    "                   phi_buddy, K_buddy, self.AAS_TABLE['APOGEE_ID'][N]]\n",
    "\n",
    "        return foo_list\n",
    "\n",
    "    def buddy_table(self, buddy_array):\n",
    "        \"\"\"\n",
    "        Takes the output from buddy_values and turns it into an astropy table. The goal is to have a table of\n",
    "        values from the simulations. Some of\n",
    "        \"\"\"\n",
    "        Foo_Table = Table([[False], [buddy_array[0].value], [buddy_array[1].value], [buddy_array[2].value], [buddy_array[3].value],\n",
    "                           [buddy_array[4].value], [buddy_array[5].value], [buddy_array[6].value], [buddy_array[7].value],\n",
    "                           [0], [buddy_array[8]]],\n",
    "                          names = ('Binary','m','e','P','a','i','w','phi','K','P-value','APOGEE_ID'),\n",
    "                          dtype=('b','f8','f8','f8','f8','f8','f8','f8','f8','f8','str'))\n",
    "        return Foo_Table\n",
    "\n",
    "\n",
    "    def fake_rv_binary(self, N, m_min, period, jitter):\n",
    "        \"\"\"\n",
    "        After I have a set of paramiters form the buddy_values I want to make a fake Radial Velocity Measurment\n",
    "        based on those values and the Primary Stars Values.\n",
    "        \"\"\"\n",
    "        buddy_list = self.buddy_values(N,m_min, period)\n",
    "        Date = self.AAS_TABLE['RADIAL_DATE'][N]\n",
    "\n",
    "        if jitter:\n",
    "            jitter_value = 2*0.015**(1/3*self.AAS_TABLE[\"LOGG\"][N])\n",
    "            err = (np.sqrt(self.AAS_TABLE['RADIAL_ERR'][N]**2 + jitter_value**2) )*u.km/u.s\n",
    "        else:\n",
    "            err = self.AAS_TABLE['RADIAL_ERR'][N]*u.km/u.s\n",
    "        # This is some stuff that cy_rv_from_elements needs for it's time input. Not sure why but it doens't\n",
    "        #work without these few lines. i.e. DO NOT TOUCH!\n",
    "        t_buddy = Time(Date, format = 'mjd')\n",
    "\n",
    "        t_buddy = t_buddy.tcb.mjd\n",
    "\n",
    "        procb = ArrayProcessor(t_buddy)\n",
    "\n",
    "        t_buddy, = procb.prepare_arrays()\n",
    "\n",
    "        td0 = t_buddy[0]\n",
    "\n",
    "        td0 = Time(td0, format = 'mjd')\n",
    "\n",
    "        #Makes the observed radial velocity in the binaries Barrycenter.\n",
    "        rv_buddy = cy_rv_from_elements(t_buddy, buddy_list[2].to(u.day).value, 1. , buddy_list[1].value, buddy_list[5].value,\n",
    "                                         buddy_list[6].value, td0.tcb.mjd,\n",
    "                                         anomaly_tol = 1E-10, anomaly_maxiter = 128)\n",
    "\n",
    "        #Then we move the velocity to be in our reference frame. The extra added term at the end is to simulate\n",
    "        #the fact that we wont observ the actual velocity every measurement will be off from the real value.\n",
    "        rv_buddy = (buddy_list[7] * rv_buddy + self.AAS_TABLE['VHELIO_AVG'][N] * u.km/ u.s) + np.random.normal(0, self.AAS_TABLE['VERR'][N], size = len(rv_buddy)) * u.km/u.s\n",
    "\n",
    "        return rv_buddy, err, buddy_list\n",
    "    # TODO: Get rid of the reduce option. I never use it and it just causes more\n",
    "    #       problems then it's worth.\n",
    "    def chi_sq_mean(self, RV, err, reduce):\n",
    "        \"\"\"\n",
    "        I want to fit some radial velocity measurments to a strait line of the average value. The logic goes\n",
    "        that if the strait line fits the data well, then it's a single star floating in space. If a strait line\n",
    "        fits the data poorly then there should be something there causing the deviation from the mean.\n",
    "\n",
    "        Inputs\n",
    "        ----------\n",
    "        RV: Radial velocity values\n",
    "        err: the error in those radial velocity values\n",
    "        reduce: boolian if I want to find the reduced chi squared or not. Only\n",
    "                applicable if there are more datapoints than paramiters.\n",
    "        \"\"\"\n",
    "        chi_sq_value = np.sum((RV - np.mean(RV))**2 / (err)**2)\n",
    "        if reduce:\n",
    "            return chi_sq_value / (len(RV) - 1)\n",
    "        else:\n",
    "            return chi_sq_value\n",
    "    def fake_binary_detection(self, N, m_min, period, jitter, reduce):\n",
    "        \"\"\"\n",
    "        Uses the chi_sq_value to then find the P-Value then set the variable Binary in buddy table to be True\n",
    "        or False depending on the threshold we set.\n",
    "        \"\"\"\n",
    "        #First call the fake_rv function\n",
    "        f_radial_velocity, f_err, bud_list = self.fake_rv_binary(N, m_min, period, jitter)\n",
    "        #Find the chi^2 for the fake rv values\n",
    "        chi_squared = self.chi_sq_mean(f_radial_velocity, f_err, reduce)\n",
    "        #Find the p-value from that chi^2\n",
    "        p_value = 1 - chi2.cdf(chi_squared, len(f_radial_velocity) - 1)\n",
    "        #print(chi_squared, p_value)\n",
    "        #Make the buddy table\n",
    "        bud_table = self.buddy_table(bud_list)\n",
    "        #Set the 'P-value' in the buddy table\n",
    "        bud_table['P-value'] = p_value\n",
    "        #Check if it's a binary or not.\n",
    "        if p_value < 0.05:\n",
    "            f_binary = True\n",
    "        else:\n",
    "            f_binary = False\n",
    "        #Put the result in the table\n",
    "        bud_table['Binary'] = f_binary\n",
    "        \"\"\"\n",
    "        date = self.AAS_TABLE['RADIAL_DATE'][N]\n",
    "        RV = f_radial_velocity\n",
    "        data = RVData(t = date, rv = RV, stddev= f_err)\n",
    "        data.plot()\n",
    "        plt.title(p_value)\n",
    "        plt.show()\n",
    "        plt.close()\n",
    "        \"\"\"\n",
    "        return f_radial_velocity, f_err, bud_table\n",
    "\n",
    "    \"\"\"\n",
    "    Need the same thing but this time with no buddy, assumes a single star with error and decided if it's in a binary or not\n",
    "    \"\"\"\n",
    "    def fake_solo_detection(self,N, m_min, jitter, reduce):\n",
    "        jitter = 2*0.015**(1/3*self.AAS_TABLE[\"LOGG\"][N])\n",
    "        #Make some fake solo RV measurments\n",
    "        solo_RV = np.random.normal(self.AAS_TABLE['VHELIO_AVG'][N], self.AAS_TABLE['VERR'][N] ,size = len(self.AAS_TABLE[\"RADIALV\"][N]))\n",
    "        #Keep the real ovserved error\n",
    "        solo_err = np.sqrt(self.AAS_TABLE['RADIAL_ERR'][N]**2 + jitter**2)\n",
    "        #Don't think I need the date, but my old stuff has it so I'm keeping it\n",
    "        Date = self.AAS_TABLE['RADIAL_DATE'][N]\n",
    "        #Finds the chi_squared and p-value\n",
    "        solo_chi_squared = self.chi_sq_mean(solo_RV, solo_err, reduce)\n",
    "        p_value = 1 - chi2.cdf(solo_chi_squared, len(solo_RV) - 1)\n",
    "        #Check if it's a binary or not.\n",
    "        if p_value < 0.05:\n",
    "            solo_binary = True\n",
    "        else:\n",
    "            solo_binary = False\n",
    "        return p_value, solo_binary\n",
    "\n",
    "    \"\"\"\n",
    "    Time to put it all together\n",
    "    \"\"\"\n",
    "\n",
    "    def binary_or_not(self, N, m_min, period, jitter, reduce, b_fraction):\n",
    "        \"\"\"\n",
    "        Picks a random number and if it's below b_fraction then we run fake_binary_detection\n",
    "        if it's larger than b_fraction then we run fake_solo_detection. Returns the P-value and\n",
    "        the boolian 'Binary' for each run\n",
    "        \"\"\"\n",
    "        #Pick a random number between 0 and 1.\n",
    "        foo_random_number = np.random.uniform()\n",
    "        if foo_random_number < b_fraction:\n",
    "            foo_rv, foo_err, foo_table = self.fake_binary_detection(N,m_min, period, jitter, reduce)\n",
    "            return foo_table['P-value'], foo_table['Binary']\n",
    "        else:\n",
    "            foo_pvalue, foo_binary = self.fake_solo_detection(N,m_min, jitter, reduce)\n",
    "            return foo_pvalue, foo_binary\n",
    "\n",
    "\n",
    "    def Master(self,m_min, period, jitter, reduce, b_fraction,loop):\n",
    "        \"\"\"\n",
    "        Should just have to run this to get the detection rate for different binary\n",
    "        fractions at the end of the day.\n",
    "        \"\"\"\n",
    "        foo_exit = 0\n",
    "        pvalue_list = []\n",
    "        binary_bool_list = []\n",
    "        while foo_exit < loop:\n",
    "            for N in range(len(self.AAS_TABLE)):\n",
    "                p_value, bool_binary = self.binary_or_not(N, m_min, period, jitter, reduce, b_fraction)\n",
    "                pvalue_list.append(p_value)\n",
    "                binary_bool_list.append(bool_binary)\n",
    "            foo_exit += 1\n",
    "        return pvalue_list, binary_bool_list\n",
    "\n",
    "    def synthetic_detection_rate(self, m_min, period, jitter, reduce, b_fraction,\n",
    "                                loop):\n",
    "        \"\"\"\n",
    "        Finds the synthetic detection rate for binary systems with the given input\n",
    "        set of paramiters.\n",
    "\n",
    "        Inputs\n",
    "        ----------\n",
    "        m_min:  Minimum companion mass I want to consider\n",
    "        period: Either 'L' or 'U' for the lognormal period distribution or the\n",
    "                uniform period distribution\n",
    "                # TODO: I need to mess around with this more. Just found out that\n",
    "                this using ln normal, not log10 normal, so I might need to fix?\n",
    "        jitter: Boolian, if I want to add on jitter as an extra noise source,\n",
    "                almost always set to True\n",
    "        reduce: Boolian, if I want to use the reduced chi^2 or not. Should always\n",
    "                be set to False becasue I'm looking for P-value not chi^2 value\n",
    "                # TODO: GET RID OF THIS! It's always False so why have it around\n",
    "        b_fraction: Binary fractions I want to consider. This should be an array\n",
    "                    I've just been doing [0,1] but it could be a list of any value\n",
    "        loop:   Number of times I want to loop through the table. Normaly set this\n",
    "                to be between 10 and 50. More loops the more time this will take.\n",
    "\n",
    "        Outputs\n",
    "        ----------\n",
    "        p_value_result: Array of the P-values for each of the different synthetic\n",
    "                        binary\n",
    "        binary_result_b:    Boolian array of if the P-Value was low enough to\n",
    "                        determine if it was in a binary or not. Currently set to\n",
    "                        0.05 but this can be changed in the 'fake_binary_detection'\n",
    "                        and 'fake_solo_detection' programs\n",
    "        detection_rate: Detection rate is kind of the answer I want. Array of\n",
    "                        length equal to the length of the input b_fraction. Finds\n",
    "                        the detection fraction based off the binary_result_foo for\n",
    "                        each desired binary fraction\n",
    "        detection_rate_error:   Finds the error in the detection rate. This just\n",
    "                        assumes a shot noise as the source of error, so +/- sqrt(N)\n",
    "                        this is a two element array for each element in detection_rate\n",
    "                        first element will be the upper bound error, second will\n",
    "                        be the lower bound error.\n",
    "        \"\"\"\n",
    "        #Make empty arrays for the answers to be put in.\n",
    "        detection_rate = []\n",
    "        p_value_result = []\n",
    "        binary_result_b = []\n",
    "        detection_rate_error = []\n",
    "        for i in b_fraction:\n",
    "            p_value_foo, binary_result_foo = self.Master(m_min, period, jitter, reduce, i, loop)\n",
    "\n",
    "            p_value_result.append(p_value_foo)\n",
    "            binary_result_b.append(binary_result_foo)\n",
    "            detection_rate.append(np.count_nonzero(binary_result_foo)/len(binary_result_foo))\n",
    "            error = np.sqrt(np.count_nonzero(binary_result_foo))\n",
    "            det_upper = (np.count_nonzero(binary_result_foo) + error) /len(binary_result_foo)\n",
    "            det_lower = (np.count_nonzero(binary_result_foo) - error) /len(binary_result_foo)\n",
    "            err_foo = [det_upper, det_lower]\n",
    "            detection_rate_error.append(err_foo)\n",
    "        return p_value_result, binary_result_b, detection_rate, detection_rate_error\n",
    "\n",
    "    def Synthetic_Table(self, m_min, period, jitter, reduce, loop):\n",
    "        \"\"\"\n",
    "        I want to make a table of all of the different synthetic paramiters I used\n",
    "        And keep track of when the Binary detection gave True or False. That way\n",
    "        I can look at the different cases where detections are made or not\n",
    "\n",
    "        Inputs\n",
    "        ----------\n",
    "        m_min:  Minimum companion mass I want to consider\n",
    "        period: Either 'L' or 'U' for the lognormal period distribution or the\n",
    "                uniform period distribution\n",
    "                # TODO: I need to mess around with this more. Just found out that\n",
    "                this using ln normal, not log10 normal, so I might need to fix?\n",
    "        jitter: Boolian, if I want to add on jitter as an extra noise source,\n",
    "                almost always set to True\n",
    "        reduce: Boolian, if I want to use the reduced chi^2 or not. Should always\n",
    "                be set to False becasue I'm looking for P-value not chi^2 value\n",
    "                # TODO: GET RID OF THIS! It's always False so why have it around\n",
    "        loop:   Number of times I want to loop through the table. Normaly set this\n",
    "                to be between 10 and 50. More loops the more time this will take.\n",
    "\n",
    "\n",
    "\n",
    "        \"\"\"\n",
    "        foo_exit = 0\n",
    "        foo_rv, foo_err, final_table = self.fake_binary_detection(0,m_min, period, jitter, reduce)\n",
    "        while foo_exit < loop:\n",
    "            for N in range(len(self.AAS_TABLE)):\n",
    "                foo_rv, foo_err, foo_table = self.fake_binary_detection(N,m_min, period, jitter, reduce)\n",
    "                final_table = vstack([final_table, foo_table])\n",
    "            print('Done with loop', foo_exit)\n",
    "            foo_exit += 1\n",
    "        return final_table\n",
    "    \"\"\"Does the binary fraction check for the real data table that was put into\n",
    "    the Binary_Fraction when first initializing. I would also like to change the\n",
    "    values\"\"\"\n",
    "    def Real_Data_Fraction(self):\n",
    "        foo_check = []\n",
    "        rd_p_value_array = []\n",
    "        rd_Binary_array = []\n",
    "        detection_rate_error = []\n",
    "        for K in range(len(self.AAS_TABLE)):\n",
    "            rd_rv = self.AAS_TABLE['RADIALV'][K]\n",
    "            rd_err = self.AAS_TABLE['RADIAL_ERR'][K]\n",
    "            rd_jitter = 2*0.015**(1/3*self.AAS_TABLE[\"LOGG\"][K])\n",
    "            rd_err = np.sqrt(rd_err**2 + rd_jitter**2)\n",
    "            rd_chi_squared = self.chi_sq_mean(rd_rv, rd_err, False)\n",
    "            rd_p_value = 1 - chi2.cdf(rd_chi_squared, len(rd_rv)-1)\n",
    "            rd_p_value_array.append(rd_p_value)\n",
    "        for i in rd_p_value_array:\n",
    "            if i < 0.05:\n",
    "                rd_Binary_array.append(True)\n",
    "            else:\n",
    "                rd_Binary_array.append(False)\n",
    "        binary_detection = np.count_nonzero(rd_Binary_array)/len(rd_Binary_array)\n",
    "        error = np.sqrt(np.count_nonzero(rd_Binary_array))\n",
    "        det_upper = (np.count_nonzero(rd_Binary_array) + error) /len(rd_Binary_array)\n",
    "        det_lower = (np.count_nonzero(rd_Binary_array) - error) /len(rd_Binary_array)\n",
    "        err_foo = [det_upper, det_lower]\n",
    "        detection_rate_error.append(err_foo)\n",
    "\n",
    "        return rd_p_value_array, rd_Binary_array, binary_detection, detection_rate_error\n"
   ]
  },
  {
   "cell_type": "code",
   "execution_count": null,
   "metadata": {},
   "outputs": [],
   "source": []
  }
 ],
 "metadata": {
  "kernelspec": {
   "display_name": "Python 3",
   "language": "python",
   "name": "python3"
  },
  "language_info": {
   "codemirror_mode": {
    "name": "ipython",
    "version": 3
   },
   "file_extension": ".py",
   "mimetype": "text/x-python",
   "name": "python",
   "nbconvert_exporter": "python",
   "pygments_lexer": "ipython3",
   "version": "3.6.5"
  }
 },
 "nbformat": 4,
 "nbformat_minor": 2
}
