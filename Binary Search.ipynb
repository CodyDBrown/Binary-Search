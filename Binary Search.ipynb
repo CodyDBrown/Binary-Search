{
 "cells": [
  {
   "cell_type": "markdown",
   "metadata": {},
   "source": [
    "# \n",
    "apogee_id: Unique identifyer to find same object in different fiels Average: \n",
    "        N_Visits number of times we've seen it VHelio_avg: Average velocity relative to our sun accross all measurments (km/s) AllVis table: VHelio: Measurments (km/s) uncertianty VRelerr (km/s) AvgTable: VScatter: RMS scatter from each individual measurment.\n",
    "Compairs the uncertainty to the scatter. \n",
    "    StableRV_xi2: xi^2 of the measurments around the mean value. \n",
    "    StableRV_xi2_prob: P value of the xi^2 value with the number of DOF. \n",
    "    Jd: Julian Date, time that we saw it. 1) VScatter StableRV_chi2_prob Histogram of the data, 2) THen look at properties, color magnitude diagram. (CMD) H vs. J-K (average file Near IR) make binary ones in different color fromt the rest to see patterns, Fe_h alpha_m (Iron/H ratio) alpha_m\n",
    "\n",
    "h - (j/k)\n"
   ]
  },
  {
   "cell_type": "markdown",
   "metadata": {},
   "source": [
    "# \n",
    "Author:    Cody Brown\n",
    "Date:      February 28, 2018\n",
    "Purpose:   This takes in the simplified data made by Data_Simplify and uses it with The Joker to get paramiter estimation     for possible binaries."
   ]
  },
  {
   "cell_type": "code",
   "execution_count": 1,
   "metadata": {},
   "outputs": [
    {
     "name": "stderr",
     "output_type": "stream",
     "text": [
      "/home/cody/anaconda3/lib/python3.6/site-packages/h5py/__init__.py:36: FutureWarning: Conversion of the second argument of issubdtype from `float` to `np.floating` is deprecated. In future, it will be treated as `np.float64 == np.dtype(float).type`.\n",
      "  from ._conv import register_converters as _register_converters\n"
     ]
    }
   ],
   "source": [
    "from thejoker.data import RVData\n",
    "from thejoker.plot import plot_rv_curves\n",
    "from thejoker.sampler import compute_likelihoods\n",
    "import astropy.units as u\n",
    "import schwimmbad\n",
    "from astropy.io import fits\n",
    "from astropy.table import Table\n",
    "\n",
    "import os\n",
    "\n",
    "import numpy as np\n",
    "import matplotlib.pyplot as plt\n",
    "\n",
    "\n",
    "AllAvgSimp = Table(fits.getdata('/home/cody/Binary Search/AllAvgSimp.fits',1))\n",
    "AllVisSimp   = Table(fits.getdata('/home/cody/Binary Search/AllVisSimp.fits',1))"
   ]
  },
  {
   "cell_type": "code",
   "execution_count": null,
   "metadata": {
    "scrolled": true
   },
   "outputs": [
    {
     "name": "stdout",
     "output_type": "stream",
     "text": [
      "INFO: 862 good samples after rejection sampling [thejoker.sampler.sampler]\n",
      "INFO: 12 good samples after rejection sampling [thejoker.sampler.sampler]\n",
      "INFO: 16 good samples after rejection sampling [thejoker.sampler.sampler]\n",
      "INFO: 7 good samples after rejection sampling [thejoker.sampler.sampler]\n",
      "INFO: 1 good sample after rejection sampling [thejoker.sampler.sampler]\n",
      "INFO: 8 good samples after rejection sampling [thejoker.sampler.sampler]\n",
      "INFO: 25 good samples after rejection sampling [thejoker.sampler.sampler]\n",
      "INFO: 6 good samples after rejection sampling [thejoker.sampler.sampler]\n",
      "INFO: 51 good samples after rejection sampling [thejoker.sampler.sampler]\n",
      "INFO: 65 good samples after rejection sampling [thejoker.sampler.sampler]\n",
      "INFO: 1 good sample after rejection sampling [thejoker.sampler.sampler]\n",
      "INFO: 133 good samples after rejection sampling [thejoker.sampler.sampler]\n",
      "INFO: 24 good samples after rejection sampling [thejoker.sampler.sampler]\n",
      "INFO: 693 good samples after rejection sampling [thejoker.sampler.sampler]\n",
      "INFO: 39 good samples after rejection sampling [thejoker.sampler.sampler]\n",
      "INFO: 1 good sample after rejection sampling [thejoker.sampler.sampler]\n",
      "INFO: 1 good sample after rejection sampling [thejoker.sampler.sampler]\n",
      "INFO: 281 good samples after rejection sampling [thejoker.sampler.sampler]\n",
      "INFO: 1 good sample after rejection sampling [thejoker.sampler.sampler]\n",
      "INFO: 1 good sample after rejection sampling [thejoker.sampler.sampler]\n",
      "INFO: 6 good samples after rejection sampling [thejoker.sampler.sampler]\n",
      "INFO: 110 good samples after rejection sampling [thejoker.sampler.sampler]\n",
      "INFO: 1 good sample after rejection sampling [thejoker.sampler.sampler]\n",
      "INFO: 1434 good samples after rejection sampling [thejoker.sampler.sampler]\n",
      "INFO: 2839 good samples after rejection sampling [thejoker.sampler.sampler]\n",
      "INFO: 3 good samples after rejection sampling [thejoker.sampler.sampler]\n",
      "INFO: 45 good samples after rejection sampling [thejoker.sampler.sampler]\n",
      "INFO: 1231 good samples after rejection sampling [thejoker.sampler.sampler]\n",
      "INFO: 436 good samples after rejection sampling [thejoker.sampler.sampler]\n",
      "INFO: 24 good samples after rejection sampling [thejoker.sampler.sampler]\n",
      "INFO: 1 good sample after rejection sampling [thejoker.sampler.sampler]\n",
      "INFO: 137 good samples after rejection sampling [thejoker.sampler.sampler]\n",
      "INFO: 80 good samples after rejection sampling [thejoker.sampler.sampler]\n",
      "INFO: 131 good samples after rejection sampling [thejoker.sampler.sampler]\n",
      "INFO: 133 good samples after rejection sampling [thejoker.sampler.sampler]\n",
      "INFO: 201 good samples after rejection sampling [thejoker.sampler.sampler]\n",
      "INFO: 46 good samples after rejection sampling [thejoker.sampler.sampler]\n",
      "INFO: 18 good samples after rejection sampling [thejoker.sampler.sampler]\n",
      "INFO: 5 good samples after rejection sampling [thejoker.sampler.sampler]\n",
      "INFO: 6814 good samples after rejection sampling [thejoker.sampler.sampler]\n",
      "INFO: 543 good samples after rejection sampling [thejoker.sampler.sampler]\n",
      "INFO: 2 good samples after rejection sampling [thejoker.sampler.sampler]\n",
      "INFO: 23050 good samples after rejection sampling [thejoker.sampler.sampler]\n",
      "INFO: 5 good samples after rejection sampling [thejoker.sampler.sampler]\n",
      "INFO: 3 good samples after rejection sampling [thejoker.sampler.sampler]\n",
      "INFO: 866 good samples after rejection sampling [thejoker.sampler.sampler]\n",
      "INFO: 10 good samples after rejection sampling [thejoker.sampler.sampler]\n",
      "INFO: 130 good samples after rejection sampling [thejoker.sampler.sampler]\n",
      "INFO: 183 good samples after rejection sampling [thejoker.sampler.sampler]\n",
      "INFO: 334 good samples after rejection sampling [thejoker.sampler.sampler]\n",
      "INFO: 1467 good samples after rejection sampling [thejoker.sampler.sampler]\n",
      "INFO: 274 good samples after rejection sampling [thejoker.sampler.sampler]\n",
      "INFO: 9 good samples after rejection sampling [thejoker.sampler.sampler]\n",
      "INFO: 3 good samples after rejection sampling [thejoker.sampler.sampler]\n",
      "INFO: 2 good samples after rejection sampling [thejoker.sampler.sampler]\n",
      "INFO: 25 good samples after rejection sampling [thejoker.sampler.sampler]\n",
      "INFO: 1 good sample after rejection sampling [thejoker.sampler.sampler]\n",
      "INFO: 5 good samples after rejection sampling [thejoker.sampler.sampler]\n",
      "INFO: 1 good sample after rejection sampling [thejoker.sampler.sampler]\n",
      "INFO: 72 good samples after rejection sampling [thejoker.sampler.sampler]\n",
      "INFO: 368 good samples after rejection sampling [thejoker.sampler.sampler]\n",
      "INFO: 493 good samples after rejection sampling [thejoker.sampler.sampler]\n",
      "INFO: 1 good sample after rejection sampling [thejoker.sampler.sampler]\n",
      "INFO: 7 good samples after rejection sampling [thejoker.sampler.sampler]\n",
      "INFO: 8 good samples after rejection sampling [thejoker.sampler.sampler]\n",
      "INFO: 465 good samples after rejection sampling [thejoker.sampler.sampler]\n",
      "INFO: 41 good samples after rejection sampling [thejoker.sampler.sampler]\n",
      "INFO: 270 good samples after rejection sampling [thejoker.sampler.sampler]\n",
      "INFO: 72 good samples after rejection sampling [thejoker.sampler.sampler]\n",
      "INFO: 59 good samples after rejection sampling [thejoker.sampler.sampler]\n",
      "INFO: 709 good samples after rejection sampling [thejoker.sampler.sampler]\n",
      "INFO: 391 good samples after rejection sampling [thejoker.sampler.sampler]\n",
      "INFO: 16 good samples after rejection sampling [thejoker.sampler.sampler]\n",
      "INFO: 7 good samples after rejection sampling [thejoker.sampler.sampler]\n",
      "INFO: 1 good sample after rejection sampling [thejoker.sampler.sampler]\n",
      "INFO: 755 good samples after rejection sampling [thejoker.sampler.sampler]\n",
      "INFO: 1 good sample after rejection sampling [thejoker.sampler.sampler]\n",
      "INFO: 31 good samples after rejection sampling [thejoker.sampler.sampler]\n",
      "INFO: 97 good samples after rejection sampling [thejoker.sampler.sampler]\n",
      "INFO: 164 good samples after rejection sampling [thejoker.sampler.sampler]\n",
      "INFO: 23790 good samples after rejection sampling [thejoker.sampler.sampler]\n",
      "INFO: 83 good samples after rejection sampling [thejoker.sampler.sampler]\n",
      "INFO: 1 good sample after rejection sampling [thejoker.sampler.sampler]\n",
      "INFO: 103 good samples after rejection sampling [thejoker.sampler.sampler]\n",
      "INFO: 80 good samples after rejection sampling [thejoker.sampler.sampler]\n",
      "INFO: 81 good samples after rejection sampling [thejoker.sampler.sampler]\n",
      "INFO: 33 good samples after rejection sampling [thejoker.sampler.sampler]\n",
      "INFO: 1600 good samples after rejection sampling [thejoker.sampler.sampler]\n",
      "INFO: 43 good samples after rejection sampling [thejoker.sampler.sampler]\n",
      "INFO: 198 good samples after rejection sampling [thejoker.sampler.sampler]\n",
      "INFO: 2946 good samples after rejection sampling [thejoker.sampler.sampler]\n",
      "INFO: 1 good sample after rejection sampling [thejoker.sampler.sampler]\n",
      "INFO: 3547 good samples after rejection sampling [thejoker.sampler.sampler]\n",
      "INFO: 21 good samples after rejection sampling [thejoker.sampler.sampler]\n",
      "INFO: 107 good samples after rejection sampling [thejoker.sampler.sampler]\n",
      "INFO: 1127 good samples after rejection sampling [thejoker.sampler.sampler]\n",
      "INFO: 2 good samples after rejection sampling [thejoker.sampler.sampler]\n",
      "INFO: 1 good sample after rejection sampling [thejoker.sampler.sampler]\n",
      "INFO: 1596 good samples after rejection sampling [thejoker.sampler.sampler]\n",
      "INFO: 85 good samples after rejection sampling [thejoker.sampler.sampler]\n",
      "INFO: 2 good samples after rejection sampling [thejoker.sampler.sampler]\n",
      "INFO: 167 good samples after rejection sampling [thejoker.sampler.sampler]\n",
      "INFO: 2691 good samples after rejection sampling [thejoker.sampler.sampler]\n",
      "INFO: 149 good samples after rejection sampling [thejoker.sampler.sampler]\n",
      "INFO: 150 good samples after rejection sampling [thejoker.sampler.sampler]\n",
      "INFO: 1317 good samples after rejection sampling [thejoker.sampler.sampler]\n",
      "INFO: 4 good samples after rejection sampling [thejoker.sampler.sampler]\n",
      "INFO: 16 good samples after rejection sampling [thejoker.sampler.sampler]\n",
      "INFO: 2 good samples after rejection sampling [thejoker.sampler.sampler]\n",
      "INFO: 3437 good samples after rejection sampling [thejoker.sampler.sampler]\n",
      "INFO: 1 good sample after rejection sampling [thejoker.sampler.sampler]\n"
     ]
    },
    {
     "name": "stdout",
     "output_type": "stream",
     "text": [
      "INFO: 562 good samples after rejection sampling [thejoker.sampler.sampler]\n",
      "INFO: 726 good samples after rejection sampling [thejoker.sampler.sampler]\n",
      "INFO: 548 good samples after rejection sampling [thejoker.sampler.sampler]\n",
      "INFO: 180 good samples after rejection sampling [thejoker.sampler.sampler]\n",
      "INFO: 2 good samples after rejection sampling [thejoker.sampler.sampler]\n",
      "INFO: 2618 good samples after rejection sampling [thejoker.sampler.sampler]\n"
     ]
    }
   ],
   "source": [
    "# Now I have my table of Visits I want to look at. But now I'd like a bunch of little arrays to make things \n",
    "# a little easier to plot and I'd like to only keep 'JD' and 'VHELIO' I can probably use the 'NVISITS' in teh AllAverage\n",
    "# to help organize things.\n",
    "#First step is make empty arrays using AllAvgSimp with length 'NVISITS\n",
    "\n",
    "\n",
    "start = 0\n",
    "end = 0\n",
    "loop = 0\n",
    "name = 0\n",
    "\n",
    "for n in AllAvgSimp['NVISITS']:\n",
    "    start = end\n",
    "    end = end + n\n",
    "    Date = AllVisSimp['JD'][start:end] - AllVisSimp['JD'][start]\n",
    "    RV = AllVisSimp['VHELIO'][start:end]* u.km/u.s\n",
    "    err = AllVisSimp['VRELERR'][start:end] * u.km/u.s\n",
    "    data = RVData( t = Date, rv = RV, stddev = err)\n",
    "    ax = data.plot()\n",
    "    ax.set_xlabel('Time [day]')\n",
    "    ax.set_ylabel('RV [km/s]')\n",
    "    thing = AllAvgSimp['APOGEE_ID'][name]\n",
    "    plt.title(thing)\n",
    "    \n",
    "    from thejoker.sampler import JokerParams\n",
    "    return_logprobs = True\n",
    "    params = JokerParams(P_min = 8*u.day, P_max= 512*u.day)\n",
    "    \n",
    "    from thejoker.sampler import TheJoker\n",
    "    joker = TheJoker(params)\n",
    "    samples = joker.rejection_sample(data,n_prior_samples = 2**16,)\n",
    "    \n",
    "    #COuld make a plot of parmiters but I don't really want to \n",
    "    #fig, ax = plt.subplots(1,1)\n",
    "    #ax.scatter(samples['P'].value, samples['K'].to(u.km/u.s).value, \n",
    "    #          marker ='.', color = 'k', alpha = 0.45)\n",
    "    #ax.set_xlabel('$P$ [day]')\n",
    "    #ax.set_ylabel('$K$ [km/s]')\n",
    "    \n",
    "    #ax.scatter(61.942, 1.3959, marker='o', color = '#31a354', zorder=-100)   \n",
    "    \n",
    "    fig, ax = plt.subplots(1,1)\n",
    "    t_grift = np.linspace(-10,80,1024)\n",
    "    plot_rv_curves(samples, t_grift, rv_unit=u.km/u.s, data = data,\n",
    "                  ax = ax, plot_kwargs=dict(color='#888888'))\n",
    "    #plt.show(ax)\n",
    "    newpath = r'/home/cody/Binary Search/'+str(AllAvgSimp['APOGEE_ID'][name])\n",
    "    if not os.path.exists(newpath):\n",
    "        os.makedirs(newpath)\n",
    "    #Saving the plot with all the samples\n",
    "    #name_holder = AllVisSimp['APOGEE_ID'][name]\n",
    "    fig.savefig('/home/cody/Binary Search/'+str(AllAvgSimp['APOGEE_ID'][name]) +'/P' +str(AllAvgSimp['APOGEE_ID'][name]) + '.png')\n",
    "    \n",
    "    plt.close()\n",
    "    #Save the paramiters that The Joker got for the orbit. The varable 'samples' is some weird type of object that I can't\n",
    "    #figure out how\\ to save. So instead lets turn it into a table, save that, and then it'll be easier to work wtih?\n",
    "    Samples_Table = Table()\n",
    "    Samples_Table['P'] = samples['P']\n",
    "    Samples_Table['M0'] = samples['M0']\n",
    "    Samples_Table['e'] = samples['e']\n",
    "    Samples_Table['omega'] = samples['omega']\n",
    "    Samples_Table['jitter'] = samples['jitter']\n",
    "    Samples_Table['K'] = samples['K']\n",
    "    Samples_Table['v0'] = samples['v0']\n",
    "    Samples_Table.write(\"/home/cody/Binary Search/\"+str(AllAvgSimp['APOGEE_ID'][name])+\"/\" +str(AllAvgSimp['APOGEE_ID'][name])+'.fits', format = 'fits' )\n",
    "    #loop += 1\n",
    "    name += 1\n",
    "    #print(name/len(AllVisSimp['APOGEE_ID']))\n",
    "    #if loop > 10:\n",
    "    #    break\n",
    "    #if name == int(len(AllAvgSimp['APOGEE_ID'])*.25):\n",
    "    #    print(\" 25% Done\")\n",
    "    #if name == int(len(AllAvgSimp['APOGEE_ID'])*0.5):\n",
    "    #    print(\" 50% Done\")\n",
    "    #if name == int(len(AllAvgSimp['APOGEE_ID'])*.75):\n",
    "    #    print(\" 75% Done\")"
   ]
  },
  {
   "cell_type": "code",
   "execution_count": 1,
   "metadata": {},
   "outputs": [
    {
     "data": {
      "text/plain": [
       "65536"
      ]
     },
     "execution_count": 1,
     "metadata": {},
     "output_type": "execute_result"
    }
   ],
   "source": [
    "2**16"
   ]
  },
  {
   "cell_type": "code",
   "execution_count": 18,
   "metadata": {
    "scrolled": false
   },
   "outputs": [
    {
     "data": {
      "text/plain": [
       "1376"
      ]
     },
     "execution_count": 18,
     "metadata": {},
     "output_type": "execute_result"
    }
   ],
   "source": [
    "len(AllAvgSimp['APOGEE_ID'])"
   ]
  },
  {
   "cell_type": "code",
   "execution_count": 18,
   "metadata": {
    "collapsed": true
   },
   "outputs": [],
   "source": [
    "Samples_Table = Table()\n",
    "Samples_Table['P'] = samples['P']\n",
    "Samples_Table['M0'] = samples['M0']\n",
    "Samples_Table['e'] = samples['e']\n",
    "Samples_Table['omega'] = samples['omega']\n",
    "Samples_Table['jitter'] = samples['jitter']\n",
    "Samples_Table['K'] = samples['K']\n",
    "Samples_Table['v0'] = samples['v0']"
   ]
  },
  {
   "cell_type": "code",
   "execution_count": 19,
   "metadata": {},
   "outputs": [
    {
     "data": {
      "text/html": [
       "&lt;Table length=29&gt;\n",
       "<table id=\"table140125254124264\" class=\"table-striped table-bordered table-condensed\">\n",
       "<thead><tr><th>P</th><th>M0</th><th>e</th><th>omega</th><th>jitter</th><th>K</th><th>v0</th></tr></thead>\n",
       "<thead><tr><th>d</th><th>rad</th><th></th><th>rad</th><th>km / s</th><th>km / s</th><th>km / s</th></tr></thead>\n",
       "<thead><tr><th>float64</th><th>float64</th><th>float64</th><th>float64</th><th>float64</th><th>float64</th><th>float64</th></tr></thead>\n",
       "<tr><td>22.0016033838</td><td>4.08767574816</td><td>0.652312293452</td><td>2.75568333424</td><td>0.0</td><td>1.1698884688</td><td>0.599911084935</td></tr>\n",
       "<tr><td>15.2724063961</td><td>3.23563567581</td><td>0.00245158594644</td><td>3.0494458393</td><td>0.0</td><td>0.204517479497</td><td>0.715811313436</td></tr>\n",
       "<tr><td>64.2117105532</td><td>1.18031884279</td><td>0.0468011453737</td><td>0.310070454576</td><td>0.0</td><td>0.401683324356</td><td>0.516584570491</td></tr>\n",
       "<tr><td>15.6008182988</td><td>4.53328983349</td><td>0.0740996034178</td><td>2.51806503333</td><td>0.0</td><td>0.0781787680916</td><td>0.656168054847</td></tr>\n",
       "<tr><td>69.996703528</td><td>3.90599777315</td><td>0.0134465438035</td><td>4.11122187149</td><td>0.0</td><td>0.12302476916</td><td>0.583487813571</td></tr>\n",
       "<tr><td>8.39193543728</td><td>0.319871044038</td><td>0.474095720188</td><td>2.14787439893</td><td>0.0</td><td>1.04574992736</td><td>0.395361667756</td></tr>\n",
       "<tr><td>43.9668629168</td><td>5.03562867319</td><td>0.834226493602</td><td>2.76834577615</td><td>0.0</td><td>0.199426660146</td><td>0.643482395954</td></tr>\n",
       "<tr><td>16.9250304479</td><td>0.43595987188</td><td>0.491877769249</td><td>2.38411681748</td><td>0.0</td><td>0.388557750194</td><td>0.664824785687</td></tr>\n",
       "<tr><td>66.9157290543</td><td>0.758076984401</td><td>0.303748027365</td><td>0.129021871</td><td>0.0</td><td>0.346203936261</td><td>0.616500782581</td></tr>\n",
       "<tr><td>...</td><td>...</td><td>...</td><td>...</td><td>...</td><td>...</td><td>...</td></tr>\n",
       "<tr><td>11.0733374059</td><td>2.4757360937</td><td>0.296444767923</td><td>3.41362586377</td><td>0.0</td><td>0.452543261432</td><td>0.489987196826</td></tr>\n",
       "<tr><td>15.6019921308</td><td>4.76054084422</td><td>0.26464022966</td><td>4.31466302704</td><td>0.0</td><td>0.25234057596</td><td>0.561324347967</td></tr>\n",
       "<tr><td>139.877130329</td><td>2.11224164681</td><td>0.178777923939</td><td>2.91406452336</td><td>0.0</td><td>0.272376540052</td><td>1.04324997427</td></tr>\n",
       "<tr><td>11.2531372548</td><td>1.22881140479</td><td>0.786180305332</td><td>2.74574557845</td><td>0.0</td><td>0.760738114158</td><td>0.498749501283</td></tr>\n",
       "<tr><td>16.3052790695</td><td>1.65738915464</td><td>0.313945837311</td><td>2.61275543411</td><td>0.0</td><td>0.840603527519</td><td>0.226565501088</td></tr>\n",
       "<tr><td>9.63553288246</td><td>4.3955096269</td><td>0.422297359567</td><td>2.50926144176</td><td>0.0</td><td>0.877674282416</td><td>0.956096104111</td></tr>\n",
       "<tr><td>16.5707924534</td><td>1.47057068456</td><td>0.495256143931</td><td>2.64921726398</td><td>0.0</td><td>1.36086832877</td><td>0.0807695324916</td></tr>\n",
       "<tr><td>11.4321231385</td><td>0.919380418549</td><td>0.7004724644</td><td>2.72690092554</td><td>0.0</td><td>0.858105771231</td><td>0.556591358571</td></tr>\n",
       "<tr><td>50.0783484639</td><td>4.57195653792</td><td>0.7585193468</td><td>2.53937319014</td><td>0.0</td><td>1.27708103559</td><td>0.450261872053</td></tr>\n",
       "<tr><td>10.7823830046</td><td>1.52917843019</td><td>0.0292862400814</td><td>2.16366549992</td><td>0.0</td><td>0.104429622992</td><td>0.617241434593</td></tr>\n",
       "</table>"
      ],
      "text/plain": [
       "<Table length=29>\n",
       "      P             M0       ...        K               v0      \n",
       "      d            rad       ...      km / s          km / s    \n",
       "   float64       float64     ...     float64         float64    \n",
       "------------- -------------- ... --------------- ---------------\n",
       "22.0016033838  4.08767574816 ...    1.1698884688  0.599911084935\n",
       "15.2724063961  3.23563567581 ...  0.204517479497  0.715811313436\n",
       "64.2117105532  1.18031884279 ...  0.401683324356  0.516584570491\n",
       "15.6008182988  4.53328983349 ... 0.0781787680916  0.656168054847\n",
       " 69.996703528  3.90599777315 ...   0.12302476916  0.583487813571\n",
       "8.39193543728 0.319871044038 ...   1.04574992736  0.395361667756\n",
       "43.9668629168  5.03562867319 ...  0.199426660146  0.643482395954\n",
       "16.9250304479  0.43595987188 ...  0.388557750194  0.664824785687\n",
       "66.9157290543 0.758076984401 ...  0.346203936261  0.616500782581\n",
       "          ...            ... ...             ...             ...\n",
       "11.0733374059   2.4757360937 ...  0.452543261432  0.489987196826\n",
       "15.6019921308  4.76054084422 ...   0.25234057596  0.561324347967\n",
       "139.877130329  2.11224164681 ...  0.272376540052   1.04324997427\n",
       "11.2531372548  1.22881140479 ...  0.760738114158  0.498749501283\n",
       "16.3052790695  1.65738915464 ...  0.840603527519  0.226565501088\n",
       "9.63553288246   4.3955096269 ...  0.877674282416  0.956096104111\n",
       "16.5707924534  1.47057068456 ...   1.36086832877 0.0807695324916\n",
       "11.4321231385 0.919380418549 ...  0.858105771231  0.556591358571\n",
       "50.0783484639  4.57195653792 ...   1.27708103559  0.450261872053\n",
       "10.7823830046  1.52917843019 ...  0.104429622992  0.617241434593"
      ]
     },
     "execution_count": 19,
     "metadata": {},
     "output_type": "execute_result"
    }
   ],
   "source": [
    "Samples_Table"
   ]
  },
  {
   "cell_type": "code",
   "execution_count": 25,
   "metadata": {
    "collapsed": true
   },
   "outputs": [],
   "source": [
    "Holder = Table(fits.getdata('/home/cody/Binary Search/2M00061700-7710022/2M00061700-7710022.fits',1))"
   ]
  },
  {
   "cell_type": "code",
   "execution_count": 7,
   "metadata": {},
   "outputs": [
    {
     "data": {
      "text/plain": [
       "<thejoker.data.RVData at 0x7f79738fb0b8>"
      ]
     },
     "execution_count": 7,
     "metadata": {},
     "output_type": "execute_result"
    }
   ],
   "source": [
    "data"
   ]
  },
  {
   "cell_type": "code",
   "execution_count": 2,
   "metadata": {},
   "outputs": [
    {
     "ename": "NameError",
     "evalue": "name 'samples' is not defined",
     "output_type": "error",
     "traceback": [
      "\u001b[0;31m---------------------------------------------------------------------------\u001b[0m",
      "\u001b[0;31mNameError\u001b[0m                                 Traceback (most recent call last)",
      "\u001b[0;32m<ipython-input-2-153929f6bcc1>\u001b[0m in \u001b[0;36m<module>\u001b[0;34m()\u001b[0m\n\u001b[0;32m----> 1\u001b[0;31m \u001b[0mcompute_likelihoods\u001b[0m\u001b[0;34m(\u001b[0m\u001b[0msamples\u001b[0m\u001b[0;34m)\u001b[0m\u001b[0;34m\u001b[0m\u001b[0m\n\u001b[0m",
      "\u001b[0;31mNameError\u001b[0m: name 'samples' is not defined"
     ]
    }
   ],
   "source": [
    "compute_likelihoods(samples)"
   ]
  },
  {
   "cell_type": "code",
   "execution_count": null,
   "metadata": {
    "collapsed": true
   },
   "outputs": [],
   "source": []
  }
 ],
 "metadata": {
  "kernelspec": {
   "display_name": "Python 3",
   "language": "python",
   "name": "python3"
  },
  "language_info": {
   "codemirror_mode": {
    "name": "ipython",
    "version": 3
   },
   "file_extension": ".py",
   "mimetype": "text/x-python",
   "name": "python",
   "nbconvert_exporter": "python",
   "pygments_lexer": "ipython3",
   "version": "3.6.4"
  }
 },
 "nbformat": 4,
 "nbformat_minor": 2
}
