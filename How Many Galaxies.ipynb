{
 "cells": [
  {
   "cell_type": "markdown",
   "metadata": {},
   "source": [
    "# How many galaxies?\n",
    "When I do my synthetic runs, I want to know how many galaxies I should generate. So I want to see at what point the mean and std start to stay constant."
   ]
  },
  {
   "cell_type": "code",
   "execution_count": 1,
   "metadata": {},
   "outputs": [],
   "source": [
    "import numpy as np\n",
    "import pickle as rick\n",
    "import matplotlib.pyplot as plt\n",
    "import astropy.units as u\n",
    "from astropy.table import Table\n",
    "from astropy.io import fits\n",
    "import scipy.stats as sps"
   ]
  },
  {
   "cell_type": "code",
   "execution_count": 2,
   "metadata": {},
   "outputs": [],
   "source": [
    "%run \"/home/cody/Binary Search/bayesian likelihood/synthetic_fractions.py\"\n",
    "%run \"/home/cody/Binary Search/bayesian likelihood/error_with_jitter.py\"\n",
    "%run \"/home/cody/Binary Search/bayesian likelihood/binary_fraction.py\""
   ]
  },
  {
   "cell_type": "code",
   "execution_count": 3,
   "metadata": {},
   "outputs": [],
   "source": [
    "lmc = rick.load(open(\"/home/cody/Binary Search/all-average-lmc.pck\", 'rb'))\n",
    "smc = rick.load(open(\"/home/cody/Binary Search/all-average-smc.pck\", 'rb'))"
   ]
  },
  {
   "cell_type": "code",
   "execution_count": 14,
   "metadata": {
    "scrolled": true
   },
   "outputs": [
    {
     "name": "stdout",
     "output_type": "stream",
     "text": [
      "2\n",
      "4\n",
      "6\n",
      "8\n",
      "10\n",
      "12\n",
      "14\n",
      "16\n",
      "18\n",
      "20\n",
      "22\n",
      "24\n",
      "26\n",
      "28\n",
      "30\n",
      "32\n",
      "34\n",
      "36\n",
      "38\n",
      "40\n",
      "42\n",
      "44\n",
      "46\n",
      "48\n",
      "50\n",
      "52\n",
      "54\n",
      "56\n",
      "58\n",
      "60\n",
      "62\n",
      "64\n",
      "66\n",
      "68\n",
      "70\n",
      "72\n",
      "74\n",
      "76\n",
      "78\n",
      "80\n",
      "82\n",
      "84\n",
      "86\n",
      "88\n",
      "90\n",
      "92\n",
      "94\n",
      "96\n",
      "98\n"
     ]
    }
   ],
   "source": [
    "mean = []\n",
    "std = []\n",
    "skew = []\n",
    "for n in range(2,100,2):\n",
    "    fraction_lmc = synthetic_fractions(n,\n",
    "                                       lmc,\n",
    "                                       0.5,\n",
    "                                       100*u.jupiterMass,\n",
    "                                       3,\n",
    "                                       2.4,\n",
    "                                       0.3,\n",
    "                                       0.6)\n",
    "    mean.append(np.mean(fraction_lmc))\n",
    "    std.append(np.std(fraction_lmc))\n",
    "    skew.append(sps.skew(fraction_lmc))\n",
    "    print(n)"
   ]
  },
  {
   "cell_type": "code",
   "execution_count": null,
   "metadata": {},
   "outputs": [],
   "source": []
  }
 ],
 "metadata": {
  "kernelspec": {
   "display_name": "Python 3",
   "language": "python",
   "name": "python3"
  },
  "language_info": {
   "codemirror_mode": {
    "name": "ipython",
    "version": 3
   },
   "file_extension": ".py",
   "mimetype": "text/x-python",
   "name": "python",
   "nbconvert_exporter": "python",
   "pygments_lexer": "ipython3",
   "version": "3.6.7"
  }
 },
 "nbformat": 4,
 "nbformat_minor": 2
}
