{
 "cells": [
  {
   "cell_type": "markdown",
   "metadata": {},
   "source": [
    "# Step by step graphs\n",
    "I want to make a bunch of graphs that go step by step in showing how we make our synthetic signals."
   ]
  },
  {
   "cell_type": "code",
   "execution_count": 7,
   "metadata": {},
   "outputs": [],
   "source": [
    "from astropy.table import Table, Column\n",
    "from astropy.io import fits\n",
    "import numpy as np\n",
    "import matplotlib.pyplot as plt\n",
    "import astropy.units as u\n",
    "from astropy.constants import G, sigma_sb, c\n",
    "import scipy.stats\n",
    "\n",
    "from thejoker.data import RVData\n",
    "import astropy.units as u\n",
    "\n",
    "import warnings\n",
    "warnings.filterwarnings('ignore')"
   ]
  },
  {
   "cell_type": "code",
   "execution_count": 3,
   "metadata": {},
   "outputs": [],
   "source": [
    "AllAvg_LMC = fits.open('AllAvg_LMC')\n",
    "AllAvg_SMC = fits.open('AllAvg_SMC')\n",
    "AllAvg_LMC = AllAvg_LMC[1].data\n",
    "AllAvg_SMC = AllAvg_SMC[1].data\n",
    "AllAvg_LMC = Table(AllAvg_LMC)\n",
    "AllAvg_SMC = Table(AllAvg_SMC)"
   ]
  },
  {
   "cell_type": "code",
   "execution_count": 4,
   "metadata": {},
   "outputs": [],
   "source": [
    "%run Table_Convert.py\n",
    "AllAvg_SMC=Table_Convert(AllAvg_SMC)\n",
    "AllAvg_LMC=Table_Convert(AllAvg_LMC)"
   ]
  },
  {
   "cell_type": "code",
   "execution_count": 11,
   "metadata": {},
   "outputs": [],
   "source": [
    "%run Binary_Data_Clean2.py\n",
    "Tables = Binary_Data_Clean2('/home/cody/Binary Search/2nd_Data_Set/mc_rgb_nocuts.fits','/home/cody/Binary Search/2nd_Data_Set/allVisit-t9-l31c-58247.mc.fits',\n",
    "                          '/home/cody/Binary Search/parsec_decamsdss_all.fits.gz')\n",
    "AllAvg_LMC = Tables.nvisits_cut(AllAvg_LMC,5)\n",
    "AllAvg_SMC = Tables.nvisits_cut(AllAvg_SMC,5)"
   ]
  },
  {
   "cell_type": "code",
   "execution_count": 12,
   "metadata": {},
   "outputs": [],
   "source": [
    "%run Binary_Fraction.py\n",
    "thing_LMC = Binary_Fraction(AllAvg_LMC)\n",
    "thing_SMC = Binary_Fraction(AllAvg_SMC)"
   ]
  },
  {
   "cell_type": "code",
   "execution_count": 13,
   "metadata": {},
   "outputs": [
    {
     "data": {
      "text/plain": [
       "Text(0.5,1,'2M05085554-7249522')"
      ]
     },
     "execution_count": 13,
     "metadata": {},
     "output_type": "execute_result"
    },
    {
     "data": {
      "image/png": "[encoded data removed]",
      "text/plain": [
       "<Figure size 432x288 with 1 Axes>"
      ]
     },
     "metadata": {},
     "output_type": "display_data"
    }
   ],
   "source": [
    "\n",
    ">>> t = thing_LMC.AAS_TABLE['RADIAL_DATE'][0] * u.d\n",
    ">>> rv = thing_LMC.AAS_TABLE['RADIALV'][0] * u.km/u.s\n",
    ">>> err = thing_LMC.AAS_TABLE['RADIAL_ERR'][0] * u.km/u.s\n",
    ">>> data = RVData(t=t, rv=rv, stddev=err)\n",
    ">>> ax = data.plot() \n",
    "\n",
    ">>> ax.set_xlabel(\"Time [JD]\") \n",
    ">>> ax.set_ylabel(\"RV [km/s]\")\n",
    "ax.set_title(thing_LMC.AAS_TABLE['APOGEE_ID'][0])"
   ]
  },
  {
   "cell_type": "code",
   "execution_count": 14,
   "metadata": {},
   "outputs": [],
   "source": [
    " def fake_solo_detection(self,N, m_min, jitter, reduce):\n",
    "        jitter = 2 * 0.015 ** (1 / 3 * self.AAS_TABLE[\"LOGG\"][N])\n",
    "        #Make some fake solo RV measurments\n",
    "        solo_RV = []\n",
    "        for n in self.AAS_TABLE['RADIAL_ERR'][N]:\n",
    "            rv_foo = np.random.normal(self.AAS_TABLE['VHELIO_AVG'][N], n,)\n",
    "            solo_RV.append(rv_foo)\n",
    "\n",
    "        #Keep the real ovserved error\n",
    "        solo_err = np.sqrt(self.AAS_TABLE['RADIAL_ERR'][N]**2 + jitter**2)\n",
    "        #Don't think I need the date, but my old stuff has it so I'm keeping it\n",
    "        Date = self.AAS_TABLE['RADIAL_DATE'][N]\n",
    "        #Finds the chi_squared and p-value\n",
    "        solo_chi_squared = self.chi_sq_mean(solo_RV, solo_err, reduce)\n",
    "        p_value = 1 - chi2.cdf(solo_chi_squared, len(solo_RV) - 1)\n",
    "        #Check if it's a binary or not.\n",
    "        if p_value < 0.05:\n",
    "            solo_binary = True\n",
    "        else:\n",
    "            solo_binary = False\n",
    "        return p_value, solo_binary"
   ]
  },
  {
   "cell_type": "code",
   "execution_count": 15,
   "metadata": {},
   "outputs": [],
   "source": [
    "solo_RV = []\n",
    "for n in thing_LMC.AAS_TABLE['RADIAL_ERR'][0]:\n",
    "    rv_foo = np.random.normal(thing_LMC.AAS_TABLE['VHELIO_AVG'][0], n,)\n",
    "    solo_RV.append(rv_foo)"
   ]
  },
  {
   "cell_type": "code",
   "execution_count": 16,
   "metadata": {},
   "outputs": [
    {
     "name": "stdout",
     "output_type": "stream",
     "text": [
      "0.7273977\n"
     ]
    },
    {
     "data": {
      "text/plain": [
       "Text(0.5,1,'Synthetic Solor Star using 2M05085554-7249522')"
      ]
     },
     "execution_count": 16,
     "metadata": {},
     "output_type": "execute_result"
    },
    {
     "data": {
      "image/png": "[encoded data removed]",
      "text/plain": [
       "<Figure size 432x288 with 1 Axes>"
      ]
     },
     "metadata": {},
     "output_type": "display_data"
    }
   ],
   "source": [
    "np.random.seed(1)\n",
    "solo_RV = []\n",
    "\n",
    "jitter = 2 * 0.015 ** (1 / 3 * thing_LMC.AAS_TABLE[\"LOGG\"][0])\n",
    "print(thing_LMC.AAS_TABLE[\"LOGG\"][0])\n",
    "err = np.sqrt(thing_LMC.AAS_TABLE['RADIAL_ERR'][0]**2 + jitter**2) * u.km/u.s\n",
    "for n in err.value:\n",
    "    rv_foo = np.random.normal(thing_LMC.AAS_TABLE['VHELIO_AVG'][0], n,)\n",
    "    solo_RV.append(rv_foo)\n",
    "t = thing_LMC.AAS_TABLE['RADIAL_DATE'][0] * u.d\n",
    "rv = solo_RV * u.km/u.s\n",
    "data = RVData(t=t, rv=rv, stddev=err)\n",
    "ax = data.plot() \n",
    "\n",
    "ax.set_xlabel(\"Time [JD]\") \n",
    "ax.set_ylabel(\"RV [km/s]\")\n",
    "ax.hlines(thing_LMC.AAS_TABLE['VHELIO_AVG'][0], t[0].value-5, t[-1].value+5, linestyle =  'dashed')\n",
    "ax.set_title('Synthetic Solor Star using {}'.format(thing_LMC.AAS_TABLE['APOGEE_ID'][0]))"
   ]
  },
  {
   "cell_type": "code",
   "execution_count": 17,
   "metadata": {},
   "outputs": [
    {
     "name": "stdout",
     "output_type": "stream",
     "text": [
      "[<Quantity 1304.45547846 jupiterMass>, <Quantity 0.42879965>, <Quantity 8704.0646349 d>, <Quantity 11.27639209 AU>, <Quantity 2.17499564 rad>, <Quantity 2.75325772 rad>, <Quantity 2.81048972 rad>, <Quantity 68502.53137058 km / s>, '2M05085554-7249522'] 1.2797845602035522\n"
     ]
    },
    {
     "data": {
      "text/latex": [
       "$1.2452257 \\; \\mathrm{M_{\\odot}}$"
      ],
      "text/plain": [
       "<Quantity 1.24522568 solMass>"
      ]
     },
     "execution_count": 17,
     "metadata": {},
     "output_type": "execute_result"
    },
    {
     "data": {
      "image/png": "[encoded data removed]",
      "text/plain": [
       "<Figure size 432x288 with 1 Axes>"
      ]
     },
     "metadata": {},
     "output_type": "display_data"
    }
   ],
   "source": [
    "# This is some stuff that cy_rv_from_elements needs for it's time input. Not sure why but it doens't\n",
    "# work without these few lines. i.e. DO NOT TOUCH!\n",
    "rv, err, buddy_list = thing_LMC.fake_rv_binary(0, 200, 'L', True)\n",
    "Date = np.linspace(t[0].value, t[-1].value+10, 1000)\n",
    "buddy_list\n",
    "t_buddy = Time(Date, format = 'mjd')\n",
    "\n",
    "t_buddy = t_buddy.tcb.mjd\n",
    "\n",
    "procb = ArrayProcessor(t_buddy)\n",
    "\n",
    "t_buddy, = procb.prepare_arrays()\n",
    "\n",
    "td0 = t_buddy[0]\n",
    "\n",
    "td0 = Time(td0, format = 'mjd')\n",
    "\n",
    "# Makes the observed radial velocity in the binaries Barrycenter.\n",
    "rv_buddy = cy_rv_from_elements(t_buddy, buddy_list[2].to(u.day).value, 1. , buddy_list[1].value, buddy_list[5].value,\n",
    "                               buddy_list[6].value, td0.tcb.mjd,\n",
    "                               anomaly_tol = 1E-10, anomaly_maxiter = 128)\n",
    "\n",
    "# Then we move the velocity to be in our reference frame. This is the exact analytical radial velcity of a star\n",
    "# with the given paramiters.\n",
    "rv_buddy = (buddy_list[7] * rv_buddy + thing_LMC.AAS_TABLE['VHELIO_AVG'][0] * u.km/ u.s)\n",
    "\n",
    "\n",
    "#  def fake_rv_binary(self, N, m_min, period, jitter):\n",
    "\n",
    "t = thing_LMC.AAS_TABLE['RADIAL_DATE'][0] * u.d\n",
    "\n",
    "data = RVData(t=t, rv=rv, stddev=err)\n",
    "ax = data.plot() \n",
    "\n",
    "ax.set_xlabel(\"Time [JD]\") \n",
    "ax.set_ylabel(\"RV [km/s]\")\n",
    "ax.set_title(thing_LMC.AAS_TABLE['APOGEE_ID'][0])\n",
    "ax.plot(Date, rv_buddy,)\n",
    "print(buddy_list, thing_LMC.AAS_TABLE['ISO_MEANM'][0])\n",
    "buddy_list[0].to(u.solMass)"
   ]
  },
  {
   "cell_type": "code",
   "execution_count": null,
   "metadata": {},
   "outputs": [],
   "source": [
    "%run Binary_Fraction.py\n",
    "thing_LMC = Binary_Fraction(AllAvg_LMC)\n",
    "thing_SMC = Binary_Fraction(AllAvg_SMC)\n",
    "#real_data = [real_data_detection_LMC_5, binary_bool_LMC_5, LMC_binary_detection_5, rd_err_LMC]\n",
    "#real_data_LMC = thing_LMC.Real_Data_Fraction()\n",
    "#real_data_SMC = thing_SMC.Real_Data_Fraction()\n",
    "\n",
    "#synthetic_rates = [p_value_result_LMC, binary_result_LMC,  detection_rate_LMC, errors_LMC]\n",
    "synthetic_rates_LMC = thing_LMC.synthetic_detection_rate(30,'L',True,False,[0,1],30)\n",
    "#synthetic_rates_LMC = thing_LMC.synthetic_detection_rate(200,'L',True,False,[0,1],30)\n",
    "synthetic_rates_LMC2 = thing_LMC.synthetic_detection_rate(500,'L',True,False,[0,1],30)\n",
    "\n",
    "synthetic_rates_LMC3 = thing_LMC.synthetic_detection_rate(30,'U',True,False,[0,1],30)\n",
    "#synthetic_rates_LMC = thing_LMC.synthetic_detection_rate(200,'U',True,False,[0,1],30)\n",
    "synthetic_rates_LMC4 = thing_LMC.synthetic_detection_rate(500,'U',True,False,[0,1],30)"
   ]
  },
  {
   "cell_type": "code",
   "execution_count": null,
   "metadata": {},
   "outputs": [],
   "source": [
    "plt.figure(figsize = (6,6))\n",
    "b_frac = [0,1]\n",
    "plt.plot(b_frac, synthetic_rates_LMC[2],'.-', color = 'C0', label = '$m_{min} = 30 M_{J}$, P = ln normal')\n",
    "plt.plot(b_frac, synthetic_rates_LMC2[2],'.-', color = 'C1', label = '$m_{min} = 500 M_{J}$, P = ln normal')\n",
    "         \n",
    "plt.plot(b_frac, synthetic_rates_LMC3[2],'.--', color = 'C0', label = '$m_{min} = 30 M_{J}$, P = Uniform')\n",
    "plt.plot(b_frac, synthetic_rates_LMC4[2],'.--', color = 'C1', label = '$m_{min} = 500 M_{J}$, P = Uniform')         \n",
    "\n",
    "plt.plot(b_frac, synthetic_rates_LMC5[2],'.--', color = 'C2', label = 'Mess around with i')  \n",
    "plt.plot(b_frac, synthetic_rates_LMC6[2],'.--', color = 'C3', label = 'Mess around with e')  \n",
    "\n",
    "plt.annotate('{:0f}'.format(synthetic_rates_LMC[2][1]),xy=(b_frac[1]+0.01,synthetic_rates_LMC[2][1]))\n",
    "plt.annotate('{:0f}'.format(synthetic_rates_LMC2[2][1]),xy=(b_frac[1]+0.01,synthetic_rates_LMC2[2][1]-0.01))\n",
    "plt.annotate('{:0f}'.format(synthetic_rates_LMC3[2][1]),xy=(b_frac[1],synthetic_rates_LMC3[2][1] - 0.03))\n",
    "plt.annotate('{:0f}'.format(synthetic_rates_LMC5[2][1]),xy=(b_frac[1]+0.02,synthetic_rates_LMC5[2][1]))\n",
    "\n",
    "plt.plot([0,1],[0,1],'--', color = 'black',label = 'Perfect Detection')\n",
    "plt.xlabel('Binary Fraction', size = 18)\n",
    "plt.ylabel('Detection Rate', size = 18)\n",
    "plt.xlim(-0.05,1.2)\n",
    "plt.title('Paramiter distribution for LMC', size = 18)\n",
    "plt.legend()\n",
    "plt.show()"
   ]
  },
  {
   "cell_type": "code",
   "execution_count": null,
   "metadata": {},
   "outputs": [],
   "source": [
    "%run Binary_Fraction.py #Changed i range to be around pi/2 changing it back after running this\n",
    "thing_LMC = Binary_Fraction(AllAvg_LMC)\n",
    "synthetic_rates_LMC5 = thing_LMC.synthetic_detection_rate(500,'L',True,False,[0,1],10)"
   ]
  },
  {
   "cell_type": "code",
   "execution_count": null,
   "metadata": {},
   "outputs": [],
   "source": [
    "%run Binary_Fraction.py #Changed e to be 0.2 - 0.93\n",
    "thing_LMC = Binary_Fraction(AllAvg_LMC)\n",
    "synthetic_rates_LMC6 = thing_LMC.synthetic_detection_rate(500,'L',True,False,[0,1],10)"
   ]
  },
  {
   "cell_type": "code",
   "execution_count": null,
   "metadata": {},
   "outputs": [],
   "source": [
    "epoch_span_LMC = [n[-1] - n[0] for n in AllAvg_LMC['RADIAL_DATE']]\n",
    "epoch_span_SMC = [n[-1] - n[0] for n in AllAvg_SMC['RADIAL_DATE']]"
   ]
  },
  {
   "cell_type": "code",
   "execution_count": null,
   "metadata": {},
   "outputs": [],
   "source": [
    "plt.hist([epoch_span_LMC,epoch_span_SMC], label = ['LMC', 'SMC'])\n",
    "plt.xlabel('Epoch Span (days)')\n",
    "plt.legend()"
   ]
  },
  {
   "cell_type": "code",
   "execution_count": null,
   "metadata": {},
   "outputs": [],
   "source": []
  }
 ],
 "metadata": {
  "kernelspec": {
   "display_name": "Python 3",
   "language": "python",
   "name": "python3"
  },
  "language_info": {
   "codemirror_mode": {
    "name": "ipython",
    "version": 3
   },
   "file_extension": ".py",
   "mimetype": "text/x-python",
   "name": "python",
   "nbconvert_exporter": "python",
   "pygments_lexer": "ipython3",
   "version": "3.6.5"
  }
 },
 "nbformat": 4,
 "nbformat_minor": 2
}
